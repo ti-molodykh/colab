{
  "nbformat": 4,
  "nbformat_minor": 0,
  "metadata": {
    "colab": {
      "provenance": [],
      "include_colab_link": true
    },
    "kernelspec": {
      "name": "python3",
      "display_name": "Python 3"
    }
  },
  "cells": [
    {
      "cell_type": "markdown",
      "metadata": {
        "id": "view-in-github",
        "colab_type": "text"
      },
      "source": [
        "<a href=\"https://colab.research.google.com/github/ti-molodykh/colab/blob/main/%D0%9A%D0%BE%D0%BF%D0%B8%D1%8F_%D0%B1%D0%BB%D0%BE%D0%BA%D0%BD%D0%BE%D1%82%D0%B0_%22%D0%98%D0%BD%D0%B4%D0%B8%D0%B2%D0%B8%D0%B4%D1%83%D0%B0%D0%BB%D1%8C%D0%BD%D0%BE%D0%B5_%D0%94%D0%97_3__ipynb%22.ipynb\" target=\"_parent\"><img src=\"https://colab.research.google.com/assets/colab-badge.svg\" alt=\"Open In Colab\"/></a>"
      ]
    },
    {
      "cell_type": "markdown",
      "metadata": {
        "id": "zIeH_L_oU3F0"
      },
      "source": [
        "# Большое ДЗ #3"
      ]
    },
    {
      "cell_type": "markdown",
      "source": [
        "# Часть 1"
      ],
      "metadata": {
        "id": "BARGn15FtX3w"
      }
    },
    {
      "cell_type": "markdown",
      "source": [
        "Представим, что вы продуктовый аналитик в интернет-магазине Ascent: [ссылка](http://shop-stdata.tilda.ws/). Вам написал продуктовый менеджер:\n",
        "  \n",
        "![image](https://sun9-58.userapi.com/impg/oVu8ooeRJ7mnQW-pa63fJJIQzRjHQwujdCqQPg/RL9gWIzmbZw.jpg?size=2090x464&quality=95&sign=744a122eca2caf2da8a978fb290782bd&type=album)\n",
        "\n",
        "Ваша задача – придумать как можно больше гипотез о том, что можно улучшить в интернет-магазине Ascent. Совет: будьте внимательны к каждой детали :) "
      ],
      "metadata": {
        "id": "rwYO6qGft30D"
      }
    },
    {
      "cell_type": "markdown",
      "source": [
        "**Ваши гипотезы:**\n",
        "1.Более детально заполнить карточку клиента: добавить описание, состав, рейтинг, социальные доказательства в духе «Товар куплен более 3000 раз». \n",
        "2. Добавить таблицу с размерами одежды и головных уборов.\n",
        "3. Добавить больше фотографии товара. Фотографии товара на моделях. Особенно на товары с большим процентом оттока.\n",
        "4. Добавить форму регистрации клиентов (личный кабинет клиента).\n",
        "5. Добавить поиск товаров по сайту\n",
        "6. Добавить контактную информацию - номер телефона. Или внедрение онлайн-чата для консультации на строке оформление заказа.\n",
        "7. Добавить возможность быстрого просмотра товаров (просмотр фотографии, наличие размеров без находимости перехода в карточку товара).\n",
        "8. Отказаться от каналов привлечения с самым низким коэфециэнтом конверсии, что позволить минимизировать финансовые расходы, даст возможность увеличить конверсию другими способами.\n",
        "9. Анализ целевой аудитории (пока по сайту не понятно для кого одежда и какой возраст). \n",
        "10. Проработать дизайн сайта, например изменить фотографию главной страницы, Измениеть цвет основных элементов сайта. \n",
        "\n"
      ],
      "metadata": {
        "id": "2d4_RQulvZAz"
      }
    },
    {
      "cell_type": "markdown",
      "source": [
        "# Часть 2"
      ],
      "metadata": {
        "id": "gEcwH2ZwtaVs"
      }
    },
    {
      "cell_type": "code",
      "metadata": {
        "id": "x8o7Ml8FWoIQ"
      },
      "source": [
        "import numpy as np\n",
        "import pandas as pd\n",
        "import matplotlib.pyplot as plt\n",
        "import seaborn as sns"
      ],
      "execution_count": null,
      "outputs": []
    },
    {
      "cell_type": "markdown",
      "metadata": {
        "id": "jI6-UanS-fcG"
      },
      "source": [
        "Выполните клетку ниже"
      ]
    },
    {
      "cell_type": "code",
      "metadata": {
        "id": "-oZ5NaY4-aRP",
        "colab": {
          "base_uri": "https://localhost:8080/"
        },
        "outputId": "042a2bcb-3f19-4b77-b7b3-e5af4b199baf"
      },
      "source": [
        "!wget https://web.stanford.edu/class/archive/cs/cs109/cs109.1166/stuff/titanic.csv ."
      ],
      "execution_count": null,
      "outputs": [
        {
          "output_type": "stream",
          "name": "stdout",
          "text": [
            "--2023-03-15 07:43:32--  https://web.stanford.edu/class/archive/cs/cs109/cs109.1166/stuff/titanic.csv\n",
            "Resolving web.stanford.edu (web.stanford.edu)... 171.67.215.200, 2607:f6d0:0:925a::ab43:d7c8\n",
            "Connecting to web.stanford.edu (web.stanford.edu)|171.67.215.200|:443... connected.\n",
            "HTTP request sent, awaiting response... 200 OK\n",
            "Length: 44225 (43K) [text/csv]\n",
            "Saving to: ‘titanic.csv.1’\n",
            "\n",
            "titanic.csv.1       100%[===================>]  43.19K  --.-KB/s    in 0.1s    \n",
            "\n",
            "2023-03-15 07:43:33 (302 KB/s) - ‘titanic.csv.1’ saved [44225/44225]\n",
            "\n",
            "--2023-03-15 07:43:33--  http://./\n",
            "Resolving . (.)... failed: No address associated with hostname.\n",
            "wget: unable to resolve host address ‘.’\n",
            "FINISHED --2023-03-15 07:43:33--\n",
            "Total wall clock time: 0.5s\n",
            "Downloaded: 1 files, 43K in 0.1s (302 KB/s)\n"
          ]
        }
      ]
    },
    {
      "cell_type": "markdown",
      "metadata": {
        "id": "w4QW4WNX-oWi"
      },
      "source": [
        "## Задание 1\n",
        "Прочитайте файл в датафрейм, так, чтобы появились корректные колонки без каких-либо дополнительных действий, и отобразите первые 5 строчек"
      ]
    },
    {
      "cell_type": "code",
      "metadata": {
        "id": "ia_pJu_--hss",
        "colab": {
          "base_uri": "https://localhost:8080/",
          "height": 206
        },
        "outputId": "19d0158c-ba44-4fcd-903f-ea1d0fe6c39d"
      },
      "source": [
        "df = pd.read_csv(\"titanic.csv\") \n",
        "df.head(5)"
      ],
      "execution_count": null,
      "outputs": [
        {
          "output_type": "execute_result",
          "data": {
            "text/plain": [
              "   Survived  Pclass                                               Name  \\\n",
              "0         0       3                             Mr. Owen Harris Braund   \n",
              "1         1       1  Mrs. John Bradley (Florence Briggs Thayer) Cum...   \n",
              "2         1       3                              Miss. Laina Heikkinen   \n",
              "3         1       1        Mrs. Jacques Heath (Lily May Peel) Futrelle   \n",
              "4         0       3                            Mr. William Henry Allen   \n",
              "\n",
              "      Sex   Age  Siblings/Spouses Aboard  Parents/Children Aboard     Fare  \n",
              "0    male  22.0                        1                        0   7.2500  \n",
              "1  female  38.0                        1                        0  71.2833  \n",
              "2  female  26.0                        0                        0   7.9250  \n",
              "3  female  35.0                        1                        0  53.1000  \n",
              "4    male  35.0                        0                        0   8.0500  "
            ],
            "text/html": [
              "\n",
              "  <div id=\"df-486be932-1bc8-4374-ba63-6d6583a876b1\">\n",
              "    <div class=\"colab-df-container\">\n",
              "      <div>\n",
              "<style scoped>\n",
              "    .dataframe tbody tr th:only-of-type {\n",
              "        vertical-align: middle;\n",
              "    }\n",
              "\n",
              "    .dataframe tbody tr th {\n",
              "        vertical-align: top;\n",
              "    }\n",
              "\n",
              "    .dataframe thead th {\n",
              "        text-align: right;\n",
              "    }\n",
              "</style>\n",
              "<table border=\"1\" class=\"dataframe\">\n",
              "  <thead>\n",
              "    <tr style=\"text-align: right;\">\n",
              "      <th></th>\n",
              "      <th>Survived</th>\n",
              "      <th>Pclass</th>\n",
              "      <th>Name</th>\n",
              "      <th>Sex</th>\n",
              "      <th>Age</th>\n",
              "      <th>Siblings/Spouses Aboard</th>\n",
              "      <th>Parents/Children Aboard</th>\n",
              "      <th>Fare</th>\n",
              "    </tr>\n",
              "  </thead>\n",
              "  <tbody>\n",
              "    <tr>\n",
              "      <th>0</th>\n",
              "      <td>0</td>\n",
              "      <td>3</td>\n",
              "      <td>Mr. Owen Harris Braund</td>\n",
              "      <td>male</td>\n",
              "      <td>22.0</td>\n",
              "      <td>1</td>\n",
              "      <td>0</td>\n",
              "      <td>7.2500</td>\n",
              "    </tr>\n",
              "    <tr>\n",
              "      <th>1</th>\n",
              "      <td>1</td>\n",
              "      <td>1</td>\n",
              "      <td>Mrs. John Bradley (Florence Briggs Thayer) Cum...</td>\n",
              "      <td>female</td>\n",
              "      <td>38.0</td>\n",
              "      <td>1</td>\n",
              "      <td>0</td>\n",
              "      <td>71.2833</td>\n",
              "    </tr>\n",
              "    <tr>\n",
              "      <th>2</th>\n",
              "      <td>1</td>\n",
              "      <td>3</td>\n",
              "      <td>Miss. Laina Heikkinen</td>\n",
              "      <td>female</td>\n",
              "      <td>26.0</td>\n",
              "      <td>0</td>\n",
              "      <td>0</td>\n",
              "      <td>7.9250</td>\n",
              "    </tr>\n",
              "    <tr>\n",
              "      <th>3</th>\n",
              "      <td>1</td>\n",
              "      <td>1</td>\n",
              "      <td>Mrs. Jacques Heath (Lily May Peel) Futrelle</td>\n",
              "      <td>female</td>\n",
              "      <td>35.0</td>\n",
              "      <td>1</td>\n",
              "      <td>0</td>\n",
              "      <td>53.1000</td>\n",
              "    </tr>\n",
              "    <tr>\n",
              "      <th>4</th>\n",
              "      <td>0</td>\n",
              "      <td>3</td>\n",
              "      <td>Mr. William Henry Allen</td>\n",
              "      <td>male</td>\n",
              "      <td>35.0</td>\n",
              "      <td>0</td>\n",
              "      <td>0</td>\n",
              "      <td>8.0500</td>\n",
              "    </tr>\n",
              "  </tbody>\n",
              "</table>\n",
              "</div>\n",
              "      <button class=\"colab-df-convert\" onclick=\"convertToInteractive('df-486be932-1bc8-4374-ba63-6d6583a876b1')\"\n",
              "              title=\"Convert this dataframe to an interactive table.\"\n",
              "              style=\"display:none;\">\n",
              "        \n",
              "  <svg xmlns=\"http://www.w3.org/2000/svg\" height=\"24px\"viewBox=\"0 0 24 24\"\n",
              "       width=\"24px\">\n",
              "    <path d=\"M0 0h24v24H0V0z\" fill=\"none\"/>\n",
              "    <path d=\"M18.56 5.44l.94 2.06.94-2.06 2.06-.94-2.06-.94-.94-2.06-.94 2.06-2.06.94zm-11 1L8.5 8.5l.94-2.06 2.06-.94-2.06-.94L8.5 2.5l-.94 2.06-2.06.94zm10 10l.94 2.06.94-2.06 2.06-.94-2.06-.94-.94-2.06-.94 2.06-2.06.94z\"/><path d=\"M17.41 7.96l-1.37-1.37c-.4-.4-.92-.59-1.43-.59-.52 0-1.04.2-1.43.59L10.3 9.45l-7.72 7.72c-.78.78-.78 2.05 0 2.83L4 21.41c.39.39.9.59 1.41.59.51 0 1.02-.2 1.41-.59l7.78-7.78 2.81-2.81c.8-.78.8-2.07 0-2.86zM5.41 20L4 18.59l7.72-7.72 1.47 1.35L5.41 20z\"/>\n",
              "  </svg>\n",
              "      </button>\n",
              "      \n",
              "  <style>\n",
              "    .colab-df-container {\n",
              "      display:flex;\n",
              "      flex-wrap:wrap;\n",
              "      gap: 12px;\n",
              "    }\n",
              "\n",
              "    .colab-df-convert {\n",
              "      background-color: #E8F0FE;\n",
              "      border: none;\n",
              "      border-radius: 50%;\n",
              "      cursor: pointer;\n",
              "      display: none;\n",
              "      fill: #1967D2;\n",
              "      height: 32px;\n",
              "      padding: 0 0 0 0;\n",
              "      width: 32px;\n",
              "    }\n",
              "\n",
              "    .colab-df-convert:hover {\n",
              "      background-color: #E2EBFA;\n",
              "      box-shadow: 0px 1px 2px rgba(60, 64, 67, 0.3), 0px 1px 3px 1px rgba(60, 64, 67, 0.15);\n",
              "      fill: #174EA6;\n",
              "    }\n",
              "\n",
              "    [theme=dark] .colab-df-convert {\n",
              "      background-color: #3B4455;\n",
              "      fill: #D2E3FC;\n",
              "    }\n",
              "\n",
              "    [theme=dark] .colab-df-convert:hover {\n",
              "      background-color: #434B5C;\n",
              "      box-shadow: 0px 1px 3px 1px rgba(0, 0, 0, 0.15);\n",
              "      filter: drop-shadow(0px 1px 2px rgba(0, 0, 0, 0.3));\n",
              "      fill: #FFFFFF;\n",
              "    }\n",
              "  </style>\n",
              "\n",
              "      <script>\n",
              "        const buttonEl =\n",
              "          document.querySelector('#df-486be932-1bc8-4374-ba63-6d6583a876b1 button.colab-df-convert');\n",
              "        buttonEl.style.display =\n",
              "          google.colab.kernel.accessAllowed ? 'block' : 'none';\n",
              "\n",
              "        async function convertToInteractive(key) {\n",
              "          const element = document.querySelector('#df-486be932-1bc8-4374-ba63-6d6583a876b1');\n",
              "          const dataTable =\n",
              "            await google.colab.kernel.invokeFunction('convertToInteractive',\n",
              "                                                     [key], {});\n",
              "          if (!dataTable) return;\n",
              "\n",
              "          const docLinkHtml = 'Like what you see? Visit the ' +\n",
              "            '<a target=\"_blank\" href=https://colab.research.google.com/notebooks/data_table.ipynb>data table notebook</a>'\n",
              "            + ' to learn more about interactive tables.';\n",
              "          element.innerHTML = '';\n",
              "          dataTable['output_type'] = 'display_data';\n",
              "          await google.colab.output.renderOutput(dataTable, element);\n",
              "          const docLink = document.createElement('div');\n",
              "          docLink.innerHTML = docLinkHtml;\n",
              "          element.appendChild(docLink);\n",
              "        }\n",
              "      </script>\n",
              "    </div>\n",
              "  </div>\n",
              "  "
            ]
          },
          "metadata": {},
          "execution_count": 7
        }
      ]
    },
    {
      "cell_type": "markdown",
      "metadata": {
        "id": "LywRnFMp-7tn"
      },
      "source": [
        "## Задание 2\n",
        "Вывести имена всех выживших детей и их количество (у детей возраст < 18)"
      ]
    },
    {
      "cell_type": "code",
      "metadata": {
        "id": "cZAX3FXw-tjj",
        "colab": {
          "base_uri": "https://localhost:8080/"
        },
        "outputId": "95505665-4347-4e94-b9fd-d608f5962a6f"
      },
      "source": [
        "res=df[(df['Survived']==1) & (df['Age']<18)]\n",
        "res['Name']\n",
        "\n"
      ],
      "execution_count": null,
      "outputs": [
        {
          "output_type": "execute_result",
          "data": {
            "text/plain": [
              "9                     Mrs. Nicholas (Adele Achem) Nasser\n",
              "10                        Miss. Marguerite Rut Sandstrom\n",
              "22                                    Miss. Anna McGowan\n",
              "39                            Miss. Jamila Nicola-Yarred\n",
              "42               Miss. Simonne Marie Anne Andree Laroche\n",
              "57                           Miss. Constance Mirium West\n",
              "64                               Master. Gerios Moubarek\n",
              "67                        Miss. Erna Alexandra Andersson\n",
              "77                          Master. Alden Gates Caldwell\n",
              "83                                    Miss. Bertha Ilett\n",
              "124                          Master. Elias Nicola-Yarred\n",
              "127                                     Miss. Anna Peter\n",
              "155                              Miss. Katherine Gilnagh\n",
              "164                 Master. Frank John William Goldsmith\n",
              "171                          Miss. Eleanor Ileen Johnson\n",
              "182                             Master. Richard F Becker\n",
              "183                   Miss. Luise Gretchen Kink-Heilmann\n",
              "192                            Master. Michel M Navratil\n",
              "207                                     Miss. Helen Carr\n",
              "219                        Mr. Victor Francis Sunderland\n",
              "232                        Miss. Lillian Gertrud Asplund\n",
              "236                               Miss. Marjorie Collyer\n",
              "259                     Master. Edvin Rojj Felix Asplund\n",
              "303                        Master. Hudson Trevor Allison\n",
              "305    Mrs. Victor de Satode (Maria Josefa Perez de S...\n",
              "327                          Miss. Jean Gertrude Hippach\n",
              "338                        Master. Edmond Roger Navratil\n",
              "346                          Master. William Loch Coutts\n",
              "379                                    Miss. Maria Nakid\n",
              "387                                 Miss. Bertha Lehmann\n",
              "405                        Master. William Rowe Richards\n",
              "432                             Miss. Lucile Polk Carter\n",
              "442                             Master. Washington Dodge\n",
              "443                     Miss. Madeleine Violet Mellinger\n",
              "445                        Miss. Marie Catherine Baclini\n",
              "466                         Miss. Helene Barbara Baclini\n",
              "476                              Miss. Hildur E Hirvonen\n",
              "486                           Master. Eden Leslie Coutts\n",
              "501                                 Miss. Roberta Maioni\n",
              "527                              Miss. Phyllis May Quick\n",
              "532                                Miss. Eva Miriam Hart\n",
              "546                        Master. John Morgan Jr Davies\n",
              "547                           Mr. John Borland Jr Thayer\n",
              "615                           Miss. Marion Louise Becker\n",
              "641                                Miss. Eugenie Baclini\n",
              "650                                 Miss. Hanora O'Leary\n",
              "686                     Miss. Georgette Alexandra Madill\n",
              "688                                    Miss. Manca Karun\n",
              "706                        Master. Halim Gonios Moubarek\n",
              "716                            Miss. Annie Jessie Harper\n",
              "746                                     Miss. Joan Wells\n",
              "747                                   Master. Meier Moor\n",
              "751                             Master. Viljo Hamalainen\n",
              "773                         Miss. Virginia Ethel Emanuel\n",
              "776                                  Miss. Banoura Ayoub\n",
              "777             Mrs. Albert Adrian (Vera Gillespie) Dick\n",
              "784                            Master. Bertram Vere Dean\n",
              "798                   Master. William Thornton II Carter\n",
              "799                       Master. Assad Alexander Thomas\n",
              "823                                 Master. Andre Mallet\n",
              "826               Mrs. Antoni (Selini Alexander) Yasbeck\n",
              "827                       Master. George Sibley Richards\n",
              "849                             Miss. Mary Conover Lines\n",
              "865                       Master. Harold Theodor Johnson\n",
              "871                             Miss. Adele Kiamie Najib\n",
              "Name: Name, dtype: object"
            ]
          },
          "metadata": {},
          "execution_count": 10
        }
      ]
    },
    {
      "cell_type": "code",
      "metadata": {
        "id": "gI9DFlBN_Hqc"
      },
      "source": [
        "# pd.set_option('display.max_rows', None)"
      ],
      "execution_count": null,
      "outputs": []
    },
    {
      "cell_type": "markdown",
      "metadata": {
        "id": "Aa_U1WTILhPg"
      },
      "source": [
        "## Задание 3\n",
        "Сделайте индексом колонку Name"
      ]
    },
    {
      "cell_type": "code",
      "metadata": {
        "id": "_0ZfOmY5Lb4A",
        "colab": {
          "base_uri": "https://localhost:8080/",
          "height": 455
        },
        "outputId": "078a3b64-efd7-45c5-bcbd-93208a8a8767"
      },
      "source": [
        "df.set_index('Name')"
      ],
      "execution_count": null,
      "outputs": [
        {
          "output_type": "execute_result",
          "data": {
            "text/plain": [
              "                                                    Survived  Pclass     Sex  \\\n",
              "Name                                                                           \n",
              "Mr. Owen Harris Braund                                     0       3    male   \n",
              "Mrs. John Bradley (Florence Briggs Thayer) Cumings         1       1  female   \n",
              "Miss. Laina Heikkinen                                      1       3  female   \n",
              "Mrs. Jacques Heath (Lily May Peel) Futrelle                1       1  female   \n",
              "Mr. William Henry Allen                                    0       3    male   \n",
              "...                                                      ...     ...     ...   \n",
              "Rev. Juozas Montvila                                       0       2    male   \n",
              "Miss. Margaret Edith Graham                                1       1  female   \n",
              "Miss. Catherine Helen Johnston                             0       3  female   \n",
              "Mr. Karl Howell Behr                                       1       1    male   \n",
              "Mr. Patrick Dooley                                         0       3    male   \n",
              "\n",
              "                                                     Age  \\\n",
              "Name                                                       \n",
              "Mr. Owen Harris Braund                              22.0   \n",
              "Mrs. John Bradley (Florence Briggs Thayer) Cumings  38.0   \n",
              "Miss. Laina Heikkinen                               26.0   \n",
              "Mrs. Jacques Heath (Lily May Peel) Futrelle         35.0   \n",
              "Mr. William Henry Allen                             35.0   \n",
              "...                                                  ...   \n",
              "Rev. Juozas Montvila                                27.0   \n",
              "Miss. Margaret Edith Graham                         19.0   \n",
              "Miss. Catherine Helen Johnston                       7.0   \n",
              "Mr. Karl Howell Behr                                26.0   \n",
              "Mr. Patrick Dooley                                  32.0   \n",
              "\n",
              "                                                    Siblings/Spouses Aboard  \\\n",
              "Name                                                                          \n",
              "Mr. Owen Harris Braund                                                    1   \n",
              "Mrs. John Bradley (Florence Briggs Thayer) Cumings                        1   \n",
              "Miss. Laina Heikkinen                                                     0   \n",
              "Mrs. Jacques Heath (Lily May Peel) Futrelle                               1   \n",
              "Mr. William Henry Allen                                                   0   \n",
              "...                                                                     ...   \n",
              "Rev. Juozas Montvila                                                      0   \n",
              "Miss. Margaret Edith Graham                                               0   \n",
              "Miss. Catherine Helen Johnston                                            1   \n",
              "Mr. Karl Howell Behr                                                      0   \n",
              "Mr. Patrick Dooley                                                        0   \n",
              "\n",
              "                                                    Parents/Children Aboard  \\\n",
              "Name                                                                          \n",
              "Mr. Owen Harris Braund                                                    0   \n",
              "Mrs. John Bradley (Florence Briggs Thayer) Cumings                        0   \n",
              "Miss. Laina Heikkinen                                                     0   \n",
              "Mrs. Jacques Heath (Lily May Peel) Futrelle                               0   \n",
              "Mr. William Henry Allen                                                   0   \n",
              "...                                                                     ...   \n",
              "Rev. Juozas Montvila                                                      0   \n",
              "Miss. Margaret Edith Graham                                               0   \n",
              "Miss. Catherine Helen Johnston                                            2   \n",
              "Mr. Karl Howell Behr                                                      0   \n",
              "Mr. Patrick Dooley                                                        0   \n",
              "\n",
              "                                                       Fare  \n",
              "Name                                                         \n",
              "Mr. Owen Harris Braund                               7.2500  \n",
              "Mrs. John Bradley (Florence Briggs Thayer) Cumings  71.2833  \n",
              "Miss. Laina Heikkinen                                7.9250  \n",
              "Mrs. Jacques Heath (Lily May Peel) Futrelle         53.1000  \n",
              "Mr. William Henry Allen                              8.0500  \n",
              "...                                                     ...  \n",
              "Rev. Juozas Montvila                                13.0000  \n",
              "Miss. Margaret Edith Graham                         30.0000  \n",
              "Miss. Catherine Helen Johnston                      23.4500  \n",
              "Mr. Karl Howell Behr                                30.0000  \n",
              "Mr. Patrick Dooley                                   7.7500  \n",
              "\n",
              "[887 rows x 7 columns]"
            ],
            "text/html": [
              "\n",
              "  <div id=\"df-71187e4b-2234-4107-8b50-3f2a1592fca4\">\n",
              "    <div class=\"colab-df-container\">\n",
              "      <div>\n",
              "<style scoped>\n",
              "    .dataframe tbody tr th:only-of-type {\n",
              "        vertical-align: middle;\n",
              "    }\n",
              "\n",
              "    .dataframe tbody tr th {\n",
              "        vertical-align: top;\n",
              "    }\n",
              "\n",
              "    .dataframe thead th {\n",
              "        text-align: right;\n",
              "    }\n",
              "</style>\n",
              "<table border=\"1\" class=\"dataframe\">\n",
              "  <thead>\n",
              "    <tr style=\"text-align: right;\">\n",
              "      <th></th>\n",
              "      <th>Survived</th>\n",
              "      <th>Pclass</th>\n",
              "      <th>Sex</th>\n",
              "      <th>Age</th>\n",
              "      <th>Siblings/Spouses Aboard</th>\n",
              "      <th>Parents/Children Aboard</th>\n",
              "      <th>Fare</th>\n",
              "    </tr>\n",
              "    <tr>\n",
              "      <th>Name</th>\n",
              "      <th></th>\n",
              "      <th></th>\n",
              "      <th></th>\n",
              "      <th></th>\n",
              "      <th></th>\n",
              "      <th></th>\n",
              "      <th></th>\n",
              "    </tr>\n",
              "  </thead>\n",
              "  <tbody>\n",
              "    <tr>\n",
              "      <th>Mr. Owen Harris Braund</th>\n",
              "      <td>0</td>\n",
              "      <td>3</td>\n",
              "      <td>male</td>\n",
              "      <td>22.0</td>\n",
              "      <td>1</td>\n",
              "      <td>0</td>\n",
              "      <td>7.2500</td>\n",
              "    </tr>\n",
              "    <tr>\n",
              "      <th>Mrs. John Bradley (Florence Briggs Thayer) Cumings</th>\n",
              "      <td>1</td>\n",
              "      <td>1</td>\n",
              "      <td>female</td>\n",
              "      <td>38.0</td>\n",
              "      <td>1</td>\n",
              "      <td>0</td>\n",
              "      <td>71.2833</td>\n",
              "    </tr>\n",
              "    <tr>\n",
              "      <th>Miss. Laina Heikkinen</th>\n",
              "      <td>1</td>\n",
              "      <td>3</td>\n",
              "      <td>female</td>\n",
              "      <td>26.0</td>\n",
              "      <td>0</td>\n",
              "      <td>0</td>\n",
              "      <td>7.9250</td>\n",
              "    </tr>\n",
              "    <tr>\n",
              "      <th>Mrs. Jacques Heath (Lily May Peel) Futrelle</th>\n",
              "      <td>1</td>\n",
              "      <td>1</td>\n",
              "      <td>female</td>\n",
              "      <td>35.0</td>\n",
              "      <td>1</td>\n",
              "      <td>0</td>\n",
              "      <td>53.1000</td>\n",
              "    </tr>\n",
              "    <tr>\n",
              "      <th>Mr. William Henry Allen</th>\n",
              "      <td>0</td>\n",
              "      <td>3</td>\n",
              "      <td>male</td>\n",
              "      <td>35.0</td>\n",
              "      <td>0</td>\n",
              "      <td>0</td>\n",
              "      <td>8.0500</td>\n",
              "    </tr>\n",
              "    <tr>\n",
              "      <th>...</th>\n",
              "      <td>...</td>\n",
              "      <td>...</td>\n",
              "      <td>...</td>\n",
              "      <td>...</td>\n",
              "      <td>...</td>\n",
              "      <td>...</td>\n",
              "      <td>...</td>\n",
              "    </tr>\n",
              "    <tr>\n",
              "      <th>Rev. Juozas Montvila</th>\n",
              "      <td>0</td>\n",
              "      <td>2</td>\n",
              "      <td>male</td>\n",
              "      <td>27.0</td>\n",
              "      <td>0</td>\n",
              "      <td>0</td>\n",
              "      <td>13.0000</td>\n",
              "    </tr>\n",
              "    <tr>\n",
              "      <th>Miss. Margaret Edith Graham</th>\n",
              "      <td>1</td>\n",
              "      <td>1</td>\n",
              "      <td>female</td>\n",
              "      <td>19.0</td>\n",
              "      <td>0</td>\n",
              "      <td>0</td>\n",
              "      <td>30.0000</td>\n",
              "    </tr>\n",
              "    <tr>\n",
              "      <th>Miss. Catherine Helen Johnston</th>\n",
              "      <td>0</td>\n",
              "      <td>3</td>\n",
              "      <td>female</td>\n",
              "      <td>7.0</td>\n",
              "      <td>1</td>\n",
              "      <td>2</td>\n",
              "      <td>23.4500</td>\n",
              "    </tr>\n",
              "    <tr>\n",
              "      <th>Mr. Karl Howell Behr</th>\n",
              "      <td>1</td>\n",
              "      <td>1</td>\n",
              "      <td>male</td>\n",
              "      <td>26.0</td>\n",
              "      <td>0</td>\n",
              "      <td>0</td>\n",
              "      <td>30.0000</td>\n",
              "    </tr>\n",
              "    <tr>\n",
              "      <th>Mr. Patrick Dooley</th>\n",
              "      <td>0</td>\n",
              "      <td>3</td>\n",
              "      <td>male</td>\n",
              "      <td>32.0</td>\n",
              "      <td>0</td>\n",
              "      <td>0</td>\n",
              "      <td>7.7500</td>\n",
              "    </tr>\n",
              "  </tbody>\n",
              "</table>\n",
              "<p>887 rows × 7 columns</p>\n",
              "</div>\n",
              "      <button class=\"colab-df-convert\" onclick=\"convertToInteractive('df-71187e4b-2234-4107-8b50-3f2a1592fca4')\"\n",
              "              title=\"Convert this dataframe to an interactive table.\"\n",
              "              style=\"display:none;\">\n",
              "        \n",
              "  <svg xmlns=\"http://www.w3.org/2000/svg\" height=\"24px\"viewBox=\"0 0 24 24\"\n",
              "       width=\"24px\">\n",
              "    <path d=\"M0 0h24v24H0V0z\" fill=\"none\"/>\n",
              "    <path d=\"M18.56 5.44l.94 2.06.94-2.06 2.06-.94-2.06-.94-.94-2.06-.94 2.06-2.06.94zm-11 1L8.5 8.5l.94-2.06 2.06-.94-2.06-.94L8.5 2.5l-.94 2.06-2.06.94zm10 10l.94 2.06.94-2.06 2.06-.94-2.06-.94-.94-2.06-.94 2.06-2.06.94z\"/><path d=\"M17.41 7.96l-1.37-1.37c-.4-.4-.92-.59-1.43-.59-.52 0-1.04.2-1.43.59L10.3 9.45l-7.72 7.72c-.78.78-.78 2.05 0 2.83L4 21.41c.39.39.9.59 1.41.59.51 0 1.02-.2 1.41-.59l7.78-7.78 2.81-2.81c.8-.78.8-2.07 0-2.86zM5.41 20L4 18.59l7.72-7.72 1.47 1.35L5.41 20z\"/>\n",
              "  </svg>\n",
              "      </button>\n",
              "      \n",
              "  <style>\n",
              "    .colab-df-container {\n",
              "      display:flex;\n",
              "      flex-wrap:wrap;\n",
              "      gap: 12px;\n",
              "    }\n",
              "\n",
              "    .colab-df-convert {\n",
              "      background-color: #E8F0FE;\n",
              "      border: none;\n",
              "      border-radius: 50%;\n",
              "      cursor: pointer;\n",
              "      display: none;\n",
              "      fill: #1967D2;\n",
              "      height: 32px;\n",
              "      padding: 0 0 0 0;\n",
              "      width: 32px;\n",
              "    }\n",
              "\n",
              "    .colab-df-convert:hover {\n",
              "      background-color: #E2EBFA;\n",
              "      box-shadow: 0px 1px 2px rgba(60, 64, 67, 0.3), 0px 1px 3px 1px rgba(60, 64, 67, 0.15);\n",
              "      fill: #174EA6;\n",
              "    }\n",
              "\n",
              "    [theme=dark] .colab-df-convert {\n",
              "      background-color: #3B4455;\n",
              "      fill: #D2E3FC;\n",
              "    }\n",
              "\n",
              "    [theme=dark] .colab-df-convert:hover {\n",
              "      background-color: #434B5C;\n",
              "      box-shadow: 0px 1px 3px 1px rgba(0, 0, 0, 0.15);\n",
              "      filter: drop-shadow(0px 1px 2px rgba(0, 0, 0, 0.3));\n",
              "      fill: #FFFFFF;\n",
              "    }\n",
              "  </style>\n",
              "\n",
              "      <script>\n",
              "        const buttonEl =\n",
              "          document.querySelector('#df-71187e4b-2234-4107-8b50-3f2a1592fca4 button.colab-df-convert');\n",
              "        buttonEl.style.display =\n",
              "          google.colab.kernel.accessAllowed ? 'block' : 'none';\n",
              "\n",
              "        async function convertToInteractive(key) {\n",
              "          const element = document.querySelector('#df-71187e4b-2234-4107-8b50-3f2a1592fca4');\n",
              "          const dataTable =\n",
              "            await google.colab.kernel.invokeFunction('convertToInteractive',\n",
              "                                                     [key], {});\n",
              "          if (!dataTable) return;\n",
              "\n",
              "          const docLinkHtml = 'Like what you see? Visit the ' +\n",
              "            '<a target=\"_blank\" href=https://colab.research.google.com/notebooks/data_table.ipynb>data table notebook</a>'\n",
              "            + ' to learn more about interactive tables.';\n",
              "          element.innerHTML = '';\n",
              "          dataTable['output_type'] = 'display_data';\n",
              "          await google.colab.output.renderOutput(dataTable, element);\n",
              "          const docLink = document.createElement('div');\n",
              "          docLink.innerHTML = docLinkHtml;\n",
              "          element.appendChild(docLink);\n",
              "        }\n",
              "      </script>\n",
              "    </div>\n",
              "  </div>\n",
              "  "
            ]
          },
          "metadata": {},
          "execution_count": 15
        }
      ]
    },
    {
      "cell_type": "markdown",
      "metadata": {
        "id": "0VfPvtMWLwWg"
      },
      "source": [
        "## Задание 4\n",
        "Выберите возраст, и колонку Survived всех людей у которых в имени есть слово Henry"
      ]
    },
    {
      "cell_type": "code",
      "metadata": {
        "id": "5o9zrk7RL0lz"
      },
      "source": [
        "import re"
      ],
      "execution_count": null,
      "outputs": []
    },
    {
      "cell_type": "code",
      "source": [
        "df[df['Name'].apply(lambda x: bool (re.findall('Henry', x)))]['Survived']"
      ],
      "metadata": {
        "colab": {
          "base_uri": "https://localhost:8080/"
        },
        "id": "q3SOiIWEKl3S",
        "outputId": "b9af269f-8060-41cc-dfc4-835f3c634eec"
      },
      "execution_count": null,
      "outputs": [
        {
          "output_type": "execute_result",
          "data": {
            "text/plain": [
              "4      0\n",
              "12     0\n",
              "51     1\n",
              "61     0\n",
              "158    0\n",
              "175    0\n",
              "208    1\n",
              "211    0\n",
              "221    0\n",
              "229    1\n",
              "238    0\n",
              "262    0\n",
              "269    1\n",
              "332    1\n",
              "345    1\n",
              "383    0\n",
              "409    0\n",
              "473    0\n",
              "479    0\n",
              "505    0\n",
              "591    0\n",
              "620    0\n",
              "627    1\n",
              "630    0\n",
              "642    1\n",
              "657    1\n",
              "669    0\n",
              "692    0\n",
              "702    0\n",
              "718    0\n",
              "719    0\n",
              "722    1\n",
              "880    0\n",
              "Name: Survived, dtype: int64"
            ]
          },
          "metadata": {},
          "execution_count": 9
        }
      ]
    },
    {
      "cell_type": "code",
      "source": [
        "# второй способ\n",
        "#res=df[df['Name'].str.contains('Henry')]\n",
        "#res[['Survived']]"
      ],
      "metadata": {
        "colab": {
          "base_uri": "https://localhost:8080/",
          "height": 1000
        },
        "id": "8f0R9DZYKKfd",
        "outputId": "e94e63be-225e-4ea6-de74-4a6739690b63"
      },
      "execution_count": null,
      "outputs": [
        {
          "output_type": "execute_result",
          "data": {
            "text/plain": [
              "     Survived\n",
              "4           0\n",
              "12          0\n",
              "51          1\n",
              "61          0\n",
              "158         0\n",
              "175         0\n",
              "208         1\n",
              "211         0\n",
              "221         0\n",
              "229         1\n",
              "238         0\n",
              "262         0\n",
              "269         1\n",
              "332         1\n",
              "345         1\n",
              "383         0\n",
              "409         0\n",
              "473         0\n",
              "479         0\n",
              "505         0\n",
              "591         0\n",
              "620         0\n",
              "627         1\n",
              "630         0\n",
              "642         1\n",
              "657         1\n",
              "669         0\n",
              "692         0\n",
              "702         0\n",
              "718         0\n",
              "719         0\n",
              "722         1\n",
              "880         0"
            ],
            "text/html": [
              "\n",
              "  <div id=\"df-54133d05-818c-4eaa-8c52-c6723fd1e84d\">\n",
              "    <div class=\"colab-df-container\">\n",
              "      <div>\n",
              "<style scoped>\n",
              "    .dataframe tbody tr th:only-of-type {\n",
              "        vertical-align: middle;\n",
              "    }\n",
              "\n",
              "    .dataframe tbody tr th {\n",
              "        vertical-align: top;\n",
              "    }\n",
              "\n",
              "    .dataframe thead th {\n",
              "        text-align: right;\n",
              "    }\n",
              "</style>\n",
              "<table border=\"1\" class=\"dataframe\">\n",
              "  <thead>\n",
              "    <tr style=\"text-align: right;\">\n",
              "      <th></th>\n",
              "      <th>Survived</th>\n",
              "    </tr>\n",
              "  </thead>\n",
              "  <tbody>\n",
              "    <tr>\n",
              "      <th>4</th>\n",
              "      <td>0</td>\n",
              "    </tr>\n",
              "    <tr>\n",
              "      <th>12</th>\n",
              "      <td>0</td>\n",
              "    </tr>\n",
              "    <tr>\n",
              "      <th>51</th>\n",
              "      <td>1</td>\n",
              "    </tr>\n",
              "    <tr>\n",
              "      <th>61</th>\n",
              "      <td>0</td>\n",
              "    </tr>\n",
              "    <tr>\n",
              "      <th>158</th>\n",
              "      <td>0</td>\n",
              "    </tr>\n",
              "    <tr>\n",
              "      <th>175</th>\n",
              "      <td>0</td>\n",
              "    </tr>\n",
              "    <tr>\n",
              "      <th>208</th>\n",
              "      <td>1</td>\n",
              "    </tr>\n",
              "    <tr>\n",
              "      <th>211</th>\n",
              "      <td>0</td>\n",
              "    </tr>\n",
              "    <tr>\n",
              "      <th>221</th>\n",
              "      <td>0</td>\n",
              "    </tr>\n",
              "    <tr>\n",
              "      <th>229</th>\n",
              "      <td>1</td>\n",
              "    </tr>\n",
              "    <tr>\n",
              "      <th>238</th>\n",
              "      <td>0</td>\n",
              "    </tr>\n",
              "    <tr>\n",
              "      <th>262</th>\n",
              "      <td>0</td>\n",
              "    </tr>\n",
              "    <tr>\n",
              "      <th>269</th>\n",
              "      <td>1</td>\n",
              "    </tr>\n",
              "    <tr>\n",
              "      <th>332</th>\n",
              "      <td>1</td>\n",
              "    </tr>\n",
              "    <tr>\n",
              "      <th>345</th>\n",
              "      <td>1</td>\n",
              "    </tr>\n",
              "    <tr>\n",
              "      <th>383</th>\n",
              "      <td>0</td>\n",
              "    </tr>\n",
              "    <tr>\n",
              "      <th>409</th>\n",
              "      <td>0</td>\n",
              "    </tr>\n",
              "    <tr>\n",
              "      <th>473</th>\n",
              "      <td>0</td>\n",
              "    </tr>\n",
              "    <tr>\n",
              "      <th>479</th>\n",
              "      <td>0</td>\n",
              "    </tr>\n",
              "    <tr>\n",
              "      <th>505</th>\n",
              "      <td>0</td>\n",
              "    </tr>\n",
              "    <tr>\n",
              "      <th>591</th>\n",
              "      <td>0</td>\n",
              "    </tr>\n",
              "    <tr>\n",
              "      <th>620</th>\n",
              "      <td>0</td>\n",
              "    </tr>\n",
              "    <tr>\n",
              "      <th>627</th>\n",
              "      <td>1</td>\n",
              "    </tr>\n",
              "    <tr>\n",
              "      <th>630</th>\n",
              "      <td>0</td>\n",
              "    </tr>\n",
              "    <tr>\n",
              "      <th>642</th>\n",
              "      <td>1</td>\n",
              "    </tr>\n",
              "    <tr>\n",
              "      <th>657</th>\n",
              "      <td>1</td>\n",
              "    </tr>\n",
              "    <tr>\n",
              "      <th>669</th>\n",
              "      <td>0</td>\n",
              "    </tr>\n",
              "    <tr>\n",
              "      <th>692</th>\n",
              "      <td>0</td>\n",
              "    </tr>\n",
              "    <tr>\n",
              "      <th>702</th>\n",
              "      <td>0</td>\n",
              "    </tr>\n",
              "    <tr>\n",
              "      <th>718</th>\n",
              "      <td>0</td>\n",
              "    </tr>\n",
              "    <tr>\n",
              "      <th>719</th>\n",
              "      <td>0</td>\n",
              "    </tr>\n",
              "    <tr>\n",
              "      <th>722</th>\n",
              "      <td>1</td>\n",
              "    </tr>\n",
              "    <tr>\n",
              "      <th>880</th>\n",
              "      <td>0</td>\n",
              "    </tr>\n",
              "  </tbody>\n",
              "</table>\n",
              "</div>\n",
              "      <button class=\"colab-df-convert\" onclick=\"convertToInteractive('df-54133d05-818c-4eaa-8c52-c6723fd1e84d')\"\n",
              "              title=\"Convert this dataframe to an interactive table.\"\n",
              "              style=\"display:none;\">\n",
              "        \n",
              "  <svg xmlns=\"http://www.w3.org/2000/svg\" height=\"24px\"viewBox=\"0 0 24 24\"\n",
              "       width=\"24px\">\n",
              "    <path d=\"M0 0h24v24H0V0z\" fill=\"none\"/>\n",
              "    <path d=\"M18.56 5.44l.94 2.06.94-2.06 2.06-.94-2.06-.94-.94-2.06-.94 2.06-2.06.94zm-11 1L8.5 8.5l.94-2.06 2.06-.94-2.06-.94L8.5 2.5l-.94 2.06-2.06.94zm10 10l.94 2.06.94-2.06 2.06-.94-2.06-.94-.94-2.06-.94 2.06-2.06.94z\"/><path d=\"M17.41 7.96l-1.37-1.37c-.4-.4-.92-.59-1.43-.59-.52 0-1.04.2-1.43.59L10.3 9.45l-7.72 7.72c-.78.78-.78 2.05 0 2.83L4 21.41c.39.39.9.59 1.41.59.51 0 1.02-.2 1.41-.59l7.78-7.78 2.81-2.81c.8-.78.8-2.07 0-2.86zM5.41 20L4 18.59l7.72-7.72 1.47 1.35L5.41 20z\"/>\n",
              "  </svg>\n",
              "      </button>\n",
              "      \n",
              "  <style>\n",
              "    .colab-df-container {\n",
              "      display:flex;\n",
              "      flex-wrap:wrap;\n",
              "      gap: 12px;\n",
              "    }\n",
              "\n",
              "    .colab-df-convert {\n",
              "      background-color: #E8F0FE;\n",
              "      border: none;\n",
              "      border-radius: 50%;\n",
              "      cursor: pointer;\n",
              "      display: none;\n",
              "      fill: #1967D2;\n",
              "      height: 32px;\n",
              "      padding: 0 0 0 0;\n",
              "      width: 32px;\n",
              "    }\n",
              "\n",
              "    .colab-df-convert:hover {\n",
              "      background-color: #E2EBFA;\n",
              "      box-shadow: 0px 1px 2px rgba(60, 64, 67, 0.3), 0px 1px 3px 1px rgba(60, 64, 67, 0.15);\n",
              "      fill: #174EA6;\n",
              "    }\n",
              "\n",
              "    [theme=dark] .colab-df-convert {\n",
              "      background-color: #3B4455;\n",
              "      fill: #D2E3FC;\n",
              "    }\n",
              "\n",
              "    [theme=dark] .colab-df-convert:hover {\n",
              "      background-color: #434B5C;\n",
              "      box-shadow: 0px 1px 3px 1px rgba(0, 0, 0, 0.15);\n",
              "      filter: drop-shadow(0px 1px 2px rgba(0, 0, 0, 0.3));\n",
              "      fill: #FFFFFF;\n",
              "    }\n",
              "  </style>\n",
              "\n",
              "      <script>\n",
              "        const buttonEl =\n",
              "          document.querySelector('#df-54133d05-818c-4eaa-8c52-c6723fd1e84d button.colab-df-convert');\n",
              "        buttonEl.style.display =\n",
              "          google.colab.kernel.accessAllowed ? 'block' : 'none';\n",
              "\n",
              "        async function convertToInteractive(key) {\n",
              "          const element = document.querySelector('#df-54133d05-818c-4eaa-8c52-c6723fd1e84d');\n",
              "          const dataTable =\n",
              "            await google.colab.kernel.invokeFunction('convertToInteractive',\n",
              "                                                     [key], {});\n",
              "          if (!dataTable) return;\n",
              "\n",
              "          const docLinkHtml = 'Like what you see? Visit the ' +\n",
              "            '<a target=\"_blank\" href=https://colab.research.google.com/notebooks/data_table.ipynb>data table notebook</a>'\n",
              "            + ' to learn more about interactive tables.';\n",
              "          element.innerHTML = '';\n",
              "          dataTable['output_type'] = 'display_data';\n",
              "          await google.colab.output.renderOutput(dataTable, element);\n",
              "          const docLink = document.createElement('div');\n",
              "          docLink.innerHTML = docLinkHtml;\n",
              "          element.appendChild(docLink);\n",
              "        }\n",
              "      </script>\n",
              "    </div>\n",
              "  </div>\n",
              "  "
            ]
          },
          "metadata": {},
          "execution_count": 8
        }
      ]
    },
    {
      "cell_type": "code",
      "source": [],
      "metadata": {
        "id": "ZFF51spjMuWA"
      },
      "execution_count": null,
      "outputs": []
    },
    {
      "cell_type": "markdown",
      "metadata": {
        "id": "ASpvyZTdQRdx"
      },
      "source": [
        "## Задание 5\n",
        "Посчитайте среднюю выживаемость в зависимости от приставки в имени.\n",
        "\n",
        "*Подсказка: приставка -- первое слово, или то слово, которое обозначается через точку (см результат для Henry). Воспользуйтесь groupby и строковыми методами работы .str*"
      ]
    },
    {
      "cell_type": "code",
      "metadata": {
        "id": "1GgPyZamPMmV"
      },
      "source": [
        "import re"
      ],
      "execution_count": null,
      "outputs": []
    },
    {
      "cell_type": "code",
      "source": [
        "df['prefix'] = df['Name'].apply(lambda x: re.findall('\\w*\\.\\s', x)[0])\n",
        "df.groupby('prefix')['Survived'].mean().sort_values()"
      ],
      "metadata": {
        "colab": {
          "base_uri": "https://localhost:8080/"
        },
        "id": "mZh78NyJOH6z",
        "outputId": "a3608aa8-8105-4fec-d329-9aa3f530b22a"
      },
      "execution_count": null,
      "outputs": [
        {
          "output_type": "execute_result",
          "data": {
            "text/plain": [
              "prefix\n",
              "Capt.         0.000000\n",
              "Don.          0.000000\n",
              "Jonkheer.     0.000000\n",
              "Rev.          0.000000\n",
              "Mr.           0.157895\n",
              "Dr.           0.428571\n",
              "Col.          0.500000\n",
              "Major.        0.500000\n",
              "Master.       0.575000\n",
              "Miss.         0.697802\n",
              "Mrs.          0.792000\n",
              "Mlle.         1.000000\n",
              "Mme.          1.000000\n",
              "Countess.     1.000000\n",
              "Ms.           1.000000\n",
              "Lady.         1.000000\n",
              "Sir.          1.000000\n",
              "Name: Survived, dtype: float64"
            ]
          },
          "metadata": {},
          "execution_count": 12
        }
      ]
    },
    {
      "cell_type": "markdown",
      "metadata": {
        "id": "4dgPiESL_YrR"
      },
      "source": [
        "## Задание 6\n",
        "Постройте общее распределение выживших и невыживших"
      ]
    },
    {
      "cell_type": "code",
      "metadata": {
        "id": "3MJGxdQL_Ktd",
        "colab": {
          "base_uri": "https://localhost:8080/",
          "height": 386
        },
        "outputId": "081871ac-607b-4801-87f3-8d76eabf1f68"
      },
      "source": [
        "sns.catplot(data = df,hue = 'Survived', x = 'Pclass',\n",
        "            kind='count', saturation=0.5)"
      ],
      "execution_count": null,
      "outputs": [
        {
          "output_type": "execute_result",
          "data": {
            "text/plain": [
              "<seaborn.axisgrid.FacetGrid at 0x7f596bcc0ac0>"
            ]
          },
          "metadata": {},
          "execution_count": 22
        },
        {
          "output_type": "display_data",
          "data": {
            "text/plain": [
              "<Figure size 411.875x360 with 1 Axes>"
            ],
            "image/png": "[encoded data removed]"
          },
          "metadata": {
            "needs_background": "light"
          }
        }
      ]
    },
    {
      "cell_type": "markdown",
      "metadata": {
        "id": "cWUNF47ZIkbE"
      },
      "source": [
        "## Задание 7\n",
        "Постройте еще какой-нибудь интересный по вашему мнению график, приведенный в материале выше. Объясните почему вы построили именно его."
      ]
    },
    {
      "cell_type": "code",
      "metadata": {
        "id": "9H7biYyEHp7A",
        "colab": {
          "base_uri": "https://localhost:8080/",
          "height": 386
        },
        "outputId": "a2488215-c8d7-487e-f9f5-42e4c2fcc6bd"
      },
      "source": [
        "#Распределение спасенных по половому признаку внутри классов\n",
        "#Проявляли ли мужчины благородство в отношении женщин или все думали только о себе.\n",
        "sns.catplot(data = df,y='Survived',x='Sex',col='Pclass',\n",
        "            kind='bar', saturation=0.5)"
      ],
      "execution_count": null,
      "outputs": [
        {
          "output_type": "execute_result",
          "data": {
            "text/plain": [
              "<seaborn.axisgrid.FacetGrid at 0x7f5968b3e1c0>"
            ]
          },
          "metadata": {},
          "execution_count": 39
        },
        {
          "output_type": "display_data",
          "data": {
            "text/plain": [
              "<Figure size 1080x360 with 3 Axes>"
            ],
            "image/png": "[encoded data removed]"
          },
          "metadata": {
            "needs_background": "light"
          }
        }
      ]
    },
    {
      "cell_type": "markdown",
      "metadata": {
        "id": "XBNaiA6uKudp"
      },
      "source": [
        "## Задание 8\n",
        "Постройте сводную таблицу (pivot_table), отражающую долю выживших, класс пассажира и его пол, используя метод pivot_table"
      ]
    },
    {
      "cell_type": "code",
      "metadata": {
        "id": "dFoEtFaSKudw",
        "colab": {
          "base_uri": "https://localhost:8080/",
          "height": 144
        },
        "outputId": "c24b1125-93cd-4a85-8497-f49d31b93aa2"
      },
      "source": [
        "res=df.pivot_table('Survived', index='Sex', columns='Pclass')\n",
        "res"
      ],
      "execution_count": null,
      "outputs": [
        {
          "output_type": "execute_result",
          "data": {
            "text/plain": [
              "Pclass         1         2         3\n",
              "Sex                                 \n",
              "female  0.968085  0.921053  0.500000\n",
              "male    0.368852  0.157407  0.137026"
            ],
            "text/html": [
              "\n",
              "  <div id=\"df-14593dee-b398-48df-ba22-25b42a43bece\">\n",
              "    <div class=\"colab-df-container\">\n",
              "      <div>\n",
              "<style scoped>\n",
              "    .dataframe tbody tr th:only-of-type {\n",
              "        vertical-align: middle;\n",
              "    }\n",
              "\n",
              "    .dataframe tbody tr th {\n",
              "        vertical-align: top;\n",
              "    }\n",
              "\n",
              "    .dataframe thead th {\n",
              "        text-align: right;\n",
              "    }\n",
              "</style>\n",
              "<table border=\"1\" class=\"dataframe\">\n",
              "  <thead>\n",
              "    <tr style=\"text-align: right;\">\n",
              "      <th>Pclass</th>\n",
              "      <th>1</th>\n",
              "      <th>2</th>\n",
              "      <th>3</th>\n",
              "    </tr>\n",
              "    <tr>\n",
              "      <th>Sex</th>\n",
              "      <th></th>\n",
              "      <th></th>\n",
              "      <th></th>\n",
              "    </tr>\n",
              "  </thead>\n",
              "  <tbody>\n",
              "    <tr>\n",
              "      <th>female</th>\n",
              "      <td>0.968085</td>\n",
              "      <td>0.921053</td>\n",
              "      <td>0.500000</td>\n",
              "    </tr>\n",
              "    <tr>\n",
              "      <th>male</th>\n",
              "      <td>0.368852</td>\n",
              "      <td>0.157407</td>\n",
              "      <td>0.137026</td>\n",
              "    </tr>\n",
              "  </tbody>\n",
              "</table>\n",
              "</div>\n",
              "      <button class=\"colab-df-convert\" onclick=\"convertToInteractive('df-14593dee-b398-48df-ba22-25b42a43bece')\"\n",
              "              title=\"Convert this dataframe to an interactive table.\"\n",
              "              style=\"display:none;\">\n",
              "        \n",
              "  <svg xmlns=\"http://www.w3.org/2000/svg\" height=\"24px\"viewBox=\"0 0 24 24\"\n",
              "       width=\"24px\">\n",
              "    <path d=\"M0 0h24v24H0V0z\" fill=\"none\"/>\n",
              "    <path d=\"M18.56 5.44l.94 2.06.94-2.06 2.06-.94-2.06-.94-.94-2.06-.94 2.06-2.06.94zm-11 1L8.5 8.5l.94-2.06 2.06-.94-2.06-.94L8.5 2.5l-.94 2.06-2.06.94zm10 10l.94 2.06.94-2.06 2.06-.94-2.06-.94-.94-2.06-.94 2.06-2.06.94z\"/><path d=\"M17.41 7.96l-1.37-1.37c-.4-.4-.92-.59-1.43-.59-.52 0-1.04.2-1.43.59L10.3 9.45l-7.72 7.72c-.78.78-.78 2.05 0 2.83L4 21.41c.39.39.9.59 1.41.59.51 0 1.02-.2 1.41-.59l7.78-7.78 2.81-2.81c.8-.78.8-2.07 0-2.86zM5.41 20L4 18.59l7.72-7.72 1.47 1.35L5.41 20z\"/>\n",
              "  </svg>\n",
              "      </button>\n",
              "      \n",
              "  <style>\n",
              "    .colab-df-container {\n",
              "      display:flex;\n",
              "      flex-wrap:wrap;\n",
              "      gap: 12px;\n",
              "    }\n",
              "\n",
              "    .colab-df-convert {\n",
              "      background-color: #E8F0FE;\n",
              "      border: none;\n",
              "      border-radius: 50%;\n",
              "      cursor: pointer;\n",
              "      display: none;\n",
              "      fill: #1967D2;\n",
              "      height: 32px;\n",
              "      padding: 0 0 0 0;\n",
              "      width: 32px;\n",
              "    }\n",
              "\n",
              "    .colab-df-convert:hover {\n",
              "      background-color: #E2EBFA;\n",
              "      box-shadow: 0px 1px 2px rgba(60, 64, 67, 0.3), 0px 1px 3px 1px rgba(60, 64, 67, 0.15);\n",
              "      fill: #174EA6;\n",
              "    }\n",
              "\n",
              "    [theme=dark] .colab-df-convert {\n",
              "      background-color: #3B4455;\n",
              "      fill: #D2E3FC;\n",
              "    }\n",
              "\n",
              "    [theme=dark] .colab-df-convert:hover {\n",
              "      background-color: #434B5C;\n",
              "      box-shadow: 0px 1px 3px 1px rgba(0, 0, 0, 0.15);\n",
              "      filter: drop-shadow(0px 1px 2px rgba(0, 0, 0, 0.3));\n",
              "      fill: #FFFFFF;\n",
              "    }\n",
              "  </style>\n",
              "\n",
              "      <script>\n",
              "        const buttonEl =\n",
              "          document.querySelector('#df-14593dee-b398-48df-ba22-25b42a43bece button.colab-df-convert');\n",
              "        buttonEl.style.display =\n",
              "          google.colab.kernel.accessAllowed ? 'block' : 'none';\n",
              "\n",
              "        async function convertToInteractive(key) {\n",
              "          const element = document.querySelector('#df-14593dee-b398-48df-ba22-25b42a43bece');\n",
              "          const dataTable =\n",
              "            await google.colab.kernel.invokeFunction('convertToInteractive',\n",
              "                                                     [key], {});\n",
              "          if (!dataTable) return;\n",
              "\n",
              "          const docLinkHtml = 'Like what you see? Visit the ' +\n",
              "            '<a target=\"_blank\" href=https://colab.research.google.com/notebooks/data_table.ipynb>data table notebook</a>'\n",
              "            + ' to learn more about interactive tables.';\n",
              "          element.innerHTML = '';\n",
              "          dataTable['output_type'] = 'display_data';\n",
              "          await google.colab.output.renderOutput(dataTable, element);\n",
              "          const docLink = document.createElement('div');\n",
              "          docLink.innerHTML = docLinkHtml;\n",
              "          element.appendChild(docLink);\n",
              "        }\n",
              "      </script>\n",
              "    </div>\n",
              "  </div>\n",
              "  "
            ]
          },
          "metadata": {},
          "execution_count": 63
        }
      ]
    }
  ]
}