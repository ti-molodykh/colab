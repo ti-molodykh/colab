{
  "nbformat": 4,
  "nbformat_minor": 0,
  "metadata": {
    "colab": {
      "provenance": [],
      "include_colab_link": true
    },
    "kernelspec": {
      "name": "python3",
      "display_name": "Python 3"
    },
    "language_info": {
      "name": "python"
    }
  },
  "cells": [
    {
      "cell_type": "markdown",
      "metadata": {
        "id": "view-in-github",
        "colab_type": "text"
      },
      "source": [
        "<a href=\"https://colab.research.google.com/github/ti-molodykh/colab/blob/main/%D0%97%D0%B0%D0%BD%D1%8F%D1%82%D0%B8%D0%B5%E2%84%963.ipynb\" target=\"_parent\"><img src=\"https://colab.research.google.com/assets/colab-badge.svg\" alt=\"Open In Colab\"/></a>"
      ]
    },
    {
      "cell_type": "code",
      "source": [
        "import random as rnd\n",
        "import matplotlib.pyplot as plt\n",
        "import numpy as np"
      ],
      "metadata": {
        "id": "H0Z3cM4OTFDG"
      },
      "execution_count": null,
      "outputs": []
    },
    {
      "cell_type": "code",
      "source": [
        "def coin(p):\n",
        "  return int(rnd.random() < p)\n",
        "\n",
        "def bag_coins(n, p):\n",
        "  return sum( [coin(p) for _ in range(n)] )"
      ],
      "metadata": {
        "id": "sjV4TPL-TIZ9"
      },
      "execution_count": null,
      "outputs": []
    },
    {
      "cell_type": "code",
      "source": [
        "bag_coins(100, 0.3) # историческая конверсия 30%"
      ],
      "metadata": {
        "colab": {
          "base_uri": "https://localhost:8080/"
        },
        "id": "CccPzPOteXdR",
        "outputId": "847b7128-d17d-4bca-cc13-f67d3a17c934"
      },
      "execution_count": null,
      "outputs": [
        {
          "output_type": "execute_result",
          "data": {
            "text/plain": [
              "7"
            ]
          },
          "metadata": {},
          "execution_count": 8
        }
      ]
    },
    {
      "cell_type": "code",
      "source": [
        "p0 = 0.3\n",
        "p1 = 0.40 # увеличение на 10 процентных пунктов\n",
        "N = 200\n",
        "simulationH0 = [ bag_coins(N, p0) for _ in range(20000) ]\n",
        "simulationH1 = [ bag_coins(N, p1) for _ in range(20000) ]"
      ],
      "metadata": {
        "id": "AyIaNG2pfBWY"
      },
      "execution_count": null,
      "outputs": []
    },
    {
      "cell_type": "code",
      "source": [
        "alpha = 5\n",
        "beta = 20"
      ],
      "metadata": {
        "id": "To6SgA4E8Amb"
      },
      "execution_count": null,
      "outputs": []
    },
    {
      "cell_type": "code",
      "source": [
        "perI = np.percentile(simulationH0, 100 - alpha)\n",
        "perII = np.percentile(simulationH1, beta)"
      ],
      "metadata": {
        "id": "IXI0LKyE8scs"
      },
      "execution_count": null,
      "outputs": []
    },
    {
      "cell_type": "code",
      "source": [
        "bins = 14\n",
        "plt.hist(simulationH0, bins=bins, label='H0', alpha= 0.8)\n",
        "plt.hist(simulationH1, bins=bins, label='H1', alpha= 0.8)\n",
        "\n",
        "#res = 22\n",
        "#plt.plot([res, res], [0, 3000], color='green', label='Результат нашего ОДНОГО теста')\n",
        "\n",
        "plt.xlim([0, N])\n",
        "plt.plot([perI, perI], [0, 3600], color='black', label='H0 per I err')\n",
        "plt.plot([perII, perII], [0, 3600], color='red', label='H1 per II err')\n",
        "\n",
        "plt.legend();"
      ],
      "metadata": {
        "colab": {
          "base_uri": "https://localhost:8080/",
          "height": 265
        },
        "id": "HUePjoqzfmvG",
        "outputId": "0a1c7086-a14f-46e7-a782-bef2555ad446"
      },
      "execution_count": null,
      "outputs": [
        {
          "output_type": "display_data",
          "data": {
            "text/plain": [
              "<Figure size 432x288 with 1 Axes>"
            ],
            "image/png": "[encoded data removed]"
          },
          "metadata": {
            "needs_background": "light"
          }
        }
      ]
    },
    {
      "cell_type": "code",
      "source": [
        "rnd.seed(0)\n",
        "true_H = rnd.choice(['H0', 'H1'])\n",
        "\n",
        "if true_H == 'H0':\n",
        "  true_p = 0.3\n",
        "else:\n",
        "  true_p = 0.4"
      ],
      "metadata": {
        "id": "TR1t1bm7Hgsb"
      },
      "execution_count": null,
      "outputs": []
    },
    {
      "cell_type": "code",
      "source": [
        "true_p"
      ],
      "metadata": {
        "colab": {
          "base_uri": "https://localhost:8080/"
        },
        "id": "xQYaUxzxKCa-",
        "outputId": "2872ec3f-648e-4167-9687-ac52b2142d3d"
      },
      "execution_count": null,
      "outputs": [
        {
          "output_type": "execute_result",
          "data": {
            "text/plain": [
              "0.4"
            ]
          },
          "metadata": {},
          "execution_count": 121
        }
      ]
    },
    {
      "cell_type": "markdown",
      "source": [
        "# Настоящий тест"
      ],
      "metadata": {
        "id": "kyL-jxFNJYE0"
      }
    },
    {
      "cell_type": "code",
      "source": [
        "rnd.seed(0)\n",
        "res = bag_coins(N, true_p)\n",
        "res"
      ],
      "metadata": {
        "colab": {
          "base_uri": "https://localhost:8080/"
        },
        "id": "orCkyuNoJV4w",
        "outputId": "1094a4c8-b02a-4058-e099-d2d1bb6ad3b7"
      },
      "execution_count": null,
      "outputs": [
        {
          "output_type": "execute_result",
          "data": {
            "text/plain": [
              "73"
            ]
          },
          "metadata": {},
          "execution_count": 119
        }
      ]
    },
    {
      "cell_type": "code",
      "source": [
        "res = 73 # как pvalue считать? \n",
        "bigger_then_result = [e  for e in simulationH0 if e >= res]\n",
        "len(bigger_then_result), len(simulationH0)\n",
        "p_value = len(bigger_then_result)/len(simulationH0)\n",
        "p_value"
      ],
      "metadata": {
        "colab": {
          "base_uri": "https://localhost:8080/"
        },
        "id": "HuWhVdI3J5T8",
        "outputId": "97f36f55-9aab-4cb6-b95f-c0d2ce0f1368"
      },
      "execution_count": null,
      "outputs": [
        {
          "output_type": "execute_result",
          "data": {
            "text/plain": [
              "0.02895"
            ]
          },
          "metadata": {},
          "execution_count": 120
        }
      ]
    },
    {
      "cell_type": "code",
      "source": [],
      "metadata": {
        "id": "iWDZEoabJ1qe"
      },
      "execution_count": null,
      "outputs": []
    },
    {
      "cell_type": "code",
      "source": [],
      "metadata": {
        "id": "2giz4E_vI5Yj"
      },
      "execution_count": null,
      "outputs": []
    },
    {
      "cell_type": "markdown",
      "source": [
        "Б тест: тест в котором не нужна контрольная выборка. \n",
        "<br>Потому что мы знаем контрольную величину"
      ],
      "metadata": {
        "id": "-rAA1V19HhGm"
      }
    },
    {
      "cell_type": "markdown",
      "source": [
        "АБ тест: в контрольной выборке неизвестное контрольное значение(метрика)\n",
        "<br> Всего лишь предпологаем, что контрольная выборка будет соответствоать историческим данным"
      ],
      "metadata": {
        "id": "FvElrluaHym8"
      }
    },
    {
      "cell_type": "code",
      "source": [],
      "metadata": {
        "id": "2JRUJp8UHvyP"
      },
      "execution_count": null,
      "outputs": []
    },
    {
      "cell_type": "code",
      "source": [
        "# II error\n",
        "smaller_then_perI = [e  for e in simulationH1 if e <= perI]\n",
        "errII = len(smaller_then_perI)/len(simulationH1)\n",
        "errII"
      ],
      "metadata": {
        "colab": {
          "base_uri": "https://localhost:8080/"
        },
        "id": "m6mwjTxQCpwh",
        "outputId": "a7f274e3-cd7d-4a43-8813-1ea1429bd3e1"
      },
      "execution_count": null,
      "outputs": [
        {
          "output_type": "execute_result",
          "data": {
            "text/plain": [
              "0.49825"
            ]
          },
          "metadata": {},
          "execution_count": 85
        }
      ]
    },
    {
      "cell_type": "code",
      "source": [
        "res = 22 # как pvalue считать? \n",
        "bigger_then_result = [e  for e in simulationH0 if e >= res]\n",
        "len(bigger_then_result), len(simulationH0)\n",
        "p_value = len(bigger_then_result)/len(simulationH0)\n",
        "p_value"
      ],
      "metadata": {
        "colab": {
          "base_uri": "https://localhost:8080/"
        },
        "id": "OFbBT6JF93zU",
        "outputId": "7ed427a2-69d9-43b7-bd7f-d279db4b467e"
      },
      "execution_count": null,
      "outputs": [
        {
          "output_type": "execute_result",
          "data": {
            "text/plain": [
              "0.0"
            ]
          },
          "metadata": {},
          "execution_count": 86
        }
      ]
    },
    {
      "cell_type": "code",
      "source": [],
      "metadata": {
        "id": "MxrVNxPCAyfM"
      },
      "execution_count": null,
      "outputs": []
    },
    {
      "cell_type": "code",
      "source": [
        "np.percentile(simulationH0, 95)"
      ],
      "metadata": {
        "colab": {
          "base_uri": "https://localhost:8080/"
        },
        "id": "wWNh7Vw3usBe",
        "outputId": "3d5fd8df-738e-4ceb-c037-4fd51ec3c03c"
      },
      "execution_count": null,
      "outputs": [
        {
          "output_type": "execute_result",
          "data": {
            "text/plain": [
              "8.0"
            ]
          },
          "metadata": {},
          "execution_count": 36
        }
      ]
    },
    {
      "cell_type": "code",
      "source": [
        "Если отвергаем Н0, но на самом деле она верна,\n",
        "с какой вероятностью ошибёмся?"
      ],
      "metadata": {
        "id": "VgD_ofqBhMiP"
      },
      "execution_count": null,
      "outputs": []
    },
    {
      "cell_type": "code",
      "source": [
        "len(res7)/len(simulationH0)*100, \"%\""
      ],
      "metadata": {
        "colab": {
          "base_uri": "https://localhost:8080/"
        },
        "id": "R2hJgkbeg2bM",
        "outputId": "0cb4fc5d-3da7-45e3-e925-b13334e1b0e4"
      },
      "execution_count": null,
      "outputs": [
        {
          "output_type": "execute_result",
          "data": {
            "text/plain": [
              "(11.77, '%')"
            ]
          },
          "metadata": {},
          "execution_count": 23
        }
      ]
    },
    {
      "cell_type": "code",
      "source": [
        "res7 = [e for e in simulationH0 if e == 7]\n",
        "len(res7)"
      ],
      "metadata": {
        "colab": {
          "base_uri": "https://localhost:8080/"
        },
        "id": "4yHpCwpPgPA5",
        "outputId": "ba9775b0-42e1-405a-b9f9-02d30a42d696"
      },
      "execution_count": null,
      "outputs": [
        {
          "output_type": "execute_result",
          "data": {
            "text/plain": [
              "1177"
            ]
          },
          "metadata": {},
          "execution_count": 21
        }
      ]
    },
    {
      "cell_type": "code",
      "source": [
        "len(res7), len(simulationH0), len(res7)/len(simulationH0)"
      ],
      "metadata": {
        "colab": {
          "base_uri": "https://localhost:8080/"
        },
        "id": "JV2UCUECgk-q",
        "outputId": "187d22f3-73a1-4891-9839-4ab6c26aafa2"
      },
      "execution_count": null,
      "outputs": [
        {
          "output_type": "execute_result",
          "data": {
            "text/plain": [
              "(1177, 10000, 0.1177)"
            ]
          },
          "metadata": {},
          "execution_count": 22
        }
      ]
    },
    {
      "cell_type": "markdown",
      "source": [
        "Эксперимент 2-хвостовой<br>\n",
        "\n",
        "P value<br>\n",
        "Доверительный интервал<br>\n",
        "Статистическая значимость<br>\n",
        "Вероятность ошибки I рода alpha = 5%<br>\n",
        "Вероятность ошибки II рода beta<br>\n",
        "\n"
      ],
      "metadata": {
        "id": "e8dXjp5MgVav"
      }
    },
    {
      "cell_type": "code",
      "source": [
        "rnd.seed(0)\n",
        "w = 200\n",
        "L = [ bag_coins(w, 0.8)/w for _ in range(10000) ]"
      ],
      "metadata": {
        "id": "GlAdHONVfMjQ"
      },
      "execution_count": null,
      "outputs": []
    },
    {
      "cell_type": "code",
      "source": [
        "#H0 - конверися 80%\n",
        "alpha = 5\n",
        "plt.hist(L, bins=20, label='H0', color='green');\n",
        "p_left = np.percentile(L, alpha/2)\n",
        "p_r = np.percentile(L, 100-alpha/2)\n",
        "plt.plot([p_left, p_left], [0, 1500], color='blue', label=str(alpha/2))\n",
        "plt.plot([p_r, p_r], [0, 1500], color='blue', label=str(100-alpha/2))\n",
        "print('Доверительный интервал', round(p_left*100, 1), '%, ', round(p_r*100, 1), '%')\n",
        "\n",
        "plt.plot([res, res], [0, 1500], color='black', label='result')\n",
        "plt.legend();"
      ],
      "metadata": {
        "colab": {
          "base_uri": "https://localhost:8080/",
          "height": 282
        },
        "id": "D5rSmg483m_L",
        "outputId": "762a078f-9e2c-4da5-9071-cce65947664b"
      },
      "execution_count": null,
      "outputs": [
        {
          "output_type": "stream",
          "name": "stdout",
          "text": [
            "Доверительный интервал 74.5 %,  85.5 %\n"
          ]
        },
        {
          "output_type": "display_data",
          "data": {
            "text/plain": [
              "<Figure size 432x288 with 1 Axes>"
            ],
            "image/png": "[encoded data removed]"
          },
          "metadata": {
            "needs_background": "light"
          }
        }
      ]
    },
    {
      "cell_type": "code",
      "source": [
        "x = len([e for e in L if e >= res])/len(L)\n",
        "if x < 0.025:\n",
        "  print('Различия значимые')\n",
        "else:\n",
        "  print('Различия не значимые')"
      ],
      "metadata": {
        "colab": {
          "base_uri": "https://localhost:8080/"
        },
        "id": "4gKGIjQ893JN",
        "outputId": "feeb50ea-5b4e-4bbc-97b4-b4982edf0e44"
      },
      "execution_count": null,
      "outputs": [
        {
          "output_type": "stream",
          "name": "stdout",
          "text": [
            "Различия значимые\n"
          ]
        }
      ]
    },
    {
      "cell_type": "code",
      "source": [
        "p_value = len([e for e in L if e >= res])/len(L) * 2"
      ],
      "metadata": {
        "id": "JnSK2iH6-vKm"
      },
      "execution_count": null,
      "outputs": []
    },
    {
      "cell_type": "markdown",
      "source": [
        "# Реальный тест"
      ],
      "metadata": {
        "id": "_h3y6tgZ70ro"
      }
    },
    {
      "cell_type": "code",
      "source": [
        "rnd.seed(0)\n",
        "p_H1 = rnd.choice([0.69, 0.71, 0.75, 0.79, 0.81, 0.86, 0.9, 0.95, 0.99]) # любая конверсия для альтернативной гипотезы\n",
        "p_true = rnd.choice([0.5, p_H1]) # либо Н0 верна, либо Н1 верна"
      ],
      "metadata": {
        "id": "gnEHd6sk7x7P"
      },
      "execution_count": null,
      "outputs": []
    },
    {
      "cell_type": "code",
      "source": [
        "rnd.seed(0)\n",
        "\n",
        "w = 200\n",
        "res = bag_coins(w, p_true)/w\n",
        "res"
      ],
      "metadata": {
        "colab": {
          "base_uri": "https://localhost:8080/"
        },
        "id": "sCaGtfeQ8IJu",
        "outputId": "154914dc-2d94-440e-aa74-40dd49773d67"
      },
      "execution_count": null,
      "outputs": [
        {
          "output_type": "execute_result",
          "data": {
            "text/plain": [
              "0.885"
            ]
          },
          "metadata": {},
          "execution_count": 79
        }
      ]
    },
    {
      "cell_type": "code",
      "source": [
        "p_left/len(L)"
      ],
      "metadata": {
        "colab": {
          "base_uri": "https://localhost:8080/"
        },
        "id": "Gtv3bzBx7Q2Q",
        "outputId": "e54e76a5-6b35-4fa5-9efc-4f74d77f3963"
      },
      "execution_count": null,
      "outputs": [
        {
          "output_type": "execute_result",
          "data": {
            "text/plain": [
              "6.8e-05"
            ]
          },
          "metadata": {},
          "execution_count": 64
        }
      ]
    },
    {
      "cell_type": "code",
      "source": [
        "p025 = np.percentile(L, 2.5)\n",
        "p975 = np.percentile(L, 97.5)"
      ],
      "metadata": {
        "id": "esGFTfol48NZ"
      },
      "execution_count": null,
      "outputs": []
    },
    {
      "cell_type": "code",
      "source": [
        "p025, p975"
      ],
      "metadata": {
        "colab": {
          "base_uri": "https://localhost:8080/"
        },
        "id": "Gk-yCqTc5E3c",
        "outputId": "9a7779db-ff7e-4a53-d73a-ee095074c198"
      },
      "execution_count": null,
      "outputs": [
        {
          "output_type": "execute_result",
          "data": {
            "text/plain": [
              "(0.7666666666666667, 0.8316666666666667)"
            ]
          },
          "metadata": {},
          "execution_count": 51
        }
      ]
    },
    {
      "cell_type": "code",
      "source": [
        "\n",
        "plt.hist(L, bins=20, label='H0');\n",
        "res = 490\n",
        "plt.plot([490, 490], [0, 1500], color='black', label='result')"
      ],
      "metadata": {
        "colab": {
          "base_uri": "https://localhost:8080/",
          "height": 282
        },
        "id": "XbcOoyHttjuA",
        "outputId": "da268968-554d-4a61-bfe3-0bf76923b8e6"
      },
      "execution_count": null,
      "outputs": [
        {
          "output_type": "execute_result",
          "data": {
            "text/plain": [
              "[<matplotlib.lines.Line2D at 0x7f360ebd5160>]"
            ]
          },
          "metadata": {},
          "execution_count": 39
        },
        {
          "output_type": "display_data",
          "data": {
            "text/plain": [
              "<Figure size 432x288 with 1 Axes>"
            ],
            "image/png": "[encoded data removed]"
          },
          "metadata": {
            "needs_background": "light"
          }
        }
      ]
    },
    {
      "cell_type": "code",
      "source": [
        "res "
      ],
      "metadata": {
        "colab": {
          "base_uri": "https://localhost:8080/"
        },
        "id": "NPZFwv2QvQmF",
        "outputId": "fb2642e9-731d-48bc-a50d-156e1fbd3010"
      },
      "execution_count": null,
      "outputs": [
        {
          "output_type": "execute_result",
          "data": {
            "text/plain": [
              "490"
            ]
          },
          "metadata": {},
          "execution_count": 41
        }
      ]
    },
    {
      "cell_type": "code",
      "source": [
        "perc95 = np.percentile(L, 5)\n",
        "perc95"
      ],
      "metadata": {
        "colab": {
          "base_uri": "https://localhost:8080/"
        },
        "id": "Z1-wYYMjtvE5",
        "outputId": "b5a5b46a-abf5-44be-8cfa-b6a662797e09"
      },
      "execution_count": null,
      "outputs": [
        {
          "output_type": "execute_result",
          "data": {
            "text/plain": [
              "496.0"
            ]
          },
          "metadata": {},
          "execution_count": 44
        }
      ]
    },
    {
      "cell_type": "code",
      "source": [
        "if res > perc95:\n",
        "  print('Отвергаем Н0')\n",
        "else:\n",
        "  print('Не можем отвергнуть Н0')"
      ],
      "metadata": {
        "colab": {
          "base_uri": "https://localhost:8080/"
        },
        "id": "OXdLinoxvUHR",
        "outputId": "197ec6d0-5408-4b85-9ac4-d54dce4fbc9e"
      },
      "execution_count": null,
      "outputs": [
        {
          "output_type": "stream",
          "name": "stdout",
          "text": [
            "Не можем отвергнуть Н0\n"
          ]
        }
      ]
    },
    {
      "cell_type": "code",
      "source": [
        "import numpy as np"
      ],
      "metadata": {
        "id": "CImqJ97MtpEs"
      },
      "execution_count": null,
      "outputs": []
    },
    {
      "cell_type": "code",
      "source": [
        "coin(0.9)"
      ],
      "metadata": {
        "colab": {
          "base_uri": "https://localhost:8080/"
        },
        "id": "RE_fgX38TH8u",
        "outputId": "6b77ab83-66d1-48cd-eaa3-6ebcaf3e6699"
      },
      "execution_count": null,
      "outputs": [
        {
          "output_type": "execute_result",
          "data": {
            "text/plain": [
              "0"
            ]
          },
          "metadata": {},
          "execution_count": 7
        }
      ]
    },
    {
      "cell_type": "code",
      "source": [
        "import pandas as pd\n",
        "\n",
        "# Создаем DataFrame\n",
        "data = {'Регион': ['Москва', 'Москва', 'Санкт-Петербург', 'Санкт-Петербург'],\n",
        "        'Продукт': ['Телевизор', 'Холодильник', 'Телевизор', 'Холодильник'],\n",
        "        'Продажи': [100, 200, 150, 250]}\n",
        "\n",
        "df = pd.DataFrame(data)\n",
        "\n",
        "# Создаем сводную таблицу\n",
        "pivot_table = df.pivot_table(index='Регион', columns='Продукт', values='Продажи', aggfunc='sum')\n",
        "\n",
        "print(pivot_table)\n"
      ],
      "metadata": {
        "id": "SRzITDpgTIE8",
        "colab": {
          "base_uri": "https://localhost:8080/"
        },
        "outputId": "727033b3-0e43-43cb-84ac-a74017f51396"
      },
      "execution_count": null,
      "outputs": [
        {
          "output_type": "stream",
          "name": "stdout",
          "text": [
            "Продукт          Телевизор  Холодильник\n",
            "Регион                                 \n",
            "Москва                 100          200\n",
            "Санкт-Петербург        150          250\n"
          ]
        }
      ]
    },
    {
      "cell_type": "code",
      "source": [
        "def longest_substring(s):\n",
        "    left, right = 0, 0\n",
        "    seen = set()\n",
        "    max_substring = ''\n",
        "    \n",
        "    while right < len(s):\n",
        "        if s[right] in seen:\n",
        "            print('+', left, right, seen)\n",
        "            seen.remove(s[left])\n",
        "            left += 1\n",
        "        else:\n",
        "            print('-', left, right, seen)\n",
        "            seen.add(s[right])\n",
        "            right += 1\n",
        "            if len(seen) > len(max_substring):\n",
        "                max_substring = s[left:right]\n",
        "    \n",
        "    return max_substring\n",
        "\n",
        "longest_substring(\"abfcdfc\")"
      ],
      "metadata": {
        "colab": {
          "base_uri": "https://localhost:8080/",
          "height": 226
        },
        "id": "x7oly3yq-6D-",
        "outputId": "8040158b-e320-4719-b027-262c5eb35b31"
      },
      "execution_count": null,
      "outputs": [
        {
          "output_type": "stream",
          "name": "stdout",
          "text": [
            "- 0 0 set()\n",
            "- 0 1 {'a'}\n",
            "- 0 2 {'b', 'a'}\n",
            "- 0 3 {'b', 'a', 'f'}\n",
            "- 0 4 {'b', 'a', 'f', 'c'}\n",
            "+ 0 5 {'a', 'c', 'd', 'f', 'b'}\n",
            "+ 1 5 {'c', 'd', 'f', 'b'}\n",
            "+ 2 5 {'c', 'd', 'f'}\n",
            "- 3 5 {'c', 'd'}\n",
            "+ 3 6 {'c', 'd', 'f'}\n",
            "- 4 6 {'d', 'f'}\n"
          ]
        },
        {
          "output_type": "execute_result",
          "data": {
            "text/plain": [
              "'abfcd'"
            ],
            "application/vnd.google.colaboratory.intrinsic+json": {
              "type": "string"
            }
          },
          "metadata": {},
          "execution_count": 20
        }
      ]
    },
    {
      "cell_type": "code",
      "source": [
        "left   0\n",
        "right  5"
      ],
      "metadata": {
        "colab": {
          "base_uri": "https://localhost:8080/",
          "height": 130
        },
        "id": "QTe4ivDbMNUV",
        "outputId": "f0a9b8d3-bb43-4327-8607-c81561445add"
      },
      "execution_count": null,
      "outputs": [
        {
          "output_type": "error",
          "ename": "SyntaxError",
          "evalue": "ignored",
          "traceback": [
            "\u001b[0;36m  File \u001b[0;32m\"<ipython-input-14-715b5fffdecf>\"\u001b[0;36m, line \u001b[0;32m1\u001b[0m\n\u001b[0;31m    left a\u001b[0m\n\u001b[0m         ^\u001b[0m\n\u001b[0;31mSyntaxError\u001b[0m\u001b[0;31m:\u001b[0m invalid syntax\n"
          ]
        }
      ]
    },
    {
      "cell_type": "code",
      "source": [],
      "metadata": {
        "id": "mrpcFvBjMO45"
      },
      "execution_count": null,
      "outputs": []
    }
  ]
}