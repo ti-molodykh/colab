{
  "nbformat": 4,
  "nbformat_minor": 0,
  "metadata": {
    "colab": {
      "provenance": [],
      "include_colab_link": true
    },
    "kernelspec": {
      "name": "python3",
      "display_name": "Python 3"
    }
  },
  "cells": [
    {
      "cell_type": "markdown",
      "metadata": {
        "id": "view-in-github",
        "colab_type": "text"
      },
      "source": [
        "<a href=\"https://colab.research.google.com/github/ti-molodykh/colab/blob/main/%E2%84%965_Python.ipynb\" target=\"_parent\"><img src=\"https://colab.research.google.com/assets/colab-badge.svg\" alt=\"Open In Colab\"/></a>"
      ]
    },
    {
      "cell_type": "markdown",
      "metadata": {
        "id": "OaJUAMtPh6pJ"
      },
      "source": [
        "# Ноутбук к занятию №5 – Python\n"
      ]
    },
    {
      "cell_type": "markdown",
      "metadata": {
        "id": "Ldip_N-xh_fU"
      },
      "source": [
        "## Примитивы\n",
        "### Числа\n",
        "integer — целые числа\n",
        "\n",
        "float — числа с плавающей точкой\n",
        "\n",
        "\n",
        "**Чтобы посмотреть тип данных существует встроенная функция type()**"
      ]
    },
    {
      "cell_type": "code",
      "metadata": {
        "id": "b5M6V24oiUp6",
        "colab": {
          "base_uri": "https://localhost:8080/"
        },
        "outputId": "44f73744-beb0-424e-b817-c0278fa2dfbf"
      },
      "source": [
        "# целочисленный тип данных\n",
        "1\n",
        "2\n",
        "3\n",
        "10\n",
        "100\n",
        "-100\n",
        "0"
      ],
      "execution_count": null,
      "outputs": [
        {
          "output_type": "execute_result",
          "data": {
            "text/plain": [
              "0"
            ]
          },
          "metadata": {},
          "execution_count": 1
        }
      ]
    },
    {
      "cell_type": "code",
      "metadata": {
        "id": "gafFBv1Rnnon",
        "colab": {
          "base_uri": "https://localhost:8080/"
        },
        "outputId": "6bc2441c-c92a-4620-f408-cfbecc8f7530"
      },
      "source": [
        "type(0)"
      ],
      "execution_count": null,
      "outputs": [
        {
          "output_type": "execute_result",
          "data": {
            "text/plain": [
              "int"
            ]
          },
          "metadata": {},
          "execution_count": 2
        }
      ]
    },
    {
      "cell_type": "code",
      "metadata": {
        "id": "TvbnrXjQntXM",
        "colab": {
          "base_uri": "https://localhost:8080/"
        },
        "outputId": "c87aed2b-4648-4ba1-8675-6885365ad1c1"
      },
      "source": [
        "3.14\n",
        "5.2\n",
        "1.0\n",
        "1e6 # 1000000 = 1 * 10^6 \n",
        "1e-6 # 0.000001 = 1 * 10^-6\n",
        "2e6 # 2000000\n",
        "3.954"
      ],
      "execution_count": null,
      "outputs": [
        {
          "output_type": "execute_result",
          "data": {
            "text/plain": [
              "3.954"
            ]
          },
          "metadata": {},
          "execution_count": 3
        }
      ]
    },
    {
      "cell_type": "code",
      "metadata": {
        "id": "csW_zEMbn3dg",
        "colab": {
          "base_uri": "https://localhost:8080/"
        },
        "outputId": "d217acb3-0b55-4fc1-9152-87b8ca6665c1"
      },
      "source": [
        "type(1e6)"
      ],
      "execution_count": null,
      "outputs": [
        {
          "output_type": "execute_result",
          "data": {
            "text/plain": [
              "float"
            ]
          },
          "metadata": {},
          "execution_count": 4
        }
      ]
    },
    {
      "cell_type": "code",
      "metadata": {
        "id": "Shxj_iHDn_uu",
        "colab": {
          "base_uri": "https://localhost:8080/"
        },
        "outputId": "3795105c-e5fa-4bd2-d28f-f2094cfe7e67"
      },
      "source": [
        "type(3.14)"
      ],
      "execution_count": null,
      "outputs": [
        {
          "output_type": "execute_result",
          "data": {
            "text/plain": [
              "float"
            ]
          },
          "metadata": {},
          "execution_count": 5
        }
      ]
    },
    {
      "cell_type": "markdown",
      "metadata": {
        "id": "W83iKz8mib8S"
      },
      "source": [
        "В примере ниже pi — название переменной (name), а 3.14 это её значение (value)"
      ]
    },
    {
      "cell_type": "code",
      "metadata": {
        "id": "mE-mKlSFiX7-",
        "colab": {
          "base_uri": "https://localhost:8080/"
        },
        "outputId": "bea4623c-d373-47af-e07b-e1ce2ddb775f"
      },
      "source": [
        "pi = 3.1415\n",
        "pi "
      ],
      "execution_count": null,
      "outputs": [
        {
          "output_type": "execute_result",
          "data": {
            "text/plain": [
              "3.1415"
            ]
          },
          "metadata": {},
          "execution_count": 6
        }
      ]
    },
    {
      "cell_type": "code",
      "metadata": {
        "id": "_lGB6HU6oN2f",
        "colab": {
          "base_uri": "https://localhost:8080/"
        },
        "outputId": "42dd4456-588c-42ba-d8fe-9624a8cff441"
      },
      "source": [
        "# переменная pi будет доступна также и в других клетках, как только мы выполнили ту клетку, где эта переменная объявляется\n",
        "pi"
      ],
      "execution_count": null,
      "outputs": [
        {
          "output_type": "execute_result",
          "data": {
            "text/plain": [
              "3.1415"
            ]
          },
          "metadata": {},
          "execution_count": 7
        }
      ]
    },
    {
      "cell_type": "code",
      "metadata": {
        "id": "6pUqwWKNoVKV",
        "colab": {
          "base_uri": "https://localhost:8080/",
          "height": 169
        },
        "outputId": "fee19197-dbc3-4558-d812-54a86a2c5e08"
      },
      "source": [
        "abc"
      ],
      "execution_count": null,
      "outputs": [
        {
          "output_type": "error",
          "ename": "NameError",
          "evalue": "ignored",
          "traceback": [
            "\u001b[0;31m---------------------------------------------------------------------------\u001b[0m",
            "\u001b[0;31mNameError\u001b[0m                                 Traceback (most recent call last)",
            "\u001b[0;32m<ipython-input-8-03cfd743661f>\u001b[0m in \u001b[0;36m<module>\u001b[0;34m\u001b[0m\n\u001b[0;32m----> 1\u001b[0;31m \u001b[0mabc\u001b[0m\u001b[0;34m\u001b[0m\u001b[0;34m\u001b[0m\u001b[0m\n\u001b[0m",
            "\u001b[0;31mNameError\u001b[0m: name 'abc' is not defined"
          ]
        }
      ]
    },
    {
      "cell_type": "code",
      "metadata": {
        "id": "fWPRWSAQoXZJ",
        "colab": {
          "base_uri": "https://localhost:8080/"
        },
        "outputId": "3f4d48cb-6257-46d6-a5e4-e2502facb0e0"
      },
      "source": [
        "pi + pi"
      ],
      "execution_count": null,
      "outputs": [
        {
          "output_type": "execute_result",
          "data": {
            "text/plain": [
              "6.283"
            ]
          },
          "metadata": {},
          "execution_count": 9
        }
      ]
    },
    {
      "cell_type": "markdown",
      "metadata": {
        "id": "Kpgeb0UWjBJh"
      },
      "source": [
        "Для чисел также доступны базовые арифметические операции:"
      ]
    },
    {
      "cell_type": "code",
      "metadata": {
        "id": "DuWJykSUiZ4O",
        "colab": {
          "base_uri": "https://localhost:8080/"
        },
        "outputId": "d6ee3943-e62b-43e8-ab01-a73e1861dd52"
      },
      "source": [
        "3 + 2"
      ],
      "execution_count": null,
      "outputs": [
        {
          "output_type": "execute_result",
          "data": {
            "text/plain": [
              "5"
            ]
          },
          "metadata": {},
          "execution_count": 10
        }
      ]
    },
    {
      "cell_type": "code",
      "metadata": {
        "id": "mDHUJL-9obiY",
        "colab": {
          "base_uri": "https://localhost:8080/"
        },
        "outputId": "b0218750-b660-42bd-8b15-244ab8d2f275"
      },
      "source": [
        "5 * 3"
      ],
      "execution_count": null,
      "outputs": [
        {
          "output_type": "execute_result",
          "data": {
            "text/plain": [
              "15"
            ]
          },
          "metadata": {},
          "execution_count": 11
        }
      ]
    },
    {
      "cell_type": "code",
      "metadata": {
        "id": "k7jWhfzIodFu",
        "colab": {
          "base_uri": "https://localhost:8080/"
        },
        "outputId": "2fbc94eb-2dd5-4f63-fdb7-7227135f1056"
      },
      "source": [
        "10 / 2"
      ],
      "execution_count": null,
      "outputs": [
        {
          "output_type": "execute_result",
          "data": {
            "text/plain": [
              "5.0"
            ]
          },
          "metadata": {},
          "execution_count": 12
        }
      ]
    },
    {
      "cell_type": "code",
      "metadata": {
        "id": "_OtiltaHoe-C",
        "colab": {
          "base_uri": "https://localhost:8080/"
        },
        "outputId": "0b3daecc-c181-4b15-8a26-1a9aec8b6113"
      },
      "source": [
        "10 // 2"
      ],
      "execution_count": null,
      "outputs": [
        {
          "output_type": "execute_result",
          "data": {
            "text/plain": [
              "5"
            ]
          },
          "metadata": {},
          "execution_count": 13
        }
      ]
    },
    {
      "cell_type": "code",
      "metadata": {
        "id": "Z_28nXnKogcT",
        "colab": {
          "base_uri": "https://localhost:8080/"
        },
        "outputId": "566fd9ff-bb64-431a-b215-b6a972500f7e"
      },
      "source": [
        "11 / 2"
      ],
      "execution_count": null,
      "outputs": [
        {
          "output_type": "execute_result",
          "data": {
            "text/plain": [
              "5.5"
            ]
          },
          "metadata": {},
          "execution_count": 14
        }
      ]
    },
    {
      "cell_type": "code",
      "metadata": {
        "id": "0g0Y6TDholUE",
        "colab": {
          "base_uri": "https://localhost:8080/"
        },
        "outputId": "6ae3c17b-ef07-4079-9b89-8d5aede6fdec"
      },
      "source": [
        "11 // 2"
      ],
      "execution_count": null,
      "outputs": [
        {
          "output_type": "execute_result",
          "data": {
            "text/plain": [
              "5"
            ]
          },
          "metadata": {},
          "execution_count": 15
        }
      ]
    },
    {
      "cell_type": "code",
      "metadata": {
        "id": "EfgH_w8ComvC",
        "colab": {
          "base_uri": "https://localhost:8080/"
        },
        "outputId": "642a2115-d524-477c-8e49-3a2c06342296"
      },
      "source": [
        "11 // 3"
      ],
      "execution_count": null,
      "outputs": [
        {
          "output_type": "execute_result",
          "data": {
            "text/plain": [
              "3"
            ]
          },
          "metadata": {},
          "execution_count": 16
        }
      ]
    },
    {
      "cell_type": "code",
      "metadata": {
        "id": "9FgHcte2orNW",
        "colab": {
          "base_uri": "https://localhost:8080/"
        },
        "outputId": "0aec0356-e21e-4462-f76b-92aeeb739a43"
      },
      "source": [
        "11 - 3"
      ],
      "execution_count": null,
      "outputs": [
        {
          "output_type": "execute_result",
          "data": {
            "text/plain": [
              "8"
            ]
          },
          "metadata": {},
          "execution_count": 17
        }
      ]
    },
    {
      "cell_type": "code",
      "metadata": {
        "id": "AmBBqbdcosWH",
        "colab": {
          "base_uri": "https://localhost:8080/"
        },
        "outputId": "4a88e531-c318-4d2c-f05d-48124ee270b9"
      },
      "source": [
        "11 % 3"
      ],
      "execution_count": null,
      "outputs": [
        {
          "output_type": "execute_result",
          "data": {
            "text/plain": [
              "2"
            ]
          },
          "metadata": {},
          "execution_count": 18
        }
      ]
    },
    {
      "cell_type": "code",
      "metadata": {
        "id": "eLudTZJDouIL",
        "colab": {
          "base_uri": "https://localhost:8080/"
        },
        "outputId": "e13e311c-94a7-43d3-e986-cf142bfeef37"
      },
      "source": [
        "11**2"
      ],
      "execution_count": null,
      "outputs": [
        {
          "output_type": "execute_result",
          "data": {
            "text/plain": [
              "121"
            ]
          },
          "metadata": {},
          "execution_count": 19
        }
      ]
    },
    {
      "cell_type": "code",
      "metadata": {
        "id": "nhV3uEsIovvA",
        "colab": {
          "base_uri": "https://localhost:8080/"
        },
        "outputId": "02d9d6da-f1c4-48f8-c790-975b63c62926"
      },
      "source": [
        "11**3"
      ],
      "execution_count": null,
      "outputs": [
        {
          "output_type": "execute_result",
          "data": {
            "text/plain": [
              "1331"
            ]
          },
          "metadata": {},
          "execution_count": 20
        }
      ]
    },
    {
      "cell_type": "code",
      "metadata": {
        "id": "x0sT8nGuoynQ",
        "colab": {
          "base_uri": "https://localhost:8080/"
        },
        "outputId": "13b051f8-a36c-423d-af2b-213f30b3e700"
      },
      "source": [
        "3.14**3"
      ],
      "execution_count": null,
      "outputs": [
        {
          "output_type": "execute_result",
          "data": {
            "text/plain": [
              "30.959144000000002"
            ]
          },
          "metadata": {},
          "execution_count": 21
        }
      ]
    },
    {
      "cell_type": "code",
      "metadata": {
        "id": "36gid1QSo0oM",
        "colab": {
          "base_uri": "https://localhost:8080/"
        },
        "outputId": "75ff8fca-63b7-4f9b-cacf-7ccf2ae48ca8"
      },
      "source": [
        "import math\n",
        "\n",
        "math.sqrt(4.4)"
      ],
      "execution_count": null,
      "outputs": [
        {
          "output_type": "execute_result",
          "data": {
            "text/plain": [
              "2.0976176963403033"
            ]
          },
          "metadata": {},
          "execution_count": 22
        }
      ]
    },
    {
      "cell_type": "code",
      "metadata": {
        "id": "-UmeLrN5o8Ut",
        "colab": {
          "base_uri": "https://localhost:8080/"
        },
        "outputId": "19668412-6093-4185-8d66-3f348ee52909"
      },
      "source": [
        "a = 5.3\n",
        "b = 4.4\n",
        "a+b"
      ],
      "execution_count": null,
      "outputs": [
        {
          "output_type": "execute_result",
          "data": {
            "text/plain": [
              "9.7"
            ]
          },
          "metadata": {},
          "execution_count": 23
        }
      ]
    },
    {
      "cell_type": "code",
      "metadata": {
        "id": "cZZNQ-nHo_F3",
        "colab": {
          "base_uri": "https://localhost:8080/"
        },
        "outputId": "28bf323e-566a-4471-93f2-c40139ec8350"
      },
      "source": [
        "a = 5\n",
        "b = 3.14\n",
        "a + b"
      ],
      "execution_count": null,
      "outputs": [
        {
          "output_type": "execute_result",
          "data": {
            "text/plain": [
              "8.14"
            ]
          },
          "metadata": {},
          "execution_count": 24
        }
      ]
    },
    {
      "cell_type": "code",
      "metadata": {
        "id": "ZA5XJgVSpHCl",
        "colab": {
          "base_uri": "https://localhost:8080/"
        },
        "outputId": "4a38b2d1-9d74-4409-e336-81427004f682"
      },
      "source": [
        "a - b"
      ],
      "execution_count": null,
      "outputs": [
        {
          "output_type": "execute_result",
          "data": {
            "text/plain": [
              "1.8599999999999999"
            ]
          },
          "metadata": {},
          "execution_count": 25
        }
      ]
    },
    {
      "cell_type": "code",
      "metadata": {
        "id": "snkDC90ppITr",
        "colab": {
          "base_uri": "https://localhost:8080/"
        },
        "outputId": "8e1cbc88-02a6-42d3-ea41-259bbeeda8b3"
      },
      "source": [
        "a**b"
      ],
      "execution_count": null,
      "outputs": [
        {
          "output_type": "execute_result",
          "data": {
            "text/plain": [
              "156.59064522818883"
            ]
          },
          "metadata": {},
          "execution_count": 26
        }
      ]
    },
    {
      "cell_type": "code",
      "metadata": {
        "id": "RdkdHEBapMS_",
        "colab": {
          "base_uri": "https://localhost:8080/"
        },
        "outputId": "f7b81f0c-37e3-49e3-b3a9-7187e27ea414"
      },
      "source": [
        "int(3.14)"
      ],
      "execution_count": null,
      "outputs": [
        {
          "output_type": "execute_result",
          "data": {
            "text/plain": [
              "3"
            ]
          },
          "metadata": {},
          "execution_count": 27
        }
      ]
    },
    {
      "cell_type": "code",
      "metadata": {
        "id": "jVxJ7cc-pPT8",
        "colab": {
          "base_uri": "https://localhost:8080/"
        },
        "outputId": "6ff46242-505a-4018-dbe7-120d0c2f45e8"
      },
      "source": [
        "float(5)"
      ],
      "execution_count": null,
      "outputs": [
        {
          "output_type": "execute_result",
          "data": {
            "text/plain": [
              "5.0"
            ]
          },
          "metadata": {},
          "execution_count": 28
        }
      ]
    },
    {
      "cell_type": "code",
      "metadata": {
        "id": "syZ8ssyhpV9T",
        "colab": {
          "base_uri": "https://localhost:8080/"
        },
        "outputId": "08d16f6d-eea1-45e7-eb6f-593f4475ceb3"
      },
      "source": [
        "int(3.6)"
      ],
      "execution_count": null,
      "outputs": [
        {
          "output_type": "execute_result",
          "data": {
            "text/plain": [
              "3"
            ]
          },
          "metadata": {},
          "execution_count": 29
        }
      ]
    },
    {
      "cell_type": "code",
      "metadata": {
        "id": "DmnOImSG6r7w"
      },
      "source": [
        "a = 3"
      ],
      "execution_count": null,
      "outputs": []
    },
    {
      "cell_type": "code",
      "metadata": {
        "id": "S4M5wo1z6t1x",
        "colab": {
          "base_uri": "https://localhost:8080/"
        },
        "outputId": "97d4f7ba-08fe-4572-eabf-071a04eef460"
      },
      "source": [
        "a = a + 4\n",
        "a"
      ],
      "execution_count": null,
      "outputs": [
        {
          "output_type": "execute_result",
          "data": {
            "text/plain": [
              "7"
            ]
          },
          "metadata": {},
          "execution_count": 31
        }
      ]
    },
    {
      "cell_type": "code",
      "metadata": {
        "id": "1JAClPI96yb_",
        "colab": {
          "base_uri": "https://localhost:8080/"
        },
        "outputId": "664e603a-509e-4c5b-e8b5-ed451d7be598"
      },
      "source": [
        "a += 4 # сокращение конструкции a = a + 4\n",
        "a"
      ],
      "execution_count": null,
      "outputs": [
        {
          "output_type": "execute_result",
          "data": {
            "text/plain": [
              "11"
            ]
          },
          "metadata": {},
          "execution_count": 32
        }
      ]
    },
    {
      "cell_type": "code",
      "metadata": {
        "id": "JhM8B2cX64cw"
      },
      "source": [
        "a = a - 4"
      ],
      "execution_count": null,
      "outputs": []
    },
    {
      "cell_type": "code",
      "metadata": {
        "id": "P11JrXsA66qb",
        "colab": {
          "base_uri": "https://localhost:8080/"
        },
        "outputId": "179f0a63-a195-4fb1-fa29-77728d667430"
      },
      "source": [
        "a"
      ],
      "execution_count": null,
      "outputs": [
        {
          "output_type": "execute_result",
          "data": {
            "text/plain": [
              "7"
            ]
          },
          "metadata": {},
          "execution_count": 34
        }
      ]
    },
    {
      "cell_type": "code",
      "metadata": {
        "id": "z34m-lm966iI",
        "colab": {
          "base_uri": "https://localhost:8080/"
        },
        "outputId": "9ccddf9b-2f61-4b5f-a4b6-077a41733d6a"
      },
      "source": [
        "a -= 4\n",
        "a"
      ],
      "execution_count": null,
      "outputs": [
        {
          "output_type": "execute_result",
          "data": {
            "text/plain": [
              "3"
            ]
          },
          "metadata": {},
          "execution_count": 35
        }
      ]
    },
    {
      "cell_type": "code",
      "metadata": {
        "id": "kPIuNO7q691s"
      },
      "source": [
        "# есть ещё операторы *= /= %="
      ],
      "execution_count": null,
      "outputs": []
    },
    {
      "cell_type": "markdown",
      "metadata": {
        "id": "srrF4V3WjLTM"
      },
      "source": [
        "### Строки\n",
        "Строки используются достаточно часто. \n",
        "\n",
        "Строки — последовательности символов, любых, которые вы можете набрать на клавиатуре.\n",
        "\n",
        "В Python строки обозначаются кавычками двойными или одинарными, без разницы"
      ]
    },
    {
      "cell_type": "code",
      "metadata": {
        "id": "wCCoHxSK63rA"
      },
      "source": [],
      "execution_count": null,
      "outputs": []
    },
    {
      "cell_type": "code",
      "metadata": {
        "id": "ZVcdE-hsjMY-"
      },
      "source": [
        "s1 = 'Abcdef'\n",
        "s2 = \"Abcdef\""
      ],
      "execution_count": null,
      "outputs": []
    },
    {
      "cell_type": "code",
      "metadata": {
        "id": "G5cOFW-opwuw",
        "colab": {
          "base_uri": "https://localhost:8080/",
          "height": 35
        },
        "outputId": "d2b10fa9-a887-4e28-beac-863aed324e99"
      },
      "source": [
        "s1"
      ],
      "execution_count": null,
      "outputs": [
        {
          "output_type": "execute_result",
          "data": {
            "text/plain": [
              "'Abcdef'"
            ],
            "application/vnd.google.colaboratory.intrinsic+json": {
              "type": "string"
            }
          },
          "metadata": {},
          "execution_count": 38
        }
      ]
    },
    {
      "cell_type": "code",
      "metadata": {
        "id": "XRngg9fGpx2R",
        "colab": {
          "base_uri": "https://localhost:8080/",
          "height": 35
        },
        "outputId": "0fe53c64-2aec-4457-b9f7-dc932a6f8b4f"
      },
      "source": [
        "s2"
      ],
      "execution_count": null,
      "outputs": [
        {
          "output_type": "execute_result",
          "data": {
            "text/plain": [
              "'Abcdef'"
            ],
            "application/vnd.google.colaboratory.intrinsic+json": {
              "type": "string"
            }
          },
          "metadata": {},
          "execution_count": 39
        }
      ]
    },
    {
      "cell_type": "markdown",
      "metadata": {
        "id": "_5cYeizZjr9y"
      },
      "source": [
        "А что если у меня есть кавычка в строке?"
      ]
    },
    {
      "cell_type": "code",
      "metadata": {
        "id": "n6EoOJKhp11d",
        "colab": {
          "base_uri": "https://localhost:8080/",
          "height": 35
        },
        "outputId": "ef0c39fa-fdfc-4288-b338-5be65b14548e"
      },
      "source": [
        "# можно обернуть в двойные кавычки\n",
        "s1 = \"Abcdef's\"\n",
        "s1"
      ],
      "execution_count": null,
      "outputs": [
        {
          "output_type": "execute_result",
          "data": {
            "text/plain": [
              "\"Abcdef's\""
            ],
            "application/vnd.google.colaboratory.intrinsic+json": {
              "type": "string"
            }
          },
          "metadata": {},
          "execution_count": 40
        }
      ]
    },
    {
      "cell_type": "code",
      "metadata": {
        "id": "pCvODPiBp_sz",
        "colab": {
          "base_uri": "https://localhost:8080/",
          "height": 35
        },
        "outputId": "ddc5d191-b641-4294-8fd3-66fa02e600a3"
      },
      "source": [
        "# можно экранировать \\\n",
        "s1 = 'Abcdef\\'s'\n",
        "s1"
      ],
      "execution_count": null,
      "outputs": [
        {
          "output_type": "execute_result",
          "data": {
            "text/plain": [
              "\"Abcdef's\""
            ],
            "application/vnd.google.colaboratory.intrinsic+json": {
              "type": "string"
            }
          },
          "metadata": {},
          "execution_count": 41
        }
      ]
    },
    {
      "cell_type": "code",
      "metadata": {
        "id": "64rrHkeDqIqj",
        "colab": {
          "base_uri": "https://localhost:8080/",
          "height": 35
        },
        "outputId": "637d7b52-7141-45d7-a513-bf258cdf4655"
      },
      "source": [
        "s1 = \"slash \\ \"\n",
        "s1"
      ],
      "execution_count": null,
      "outputs": [
        {
          "output_type": "execute_result",
          "data": {
            "text/plain": [
              "'slash \\\\ '"
            ],
            "application/vnd.google.colaboratory.intrinsic+json": {
              "type": "string"
            }
          },
          "metadata": {},
          "execution_count": 42
        }
      ]
    },
    {
      "cell_type": "code",
      "metadata": {
        "id": "amtCa62lqYzd",
        "colab": {
          "base_uri": "https://localhost:8080/",
          "height": 35
        },
        "outputId": "a9933105-4aec-457c-f829-5357ed908c04"
      },
      "source": [
        "s1 = \"Dmitry said: \\\" \"\n",
        "s1"
      ],
      "execution_count": null,
      "outputs": [
        {
          "output_type": "execute_result",
          "data": {
            "text/plain": [
              "'Dmitry said: \" '"
            ],
            "application/vnd.google.colaboratory.intrinsic+json": {
              "type": "string"
            }
          },
          "metadata": {},
          "execution_count": 43
        }
      ]
    },
    {
      "cell_type": "code",
      "metadata": {
        "id": "fjDxHe6Dqjjz",
        "colab": {
          "base_uri": "https://localhost:8080/",
          "height": 35
        },
        "outputId": "757322c4-d750-4f34-fa02-983ddd90f552"
      },
      "source": [
        "s = \"\"\"\n",
        "abcdef\n",
        "dlamsd\n",
        "dasd\n",
        "\"\"\"\n",
        "s"
      ],
      "execution_count": null,
      "outputs": [
        {
          "output_type": "execute_result",
          "data": {
            "text/plain": [
              "'\\nabcdef\\ndlamsd\\ndasd\\n'"
            ],
            "application/vnd.google.colaboratory.intrinsic+json": {
              "type": "string"
            }
          },
          "metadata": {},
          "execution_count": 44
        }
      ]
    },
    {
      "cell_type": "code",
      "metadata": {
        "id": "3Ft5OOD9qsKK",
        "colab": {
          "base_uri": "https://localhost:8080/",
          "height": 35
        },
        "outputId": "1d51248f-4569-4785-9d73-3c172bbb99fb"
      },
      "source": [
        "s = '''\n",
        "bla bla bla \"\"\n",
        "dsad\n",
        "'''\n",
        "s"
      ],
      "execution_count": null,
      "outputs": [
        {
          "output_type": "execute_result",
          "data": {
            "text/plain": [
              "'\\nbla bla bla \"\"\\ndsad\\n'"
            ],
            "application/vnd.google.colaboratory.intrinsic+json": {
              "type": "string"
            }
          },
          "metadata": {},
          "execution_count": 45
        }
      ]
    },
    {
      "cell_type": "code",
      "metadata": {
        "id": "sH0YcCnIq1ez",
        "colab": {
          "base_uri": "https://localhost:8080/",
          "height": 35
        },
        "outputId": "5fd75f5c-f6cc-452d-9b95-d86563feb0fe"
      },
      "source": [
        "s = \\\n",
        "\"\"\"\n",
        "dmsad\n",
        "dsadas\n",
        "dsd\n",
        "\"\"\"\n",
        "s"
      ],
      "execution_count": null,
      "outputs": [
        {
          "output_type": "execute_result",
          "data": {
            "text/plain": [
              "'\\ndmsad\\ndsadas\\ndsd\\n'"
            ],
            "application/vnd.google.colaboratory.intrinsic+json": {
              "type": "string"
            }
          },
          "metadata": {},
          "execution_count": 46
        }
      ]
    },
    {
      "cell_type": "markdown",
      "metadata": {
        "id": "HRDJ4F3sjzqd"
      },
      "source": [
        "Для строк доступны несколько встроенных методов (функций). Рассмотрим, например, upper(), lower(), replace(), format()"
      ]
    },
    {
      "cell_type": "code",
      "metadata": {
        "id": "Zz-gwrv6mYbN",
        "colab": {
          "base_uri": "https://localhost:8080/"
        },
        "outputId": "33d6fc0d-31a5-49c7-d4c8-be8eab7ef60a"
      },
      "source": [
        "type(s)"
      ],
      "execution_count": null,
      "outputs": [
        {
          "output_type": "execute_result",
          "data": {
            "text/plain": [
              "str"
            ]
          },
          "metadata": {},
          "execution_count": 47
        }
      ]
    },
    {
      "cell_type": "code",
      "metadata": {
        "id": "bXpjUCuBrICQ",
        "colab": {
          "base_uri": "https://localhost:8080/",
          "height": 35
        },
        "outputId": "5bc2968f-d362-43cb-ffd9-4881e111b457"
      },
      "source": [
        "str(3.14)"
      ],
      "execution_count": null,
      "outputs": [
        {
          "output_type": "execute_result",
          "data": {
            "text/plain": [
              "'3.14'"
            ],
            "application/vnd.google.colaboratory.intrinsic+json": {
              "type": "string"
            }
          },
          "metadata": {},
          "execution_count": 48
        }
      ]
    },
    {
      "cell_type": "code",
      "metadata": {
        "id": "beRVePwWrKR0",
        "colab": {
          "base_uri": "https://localhost:8080/",
          "height": 169
        },
        "outputId": "2a186c0e-603c-411f-d293-f435ec5b31b5"
      },
      "source": [
        "float('dasd 32.1') # будет ошибка"
      ],
      "execution_count": null,
      "outputs": [
        {
          "output_type": "error",
          "ename": "ValueError",
          "evalue": "ignored",
          "traceback": [
            "\u001b[0;31m---------------------------------------------------------------------------\u001b[0m",
            "\u001b[0;31mValueError\u001b[0m                                Traceback (most recent call last)",
            "\u001b[0;32m<ipython-input-49-c193828f21bd>\u001b[0m in \u001b[0;36m<module>\u001b[0;34m\u001b[0m\n\u001b[0;32m----> 1\u001b[0;31m \u001b[0mfloat\u001b[0m\u001b[0;34m(\u001b[0m\u001b[0;34m'dasd 32.1'\u001b[0m\u001b[0;34m)\u001b[0m \u001b[0;31m# будет ошибка\u001b[0m\u001b[0;34m\u001b[0m\u001b[0;34m\u001b[0m\u001b[0m\n\u001b[0m",
            "\u001b[0;31mValueError\u001b[0m: could not convert string to float: 'dasd 32.1'"
          ]
        }
      ]
    },
    {
      "cell_type": "code",
      "metadata": {
        "id": "TsO3r8qprND7",
        "colab": {
          "base_uri": "https://localhost:8080/"
        },
        "outputId": "c3aff4bb-1298-4a30-b37e-64107f7c9382"
      },
      "source": [
        "float('3.2')"
      ],
      "execution_count": null,
      "outputs": [
        {
          "output_type": "execute_result",
          "data": {
            "text/plain": [
              "3.2"
            ]
          },
          "metadata": {},
          "execution_count": 50
        }
      ]
    },
    {
      "cell_type": "code",
      "metadata": {
        "id": "nkt0Hxn-rPXZ",
        "colab": {
          "base_uri": "https://localhost:8080/"
        },
        "outputId": "5ba47950-9fe1-4b16-c085-b6f6a9f4aec5"
      },
      "source": [
        "int('3')"
      ],
      "execution_count": null,
      "outputs": [
        {
          "output_type": "execute_result",
          "data": {
            "text/plain": [
              "3"
            ]
          },
          "metadata": {},
          "execution_count": 51
        }
      ]
    },
    {
      "cell_type": "code",
      "metadata": {
        "id": "auxyj4VarTNI"
      },
      "source": [
        "s = 'Lorem ipsum dolor sit amet...'"
      ],
      "execution_count": null,
      "outputs": []
    },
    {
      "cell_type": "code",
      "metadata": {
        "id": "PWbKmt2RrYjX",
        "colab": {
          "base_uri": "https://localhost:8080/",
          "height": 35
        },
        "outputId": "3a735d9a-c8b1-4149-adc4-b61e537e662e"
      },
      "source": [
        "s.upper()"
      ],
      "execution_count": null,
      "outputs": [
        {
          "output_type": "execute_result",
          "data": {
            "text/plain": [
              "'LOREM IPSUM DOLOR SIT AMET...'"
            ],
            "application/vnd.google.colaboratory.intrinsic+json": {
              "type": "string"
            }
          },
          "metadata": {},
          "execution_count": 53
        }
      ]
    },
    {
      "cell_type": "code",
      "metadata": {
        "id": "tSfPOo8xrysQ",
        "colab": {
          "base_uri": "https://localhost:8080/",
          "height": 35
        },
        "outputId": "b6ef8d1b-f954-4e7a-83ad-b906ae21f4d0"
      },
      "source": [
        "s.lower()"
      ],
      "execution_count": null,
      "outputs": [
        {
          "output_type": "execute_result",
          "data": {
            "text/plain": [
              "'lorem ipsum dolor sit amet...'"
            ],
            "application/vnd.google.colaboratory.intrinsic+json": {
              "type": "string"
            }
          },
          "metadata": {},
          "execution_count": 54
        }
      ]
    },
    {
      "cell_type": "code",
      "metadata": {
        "id": "kOn-zDxHr0fV",
        "colab": {
          "base_uri": "https://localhost:8080/",
          "height": 35
        },
        "outputId": "882754fe-dd5b-4579-fc16-26c81e692cff"
      },
      "source": [
        "s.replace('ip', 'ac')"
      ],
      "execution_count": null,
      "outputs": [
        {
          "output_type": "execute_result",
          "data": {
            "text/plain": [
              "'Lorem acsum dolor sit amet...'"
            ],
            "application/vnd.google.colaboratory.intrinsic+json": {
              "type": "string"
            }
          },
          "metadata": {},
          "execution_count": 55
        }
      ]
    },
    {
      "cell_type": "code",
      "metadata": {
        "id": "N6FNniaisJ4P",
        "colab": {
          "base_uri": "https://localhost:8080/",
          "height": 35
        },
        "outputId": "1a46e54d-a180-40f2-b4d2-78b8ec409bef"
      },
      "source": [
        "s"
      ],
      "execution_count": null,
      "outputs": [
        {
          "output_type": "execute_result",
          "data": {
            "text/plain": [
              "'Lorem ipsum dolor sit amet...'"
            ],
            "application/vnd.google.colaboratory.intrinsic+json": {
              "type": "string"
            }
          },
          "metadata": {},
          "execution_count": 56
        }
      ]
    },
    {
      "cell_type": "code",
      "metadata": {
        "id": "wu5xDyTpsNQ4",
        "colab": {
          "base_uri": "https://localhost:8080/"
        },
        "outputId": "2f438e90-b7dc-4328-eab8-f6ae2cdcbb4d"
      },
      "source": [
        "help(str.replace) # справка по методу"
      ],
      "execution_count": null,
      "outputs": [
        {
          "output_type": "stream",
          "name": "stdout",
          "text": [
            "Help on method_descriptor:\n",
            "\n",
            "replace(self, old, new, count=-1, /)\n",
            "    Return a copy with all occurrences of substring old replaced by new.\n",
            "    \n",
            "      count\n",
            "        Maximum number of occurrences to replace.\n",
            "        -1 (the default value) means replace all occurrences.\n",
            "    \n",
            "    If the optional argument count is given, only the first count occurrences are\n",
            "    replaced.\n",
            "\n"
          ]
        }
      ]
    },
    {
      "cell_type": "code",
      "metadata": {
        "id": "RzITw8y_sVAU",
        "colab": {
          "base_uri": "https://localhost:8080/"
        },
        "outputId": "c729b670-1d48-4f9e-bd4f-768933d1767f"
      },
      "source": [
        "?str.replace # всплывающая справка по методу"
      ],
      "execution_count": null,
      "outputs": [
        {
          "output_type": "stream",
          "name": "stdout",
          "text": [
            "Object `str.replace # всплывающая справка по методу` not found.\n"
          ]
        }
      ]
    },
    {
      "cell_type": "code",
      "metadata": {
        "id": "hdu_AMsWsDIS",
        "colab": {
          "base_uri": "https://localhost:8080/"
        },
        "outputId": "5b9fd36a-90b3-4a1e-8179-c9de87ccec77"
      },
      "source": [
        "type(s)"
      ],
      "execution_count": null,
      "outputs": [
        {
          "output_type": "execute_result",
          "data": {
            "text/plain": [
              "str"
            ]
          },
          "metadata": {},
          "execution_count": 59
        }
      ]
    },
    {
      "cell_type": "code",
      "metadata": {
        "id": "SRJPLXd_seOw"
      },
      "source": [],
      "execution_count": null,
      "outputs": []
    },
    {
      "cell_type": "code",
      "metadata": {
        "id": "D0Y4Y9hDsnJd"
      },
      "source": [],
      "execution_count": null,
      "outputs": []
    },
    {
      "cell_type": "code",
      "metadata": {
        "id": "IGjA78FzsnPa"
      },
      "source": [
        "s = \"\"\"\n",
        "DEAR, MR. Dmitry\n",
        "PAY YOUR DEBT, ASAP!\n",
        "\"\"\"\n",
        "# для подстановки в шаблон строки существует метод format\n",
        "\n",
        "s = \"\"\"\n",
        "DEAR, MR. {}\n",
        "PAY YOUR DEBT, ASAP!\n",
        "\"\"\""
      ],
      "execution_count": null,
      "outputs": []
    },
    {
      "cell_type": "code",
      "metadata": {
        "id": "d9YbesQVs_o2",
        "colab": {
          "base_uri": "https://localhost:8080/"
        },
        "outputId": "11d0dd08-fdbe-4b1e-a270-a628ffb508dc"
      },
      "source": [
        "print(s.format(\"Anatoly\"))"
      ],
      "execution_count": null,
      "outputs": [
        {
          "output_type": "stream",
          "name": "stdout",
          "text": [
            "\n",
            "DEAR, MR. Anatoly\n",
            "PAY YOUR DEBT, ASAP!\n",
            "\n"
          ]
        }
      ]
    },
    {
      "cell_type": "code",
      "metadata": {
        "id": "rEqcvbzctJ80"
      },
      "source": [
        "s = \"\"\"\n",
        "DEAR, MR. {}\n",
        "{}\n",
        "\"\"\""
      ],
      "execution_count": null,
      "outputs": []
    },
    {
      "cell_type": "code",
      "metadata": {
        "id": "0p9xr8BftORN",
        "colab": {
          "base_uri": "https://localhost:8080/"
        },
        "outputId": "c410b4b1-9d73-4884-e8a1-7095b2f6f12f"
      },
      "source": [
        "print(s.format(\"Anatoly\", \"Abcdef\"))"
      ],
      "execution_count": null,
      "outputs": [
        {
          "output_type": "stream",
          "name": "stdout",
          "text": [
            "\n",
            "DEAR, MR. Anatoly\n",
            "Abcdef\n",
            "\n"
          ]
        }
      ]
    },
    {
      "cell_type": "code",
      "metadata": {
        "id": "aHPlRs3VtTWx"
      },
      "source": [
        "s = \"\"\"\n",
        "DEAR, MR. {name}\n",
        "{info}\n",
        "\n",
        "Bye,\n",
        "{name}\n",
        "\"\"\""
      ],
      "execution_count": null,
      "outputs": []
    },
    {
      "cell_type": "code",
      "metadata": {
        "id": "Czd7nVNjta01",
        "colab": {
          "base_uri": "https://localhost:8080/",
          "height": 312
        },
        "outputId": "f910c109-9236-49bc-f831-0f1e44d5e8b0"
      },
      "source": [
        "print(s.format(name=\"Anatoly\", info=\"abcdef\"))\n",
        "print(s.format(name=\"Anatoly\")) # передали не все аргументы, будет ошибка\n"
      ],
      "execution_count": null,
      "outputs": [
        {
          "output_type": "stream",
          "name": "stdout",
          "text": [
            "\n",
            "DEAR, MR. Anatoly\n",
            "abcdef\n",
            "\n",
            "Bye,\n",
            "Anatoly\n",
            "\n"
          ]
        },
        {
          "output_type": "error",
          "ename": "KeyError",
          "evalue": "ignored",
          "traceback": [
            "\u001b[0;31m---------------------------------------------------------------------------\u001b[0m",
            "\u001b[0;31mKeyError\u001b[0m                                  Traceback (most recent call last)",
            "\u001b[0;32m<ipython-input-65-f0d9cb89f0a0>\u001b[0m in \u001b[0;36m<module>\u001b[0;34m\u001b[0m\n\u001b[1;32m      1\u001b[0m \u001b[0mprint\u001b[0m\u001b[0;34m(\u001b[0m\u001b[0ms\u001b[0m\u001b[0;34m.\u001b[0m\u001b[0mformat\u001b[0m\u001b[0;34m(\u001b[0m\u001b[0mname\u001b[0m\u001b[0;34m=\u001b[0m\u001b[0;34m\"Anatoly\"\u001b[0m\u001b[0;34m,\u001b[0m \u001b[0minfo\u001b[0m\u001b[0;34m=\u001b[0m\u001b[0;34m\"abcdef\"\u001b[0m\u001b[0;34m)\u001b[0m\u001b[0;34m)\u001b[0m\u001b[0;34m\u001b[0m\u001b[0;34m\u001b[0m\u001b[0m\n\u001b[0;32m----> 2\u001b[0;31m \u001b[0mprint\u001b[0m\u001b[0;34m(\u001b[0m\u001b[0ms\u001b[0m\u001b[0;34m.\u001b[0m\u001b[0mformat\u001b[0m\u001b[0;34m(\u001b[0m\u001b[0mname\u001b[0m\u001b[0;34m=\u001b[0m\u001b[0;34m\"Anatoly\"\u001b[0m\u001b[0;34m)\u001b[0m\u001b[0;34m)\u001b[0m \u001b[0;31m# передали не все аргументы, будет ошибка\u001b[0m\u001b[0;34m\u001b[0m\u001b[0;34m\u001b[0m\u001b[0m\n\u001b[0m",
            "\u001b[0;31mKeyError\u001b[0m: 'info'"
          ]
        }
      ]
    },
    {
      "cell_type": "code",
      "metadata": {
        "id": "34t0_xRztuXz",
        "colab": {
          "base_uri": "https://localhost:8080/"
        },
        "outputId": "c9c4eb1b-d25e-4c9a-b83e-37c7a8152acc"
      },
      "source": [
        "print(s.format(name=\"Anatoly\", info=\"abcdef\", abc=\"amdoasmd\")) # но можно передать те, которых не существует"
      ],
      "execution_count": null,
      "outputs": [
        {
          "output_type": "stream",
          "name": "stdout",
          "text": [
            "\n",
            "DEAR, MR. Anatoly\n",
            "abcdef\n",
            "\n",
            "Bye,\n",
            "Anatoly\n",
            "\n"
          ]
        }
      ]
    },
    {
      "cell_type": "code",
      "metadata": {
        "id": "2flU0I0NtwiC"
      },
      "source": [
        "# более подробно про format https://www.geeksforgeeks.org/python-format-function/"
      ],
      "execution_count": null,
      "outputs": []
    },
    {
      "cell_type": "code",
      "metadata": {
        "id": "JmSpeAnJt8F5",
        "colab": {
          "base_uri": "https://localhost:8080/"
        },
        "outputId": "5b587bfc-9381-4375-d6e7-f2e3bc4997f5"
      },
      "source": [
        "a = 1\n",
        "b = 2\n",
        "d = 'dasddsad'\n",
        "print(f\"this is sample {d} string {a} {b} {d}\") # другой синатксис примерно для того же самого, fstring, с версии python 3.6"
      ],
      "execution_count": null,
      "outputs": [
        {
          "output_type": "stream",
          "name": "stdout",
          "text": [
            "this is sample dasddsad string 1 2 dasddsad\n"
          ]
        }
      ]
    },
    {
      "cell_type": "code",
      "metadata": {
        "id": "3KKEyI8Auo45",
        "colab": {
          "base_uri": "https://localhost:8080/",
          "height": 35
        },
        "outputId": "928b79fe-14eb-4d19-c753-963524f2bff6"
      },
      "source": [
        "# строки складывать, или, иными словами конкатенировать\n",
        "s1 = \"first dsal dadm lsa\"\n",
        "s2 = \"second dasldmsa\"\n",
        "s1 + s2"
      ],
      "execution_count": null,
      "outputs": [
        {
          "output_type": "execute_result",
          "data": {
            "text/plain": [
              "'first dsal dadm lsasecond dasldmsa'"
            ],
            "application/vnd.google.colaboratory.intrinsic+json": {
              "type": "string"
            }
          },
          "metadata": {},
          "execution_count": 69
        }
      ]
    },
    {
      "cell_type": "code",
      "metadata": {
        "id": "X6G09QC6uwAI",
        "colab": {
          "base_uri": "https://localhost:8080/",
          "height": 35
        },
        "outputId": "39346b7d-cae3-40d2-e261-8c0020d76ce2"
      },
      "source": [
        "s1 * 3 # можно умножать, считайте 3 сложения одной и той же строки"
      ],
      "execution_count": null,
      "outputs": [
        {
          "output_type": "execute_result",
          "data": {
            "text/plain": [
              "'first dsal dadm lsafirst dsal dadm lsafirst dsal dadm lsa'"
            ],
            "application/vnd.google.colaboratory.intrinsic+json": {
              "type": "string"
            }
          },
          "metadata": {},
          "execution_count": 70
        }
      ]
    },
    {
      "cell_type": "code",
      "metadata": {
        "id": "X6KED6-Wu7Uu",
        "colab": {
          "base_uri": "https://localhost:8080/"
        },
        "outputId": "eb89bb18-a8c2-4c84-dabd-5c97af52210a"
      },
      "source": [
        "s1 = \"abc, def, xyz\"\n",
        "s1.split(',')"
      ],
      "execution_count": null,
      "outputs": [
        {
          "output_type": "execute_result",
          "data": {
            "text/plain": [
              "['abc', ' def', ' xyz']"
            ]
          },
          "metadata": {},
          "execution_count": 71
        }
      ]
    },
    {
      "cell_type": "code",
      "metadata": {
        "id": "umgpwvAevDb2",
        "colab": {
          "base_uri": "https://localhost:8080/",
          "height": 35
        },
        "outputId": "1047ec1a-e2d9-4948-85ee-0057b619ca5d"
      },
      "source": [
        "l = ['abc', ' def', ' xyz']\n",
        "','.join(l)"
      ],
      "execution_count": null,
      "outputs": [
        {
          "output_type": "execute_result",
          "data": {
            "text/plain": [
              "'abc, def, xyz'"
            ],
            "application/vnd.google.colaboratory.intrinsic+json": {
              "type": "string"
            }
          },
          "metadata": {},
          "execution_count": 72
        }
      ]
    },
    {
      "cell_type": "code",
      "metadata": {
        "id": "7QfCDO10vKYP"
      },
      "source": [],
      "execution_count": null,
      "outputs": []
    },
    {
      "cell_type": "markdown",
      "metadata": {
        "id": "TrD7EtDPvLb_"
      },
      "source": [
        "Хороший материал по строкам\n",
        "https://pythonworld.ru/tipy-dannyx-v-python/stroki-funkcii-i-metody-strok.html"
      ]
    },
    {
      "cell_type": "markdown",
      "metadata": {
        "id": "A39i41qfkAE3"
      },
      "source": [
        "### Логический тип данных\n",
        "boolean (bool). Доступны всего два значения: True (истинна, 1) или False (ложь, 0).\n",
        "\n",
        "Чаще всего проявляется когда мы сравниваем что-либо."
      ]
    },
    {
      "cell_type": "code",
      "metadata": {
        "id": "Hre-zictttrd",
        "colab": {
          "base_uri": "https://localhost:8080/"
        },
        "outputId": "bdacdcd5-7258-4d0f-e681-f8a766b67e37"
      },
      "source": [
        "True"
      ],
      "execution_count": null,
      "outputs": [
        {
          "output_type": "execute_result",
          "data": {
            "text/plain": [
              "True"
            ]
          },
          "metadata": {},
          "execution_count": 73
        }
      ]
    },
    {
      "cell_type": "code",
      "metadata": {
        "id": "r1qY14u_i0r6",
        "colab": {
          "base_uri": "https://localhost:8080/"
        },
        "outputId": "a647ac69-6528-492b-9084-cdff5f68670e"
      },
      "source": [
        "False"
      ],
      "execution_count": null,
      "outputs": [
        {
          "output_type": "execute_result",
          "data": {
            "text/plain": [
              "False"
            ]
          },
          "metadata": {},
          "execution_count": 74
        }
      ]
    },
    {
      "cell_type": "code",
      "metadata": {
        "id": "xNVgjQ61vSTI",
        "colab": {
          "base_uri": "https://localhost:8080/"
        },
        "outputId": "39ff39e1-11b2-4a69-ff18-aa95f90775fb"
      },
      "source": [
        "int(True)"
      ],
      "execution_count": null,
      "outputs": [
        {
          "output_type": "execute_result",
          "data": {
            "text/plain": [
              "1"
            ]
          },
          "metadata": {},
          "execution_count": 75
        }
      ]
    },
    {
      "cell_type": "code",
      "metadata": {
        "id": "hF2_UDp6vT8T",
        "colab": {
          "base_uri": "https://localhost:8080/"
        },
        "outputId": "83737ff6-eb0a-4dbe-d850-706fe9591fae"
      },
      "source": [
        "int(False)"
      ],
      "execution_count": null,
      "outputs": [
        {
          "output_type": "execute_result",
          "data": {
            "text/plain": [
              "0"
            ]
          },
          "metadata": {},
          "execution_count": 76
        }
      ]
    },
    {
      "cell_type": "code",
      "metadata": {
        "id": "zyR3U0iIvVWs",
        "colab": {
          "base_uri": "https://localhost:8080/"
        },
        "outputId": "6655f7fe-8cba-45fb-fa22-cf47232663a1"
      },
      "source": [
        "1 == True # 1 транслируется в True"
      ],
      "execution_count": null,
      "outputs": [
        {
          "output_type": "execute_result",
          "data": {
            "text/plain": [
              "True"
            ]
          },
          "metadata": {},
          "execution_count": 77
        }
      ]
    },
    {
      "cell_type": "code",
      "metadata": {
        "id": "bJmu9JEtvXuy",
        "colab": {
          "base_uri": "https://localhost:8080/"
        },
        "outputId": "45a5073f-020c-4756-fa04-df5d70b23575"
      },
      "source": [
        "0 == False # 0 транслируется в False"
      ],
      "execution_count": null,
      "outputs": [
        {
          "output_type": "execute_result",
          "data": {
            "text/plain": [
              "True"
            ]
          },
          "metadata": {},
          "execution_count": 78
        }
      ]
    },
    {
      "cell_type": "code",
      "metadata": {
        "id": "mZWDcKHmyMBa",
        "colab": {
          "base_uri": "https://localhost:8080/"
        },
        "outputId": "579f492d-3723-40d2-abc6-a1acd961d421"
      },
      "source": [
        "1 == 1"
      ],
      "execution_count": null,
      "outputs": [
        {
          "output_type": "execute_result",
          "data": {
            "text/plain": [
              "True"
            ]
          },
          "metadata": {},
          "execution_count": 79
        }
      ]
    },
    {
      "cell_type": "code",
      "metadata": {
        "id": "OKnLrvqZyNbB",
        "colab": {
          "base_uri": "https://localhost:8080/"
        },
        "outputId": "607977bc-9392-40e6-ae35-57fd50cbe105"
      },
      "source": [
        "1 == 2"
      ],
      "execution_count": null,
      "outputs": [
        {
          "output_type": "execute_result",
          "data": {
            "text/plain": [
              "False"
            ]
          },
          "metadata": {},
          "execution_count": 80
        }
      ]
    },
    {
      "cell_type": "code",
      "metadata": {
        "id": "wa6g5aWeyOqN",
        "colab": {
          "base_uri": "https://localhost:8080/"
        },
        "outputId": "7bbaefea-4965-4ca1-9d77-9117387661e1"
      },
      "source": [
        "1 > 2"
      ],
      "execution_count": null,
      "outputs": [
        {
          "output_type": "execute_result",
          "data": {
            "text/plain": [
              "False"
            ]
          },
          "metadata": {},
          "execution_count": 81
        }
      ]
    },
    {
      "cell_type": "code",
      "metadata": {
        "id": "r-9KT2FKyQAZ",
        "colab": {
          "base_uri": "https://localhost:8080/"
        },
        "outputId": "25cea528-de3d-4159-85fe-1794a2df057a"
      },
      "source": [
        "1 < 2"
      ],
      "execution_count": null,
      "outputs": [
        {
          "output_type": "execute_result",
          "data": {
            "text/plain": [
              "True"
            ]
          },
          "metadata": {},
          "execution_count": 82
        }
      ]
    },
    {
      "cell_type": "code",
      "metadata": {
        "id": "41n9VwSCyaCX",
        "colab": {
          "base_uri": "https://localhost:8080/",
          "height": 133
        },
        "outputId": "e0af3c46-9783-4de3-b1e5-4c5f857bee59"
      },
      "source": [
        "1 = 2 # = оператор присваивания переменной, а == оператор сравнения на равенство"
      ],
      "execution_count": null,
      "outputs": [
        {
          "output_type": "error",
          "ename": "SyntaxError",
          "evalue": "ignored",
          "traceback": [
            "\u001b[0;36m  File \u001b[0;32m\"<ipython-input-83-c2ca27856cde>\"\u001b[0;36m, line \u001b[0;32m1\u001b[0m\n\u001b[0;31m    1 = 2 # = оператор присваивания переменной, а == оператор сравнения на равенство\u001b[0m\n\u001b[0m                                                                                    ^\u001b[0m\n\u001b[0;31mSyntaxError\u001b[0m\u001b[0;31m:\u001b[0m can't assign to literal\n"
          ]
        }
      ]
    },
    {
      "cell_type": "markdown",
      "metadata": {
        "id": "ZD8tMSHdkXYb"
      },
      "source": [
        "## Коллекции\n",
        "### Списки\n",
        "list — тип данных список/массив. Это специальный контейнер, чтобы хранить значения."
      ]
    },
    {
      "cell_type": "code",
      "metadata": {
        "id": "jQQuRraLkevT"
      },
      "source": [
        "l = [1, 2, 3]"
      ],
      "execution_count": null,
      "outputs": []
    },
    {
      "cell_type": "code",
      "metadata": {
        "id": "aqn5MbLGyozk"
      },
      "source": [
        "# можно создать пустой список\n",
        "l1 = [] # 1 способ\n",
        "l2 = list() # 2 способ"
      ],
      "execution_count": null,
      "outputs": []
    },
    {
      "cell_type": "markdown",
      "metadata": {
        "id": "rDzgg9URknN-"
      },
      "source": [
        "Доступ к элементам осуществляется по индексу"
      ]
    },
    {
      "cell_type": "code",
      "metadata": {
        "id": "SvneDzYskpab",
        "colab": {
          "base_uri": "https://localhost:8080/"
        },
        "outputId": "e134b529-9937-4e31-aea7-98f6d7062f4c"
      },
      "source": [
        "l[0]"
      ],
      "execution_count": null,
      "outputs": [
        {
          "output_type": "execute_result",
          "data": {
            "text/plain": [
              "1"
            ]
          },
          "metadata": {},
          "execution_count": 86
        }
      ]
    },
    {
      "cell_type": "code",
      "metadata": {
        "id": "EAnqJwgdy2HM",
        "colab": {
          "base_uri": "https://localhost:8080/"
        },
        "outputId": "0a5a96c0-659c-42c7-83f3-24c8bbda6320"
      },
      "source": [
        "l[1]"
      ],
      "execution_count": null,
      "outputs": [
        {
          "output_type": "execute_result",
          "data": {
            "text/plain": [
              "2"
            ]
          },
          "metadata": {},
          "execution_count": 87
        }
      ]
    },
    {
      "cell_type": "code",
      "metadata": {
        "id": "pv4TaUKFy3cV",
        "colab": {
          "base_uri": "https://localhost:8080/"
        },
        "outputId": "d3cc6920-f265-4317-a071-aee144dd15b8"
      },
      "source": [
        "l[2]"
      ],
      "execution_count": null,
      "outputs": [
        {
          "output_type": "execute_result",
          "data": {
            "text/plain": [
              "3"
            ]
          },
          "metadata": {},
          "execution_count": 88
        }
      ]
    },
    {
      "cell_type": "code",
      "metadata": {
        "id": "gkHoihqTy5j1",
        "colab": {
          "base_uri": "https://localhost:8080/",
          "height": 169
        },
        "outputId": "ef1ea022-402d-463c-a7c1-3dfcda45e2ff"
      },
      "source": [
        "l[3]"
      ],
      "execution_count": null,
      "outputs": [
        {
          "output_type": "error",
          "ename": "IndexError",
          "evalue": "ignored",
          "traceback": [
            "\u001b[0;31m---------------------------------------------------------------------------\u001b[0m",
            "\u001b[0;31mIndexError\u001b[0m                                Traceback (most recent call last)",
            "\u001b[0;32m<ipython-input-89-bb49eeb9f0db>\u001b[0m in \u001b[0;36m<module>\u001b[0;34m\u001b[0m\n\u001b[0;32m----> 1\u001b[0;31m \u001b[0ml\u001b[0m\u001b[0;34m[\u001b[0m\u001b[0;36m3\u001b[0m\u001b[0;34m]\u001b[0m\u001b[0;34m\u001b[0m\u001b[0;34m\u001b[0m\u001b[0m\n\u001b[0m",
            "\u001b[0;31mIndexError\u001b[0m: list index out of range"
          ]
        }
      ]
    },
    {
      "cell_type": "markdown",
      "metadata": {
        "id": "8nRUqQMKkr73"
      },
      "source": [
        "Можно использовать встроенную функцию len() для того, чтобы узнать кол-во элементов в списке."
      ]
    },
    {
      "cell_type": "code",
      "metadata": {
        "id": "_JeUSJudkw-F",
        "colab": {
          "base_uri": "https://localhost:8080/"
        },
        "outputId": "09a4d9f0-79df-47aa-cdd7-6138db10ebb7"
      },
      "source": [
        "len(l)"
      ],
      "execution_count": null,
      "outputs": [
        {
          "output_type": "execute_result",
          "data": {
            "text/plain": [
              "3"
            ]
          },
          "metadata": {},
          "execution_count": 90
        }
      ]
    },
    {
      "cell_type": "markdown",
      "metadata": {
        "id": "SL9ddQ33kxwG"
      },
      "source": [
        "А добавлять значения можно с помощью метода append()"
      ]
    },
    {
      "cell_type": "code",
      "metadata": {
        "id": "-eJDJg-IlRCc"
      },
      "source": [
        "l.append(4) # изменяет существующий объект l, который ссылается на наш список"
      ],
      "execution_count": null,
      "outputs": []
    },
    {
      "cell_type": "code",
      "metadata": {
        "id": "5TI9FzcOzD8R",
        "colab": {
          "base_uri": "https://localhost:8080/"
        },
        "outputId": "dbb8c00d-24aa-4030-dc99-29368fdfe384"
      },
      "source": [
        "l"
      ],
      "execution_count": null,
      "outputs": [
        {
          "output_type": "execute_result",
          "data": {
            "text/plain": [
              "[1, 2, 3, 4]"
            ]
          },
          "metadata": {},
          "execution_count": 92
        }
      ]
    },
    {
      "cell_type": "markdown",
      "metadata": {
        "id": "FVfwLFTrk2Xb"
      },
      "source": [
        "Проверить есть ли значение в списке можно с помощью конструкции in"
      ]
    },
    {
      "cell_type": "code",
      "metadata": {
        "id": "ZdbwK1UfkaSN",
        "colab": {
          "base_uri": "https://localhost:8080/"
        },
        "outputId": "7ebbbdbd-e513-42b8-d9d0-efb89efa107d"
      },
      "source": [
        "3 in l"
      ],
      "execution_count": null,
      "outputs": [
        {
          "output_type": "execute_result",
          "data": {
            "text/plain": [
              "True"
            ]
          },
          "metadata": {},
          "execution_count": 93
        }
      ]
    },
    {
      "cell_type": "code",
      "metadata": {
        "id": "Aj_lVTRXzTPp",
        "colab": {
          "base_uri": "https://localhost:8080/"
        },
        "outputId": "c6753a1a-476e-4905-8521-cfcd4a39ef77"
      },
      "source": [
        "1 in l"
      ],
      "execution_count": null,
      "outputs": [
        {
          "output_type": "execute_result",
          "data": {
            "text/plain": [
              "True"
            ]
          },
          "metadata": {},
          "execution_count": 94
        }
      ]
    },
    {
      "cell_type": "code",
      "metadata": {
        "id": "mGlTT4ZpzUgW",
        "colab": {
          "base_uri": "https://localhost:8080/"
        },
        "outputId": "7dde6641-758c-477e-fe6d-ea848fc1c085"
      },
      "source": [
        "5 in l"
      ],
      "execution_count": null,
      "outputs": [
        {
          "output_type": "execute_result",
          "data": {
            "text/plain": [
              "False"
            ]
          },
          "metadata": {},
          "execution_count": 95
        }
      ]
    },
    {
      "cell_type": "code",
      "metadata": {
        "id": "KxxzP6IXzbtb",
        "colab": {
          "base_uri": "https://localhost:8080/"
        },
        "outputId": "ac75e0d7-c3c6-4f62-adb0-0108628e9df6"
      },
      "source": [
        "True in l # True сравнивается с каждым элементом внутри списка\n",
        "# т.е на каждой итерации проверяется\n",
        "# True == 1 -> True, поэтому и результирующий ответ получается True\n",
        "# True == 2\n",
        "# True == 3\n",
        "# и т.д."
      ],
      "execution_count": null,
      "outputs": [
        {
          "output_type": "execute_result",
          "data": {
            "text/plain": [
              "True"
            ]
          },
          "metadata": {},
          "execution_count": 96
        }
      ]
    },
    {
      "cell_type": "markdown",
      "metadata": {
        "id": "PTPT3gNnzYfT"
      },
      "source": [
        "Есть индексация с обратного конца списка"
      ]
    },
    {
      "cell_type": "code",
      "metadata": {
        "id": "LCFw_tWHz7Sw",
        "colab": {
          "base_uri": "https://localhost:8080/"
        },
        "outputId": "866b5bea-4c1c-44ba-bdd3-5fecd102689d"
      },
      "source": [
        "l[-1] # покажет последний элемент из списка"
      ],
      "execution_count": null,
      "outputs": [
        {
          "output_type": "execute_result",
          "data": {
            "text/plain": [
              "4"
            ]
          },
          "metadata": {},
          "execution_count": 97
        }
      ]
    },
    {
      "cell_type": "code",
      "metadata": {
        "id": "t3RteDdr0Aiy",
        "colab": {
          "base_uri": "https://localhost:8080/"
        },
        "outputId": "2e7ecd4e-e6e5-4090-e7ec-1be547eb926e"
      },
      "source": [
        "l[-2] # покажет предпоследний элемент из списка"
      ],
      "execution_count": null,
      "outputs": [
        {
          "output_type": "execute_result",
          "data": {
            "text/plain": [
              "3"
            ]
          },
          "metadata": {},
          "execution_count": 98
        }
      ]
    },
    {
      "cell_type": "markdown",
      "metadata": {
        "id": "NQipk0E30Jy6"
      },
      "source": [
        "### Срезы"
      ]
    },
    {
      "cell_type": "code",
      "metadata": {
        "id": "1yyQWsXF0IK4",
        "colab": {
          "base_uri": "https://localhost:8080/"
        },
        "outputId": "98da5a59-c026-4b1f-91ff-1b2e8cbe387e"
      },
      "source": [
        "l"
      ],
      "execution_count": null,
      "outputs": [
        {
          "output_type": "execute_result",
          "data": {
            "text/plain": [
              "[1, 2, 3, 4]"
            ]
          },
          "metadata": {},
          "execution_count": 99
        }
      ]
    },
    {
      "cell_type": "code",
      "metadata": {
        "id": "4M_du0tc0Pf5",
        "colab": {
          "base_uri": "https://localhost:8080/"
        },
        "outputId": "f5134fcd-9561-49fe-94da-3a7f306da62e"
      },
      "source": [
        "l[:2] # список из первых двух элементов"
      ],
      "execution_count": null,
      "outputs": [
        {
          "output_type": "execute_result",
          "data": {
            "text/plain": [
              "[1, 2]"
            ]
          },
          "metadata": {},
          "execution_count": 100
        }
      ]
    },
    {
      "cell_type": "code",
      "metadata": {
        "id": "pjcielGd0XL2",
        "colab": {
          "base_uri": "https://localhost:8080/"
        },
        "outputId": "59c29b59-6eec-4058-9b05-acc372502aeb"
      },
      "source": [
        "l[2:] # список из всех элементов начиная с элемента с индексом 2"
      ],
      "execution_count": null,
      "outputs": [
        {
          "output_type": "execute_result",
          "data": {
            "text/plain": [
              "[3, 4]"
            ]
          },
          "metadata": {},
          "execution_count": 101
        }
      ]
    },
    {
      "cell_type": "code",
      "metadata": {
        "id": "Jyi2adew0iC6",
        "colab": {
          "base_uri": "https://localhost:8080/"
        },
        "outputId": "3cce384c-16f0-4968-c83f-a9c1d39309a9"
      },
      "source": [
        "l[2:4]"
      ],
      "execution_count": null,
      "outputs": [
        {
          "output_type": "execute_result",
          "data": {
            "text/plain": [
              "[3, 4]"
            ]
          },
          "metadata": {},
          "execution_count": 102
        }
      ]
    },
    {
      "cell_type": "code",
      "metadata": {
        "id": "elKV0NxB0pUn",
        "colab": {
          "base_uri": "https://localhost:8080/"
        },
        "outputId": "8d9d8515-de16-42df-8542-47127f16e3c4"
      },
      "source": [
        "# можно указать шаг с которым будет происходить срез\n",
        "l[1:4:2] # шаг 2, шагаем через одного"
      ],
      "execution_count": null,
      "outputs": [
        {
          "output_type": "execute_result",
          "data": {
            "text/plain": [
              "[2, 4]"
            ]
          },
          "metadata": {},
          "execution_count": 103
        }
      ]
    },
    {
      "cell_type": "code",
      "metadata": {
        "id": "eNGSAK6Q01sR",
        "colab": {
          "base_uri": "https://localhost:8080/"
        },
        "outputId": "6e064d8e-0ef4-4861-bf18-9099166fb4e3"
      },
      "source": [
        "l[::-1] # список в обратном порядке"
      ],
      "execution_count": null,
      "outputs": [
        {
          "output_type": "execute_result",
          "data": {
            "text/plain": [
              "[4, 3, 2, 1]"
            ]
          },
          "metadata": {},
          "execution_count": 104
        }
      ]
    },
    {
      "cell_type": "code",
      "metadata": {
        "id": "XBXv1Ipb0-Uf"
      },
      "source": [
        "l.reverse() # изменяет существующий список, тоже выводит в обратном порядке"
      ],
      "execution_count": null,
      "outputs": []
    },
    {
      "cell_type": "code",
      "metadata": {
        "id": "chNpVN3y1D9y",
        "colab": {
          "base_uri": "https://localhost:8080/"
        },
        "outputId": "ad6257cc-6f58-4727-b101-fad61e819f23"
      },
      "source": [
        "l"
      ],
      "execution_count": null,
      "outputs": [
        {
          "output_type": "execute_result",
          "data": {
            "text/plain": [
              "[4, 3, 2, 1]"
            ]
          },
          "metadata": {},
          "execution_count": 106
        }
      ]
    },
    {
      "cell_type": "code",
      "metadata": {
        "id": "ncn-Wii_1XSB",
        "colab": {
          "base_uri": "https://localhost:8080/"
        },
        "outputId": "555d9c11-5845-464d-b0a8-bb82e3f9edc7"
      },
      "source": [
        "l.count(4) # посчитать кол-во четверок"
      ],
      "execution_count": null,
      "outputs": [
        {
          "output_type": "execute_result",
          "data": {
            "text/plain": [
              "1"
            ]
          },
          "metadata": {},
          "execution_count": 107
        }
      ]
    },
    {
      "cell_type": "code",
      "metadata": {
        "id": "JqmfIuD71bmo"
      },
      "source": [],
      "execution_count": null,
      "outputs": []
    },
    {
      "cell_type": "markdown",
      "metadata": {
        "id": "zu6FCKKN1fZD"
      },
      "source": [
        "Материал по спискам https://pythonworld.ru/tipy-dannyx-v-python/spiski-list-funkcii-i-metody-spiskov.html"
      ]
    },
    {
      "cell_type": "markdown",
      "metadata": {
        "id": "9hUCawsMk7Sp"
      },
      "source": [
        "### Словари\n",
        "dict — оптимизирует доступ к элементам. Вместо целочисленных индексов у нас теперь есть пары ключ-значение. Каждый ключ должен иметь значение, и всегда можно посмотреть какое значение лежит по тому или иному ключу."
      ]
    },
    {
      "cell_type": "code",
      "metadata": {
        "id": "hgnpV7QYk8GV"
      },
      "source": [
        "# как создать пустой словарь\n",
        "d = {} # 1 способ\n",
        "d = dict() # способ"
      ],
      "execution_count": null,
      "outputs": []
    },
    {
      "cell_type": "code",
      "metadata": {
        "id": "fuIwp6bdlfWp"
      },
      "source": [
        "# кладём значение по ключу one со значением 1\n",
        "d['one'] = 1"
      ],
      "execution_count": null,
      "outputs": []
    },
    {
      "cell_type": "code",
      "metadata": {
        "id": "_0G6Z0NVli1b",
        "colab": {
          "base_uri": "https://localhost:8080/"
        },
        "outputId": "96c26ff8-89b0-4cfc-a0fc-2150963ad6a6"
      },
      "source": [
        "d"
      ],
      "execution_count": null,
      "outputs": [
        {
          "output_type": "execute_result",
          "data": {
            "text/plain": [
              "{'one': 1}"
            ]
          },
          "metadata": {},
          "execution_count": 110
        }
      ]
    },
    {
      "cell_type": "code",
      "metadata": {
        "id": "nv_hYf6N1x64",
        "colab": {
          "base_uri": "https://localhost:8080/"
        },
        "outputId": "d17768ce-77ac-4aff-c3aa-75eb3c3997e4"
      },
      "source": [
        "'one' in d # есть ли ключ 'one' в нашем словаре"
      ],
      "execution_count": null,
      "outputs": [
        {
          "output_type": "execute_result",
          "data": {
            "text/plain": [
              "True"
            ]
          },
          "metadata": {},
          "execution_count": 111
        }
      ]
    },
    {
      "cell_type": "code",
      "metadata": {
        "id": "V5Ekkd7U12p3",
        "colab": {
          "base_uri": "https://localhost:8080/"
        },
        "outputId": "4b7a5738-4fc3-475b-9eaa-cce74dbdb3fd"
      },
      "source": [
        "'two' in d"
      ],
      "execution_count": null,
      "outputs": [
        {
          "output_type": "execute_result",
          "data": {
            "text/plain": [
              "False"
            ]
          },
          "metadata": {},
          "execution_count": 112
        }
      ]
    },
    {
      "cell_type": "markdown",
      "metadata": {
        "id": "2TRprk9WlLk8"
      },
      "source": [
        "Чтобы посмотреть имеющиеся в словаре ключи, надо вызвать метод .keys(), а чтобы посмотреть значения существует метод .values()"
      ]
    },
    {
      "cell_type": "code",
      "metadata": {
        "id": "adPPzYOElSbh",
        "colab": {
          "base_uri": "https://localhost:8080/"
        },
        "outputId": "a37bab14-2fe1-41be-915c-ae6802c54902"
      },
      "source": [
        "d.keys()"
      ],
      "execution_count": null,
      "outputs": [
        {
          "output_type": "execute_result",
          "data": {
            "text/plain": [
              "dict_keys(['one'])"
            ]
          },
          "metadata": {},
          "execution_count": 113
        }
      ]
    },
    {
      "cell_type": "code",
      "metadata": {
        "id": "cSFYAaEF18KV",
        "colab": {
          "base_uri": "https://localhost:8080/"
        },
        "outputId": "67a36b63-585f-49b4-aa4e-e476d5779560"
      },
      "source": [
        "d.values()"
      ],
      "execution_count": null,
      "outputs": [
        {
          "output_type": "execute_result",
          "data": {
            "text/plain": [
              "dict_values([1])"
            ]
          },
          "metadata": {},
          "execution_count": 114
        }
      ]
    },
    {
      "cell_type": "code",
      "metadata": {
        "id": "dS1jbFWr2CMC",
        "colab": {
          "base_uri": "https://localhost:8080/"
        },
        "outputId": "931f6bfe-31bb-498b-cbf4-f643bd9083ee"
      },
      "source": [
        "d.items()"
      ],
      "execution_count": null,
      "outputs": [
        {
          "output_type": "execute_result",
          "data": {
            "text/plain": [
              "dict_items([('one', 1)])"
            ]
          },
          "metadata": {},
          "execution_count": 115
        }
      ]
    },
    {
      "cell_type": "markdown",
      "metadata": {
        "id": "wdcTPqkA2Fwl"
      },
      "source": [
        "### Кортежи\n",
        "Те же списки, но неизменяемые, то есть в них, например, нельзя добавлять новые элементы"
      ]
    },
    {
      "cell_type": "code",
      "metadata": {
        "id": "73E7m3iD2NME"
      },
      "source": [
        "# пустой tuple\n",
        "t = ()\n",
        "t = tuple()"
      ],
      "execution_count": null,
      "outputs": []
    },
    {
      "cell_type": "code",
      "metadata": {
        "id": "pI2aclhC2RVY"
      },
      "source": [
        "x = (1,2,3)"
      ],
      "execution_count": null,
      "outputs": []
    },
    {
      "cell_type": "code",
      "metadata": {
        "id": "8L_2CEH92Us_",
        "colab": {
          "base_uri": "https://localhost:8080/"
        },
        "outputId": "f7ed4b34-95e3-4726-c9ca-723132344103"
      },
      "source": [
        "x"
      ],
      "execution_count": null,
      "outputs": [
        {
          "output_type": "execute_result",
          "data": {
            "text/plain": [
              "(1, 2, 3)"
            ]
          },
          "metadata": {},
          "execution_count": 118
        }
      ]
    },
    {
      "cell_type": "code",
      "metadata": {
        "id": "7QD_yAcM2WAW",
        "colab": {
          "base_uri": "https://localhost:8080/"
        },
        "outputId": "90393b3e-e8bd-4575-8a2a-ef3ce30f34e1"
      },
      "source": [
        "x.count(1)"
      ],
      "execution_count": null,
      "outputs": [
        {
          "output_type": "execute_result",
          "data": {
            "text/plain": [
              "1"
            ]
          },
          "metadata": {},
          "execution_count": 119
        }
      ]
    },
    {
      "cell_type": "code",
      "metadata": {
        "id": "HNPtcRrA2YOq",
        "colab": {
          "base_uri": "https://localhost:8080/",
          "height": 169
        },
        "outputId": "8625373e-1ef6-4dab-9823-706e89d790f2"
      },
      "source": [
        "x.append(4)"
      ],
      "execution_count": null,
      "outputs": [
        {
          "output_type": "error",
          "ename": "AttributeError",
          "evalue": "ignored",
          "traceback": [
            "\u001b[0;31m---------------------------------------------------------------------------\u001b[0m",
            "\u001b[0;31mAttributeError\u001b[0m                            Traceback (most recent call last)",
            "\u001b[0;32m<ipython-input-120-61ee22000a19>\u001b[0m in \u001b[0;36m<module>\u001b[0;34m\u001b[0m\n\u001b[0;32m----> 1\u001b[0;31m \u001b[0mx\u001b[0m\u001b[0;34m.\u001b[0m\u001b[0mappend\u001b[0m\u001b[0;34m(\u001b[0m\u001b[0;36m4\u001b[0m\u001b[0;34m)\u001b[0m\u001b[0;34m\u001b[0m\u001b[0;34m\u001b[0m\u001b[0m\n\u001b[0m",
            "\u001b[0;31mAttributeError\u001b[0m: 'tuple' object has no attribute 'append'"
          ]
        }
      ]
    },
    {
      "cell_type": "code",
      "metadata": {
        "id": "ca4mDuZo2aQD"
      },
      "source": [
        "x[0] = 1"
      ],
      "execution_count": null,
      "outputs": []
    },
    {
      "cell_type": "code",
      "metadata": {
        "id": "X41YfGE32oB-"
      },
      "source": [
        "d[x] = 'abc'"
      ],
      "execution_count": null,
      "outputs": []
    },
    {
      "cell_type": "code",
      "metadata": {
        "id": "00Cm21tq2q-V",
        "colab": {
          "base_uri": "https://localhost:8080/"
        },
        "outputId": "040e7a6e-657e-4b34-aec8-3d5f8a924f40"
      },
      "source": [
        "d"
      ],
      "execution_count": null,
      "outputs": [
        {
          "output_type": "execute_result",
          "data": {
            "text/plain": [
              "{'one': 1, (1, 2, 3): 'abc'}"
            ]
          },
          "metadata": {},
          "execution_count": 122
        }
      ]
    },
    {
      "cell_type": "code",
      "metadata": {
        "id": "bf83rNXV2y3G"
      },
      "source": [
        "d[4.1] = 'fasd'\n",
        "d[5] = 321"
      ],
      "execution_count": null,
      "outputs": []
    },
    {
      "cell_type": "code",
      "metadata": {
        "id": "aQubeMbO21-K",
        "colab": {
          "base_uri": "https://localhost:8080/"
        },
        "outputId": "9c2f6ded-a85b-4156-de12-4e08942efdbe"
      },
      "source": [
        "d"
      ],
      "execution_count": null,
      "outputs": [
        {
          "output_type": "execute_result",
          "data": {
            "text/plain": [
              "{'one': 1, (1, 2, 3): 'abc', 4.1: 'fasd', 5: 321}"
            ]
          },
          "metadata": {},
          "execution_count": 124
        }
      ]
    },
    {
      "cell_type": "code",
      "metadata": {
        "id": "nKzcUjfG24OI",
        "colab": {
          "base_uri": "https://localhost:8080/"
        },
        "outputId": "b588888f-caff-4ccf-9a25-5f3720637062"
      },
      "source": [
        "d['abc'] = 'changed' # изменяем значение по ключу 'abc\n",
        "d"
      ],
      "execution_count": null,
      "outputs": [
        {
          "output_type": "execute_result",
          "data": {
            "text/plain": [
              "{'one': 1, (1, 2, 3): 'abc', 4.1: 'fasd', 5: 321, 'abc': 'changed'}"
            ]
          },
          "metadata": {},
          "execution_count": 125
        }
      ]
    },
    {
      "cell_type": "code",
      "metadata": {
        "id": "4oqCyKyT3HcF",
        "colab": {
          "base_uri": "https://localhost:8080/"
        },
        "outputId": "09772dfe-9f67-4297-e24a-46bcb5015ef1"
      },
      "source": [
        "new_d = {\n",
        "    'name': 'Dmitry',\n",
        "    'Age': 23\n",
        "}\n",
        "\n",
        "new_d"
      ],
      "execution_count": null,
      "outputs": [
        {
          "output_type": "execute_result",
          "data": {
            "text/plain": [
              "{'name': 'Dmitry', 'Age': 23}"
            ]
          },
          "metadata": {},
          "execution_count": 126
        }
      ]
    },
    {
      "cell_type": "code",
      "metadata": {
        "id": "l8E3B_KC3M-9"
      },
      "source": [
        "new_d = {\n",
        "    \"Dmitry\": {\n",
        "        'Age': 23\n",
        "    },\n",
        "    \"Vasily\": {\n",
        "       'Age': 25\n",
        "    }\n",
        "}"
      ],
      "execution_count": null,
      "outputs": []
    },
    {
      "cell_type": "code",
      "metadata": {
        "id": "AHUHOU_23Y0h",
        "colab": {
          "base_uri": "https://localhost:8080/"
        },
        "outputId": "a2890490-deb2-4133-c8da-a4f39d96ed84"
      },
      "source": [
        "new_d"
      ],
      "execution_count": null,
      "outputs": [
        {
          "output_type": "execute_result",
          "data": {
            "text/plain": [
              "{'Dmitry': {'Age': 23}, 'Vasily': {'Age': 25}}"
            ]
          },
          "metadata": {},
          "execution_count": 128
        }
      ]
    },
    {
      "cell_type": "code",
      "metadata": {
        "id": "tJZIm64Y3auW",
        "colab": {
          "base_uri": "https://localhost:8080/"
        },
        "outputId": "e89fa022-dac3-4da0-dd8f-98443478a077"
      },
      "source": [
        "new_d['Dmitry']"
      ],
      "execution_count": null,
      "outputs": [
        {
          "output_type": "execute_result",
          "data": {
            "text/plain": [
              "{'Age': 23}"
            ]
          },
          "metadata": {},
          "execution_count": 129
        }
      ]
    },
    {
      "cell_type": "code",
      "metadata": {
        "id": "vAXwfDBA3djw",
        "colab": {
          "base_uri": "https://localhost:8080/"
        },
        "outputId": "1f55b01a-5435-41a3-8d2b-c7b772b0ccbc"
      },
      "source": [
        "new_d['Dmitry']['Age']"
      ],
      "execution_count": null,
      "outputs": [
        {
          "output_type": "execute_result",
          "data": {
            "text/plain": [
              "23"
            ]
          },
          "metadata": {},
          "execution_count": 130
        }
      ]
    },
    {
      "cell_type": "markdown",
      "metadata": {
        "id": "IGdIXSv1lTv8"
      },
      "source": [
        "## Управляющие конструкции\n",
        "### If\n",
        "If нужен, чтобы проверять истинность какого-либо логического выражения, и в зависимости от результата управлять поведением программы.\n",
        "\n",
        "Если условие истинно, то выполнится блок ниже условия if, отделенный двумя пробелами (или табуляцией), а если условие ложно, то выполнение перейдет к блоку else, который является необязательным."
      ]
    },
    {
      "cell_type": "code",
      "metadata": {
        "id": "ixRSN9oG46GR"
      },
      "source": [
        "a = 0\n",
        "b = 2"
      ],
      "execution_count": null,
      "outputs": []
    },
    {
      "cell_type": "code",
      "metadata": {
        "id": "PNlJg8LZlvzr",
        "colab": {
          "base_uri": "https://localhost:8080/"
        },
        "outputId": "fb6b0797-47ec-473f-ca3b-50c615bcd011"
      },
      "source": [
        "if a > b:\n",
        "  print(\"True\")\n",
        "  # ещё какая-то логика\n",
        "else:\n",
        "  print(\"False\")\n",
        "  # здесь какя-то другая логика"
      ],
      "execution_count": null,
      "outputs": [
        {
          "output_type": "stream",
          "name": "stdout",
          "text": [
            "False\n"
          ]
        }
      ]
    },
    {
      "cell_type": "code",
      "metadata": {
        "id": "UNGT3AK45DQX",
        "colab": {
          "base_uri": "https://localhost:8080/"
        },
        "outputId": "3ed9d307-adf9-44c4-8009-a8578335370d"
      },
      "source": [
        "if b > a:\n",
        "  print(\"True\")\n",
        "#else:\n",
        "#  pass"
      ],
      "execution_count": null,
      "outputs": [
        {
          "output_type": "stream",
          "name": "stdout",
          "text": [
            "True\n"
          ]
        }
      ]
    },
    {
      "cell_type": "markdown",
      "metadata": {
        "id": "RkRJWYxNlx_X"
      },
      "source": [
        "Можно также добавить дополнительный блок elif, для проверки ещё одного условия, чтобы выполнение не сразу переходило к блоку else"
      ]
    },
    {
      "cell_type": "code",
      "metadata": {
        "id": "-N-xfLmfl4K1",
        "colab": {
          "base_uri": "https://localhost:8080/"
        },
        "outputId": "91bc446e-e836-49d7-dd8c-59d69c07d07d"
      },
      "source": [
        "if a > b:\n",
        "  print(\"True 1\")\n",
        "  if a > b -1:\n",
        "    print(\"True 2\")\n",
        "else:\n",
        "  print(\"False 1\")\n",
        "  if a > b - 2:\n",
        "    print(\"False 2\")"
      ],
      "execution_count": null,
      "outputs": [
        {
          "output_type": "stream",
          "name": "stdout",
          "text": [
            "False 1\n"
          ]
        }
      ]
    },
    {
      "cell_type": "code",
      "metadata": {
        "id": "NiN5N9CBnrDg",
        "colab": {
          "base_uri": "https://localhost:8080/"
        },
        "outputId": "4417ca23-3cd2-4775-9bfb-63c185086846"
      },
      "source": [
        "# сейчас напишем примерно то же самое, но немного по другому\n",
        "if a > b:\n",
        "  print(\"True 1\")\n",
        "  if a > b - 1:\n",
        "    print(\"True 2\")\n",
        "elif a > b - 2:\n",
        "  print(\"False 2\")\n",
        "else:\n",
        "  print(\"abc\")"
      ],
      "execution_count": null,
      "outputs": [
        {
          "output_type": "stream",
          "name": "stdout",
          "text": [
            "abc\n"
          ]
        }
      ]
    },
    {
      "cell_type": "code",
      "metadata": {
        "id": "6GWQIEeQ5wyJ"
      },
      "source": [
        "if (a > b) and (2 > 1):\n",
        "  print(\"True\")"
      ],
      "execution_count": null,
      "outputs": []
    },
    {
      "cell_type": "code",
      "metadata": {
        "id": "qtTY_siX55Nr",
        "colab": {
          "base_uri": "https://localhost:8080/"
        },
        "outputId": "8ae3a428-daa1-4387-f89c-a9144ef1061a"
      },
      "source": [
        "if (a > b) or (2 > 1):\n",
        "  print(\"True\")"
      ],
      "execution_count": null,
      "outputs": [
        {
          "output_type": "stream",
          "name": "stdout",
          "text": [
            "True\n"
          ]
        }
      ]
    },
    {
      "cell_type": "code",
      "metadata": {
        "id": "gLSmzndC6Z6-"
      },
      "source": [
        "if not ((a > b) or (2 > 1)): # not отрицание\n",
        "  print(\"True\")"
      ],
      "execution_count": null,
      "outputs": []
    },
    {
      "cell_type": "code",
      "metadata": {
        "id": "Ij98OB1G6gbT",
        "colab": {
          "base_uri": "https://localhost:8080/"
        },
        "outputId": "72be01ac-e05c-43cd-fda1-f4247ac9d473"
      },
      "source": [
        "if 1 != 2:\n",
        "  print(\"True\")"
      ],
      "execution_count": null,
      "outputs": [
        {
          "output_type": "stream",
          "name": "stdout",
          "text": [
            "True\n"
          ]
        }
      ]
    },
    {
      "cell_type": "code",
      "metadata": {
        "id": "ALh2ZL056kdB"
      },
      "source": [],
      "execution_count": null,
      "outputs": []
    },
    {
      "cell_type": "code",
      "metadata": {
        "id": "PruU4dPv6DMr",
        "colab": {
          "base_uri": "https://localhost:8080/"
        },
        "outputId": "0297911d-837f-4e6e-b426-8ecce6946d65"
      },
      "source": [
        "if 2 > 1:\n",
        "  print(\"True\")"
      ],
      "execution_count": null,
      "outputs": [
        {
          "output_type": "stream",
          "name": "stdout",
          "text": [
            "True\n"
          ]
        }
      ]
    },
    {
      "cell_type": "markdown",
      "metadata": {
        "id": "Xry4gZwYl5co"
      },
      "source": [
        "## Циклы\n",
        "В Python есть два вида циклов: for и while.\n",
        "\n",
        "цикл for обычно используется, когда у вас есть участок кода, который необходимо выполнить заданное число раз (n раз).\n",
        "\n",
        "а цикл while также выполняет какой-то участок кода, но до тех пор, пока истинно (True) заданное условие."
      ]
    },
    {
      "cell_type": "code",
      "metadata": {
        "id": "E15ECUFVmSEh",
        "colab": {
          "base_uri": "https://localhost:8080/"
        },
        "outputId": "3796ec73-7ae8-448b-bfb3-3b4c2cab9e76"
      },
      "source": [
        "# цикл for\n",
        "l = [1,2,3,4,5,6,7,8,9,10]\n",
        "# посчитаем сумму в списке\n",
        "result = 0\n",
        "for elem in l: # на каждом шаге в переменную elem складывает очередной элемент списка\n",
        "  print(\"Работаю со значением {}\".format(elem))\n",
        "  result += elem\n",
        "  \n",
        "print(result)"
      ],
      "execution_count": null,
      "outputs": [
        {
          "output_type": "stream",
          "name": "stdout",
          "text": [
            "Работаю со значением 1\n",
            "Работаю со значением 2\n",
            "Работаю со значением 3\n",
            "Работаю со значением 4\n",
            "Работаю со значением 5\n",
            "Работаю со значением 6\n",
            "Работаю со значением 7\n",
            "Работаю со значением 8\n",
            "Работаю со значением 9\n",
            "Работаю со значением 10\n",
            "55\n"
          ]
        }
      ]
    },
    {
      "cell_type": "code",
      "metadata": {
        "id": "b1zXe8HI8YHi",
        "colab": {
          "base_uri": "https://localhost:8080/"
        },
        "outputId": "e7d8a732-6f7d-415f-b67c-6cbc28db6286"
      },
      "source": [
        "range(10)"
      ],
      "execution_count": null,
      "outputs": [
        {
          "output_type": "execute_result",
          "data": {
            "text/plain": [
              "range(0, 10)"
            ]
          },
          "metadata": {},
          "execution_count": 142
        }
      ]
    },
    {
      "cell_type": "code",
      "metadata": {
        "id": "czdBmOko8a27",
        "colab": {
          "base_uri": "https://localhost:8080/"
        },
        "outputId": "bace6170-8bbb-413b-c1b2-1805988224c1"
      },
      "source": [
        "list(range(10))"
      ],
      "execution_count": null,
      "outputs": [
        {
          "output_type": "execute_result",
          "data": {
            "text/plain": [
              "[0, 1, 2, 3, 4, 5, 6, 7, 8, 9]"
            ]
          },
          "metadata": {},
          "execution_count": 143
        }
      ]
    },
    {
      "cell_type": "code",
      "metadata": {
        "id": "0f4HCPGV8fsI",
        "colab": {
          "base_uri": "https://localhost:8080/"
        },
        "outputId": "1ff18fb2-732c-4e75-d3ae-d04e15acb463"
      },
      "source": [
        "list(range(2,10))"
      ],
      "execution_count": null,
      "outputs": [
        {
          "output_type": "execute_result",
          "data": {
            "text/plain": [
              "[2, 3, 4, 5, 6, 7, 8, 9]"
            ]
          },
          "metadata": {},
          "execution_count": 144
        }
      ]
    },
    {
      "cell_type": "code",
      "metadata": {
        "id": "Ffbwga7S8h9S",
        "colab": {
          "base_uri": "https://localhost:8080/"
        },
        "outputId": "c9068a6c-fab0-4659-f0b9-670c951739fa"
      },
      "source": [
        "list(range(2,10,2))"
      ],
      "execution_count": null,
      "outputs": [
        {
          "output_type": "execute_result",
          "data": {
            "text/plain": [
              "[2, 4, 6, 8]"
            ]
          },
          "metadata": {},
          "execution_count": 145
        }
      ]
    },
    {
      "cell_type": "code",
      "metadata": {
        "id": "O6lltDgX7598",
        "colab": {
          "base_uri": "https://localhost:8080/"
        },
        "outputId": "f0b1bc8c-0f27-4031-8fce-5dd767f3365e"
      },
      "source": [
        "# цикл for\n",
        "l = [1,2,3,4,5,6,7,8,9,10]\n",
        "# посчитаем сумму в списке\n",
        "result = 0\n",
        "for idx in range(len(l)): # на каждом шаге в переменную elem складывает очередной элемент списка\n",
        "  print(\"Работаю со значением по индексу: {}. Значение: {}\".format(idx, l[idx]))\n",
        "  result += l[idx]\n",
        "  print(\"Промежуточная сумма {}\".format(result))\n",
        "  \n",
        "print(result)"
      ],
      "execution_count": null,
      "outputs": [
        {
          "output_type": "stream",
          "name": "stdout",
          "text": [
            "Работаю со значением по индексу: 0. Значение: 1\n",
            "Промежуточная сумма 1\n",
            "Работаю со значением по индексу: 1. Значение: 2\n",
            "Промежуточная сумма 3\n",
            "Работаю со значением по индексу: 2. Значение: 3\n",
            "Промежуточная сумма 6\n",
            "Работаю со значением по индексу: 3. Значение: 4\n",
            "Промежуточная сумма 10\n",
            "Работаю со значением по индексу: 4. Значение: 5\n",
            "Промежуточная сумма 15\n",
            "Работаю со значением по индексу: 5. Значение: 6\n",
            "Промежуточная сумма 21\n",
            "Работаю со значением по индексу: 6. Значение: 7\n",
            "Промежуточная сумма 28\n",
            "Работаю со значением по индексу: 7. Значение: 8\n",
            "Промежуточная сумма 36\n",
            "Работаю со значением по индексу: 8. Значение: 9\n",
            "Промежуточная сумма 45\n",
            "Работаю со значением по индексу: 9. Значение: 10\n",
            "Промежуточная сумма 55\n",
            "55\n"
          ]
        }
      ]
    },
    {
      "cell_type": "code",
      "metadata": {
        "id": "UDtFLAGx9oyC",
        "colab": {
          "base_uri": "https://localhost:8080/"
        },
        "outputId": "50d562db-7ced-46fd-e94e-65b9c058e9be"
      },
      "source": [
        "# цикл while\n",
        "l = [1,2,3,4,5,6,7,8,9,10]\n",
        "# тоже посчитаем сумму\n",
        "idx = 0 # индекс текущего элемента\n",
        "result = 0 # сюда суммируем очередной элемент массива\n",
        "while idx < len(l):\n",
        "  print(\"Работаю со значением по индексу: {}. Значение: {}\".format(idx, l[idx]))\n",
        "  result += l[idx]\n",
        "  print(\"Промежуточная сумма {}\".format(result))\n",
        "  idx += 1\n",
        "\n",
        "print(result)"
      ],
      "execution_count": null,
      "outputs": [
        {
          "output_type": "stream",
          "name": "stdout",
          "text": [
            "Работаю со значением по индексу: 0. Значение: 1\n",
            "Промежуточная сумма 1\n",
            "Работаю со значением по индексу: 1. Значение: 2\n",
            "Промежуточная сумма 3\n",
            "Работаю со значением по индексу: 2. Значение: 3\n",
            "Промежуточная сумма 6\n",
            "Работаю со значением по индексу: 3. Значение: 4\n",
            "Промежуточная сумма 10\n",
            "Работаю со значением по индексу: 4. Значение: 5\n",
            "Промежуточная сумма 15\n",
            "Работаю со значением по индексу: 5. Значение: 6\n",
            "Промежуточная сумма 21\n",
            "Работаю со значением по индексу: 6. Значение: 7\n",
            "Промежуточная сумма 28\n",
            "Работаю со значением по индексу: 7. Значение: 8\n",
            "Промежуточная сумма 36\n",
            "Работаю со значением по индексу: 8. Значение: 9\n",
            "Промежуточная сумма 45\n",
            "Работаю со значением по индексу: 9. Значение: 10\n",
            "Промежуточная сумма 55\n",
            "55\n"
          ]
        }
      ]
    },
    {
      "cell_type": "markdown",
      "metadata": {
        "id": "Ha7onZo-mVcm"
      },
      "source": [
        "## Функции\n",
        "Функции — это блоки кода, которые будут использоваться в дальнейшем. Иными словами, функции нужны для переиспользования одного и того же кода.\n",
        "\n",
        "Мы используем ключевое слово def (define) для определения новой функции. После слова def следует имя функции, а затем в скобках аргументы этой функции (параметры функции)."
      ]
    },
    {
      "cell_type": "code",
      "metadata": {
        "id": "1sewm8KUmwGE"
      },
      "source": [
        "def name_of_function(a,b,c):\n",
        "  print(\"Вызывали функцию name_of_function\")\n"
      ],
      "execution_count": null,
      "outputs": []
    },
    {
      "cell_type": "code",
      "metadata": {
        "id": "JxVMCzDW-so1",
        "colab": {
          "base_uri": "https://localhost:8080/"
        },
        "outputId": "957e13b6-a343-41d5-f393-96c9ac6dafe3"
      },
      "source": [
        "name_of_function(1,2,3)"
      ],
      "execution_count": null,
      "outputs": [
        {
          "output_type": "stream",
          "name": "stdout",
          "text": [
            "Вызывали функцию name_of_function\n"
          ]
        }
      ]
    },
    {
      "cell_type": "code",
      "metadata": {
        "id": "cEEfHcOK-z6V"
      },
      "source": [
        "def is_even(number):\n",
        "  if number % 2 == 0:\n",
        "    print(\"Число чётное\")\n",
        "  else:\n",
        "    print(\"Число нечётное\")"
      ],
      "execution_count": null,
      "outputs": []
    },
    {
      "cell_type": "code",
      "metadata": {
        "id": "HbVfaBU8_AnZ",
        "colab": {
          "base_uri": "https://localhost:8080/"
        },
        "outputId": "e91430a8-24b2-4393-ad1a-94bb7a9ed0e9"
      },
      "source": [
        "x = is_even(2) # присвоим переменной x результат, который возвращает функция is_even"
      ],
      "execution_count": null,
      "outputs": [
        {
          "output_type": "stream",
          "name": "stdout",
          "text": [
            "Число чётное\n"
          ]
        }
      ]
    },
    {
      "cell_type": "code",
      "metadata": {
        "id": "slbz_Ic5_QNH",
        "colab": {
          "base_uri": "https://localhost:8080/"
        },
        "outputId": "9e969327-aca5-43fa-d8d5-a07b0c8f9908"
      },
      "source": [
        "type(x)"
      ],
      "execution_count": null,
      "outputs": [
        {
          "output_type": "execute_result",
          "data": {
            "text/plain": [
              "NoneType"
            ]
          },
          "metadata": {},
          "execution_count": 152
        }
      ]
    },
    {
      "cell_type": "code",
      "metadata": {
        "id": "MsasCx_w_VAj",
        "colab": {
          "base_uri": "https://localhost:8080/"
        },
        "outputId": "efb2d625-9610-4f57-9d8e-7c93eac62779"
      },
      "source": [
        "if x is None: # специальный синтаксис сравнения со специальным значением \"ничего\"\n",
        "  print(\"True\")"
      ],
      "execution_count": null,
      "outputs": [
        {
          "output_type": "stream",
          "name": "stdout",
          "text": [
            "True\n"
          ]
        }
      ]
    },
    {
      "cell_type": "markdown",
      "metadata": {
        "id": "CQd1E8fS_gac"
      },
      "source": [
        "про None https://pythonworld.ru/tipy-dannyx-v-python/none.html"
      ]
    },
    {
      "cell_type": "code",
      "metadata": {
        "id": "q1_8_RQo_iZk"
      },
      "source": [
        "def is_even(number):\n",
        "  if number % 2 == 0:\n",
        "    return True\n",
        "  else:\n",
        "    return False"
      ],
      "execution_count": null,
      "outputs": []
    },
    {
      "cell_type": "code",
      "metadata": {
        "id": "8JLjxc1H_paI",
        "colab": {
          "base_uri": "https://localhost:8080/"
        },
        "outputId": "1efedd24-7540-4e02-d9fe-c2880447a851"
      },
      "source": [
        "x = is_even(6)\n",
        "x"
      ],
      "execution_count": null,
      "outputs": [
        {
          "output_type": "execute_result",
          "data": {
            "text/plain": [
              "True"
            ]
          },
          "metadata": {},
          "execution_count": 155
        }
      ]
    },
    {
      "cell_type": "markdown",
      "metadata": {
        "id": "0qUfUo9Cmwmo"
      },
      "source": [
        "Мы можем использовать значения по умолчанию для функций"
      ]
    },
    {
      "cell_type": "code",
      "metadata": {
        "id": "nqn4AfM5m1P7"
      },
      "source": [
        "def is_divisable(number, divisor=2):\n",
        "  if number % divisor == 0:\n",
        "    return True # делится\n",
        "  else:\n",
        "    return False # не делится\n",
        "\n"
      ],
      "execution_count": null,
      "outputs": []
    },
    {
      "cell_type": "code",
      "metadata": {
        "id": "4kOKuCU3tgkF",
        "colab": {
          "base_uri": "https://localhost:8080/"
        },
        "outputId": "a7938835-6646-4fb9-fb84-ac3b752c87be"
      },
      "source": [
        "is_divisable(10, 3)"
      ],
      "execution_count": null,
      "outputs": [
        {
          "output_type": "execute_result",
          "data": {
            "text/plain": [
              "False"
            ]
          },
          "metadata": {},
          "execution_count": 157
        }
      ]
    },
    {
      "cell_type": "code",
      "metadata": {
        "id": "c9jeGVp8AFry"
      },
      "source": [],
      "execution_count": null,
      "outputs": []
    }
  ]
}