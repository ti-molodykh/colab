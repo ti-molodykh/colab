{
  "nbformat": 4,
  "nbformat_minor": 0,
  "metadata": {
    "colab": {
      "provenance": [],
      "include_colab_link": true
    },
    "kernelspec": {
      "name": "python3",
      "display_name": "Python 3"
    },
    "language_info": {
      "name": "python"
    }
  },
  "cells": [
    {
      "cell_type": "markdown",
      "metadata": {
        "id": "view-in-github",
        "colab_type": "text"
      },
      "source": [
        "<a href=\"https://colab.research.google.com/github/ti-molodykh/colab/blob/main/%D0%9C%D0%BE%D0%BB%D0%BE%D0%B4%D1%8B%D1%85_%D0%B1%D0%BB%D0%BE%D0%BA%D0%BD%D0%BE%D1%82%D0%B0_%22%D0%91%D0%94%D0%97_7_AB_ipynb%22.ipynb\" target=\"_parent\"><img src=\"https://colab.research.google.com/assets/colab-badge.svg\" alt=\"Open In Colab\"/></a>"
      ]
    },
    {
      "cell_type": "markdown",
      "source": [
        "# Большое ДЗ #7 АБ тесты\n"
      ],
      "metadata": {
        "id": "4rYjSwQWw9LK"
      }
    },
    {
      "cell_type": "code",
      "source": [
        "import matplotlib.pyplot as plt # библиотека для рисования картинок\n",
        "import seaborn as sns # библиотека для рисования более красивых картинок\n",
        "\n",
        "import numpy as np # библиотека для простых математических подсчётов. В основном, np.mean - поиск среднего\n",
        "import random as rnd # библиотека для генерации случаных чисел\n",
        "\n",
        "from scipy import stats # библиотека, в которой хранятся статистические критериии. К примеру, stats.ttest_ind\n",
        "from tqdm import tqdm # фишка, которая позволяет лучше контролировать время выполнения программы"
      ],
      "metadata": {
        "id": "i30QmvzuJHZh"
      },
      "execution_count": null,
      "outputs": []
    },
    {
      "cell_type": "code",
      "source": [
        "# внимание! небольшой апдейт\n",
        "rnd.seed(0) # работает только на библиотеке rnd\n",
        "# для полного воспроизведения результатов необходимо писать сразу две строки в начале ячейки\n",
        "rnd.seed(0)\n",
        "np.random.seed(0) # np.random.seed() распространяется и на библиотеку np и на функцию stats"
      ],
      "metadata": {
        "id": "KvLbVN3hJgVD"
      },
      "execution_count": null,
      "outputs": []
    },
    {
      "cell_type": "markdown",
      "source": [
        "Задчи основаны на коде из занятия №4 АБ тестам"
      ],
      "metadata": {
        "id": "Tqi3O51Wsudf"
      }
    },
    {
      "cell_type": "code",
      "source": [
        "rnd.seed(0) # строчка нужна чтобы случайные числа были одинаковыми от запуска к запуску\n",
        "np.random.seed(0) # вторая строка нужная чтобы случайные числа были одинаковыми от запуска к запуску\n",
        "\n",
        "true_effect = 0.06 # настоящий эффект увеличения среднего чека, который приносит перестановка пицц. Относительный. Альтерантивная гипотеза mean1 = mean0*(1 + MDE)\n",
        "# для однохвостового экспемриента на увечичение true_effect >= 0\n",
        "\n",
        "\n",
        "# средние чеки клиентов на исторических данных компании\n",
        "L0 = np.array(list(stats.norm(60, 20).rvs(size=600)) + [150]*200 + list(stats.norm(120, 30).rvs(size=600))) # исторические данные. Не важно какие - форма лишь демонстрирует, что распределение не нормальное \n",
        "\n",
        "# моделируем, что средний чек увеличится на true_effect %. Сможем ли мы обнаружить это увеличение а АБ тесте?\n",
        "L1 = L0 * (1 + true_effect)\n",
        "\n",
        "print('Средний чек обычного расположения пицц Н0:', np.mean(L0))\n",
        "print('Средний чек, предпологаемо увеличится H1:', np.mean(L1))\n",
        "print(f'Разница {int((np.mean(L1)/np.mean(L0) - 1)*100)}%')\n",
        "\n",
        "plt.xlabel('Средний чек')\n",
        "sns.histplot(L0, color='green', label='H0')\n",
        "sns.histplot(L1, color='red', label='H1')\n",
        "plt.legend();"
      ],
      "metadata": {
        "colab": {
          "base_uri": "https://localhost:8080/",
          "height": 331
        },
        "id": "9PNEQoupL-3x",
        "outputId": "4fd13866-0c00-41e4-f309-b4aafc8db4f0"
      },
      "execution_count": null,
      "outputs": [
        {
          "output_type": "stream",
          "name": "stdout",
          "text": [
            "Средний чек обычного расположения пицц Н0: 98.24890598504463\n",
            "Средний чек, предпологаемо увеличится H1: 104.14384034414732\n",
            "Разница 6%\n"
          ]
        },
        {
          "output_type": "display_data",
          "data": {
            "text/plain": [
              "<Figure size 432x288 with 1 Axes>"
            ],
            "image/png": "[encoded data removed]"
          },
          "metadata": {
            "needs_background": "light"
          }
        }
      ]
    },
    {
      "cell_type": "markdown",
      "source": [
        "Напомним, сейчас стадия планирования эксперимента. Мы не знаем, какой эффект будет, лишь предполагаем значение true_effect(MDE). Это значение всегда можно поменять в симуляции"
      ],
      "metadata": {
        "id": "tYyZLO9r4KNX"
      }
    },
    {
      "cell_type": "code",
      "source": [
        "def one_ab_test(na, nb, La, Lb): # функция симурирует 1 АБ тест\n",
        "  sub_a = [rnd.choice(La) for _ in range(na)] # из генеральной совокупности La выбираем случайные na элементов\n",
        "  sub_b = [rnd.choice(Lb) for _ in range(nb)] # из генеральной совокупности Lb выбираем случайные na элементов\n",
        "  return stats.ttest_ind(sub_a, sub_b).pvalue # проводим Т-тест, узнаём p_value"
      ],
      "metadata": {
        "id": "N-ynIxuA4chi"
      },
      "execution_count": null,
      "outputs": []
    },
    {
      "cell_type": "code",
      "source": [
        "# к примеру, проведём 1 АБ тест на наших данных и получим p_value\n",
        "rnd.seed(0)\n",
        "np.random.seed(0)\n",
        "na = 100\n",
        "nb = 100\n",
        "pvalue = one_ab_test(na, nb, L0, L1) # L0 и L1 - разные выборки. На самом деле, результат есть. Результат размером true_effect. Но не факт, что мы его увидим в эксперименте\n",
        "print('В результате получили pvalue', pvalue)"
      ],
      "metadata": {
        "colab": {
          "base_uri": "https://localhost:8080/"
        },
        "id": "s_sM_yW-5wBZ",
        "outputId": "c4b01f5d-b962-4e07-da9d-129ad6074439"
      },
      "execution_count": null,
      "outputs": [
        {
          "output_type": "stream",
          "name": "stdout",
          "text": [
            "В результате получили pvalue 0.6728320317759122\n"
          ]
        }
      ]
    },
    {
      "cell_type": "markdown",
      "source": [
        "<h1>Задание №0</h1>\n",
        "<br>Для true_effect = 0.06, мы получили p_value.\n",
        "<br>Установите alpha в классическое, принятое в индустрии, значение\n",
        "<br>Являются ли различие, полученное в тесте на выборках na=100/nb=100 статистически значимыми? Вставьте необходимый код из занятия 4 и запустите.\n",
        "<br>Нужно ли отклонять нулевую гипотезу в этом случае?\n",
        "<br>Найдите любое na, чтобы при true_effect = 0.06 различия получились бы статистически значимыми?\n",
        "<br>Используйте rnd.seed(0)"
      ],
      "metadata": {
        "id": "1pURhbUevBVA"
      }
    },
    {
      "cell_type": "code",
      "source": [
        "alpha = 0.05 \n",
        "true_effect = 0.06\n",
        "rnd.seed(0)\n",
        "np.random.seed(0)\n",
        "na = 100\n",
        "nb = 100\n",
        "print (f'na={na}. nb={nb}')\n",
        "pvalue = one_ab_test(na, nb, L0, L1) # L0 и L1 - разные выборки. На самом деле, результат есть. Результат размером true_effect. Но не факт, что мы его увидим в эксперименте\n",
        "print('В результате получили pvalue', pvalue)\n",
        "\n",
        "if pvalue < alpha:\n",
        "  print('В эксперименте мы обнаружили значимое различие. H0 отвергаем. Объём выборки достаточен.')\n",
        "else:\n",
        "  print('В эксперименте мы не обнаружили значимых различий. H0 верна. Объём выборки маловат')\n",
        "\n",
        "rnd.seed(0)\n",
        "np.random.seed(0)\n",
        "na = 250\n",
        "nb = 100\n",
        "print (f'na={na}. nb={nb}')\n",
        "pvalue = one_ab_test(na, nb, L0, L1)\n",
        "print('В результате получили pvalue', pvalue)\n",
        "if pvalue < alpha:\n",
        "  print('В эксперименте мы обнаружили значимое различие. H0 отвергаем. Объём выборки достаточен')\n",
        "else:\n",
        "  print('В эксперименте мы не обнаружили значимых различий. H0 верна. Объём выборки маловат')"
      ],
      "metadata": {
        "colab": {
          "base_uri": "https://localhost:8080/"
        },
        "id": "-OIcMYCbQdBk",
        "outputId": "8143d724-0d6b-4b78-d8b8-ffede9671bce"
      },
      "execution_count": null,
      "outputs": [
        {
          "output_type": "stream",
          "name": "stdout",
          "text": [
            "na=100. nb=100\n",
            "В результате получили pvalue 0.6728320317759122\n",
            "В эксперименте мы не обнаружили значимых различий. H0 верна. Объём выборки маловат\n",
            "na=250. nb=100\n",
            "В результате получили pvalue 0.01649708237105738\n",
            "В эксперименте мы обнаружили значимое различие. H0 отвергаем. Объём выборки достаточен\n"
          ]
        }
      ]
    },
    {
      "cell_type": "markdown",
      "source": [
        "<h1>Задание №1</h1>\n",
        "<br>Для true_effect = 0.01,\n",
        "<br>найдите любые такие na и nb, чтобы результат эксперимента был значим\n",
        "<br>Но при (na - 40) и (nb - 40) результат эксперимента уже не значим\n",
        "\n",
        "Пример:\n",
        "<br>one_ab_test(200, 320, L0, L1) - результат значимый\n",
        "<br>one_ab_test(160, 280, L0, L1) - результат не значимый\n",
        "<br>Используйте rnd.seed(0)"
      ],
      "metadata": {
        "id": "Yd8byFte6Yj7"
      }
    },
    {
      "cell_type": "code",
      "source": [
        "alpha = 0.05 \n",
        "true_effect = 0.01\n",
        "L0 = np.array(list(stats.norm(60, 20).rvs(size=600)) + [150]*200 + list(stats.norm(120, 30).rvs(size=600))) \n",
        "L1 = L0 * (1 + true_effect)\n",
        "\n",
        "rnd.seed(0)\n",
        "np.random.seed(0)\n",
        "na = 850\n",
        "nb = 50\n",
        "\n",
        "pvalue = one_ab_test(na, nb, L0, L1) \n",
        "print('В результате получили pvalue', pvalue)\n",
        "\n",
        "if pvalue < alpha:\n",
        "  print('Результат эксперемента значимый. Объём выборки достаточен,', f'na={na}, nb={nb}')\n",
        "else:\n",
        "  print('Результат эксперемента не значимый. Объём выборки маловат')"
      ],
      "metadata": {
        "colab": {
          "base_uri": "https://localhost:8080/"
        },
        "id": "bUCKnHLhxVch",
        "outputId": "d391f87b-1597-4d4a-e408-316e6281bf8e"
      },
      "execution_count": null,
      "outputs": [
        {
          "output_type": "stream",
          "name": "stdout",
          "text": [
            "В результате получили pvalue 0.027267139567200137\n",
            "Результат эксперемента значимый. Объём выборки достаточен, na=850, nb=50\n"
          ]
        }
      ]
    },
    {
      "cell_type": "code",
      "source": [
        "# при (na - 40) и (nb - 40)\n",
        "alpha = 0.05 \n",
        "true_effect = 0.01\n",
        "L0 = np.array(list(stats.norm(60, 20).rvs(size=600)) + [150]*200 + list(stats.norm(120, 30).rvs(size=600))) \n",
        "L1 = L0 * (1 + true_effect)\n",
        "\n",
        "rnd.seed(0)\n",
        "np.random.seed(0)\n",
        "na = 810\n",
        "nb = 10\n",
        "\n",
        "pvalue = one_ab_test(na, nb, L0, L1) \n",
        "print('В результате получили pvalue', pvalue)\n",
        "\n",
        "if pvalue < alpha:\n",
        "  print('Результат эксперемента значимый. Объём выборки достаточен,', f'na={na}, nb={nb}')\n",
        "else:\n",
        "  print('Результат эксперемента не значимый. Объём выборки маловат')"
      ],
      "metadata": {
        "colab": {
          "base_uri": "https://localhost:8080/"
        },
        "id": "XhzJV_v7w6Sr",
        "outputId": "6ef36d53-9596-41be-dd97-2b18c9288098"
      },
      "execution_count": null,
      "outputs": [
        {
          "output_type": "stream",
          "name": "stdout",
          "text": [
            "В результате получили pvalue 0.3745256300457378\n",
            "Результат эксперемента не значимый. Объём выборки маловат\n"
          ]
        }
      ]
    },
    {
      "cell_type": "markdown",
      "source": [
        "<h1>Задание №2</h1>\n",
        "<br>Для true_effect = 0.10,\n",
        "<br>найдите любые такие na и nb, чтобы результат эксперимента был значим\n",
        "<br>Но при (na - 40) и (nb - 40) результат эксперимента уже не значим\n",
        "<br>Используйте rnd.seed(0)"
      ],
      "metadata": {
        "id": "vkul3NcI7xEc"
      }
    },
    {
      "cell_type": "code",
      "source": [
        "alpha = 0.05 \n",
        "true_effect = 0.10\n",
        "L0 = np.array(list(stats.norm(60, 20).rvs(size=600)) + [150]*200 + list(stats.norm(120, 30).rvs(size=600))) \n",
        "L1 = L0 * (1 + true_effect)\n",
        "\n",
        "rnd.seed(0)\n",
        "np.random.seed(0)\n",
        "na = 170\n",
        "nb = 150\n",
        "pvalue = one_ab_test(na, nb, L0, L1) \n",
        "print('В результате получили pvalue', pvalue)\n",
        "\n",
        "if pvalue < alpha:\n",
        "  print('Результат эксперемента значимый. Объём выборки достаточен,', f'na={na}, nb={nb}')\n",
        "else:\n",
        "  print('Результат эксперемента не значимый. Объём выборки маловат')"
      ],
      "metadata": {
        "colab": {
          "base_uri": "https://localhost:8080/"
        },
        "id": "QDG9KEjq276X",
        "outputId": "c39b0ae0-9b28-4d73-b359-aae2ea7aa354"
      },
      "execution_count": null,
      "outputs": [
        {
          "output_type": "stream",
          "name": "stdout",
          "text": [
            "В результате получили pvalue 0.04262612060149725\n",
            "Результат эксперемента значимый. Объём выборки достаточен, na=170, nb=150\n"
          ]
        }
      ]
    },
    {
      "cell_type": "code",
      "source": [
        "# при (na - 40) и (nb - 40)\n",
        "alpha = 0.05 \n",
        "true_effect = 0.10\n",
        "L0 = np.array(list(stats.norm(60, 20).rvs(size=600)) + [150]*200 + list(stats.norm(120, 30).rvs(size=600))) \n",
        "L1 = L0 * (1 + true_effect)\n",
        "\n",
        "rnd.seed(0)\n",
        "np.random.seed(0)\n",
        "na = 130\n",
        "nb = 110\n",
        "pvalue = one_ab_test(na, nb, L0, L1) \n",
        "print('В результате получили pvalue', pvalue)\n",
        "\n",
        "if pvalue < alpha:\n",
        "  print('Результат эксперемента значимый. Объём выборки достаточен,', f'na={na}, nb={nb}')\n",
        "else:\n",
        "  print('Результат эксперемента не значимый. Объём выборки маловат')"
      ],
      "metadata": {
        "colab": {
          "base_uri": "https://localhost:8080/"
        },
        "id": "qMMGbIHIxaPw",
        "outputId": "923f17c2-ed5f-4772-9ee5-056d3155c29d"
      },
      "execution_count": null,
      "outputs": [
        {
          "output_type": "stream",
          "name": "stdout",
          "text": [
            "В результате получили pvalue 0.945993017252674\n",
            "Результат эксперемента не значимый. Объём выборки маловат\n"
          ]
        }
      ]
    },
    {
      "cell_type": "markdown",
      "source": [
        "<h1>Задание №3</h1>\n",
        "<br>Для true_effect = 0.30,\n",
        "<br>найдите любые такие na и nb, чтобы результат эксперимента был значим\n",
        "<br>Но при (na - 40) и (nb - 40) результат эксперимента уже не значим\n",
        "<br>Используйте rnd.seed(0)"
      ],
      "metadata": {
        "id": "8uy1HFjO8Crk"
      }
    },
    {
      "cell_type": "code",
      "source": [
        "alpha = 0.05\n",
        "true_effect = 0.30\n",
        "L0 = np.array(list(stats.norm(60, 20).rvs(size=600)) + [150]*200 + list(stats.norm(120, 30).rvs(size=600))) \n",
        "L1 = L0 * (1 + true_effect)\n",
        "\n",
        "rnd.seed(0)\n",
        "np.random.seed(0)\n",
        "na = 50\n",
        "nb = 80\n",
        "pvalue = one_ab_test(na, nb, L0, L1) # \n",
        "print('В результате получили pvalue', pvalue)\n",
        "\n",
        "if pvalue < alpha:\n",
        "  print('Результат эксперемента значимый. Объём выборки достаточен,', f'na={na}, nb={nb}')\n",
        "else:\n",
        "  print('Результат эксперемента не значимый. Объём выборки маловат')"
      ],
      "metadata": {
        "colab": {
          "base_uri": "https://localhost:8080/"
        },
        "id": "swQhxGVH3nwX",
        "outputId": "09966c74-e3ae-4ca7-d5b6-feef1744f411"
      },
      "execution_count": null,
      "outputs": [
        {
          "output_type": "stream",
          "name": "stdout",
          "text": [
            "В результате получили pvalue 0.03444443063361092\n",
            "Результат эксперемента значимый. Объём выборки достаточен, na=50, nb=80\n"
          ]
        }
      ]
    },
    {
      "cell_type": "code",
      "source": [
        "# при (na - 40) и (nb - 40)\n",
        "alpha = 0.05\n",
        "true_effect = 0.30\n",
        "L0 = np.array(list(stats.norm(60, 20).rvs(size=600)) + [150]*200 + list(stats.norm(120, 30).rvs(size=600))) \n",
        "L1 = L0 * (1 + true_effect)\n",
        "\n",
        "rnd.seed(0)\n",
        "np.random.seed(0)\n",
        "na = 10\n",
        "nb = 40\n",
        "pvalue = one_ab_test(na, nb, L0, L1) # \n",
        "print('В результате получили pvalue', pvalue)\n",
        "\n",
        "if pvalue < alpha:\n",
        "  print('Результат эксперемента значимый. Объём выборки достаточен,', f'na={na}, nb={nb}')\n",
        "else:\n",
        "  print('Результат эксперемента не значимый. Объём выборки маловат')"
      ],
      "metadata": {
        "colab": {
          "base_uri": "https://localhost:8080/"
        },
        "id": "op7lHhQPxuz4",
        "outputId": "4aabedaa-2cf4-4264-857f-c26fe35e1757"
      },
      "execution_count": null,
      "outputs": [
        {
          "output_type": "stream",
          "name": "stdout",
          "text": [
            "В результате получили pvalue 0.09710678577868732\n",
            "Результат эксперемента не значимый. Объём выборки маловат\n"
          ]
        }
      ]
    },
    {
      "cell_type": "markdown",
      "source": [
        "## Задание №4\n",
        "<br>Для na = 100, nb = 100\n",
        "<br>Подберите минимальный true_effect, чтобы результат эксперимента был значим, но (true_effect - 0.02) результат не значим (придётся перезапускать ячейку с true_effect)\n",
        "<br>Пример:\n",
        "<br>true_effect = 0.06 \n",
        "<br>one_ab_test(100, 100, L0, L1) - результат значимый\n",
        "<br>true_effect = 0.04 \n",
        "<br>one_ab_test(100, 100, L0, L1) - результат не значимый\n",
        "<br>Используйте rnd.seed(0)"
      ],
      "metadata": {
        "id": "h_9ZSdVI91Gc"
      }
    },
    {
      "cell_type": "code",
      "source": [
        "alpha = 0.05\n",
        "na = 100\n",
        "nb = 100\n",
        "true_effect = 0.03\n",
        "while true_effect < 1:\n",
        "  rnd.seed(0) # работает только на библиотеке rnd\n",
        "    # для полного воспроизведения результатов необходимо писать сразу две строки в начале ячейки\n",
        "  rnd.seed(0)\n",
        "  np.random.seed(0) # np.random.seed() распространяется и на библиотеку np и на функцию stats\n",
        "  L0 = np.array(list(stats.norm(60, 20).rvs(size=600)) + [150]*200 + list(stats.norm(120, 30).rvs(size=600)))\n",
        "  L1 = L0 * (1 + true_effect)\n",
        "  if true_effect > 0.02:\n",
        "    pvalue = one_ab_test(na, nb, L0, L1) \n",
        "    if pvalue < alpha:\n",
        "      print('В результате получили pvalue', pvalue)\n",
        "      print(f'Результат эксперемента значимый. min true_effect={round(true_effect,2)}')\n",
        "      break\n",
        "  else:\n",
        "    print('Результат эксперемента не значимый.')\n",
        "  true_effect+=0.01"
      ],
      "metadata": {
        "colab": {
          "base_uri": "https://localhost:8080/"
        },
        "id": "DSaokauv5bSO",
        "outputId": "bfc63003-605a-4f94-8f95-8ba0dc91d216"
      },
      "execution_count": null,
      "outputs": [
        {
          "output_type": "stream",
          "name": "stdout",
          "text": [
            "В результате получили pvalue 0.044059466425657404\n",
            "Результат эксперемента значимый. min true_effect=0.24\n"
          ]
        }
      ]
    },
    {
      "cell_type": "code",
      "source": [
        "# проверяем true_effect - 0.02 результат не значим \n",
        "alpha = 0.05\n",
        "true_effect = 0.02\n",
        "L0 = np.array(list(stats.norm(60, 20).rvs(size=600)) + [150]*200 + list(stats.norm(120, 30).rvs(size=600))) \n",
        "L1 = L0 * (1 + true_effect)\n",
        "\n",
        "rnd.seed(0)\n",
        "np.random.seed(0)\n",
        "na = 100\n",
        "nb = 100\n",
        "pvalue = one_ab_test(na, nb, L0, L1) # \n",
        "print('В результате получили pvalue', pvalue)\n",
        "\n",
        "if pvalue < alpha:\n",
        "  print('Результат эксперемента значимый. Объём выборки достаточен,', f'na={na}, nb={nb}')\n",
        "else:\n",
        "  print('Результат эксперемента не значимый. Объём выборки маловат')"
      ],
      "metadata": {
        "colab": {
          "base_uri": "https://localhost:8080/"
        },
        "id": "XJdzAyvI0u8R",
        "outputId": "1c6f6ebf-d53d-4a0e-d113-b3ac1cef4e91"
      },
      "execution_count": null,
      "outputs": [
        {
          "output_type": "stream",
          "name": "stdout",
          "text": [
            "В результате получили pvalue 0.30618007778300604\n",
            "Результат эксперемента не значимый. Объём выборки маловат\n"
          ]
        }
      ]
    },
    {
      "cell_type": "markdown",
      "source": [
        "## Задание №5\n",
        "<br>Для na = 1000, nb = 1000\n",
        "<br>Подберите минимальный true_effect, чтобы результат эксперимента был значим, но (true_effect - 0.02) результат не значим (придётся перезапускать ячейку с true_effect)\n",
        "<br>Пример:\n",
        "<br>true_effect = 0.12\n",
        "<br>one_ab_test(1000, 1000, L0, L1) - результат значимый\n",
        "<br>true_effect = 0.10\n",
        "<br>one_ab_test(1000, 1000, L0, L1) - результат не значимый\n",
        "<br>Используйте rnd.seed(0)"
      ],
      "metadata": {
        "id": "OZvJjNEP-wtc"
      }
    },
    {
      "cell_type": "code",
      "source": [
        "\n",
        "alpha = 0.05\n",
        "na = 1000\n",
        "nb = 1000\n",
        "true_effect = 0.03\n",
        "while true_effect < 1:\n",
        "  rnd.seed(0)\n",
        "  rnd.seed(0)\n",
        "  np.random.seed(0) \n",
        "  L0 = np.array(list(stats.norm(60, 20).rvs(size=600)) + [150]*200 + list(stats.norm(120, 30).rvs(size=600)))\n",
        "  L1 = L0 * (1 + true_effect)\n",
        "  if true_effect > 0.02:\n",
        "    pvalue = one_ab_test(na, nb, L0, L1) \n",
        "    if pvalue < alpha:\n",
        "      print('В результате получили pvalue', pvalue)\n",
        "      print(f'Результат эксперемента значимый. min true_effect={round(true_effect,2)}')\n",
        "      break\n",
        "  else:\n",
        "    print('Результат эксперемента не значимый.')\n",
        "  true_effect+=0.01"
      ],
      "metadata": {
        "colab": {
          "base_uri": "https://localhost:8080/"
        },
        "id": "yBp2oTuwCinj",
        "outputId": "a70ed58f-6b95-447a-f15d-563d133e8df3"
      },
      "execution_count": null,
      "outputs": [
        {
          "output_type": "stream",
          "name": "stdout",
          "text": [
            "В результате получили pvalue 0.03702418539990848\n",
            "Результат эксперемента значимый. min true_effect=0.04\n"
          ]
        }
      ]
    },
    {
      "cell_type": "code",
      "source": [
        "# проверяем true_effect - 0.02 результат не значим \n",
        "alpha = 0.05\n",
        "true_effect = 0.02\n",
        "L0 = np.array(list(stats.norm(60, 20).rvs(size=600)) + [150]*200 + list(stats.norm(120, 30).rvs(size=600))) \n",
        "L1 = L0 * (1 + true_effect)\n",
        "\n",
        "rnd.seed(0)\n",
        "np.random.seed(0)\n",
        "na = 1000\n",
        "nb = 1000\n",
        "pvalue = one_ab_test(na, nb, L0, L1) # \n",
        "print('В результате получили pvalue', pvalue)\n",
        "\n",
        "if pvalue < alpha:\n",
        "  print('Результат эксперемента значимый. Объём выборки достаточен,', f'na={na}, nb={nb}')\n",
        "else:\n",
        "  print('Результат эксперемента не значимый. Объём выборки маловат')"
      ],
      "metadata": {
        "colab": {
          "base_uri": "https://localhost:8080/"
        },
        "id": "2wtHVnvm8tSM",
        "outputId": "076e87b7-7a7b-40ab-8b1e-8aa23e2ff1f6"
      },
      "execution_count": null,
      "outputs": [
        {
          "output_type": "stream",
          "name": "stdout",
          "text": [
            "В результате получили pvalue 0.2712870819617811\n",
            "Результат эксперемента не значимый. Объём выборки маловат\n"
          ]
        }
      ]
    },
    {
      "cell_type": "markdown",
      "source": [
        "*Минимально обнаружимый эффект: **MDE**. При данных alpha, beta, na, nb.* MDE = min(true_effect)\n",
        "<br>MDE больше - меньше время проведения - меньше затрат - меньше точность\n",
        "<br>МDE меньше - больше время проведения - больше затрат - больше точность \n",
        "<br>Нужно искать золотую середину"
      ],
      "metadata": {
        "id": "4gshmrREBeBK"
      }
    },
    {
      "cell_type": "markdown",
      "source": [
        "# Шаблон АБ теста"
      ],
      "metadata": {
        "id": "-1SNmxXJHXeD"
      }
    },
    {
      "cell_type": "code",
      "source": [
        "rnd.seed(0)\n",
        "np.random.seed(0)\n",
        "\n",
        "true_effect = 0.06\n",
        "alpha = 0.05\n",
        "beta = 0.20 \n",
        "N = 200 \n",
        "\n",
        "# здесь всё ещё случайное распределение симулирующее средний чек. На практике L0 - ваши исторические данные по этой метрике\n",
        "L0 = np.array(list(stats.norm(60, 20).rvs(size=600)) + [150]*200 + list(stats.norm(120, 30).rvs(size=600))) \n",
        "\n",
        "L1 = L0 * (1 + true_effect)\n",
        "p_values = [one_ab_test(N, N, L0, L1) for _ in tqdm(range(1000)) ] \n",
        "\n",
        "error2 = [pv for pv in p_values if pv > alpha]\n",
        "\n",
        "print('\\nОшибку 2 рода мы совершили в', len(error2)/len(p_values), 'доле случаев')\n",
        "\n",
        "if len(error2)/len(p_values) < beta:\n",
        "  print('Вероятность ошибки II рода удовлетворительная. Объём выборок подходящий. Эксперимент можно запускать')\n",
        "else:\n",
        "  print('Вероятность ошибки II рода cлишком большая. Объём выборок чересчур маленький. Эксперимент не сможет засечь различие межу А и Б величиной', true_effect);"
      ],
      "metadata": {
        "colab": {
          "base_uri": "https://localhost:8080/"
        },
        "id": "IBLwlbTzdkV_",
        "outputId": "ada56991-9e59-4dbf-ff1d-a4a787f5a875"
      },
      "execution_count": null,
      "outputs": [
        {
          "output_type": "stream",
          "name": "stderr",
          "text": [
            "100%|██████████| 1000/1000 [00:00<00:00, 1506.90it/s]"
          ]
        },
        {
          "output_type": "stream",
          "name": "stdout",
          "text": [
            "\n",
            "Ошибку 2 рода мы совершили в 0.723 доле случаев\n",
            "Вероятность ошибки II рода cлишком большая. Объём выборок чересчур маленький. Эксперимент не сможет засечь различие межу А и Б величиной 0.06\n"
          ]
        },
        {
          "output_type": "stream",
          "name": "stderr",
          "text": [
            "\n"
          ]
        }
      ]
    },
    {
      "cell_type": "markdown",
      "source": [
        "## Задание №6\n",
        "<br>Установите стандартные значения alpha и beta\n",
        "<br>Менеджер выделил на ваш эксперимент 30 дней\n",
        "<br>Поток клиентов 20 человек в день (часть в группу А, другая часть в группу Б)\n",
        "<br>Расчитайте минимальный true_effect для такой продолжительности эксперимента\n",
        "<br>Минимальный, значит:*(при true_effect можем засечь, а true_effect - 0.01 уже не сможем)*\n",
        "<br>Используйте rnd.seed(0)\n"
      ],
      "metadata": {
        "id": "LNlLtFktJGYT"
      }
    },
    {
      "cell_type": "code",
      "source": [
        "alpha = 0.05\n",
        "beta = 0.20 \n",
        "N = 600\n",
        "# min true_effect ?\n",
        "\n",
        "true_effect = 0.02\n",
        "\n",
        "while true_effect < 1.0:\n",
        "  rnd.seed(0) \n",
        "  rnd.seed(0)\n",
        "  np.random.seed(0) \n",
        "  L0 = np.array(list(stats.norm(60, 20).rvs(size=600)) + [150]*200 + list(stats.norm(120, 30).rvs(size=600)))\n",
        "  L1 = L0 * (1 + true_effect)\n",
        "  if true_effect > 0.01:\n",
        "    p_values = [one_ab_test(N, N, L0, L1) for _ in range(1000)] \n",
        "    error2 = [pv for pv in p_values if pv > alpha]\n",
        "    colerr2=len(error2)/len(p_values)\n",
        "    #print(f'Ошибку 2 рода мы совершили в {colerr2} доле случаев\\n')\n",
        "    if colerr2 < beta:\n",
        "      print(f'Вероятность ошибки II рода удовлетворительная. Объём выборок подходящий. Эксперимент можно запускать. min true_effect = {true_effect}')\n",
        "      break\n",
        "  else:\n",
        "    print(f'Вероятность ошибки II рода cлишком большая. Объём выборок чересчур маленький. Эксперимент не сможет засечь различие межу А и Б величиной {true_effect}') \n",
        "  true_effect+=0.01\n",
        "\n"
      ],
      "metadata": {
        "colab": {
          "base_uri": "https://localhost:8080/"
        },
        "id": "HaZQOxldZqGH",
        "outputId": "64fef459-4b60-4d57-d34e-4bfaac2b6f4d"
      },
      "execution_count": null,
      "outputs": [
        {
          "output_type": "stream",
          "name": "stdout",
          "text": [
            "Вероятность ошибки II рода удовлетворительная. Объём выборок подходящий. Эксперимент можно запускать. min true_effect = 0.08\n"
          ]
        }
      ]
    },
    {
      "cell_type": "markdown",
      "source": [
        "## Задание №7\n",
        "<br>Установите стандартное значения alpha\n",
        "<br>Менеджер попросил построить такой эксперимент, чтобы точно обнаружить разницу в среднем чеке 1%\n",
        "<br>Поток клиентов 20 человек в день (часть в группу А, другая часть в группу Б)\n",
        "<br>Если менеджеру принципиально обнаружить эффект, вы не хотите совершить ошибку II рода. Выберите любой beta лучше того, который принят в индустрии\n",
        "<br>Расчитайте продолжительность эксперимента для таких параметров\n",
        "<br>Используйте rnd.seed(0)\n"
      ],
      "metadata": {
        "id": "vemOlrCMKoxc"
      }
    },
    {
      "cell_type": "code",
      "source": [
        "# best beta ?\n",
        "# продолжительность эксперемента?\n",
        "\n"
      ],
      "metadata": {
        "id": "k1fgUqYnu3PI"
      },
      "execution_count": null,
      "outputs": []
    },
    {
      "cell_type": "code",
      "source": [
        "# 1 часть  подбираем N\n",
        "alpha = 0.05\n",
        "true_effect = 0.01 \n",
        "\n",
        "na = 13000\n",
        "nb = 13000\n",
        "beta=0.2\n",
        "\n",
        "while na<21000:\n",
        "  nb=13000\n",
        "  print(f'na={na}')\n",
        "  while nb<17000:\n",
        "    print(f'\\tnb={nb}') \n",
        "    rnd.seed(0) \n",
        "    rnd.seed(0)\n",
        "    np.random.seed(0) # np.random.seed() распространяется и на библиотеку np и на функцию stats\n",
        "    L0 = np.array(list(stats.norm(60, 20).rvs(size=600)) + [150]*200 + list(stats.norm(120, 30).rvs(size=600)))\n",
        "    L1 = L0 * (1 + true_effect)\n",
        "    pvalue = one_ab_test(na, nb, L0, L1) \n",
        "    if pvalue < alpha:\n",
        "      N=na+nb\n",
        "      if N>=28000:\n",
        "        print(f'Результат эксперемента значимый. Объём выборки достаточен na={na}, nb={nb}, pvalue={pvalue}')\n",
        "        break\n",
        "      else:\n",
        "        nb+=500\n",
        "    else:\n",
        "      nb+=500\n",
        "      pvalue=1\n",
        "  \n",
        "  if pvalue < alpha:\n",
        "      break\n",
        "  else:\n",
        "    na+=250\n",
        "\n",
        "     "
      ],
      "metadata": {
        "colab": {
          "base_uri": "https://localhost:8080/"
        },
        "id": "diaAW23oGqch",
        "outputId": "4346c354-9b60-4411-fbfd-323713c55a7a"
      },
      "execution_count": null,
      "outputs": [
        {
          "output_type": "stream",
          "name": "stdout",
          "text": [
            "na=13000\n",
            "\tnb=13000\n",
            "\tnb=13500\n",
            "\tnb=14000\n",
            "\tnb=14500\n",
            "\tnb=15000\n",
            "Результат эксперемента значимый. Объём выборки достаточен na=13000, nb=15000, pvalue=0.007130490998059863\n"
          ]
        }
      ]
    },
    {
      "cell_type": "code",
      "source": [
        "# ищем лучшее beta\n",
        "\n",
        "true_effect = 0.01\n",
        "N = 28000\n",
        "\n",
        "beta = 0.20\n",
        "\n",
        "while beta > 0:\n",
        "  rnd.seed(0) \n",
        "  rnd.seed(0)\n",
        "  np.random.seed(0) # np.random.seed() распространяется и на библиотеку np и на функцию stats\n",
        "  L0 = np.array(list(stats.norm(60, 20).rvs(size=600)) + [150]*200 + list(stats.norm(120, 30).rvs(size=600)))\n",
        "  L1 = L0 * (1 + true_effect)\n",
        "  if beta<0.2:\n",
        "    p_values = [one_ab_test(N, N, L0, L1) for _ in range(1000)] \n",
        "    error2 = [pv for pv in p_values if pv > alpha]\n",
        "    #print(f'lenval={len(p_values)}, lenerr={len(error2)}')\n",
        "    if len(error2)/len(p_values) < beta:\n",
        "      print(f'Вероятность ошибки II рода удовлетворительная. Эксперимент можно запускать beta = {beta}')\n",
        "      break\n",
        "    else:\n",
        "      print(f'Вероятность ошибки II рода cлишком большая.  Эксперимент не сможет засечь различие межу А и Б величиной {beta}') \n",
        "  beta-= 0.01  \n",
        "    \n",
        "t_exp = N / 20 \n",
        "print(f'Продолжительность эксперимента - {round(t_exp)} дней')\n",
        "t_year = t_exp / 365\n",
        "print(f'Продолжительность эксперимента - {round(t_year)} года')\n",
        "#МDE меньше - больше время проведения - больше затрат - больше точность"
      ],
      "metadata": {
        "colab": {
          "base_uri": "https://localhost:8080/"
        },
        "id": "r8jNyx7t_bET",
        "outputId": "ba5f667d-a009-43c7-af2e-294cdcfad5dd"
      },
      "execution_count": null,
      "outputs": [
        {
          "output_type": "stream",
          "name": "stdout",
          "text": [
            "Вероятность ошибки II рода удовлетворительная. Эксперимент можно запускать beta = 0.19\n",
            "Продолжительность эксперимента - 1400 дней\n",
            "Продолжительность эксперимента - 4 года\n"
          ]
        }
      ]
    },
    {
      "cell_type": "markdown",
      "source": [
        "## Задание №8\n",
        "<br>Появилась мысль, что работающая сейчас система скидок занижает нам средний чек. Хотим отключить половину потока клиентов от системы скидок.\n",
        "<br> Ожидаем увеличение среднего чека на 12%. Если эффект меньше, согласны это не увидеть.\n",
        "<br> Не хотим допустить ошибку I рода.\n",
        "<br> Установите значения alpha, чтобы эксперимент был точнее, чем стандартное значние alpha.\n",
        "<br>Поток клиентов 20 человек в день (часть в группу А, другая часть в группу Б)\n",
        "<br>Расчитайте продолжительность эксперимента в днях для таких параметров\n",
        "<br>Используйте rnd.seed(0)\n"
      ],
      "metadata": {
        "id": "ia3cz99zy3c-"
      }
    },
    {
      "cell_type": "code",
      "source": [
        "true_effect = 0.12\n",
        "# alpha = ?\n",
        "\n"
      ],
      "metadata": {
        "id": "iyyysHQlu3_I"
      },
      "execution_count": null,
      "outputs": []
    },
    {
      "cell_type": "code",
      "source": [
        "# 1 часть  подбираем N\n",
        "alpha = 0.05\n",
        "true_effect = 0.12\n",
        "\n",
        "na = 20\n",
        "nb = \n",
        "beta=0.2\n",
        "\n",
        "while na<2000:\n",
        "  nb=20\n",
        "  #print(f'na={na}')\n",
        "  while nb<2000:\n",
        "     \n",
        "    rnd.seed(0) \n",
        "    rnd.seed(0)\n",
        "    np.random.seed(0) # np.random.seed() распространяется и на библиотеку np и на функцию stats\n",
        "    L0 = np.array(list(stats.norm(60, 20).rvs(size=600)) + [150]*200 + list(stats.norm(120, 30).rvs(size=600)))\n",
        "    L1 = L0 * (1 + true_effect)\n",
        "    pvalue = one_ab_test(na, nb, L0, L1) \n",
        "    if pvalue < 0.05:\n",
        "      print(f'Результат эксперемента значимый. Объём выборки достаточен na={na}, nb={nb}, pvalue={pvalue}')\n",
        "      break\n",
        "    else:\n",
        "      nb+=10\n",
        "      pvalue=0.05\n",
        "  \n",
        "  if pvalue < 0.05:\n",
        "      break\n",
        "  else:\n",
        "    na+=10\n"
      ],
      "metadata": {
        "colab": {
          "base_uri": "https://localhost:8080/"
        },
        "id": "tZxeXq2q7aW2",
        "outputId": "c6fd72bf-0dd8-4d64-bdbb-46d20dfa28b5"
      },
      "execution_count": null,
      "outputs": [
        {
          "output_type": "stream",
          "name": "stdout",
          "text": [
            "Результат эксперемента значимый. Объём выборки достаточен na=20, nb=20, pvalue=0.005612710883810835\n"
          ]
        }
      ]
    },
    {
      "cell_type": "code",
      "source": [
        "# ищем alpha, чтобы эксперимент был точнее, чем стандартное значние alpha.\n",
        "\n",
        "na=20\n",
        "nb=20\n",
        "true_effect = 0.12\n",
        "alpha = 0.005\n",
        "while alpha < 1:\n",
        "    rnd.seed(0) \n",
        "    rnd.seed(0)\n",
        "    np.random.seed(0) # np.random.seed() распространяется и на библиотеку np и на функцию stats\n",
        "    L0 = np.array(list(stats.norm(60, 20).rvs(size=600)) + [150]*200 + list(stats.norm(120, 30).rvs(size=600)))\n",
        "    L1 = L0 * (1 + true_effect)\n",
        "    pvalue_1 = one_ab_test(na, nb, L0, L1) \n",
        "    if pvalue_1 < alpha:\n",
        "      print(f'Результат эксперемента значимый. alpha={alpha}, pvalue={pvalue_1}')\n",
        "      break\n",
        "    else:\n",
        "      alpha+=0.01"
      ],
      "metadata": {
        "colab": {
          "base_uri": "https://localhost:8080/"
        },
        "id": "Y5kRNRyBFD-a",
        "outputId": "b316099e-de44-48b3-bfdc-5d5ae421de7c"
      },
      "execution_count": null,
      "outputs": [
        {
          "output_type": "stream",
          "name": "stdout",
          "text": [
            "Результат эксперемента значимый. alpha=0.015, pvalue=0.005612710883810835\n"
          ]
        }
      ]
    },
    {
      "cell_type": "markdown",
      "source": [
        "Можно остановиться на alha=0.04, т.к. в диапазоне от alha=0.04 до alha=0.01 изменений pvalue мы не видим, т.е. точность эксперемента тоже не меняеться. Наша модуляция в задаче подтверждает, что MDE больше - меньше время проведения - меньше затрат - меньше точность"
      ],
      "metadata": {
        "id": "juOrsckgSvhm"
      }
    },
    {
      "cell_type": "code",
      "source": [
        "t_exp = (na+nb) / 20 \n",
        "print(f'Продолжительность эксперимента - {round(t_exp)} дней')\n"
      ],
      "metadata": {
        "colab": {
          "base_uri": "https://localhost:8080/"
        },
        "id": "7Hv4YANTEZer",
        "outputId": "1561bb03-ade3-4639-a920-6eba3142ab4d"
      },
      "execution_count": null,
      "outputs": [
        {
          "output_type": "stream",
          "name": "stdout",
          "text": [
            "Продолжительность эксперимента - 2 дней\n"
          ]
        }
      ]
    }
  ]
}