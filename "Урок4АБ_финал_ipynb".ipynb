{
  "nbformat": 4,
  "nbformat_minor": 0,
  "metadata": {
    "colab": {
      "provenance": [],
      "include_colab_link": true
    },
    "kernelspec": {
      "name": "python3",
      "display_name": "Python 3"
    },
    "language_info": {
      "name": "python"
    }
  },
  "cells": [
    {
      "cell_type": "markdown",
      "metadata": {
        "id": "view-in-github",
        "colab_type": "text"
      },
      "source": [
        "<a href=\"https://colab.research.google.com/github/ti-molodykh/colab/blob/main/%22%D0%A3%D1%80%D0%BE%D0%BA4%D0%90%D0%91_%D1%84%D0%B8%D0%BD%D0%B0%D0%BB_ipynb%22.ipynb\" target=\"_parent\"><img src=\"https://colab.research.google.com/assets/colab-badge.svg\" alt=\"Open In Colab\"/></a>"
      ]
    },
    {
      "cell_type": "code",
      "source": [
        "import matplotlib.pyplot as plt # библиотека для рисования картинок\n",
        "import seaborn as sns # библиотека для рисования более красивых картинок\n",
        "\n",
        "import numpy as np # библиотека для простых математических подсчётов. В основном, np.mean - поиск среднего\n",
        "import random as rnd # библиотека для генерации случаных чисел\n",
        "\n",
        "from scipy import stats # библиотека, в которой хранятся статистические критериии. К примеру, stats.ttest_ind\n",
        "from tqdm import tqdm # фишка, которая позволяет лучше контролировать время выполнения программы"
      ],
      "metadata": {
        "id": "i30QmvzuJHZh"
      },
      "execution_count": null,
      "outputs": []
    },
    {
      "cell_type": "markdown",
      "source": [
        "Существует 2 стадии: <br>**ПОСЛЕ**: оценка результатов эксперимента после эксперимента. <br> **ДО**: оценка продолжительности эксперимента так, чтобы если результат есть, мы его увидили бы.\n",
        "<br>Можно мыслить это так, что стадии ДО и ПОСЛЕ проводят 2 разных аналитика(на практике это не так, но бывает)"
      ],
      "metadata": {
        "id": "8w8HNAWqhWPe"
      }
    },
    {
      "cell_type": "markdown",
      "source": [
        "<h2>Стадия ПОСЛЕ</h2>\n",
        "<br>Простой ответ: t критерий Стьюдента (t_test)\n",
        "<br>Если АБ тест завершён,\n",
        "<br>если у вас УЖЕ есть 2 выборки, в каждой хотя бы по 10 наблюдений\n",
        "<br>- применяйте Т_тест. Он работает за одну строчку"
      ],
      "metadata": {
        "id": "wibJeSO0iJrj"
      }
    },
    {
      "cell_type": "markdown",
      "source": [
        "<h1>Т тест</h1>\n"
      ],
      "metadata": {
        "id": "6FdpLWE5GV6G"
      }
    },
    {
      "cell_type": "code",
      "source": [
        "A = [166, 166, 174, 174, 174, 174, 174, 174, 174, 174, 174, 174, 182, 182]\n",
        "\n",
        "B = [160, 160, 160, 160, 160, 160, 176, 176, 176, 176, 176, 176, 176]\n",
        "\n",
        "res = stats.ttest_ind(A, B) # проводим T тест за одну строку\n",
        "\n",
        "res#.pvalue"
      ],
      "metadata": {
        "id": "Ut1RWbiDZ25m",
        "outputId": "18d39d23-304f-41ab-86d3-d49c206385a1",
        "colab": {
          "base_uri": "https://localhost:8080/"
        }
      },
      "execution_count": null,
      "outputs": [
        {
          "output_type": "execute_result",
          "data": {
            "text/plain": [
              "Ttest_indResult(statistic=2.1239723203253895, pvalue=0.04374329643819998)"
            ]
          },
          "metadata": {},
          "execution_count": 19
        }
      ]
    },
    {
      "cell_type": "code",
      "execution_count": null,
      "metadata": {
        "colab": {
          "base_uri": "https://localhost:8080/"
        },
        "id": "l4GRJdU06hQo",
        "outputId": "d23a77e9-fe20-4f2b-cf34-079ca154163f"
      },
      "outputs": [
        {
          "output_type": "stream",
          "name": "stdout",
          "text": [
            "В нашем эксперименте p_value получилось 0.04374329643819998\n",
            "Различие значимое,\n",
            "\t потому что p_value маленькое.\n",
            "\t\tМаловероятно, что такие различия на таких размерах выборки могли произойти случайно.\n",
            "Отвергаем нулевую гипотезу\n"
          ]
        }
      ],
      "source": [
        "# пример применения т_критерия\n",
        "A = [166, 166, 174, 174, 174, 174, 174, 174, 174, 174, 174, 174, 182, 182] # контрольная\n",
        "\n",
        "B = [160, 160, 160, 160, 160, 160, 176, 176, 176, 176, 176, 176, 176] # тестовая\n",
        "\n",
        "res = stats.ttest_ind(A, B) # проводим T тест за одну строку\n",
        "\n",
        "print(res.pvalue)\n",
        "# результат t_test - это pvalue\n",
        "\n",
        "print('В нашем эксперименте p_value получилось', res.pvalue)\n",
        "alpha = 0.05\n",
        "if res.pvalue < alpha:\n",
        "  print('Различие значимое,\\n\\t потому что p_value маленькое.\\n\\t\\tМаловероятно, что такие различия на таких размерах выборки могли произойти случайно.\\nОтвергаем нулевую гипотезу')\n",
        "else:\n",
        "  print('Различие незначимое,\\n\\t потому что p_value большое.\\n\\t\\tВесьма вероятно, что такие различия на таких размерах выборки могли произойти случайно.\\nНе можем отвергнуть нулевую гипотезу')"
      ]
    },
    {
      "cell_type": "code",
      "source": [
        "# существуют и другие статистические тесты, они могут выдавать другое pvalue\n",
        "# обычно другие тесты слабее, t_test\n",
        "stats.mannwhitneyu(A, B) # тест Мана-Уитни на тех же выборках"
      ],
      "metadata": {
        "colab": {
          "base_uri": "https://localhost:8080/"
        },
        "id": "59qB0Qoa0ugt",
        "outputId": "35e837fb-5ac5-43fd-8e99-2055061f0d6c"
      },
      "execution_count": null,
      "outputs": [
        {
          "output_type": "execute_result",
          "data": {
            "text/plain": [
              "MannwhitneyuResult(statistic=98.0, pvalue=0.7424385775504068)"
            ]
          },
          "metadata": {},
          "execution_count": 20
        }
      ]
    },
    {
      "cell_type": "markdown",
      "source": [
        "И так, если у вас ФИНАЛЬНО есть две выборки и АБ тест закончился - используйте stats.t_test(A, B)👍👍👍"
      ],
      "metadata": {
        "id": "C6d7zSKzltJ_"
      }
    },
    {
      "cell_type": "markdown",
      "source": [
        "<h1>Стадия **ДО**</h1>\n",
        "<br> Бизнес кейс: есть гипотеза, что если расположить пиццы на сайте продажи пиццерии по убыванию цены, то средний чек увеличится.\n",
        "<br> Поделим клиентов на группы &#127374;\n",
        "<br> &#127344; - старое расположение товара\n",
        "<br> &#127345; - новое расположение товара\n",
        "<br> Для простоты, если Б хуже А, будем воспринимать, что Б и А одинаковые(однохвостововой эксперимент)\n",
        "<br>Сколько дней нам нужно проводить эксперимент?"
      ],
      "metadata": {
        "id": "_v6biW-HmvXD"
      }
    },
    {
      "cell_type": "markdown",
      "source": [
        "Мы не знаем есть ли, на самом деле, клиентам дело до расположения пицц.\n",
        "<br>Всегда можно сформулировать Н0, она всгда говорит, что ничего не поменялось"
      ],
      "metadata": {
        "id": "XTqGpScEn5YU"
      }
    },
    {
      "cell_type": "markdown",
      "source": [
        "**H0:** \"расположение пицц никак не влияет на средний чек покупателей. На самом деле, средний чек в группах А и Б одинаковый\""
      ],
      "metadata": {
        "id": "ZnmrP9K1oeiK"
      }
    },
    {
      "cell_type": "markdown",
      "source": [
        "<h3>Реальность и наблюдения могут различаться:&#128548;&#128548;&#128548;<h3>\n",
        "<br> Мы никак не можем полностю исключить ошибку\n",
        "<br> род I: даже если H0 верна, и на самом деле, разницы нет,<br>&emsp;&emsp; в эксперименте можем случайно получить значимые различия\n",
        "<br> род II: даже если H0 ложна, и на самом деле, различия есть,<br>&emsp;&emsp; в эксперименте можем случайно получить не получить существенной разницы"
      ],
      "metadata": {
        "id": "zdo1pcIUqbq5"
      }
    },
    {
      "cell_type": "markdown",
      "source": [
        "<h1>Ошибка I рода</h1>\n",
        "Ошибку I рода мы проверим через p_value, в конце эксперимента.\n",
        "Здесь всё однозначно:"
      ],
      "metadata": {
        "id": "xIZX1Vmtu8G2"
      }
    },
    {
      "cell_type": "markdown",
      "source": [
        "![Копия Урок№4_AB-тесты_финал.pptx.jpg](data:image/jpeg;base64,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)\n",
        "\n",
        "То есть, чем меньше&#128317; p_value, тем меньше&#128317; вероятность совершить ошибку I рода.\n",
        "<br>Pvalue узнаем по результатам эксперимента.\n",
        "<br>До начала эксперимента достаточно зафиксировать alpha и об ошибке I рода до окончания эксперимента можно больше не думать&#9989;\n",
        "<br> Cтандартом индустрии alpha = 5% - допустимая вероятность совершить ошибку I рода"
      ],
      "metadata": {
        "id": "wjn60PI6si7D"
      }
    },
    {
      "cell_type": "markdown",
      "source": [
        "<h1>Ошибка II рода</h1>\n",
        "С ошибкой II рода всё по-другому: <br>Если расстановка пицц, на самом деле, увеличивает средний чек, мы не хотим, чтобы различия получились статистически не значимыми.\n",
        "\n",
        "Даже если расстановка пицц, на самом деле, увеличивает средний чек, результат может быть очень маленьким&#128270;, таким, что придётся проводить эксперимент 10 лет, чтобы его увидеть"
      ],
      "metadata": {
        "id": "8ud6ROR_009l"
      }
    },
    {
      "cell_type": "markdown",
      "source": [],
      "metadata": {
        "id": "eMSwvi4x2pd7"
      }
    },
    {
      "cell_type": "markdown",
      "source": [
        "Давайте проведём симуляцию"
      ],
      "metadata": {
        "id": "TNv4GPFS2VnT"
      }
    },
    {
      "cell_type": "code",
      "source": [
        "rnd.seed(0) # строчка нужна чтобы случайные числа были одинаковыми от запуска к запуску\n",
        "np.random.seed(seed=0) # вторая строка нужная чтобы случайные числа были одинаковыми\n",
        "\n",
        "true_effect = 0.06 # настоящий эффект увеличения среднего чека, который приносит перестановка пицц. Относительный. Альтерантивная гипотеза mean1 = mean0*(1 + MDE)\n",
        "# для однохвостового экспемриента на увечичение true_effect >= 0\n",
        "\n",
        "\n",
        "# средние чеки клиентов на исторических данных компании\n",
        "L0 = np.array(list(stats.norm(60, 20).rvs(size=600)) + [150]*200 + list(stats.norm(120, 30).rvs(size=600))) \n",
        "\n",
        "# моделируем, что средний чек увеличится на true_effect %. Сможем ли мы обнаружить это увеличение а АБ тесте?\n",
        "L1 = L0 * (1 + true_effect)\n",
        "\n",
        "print('Средний чек обычного расположения пицц Н0:', np.mean(L0))\n",
        "print('Средний чек, предпологаемо увеличится H1:', np.mean(L1))\n",
        "print(f'Разница {int((np.mean(L1)/np.mean(L0) - 1)*100)}%')\n",
        "\n",
        "plt.xlabel('Средний чек')\n",
        "sns.histplot(L0, color='green', label='H0')\n",
        "sns.histplot(L1, color='red', label='H1')\n",
        "plt.legend();"
      ],
      "metadata": {
        "colab": {
          "base_uri": "https://localhost:8080/",
          "height": 331
        },
        "id": "9PNEQoupL-3x",
        "outputId": "46d436cd-d0ce-42dc-f52f-8760b65babc3"
      },
      "execution_count": null,
      "outputs": [
        {
          "output_type": "stream",
          "name": "stdout",
          "text": [
            "Средний чек обычного расположения пицц Н0: 98.24890598504463\n",
            "Средний чек, предпологаемо увеличится H1: 104.14384034414732\n",
            "Разница 6%\n"
          ]
        },
        {
          "output_type": "display_data",
          "data": {
            "text/plain": [
              "<Figure size 432x288 with 1 Axes>"
            ],
            "image/png": "[encoded data removed]"
          },
          "metadata": {
            "needs_background": "light"
          }
        }
      ]
    },
    {
      "cell_type": "markdown",
      "source": [
        "Напомним, сейчас стадия планирования эксперимента. Мы не знаем, какой эффект будет, лишь предполагаем значение true_effect. Это значение всегда можно поменять в симуляции"
      ],
      "metadata": {
        "id": "tYyZLO9r4KNX"
      }
    },
    {
      "cell_type": "code",
      "source": [
        "def one_ab_test(na, nb, La, Lb): # функция симурирует 1 АБ тест\n",
        "  sub_a = [rnd.choice(La) for _ in range(na)] # из генеральной совокупности La выбираем случайные na элементов\n",
        "  sub_b = [rnd.choice(Lb) for _ in range(nb)] # из генеральной совокупности Lb выбираем случайные na элементов\n",
        "  return stats.ttest_ind(sub_a, sub_b).pvalue # проводим Т-тест, узнаём p_value"
      ],
      "metadata": {
        "id": "N-ynIxuA4chi"
      },
      "execution_count": null,
      "outputs": []
    },
    {
      "cell_type": "code",
      "source": [
        "rnd.seed(0)\n",
        "np.random.seed(seed=0)\n",
        "\n",
        "# к примеру, проведём 1 АБ тест на наших данных и получим p_value\n",
        "na = 100\n",
        "nb = 100\n",
        "pvalue = one_ab_test(na, nb, L0, L1) # L0 и L1 - разные выборки. На самом деле, результат есть. Но не факт, что мы его увидим в эксперименте\n",
        "print('В результате получили pvalue', pvalue)\n",
        "\n",
        "alpha = 0.05\n",
        "if pvalue < alpha:\n",
        "  print('В эксперименте мы обнаружили значимое различие. Объём выборки достаточен')\n",
        "else:\n",
        "  print('В эксперименте мы не обнаружили значимых различий. Объём выборки маловат')"
      ],
      "metadata": {
        "colab": {
          "base_uri": "https://localhost:8080/"
        },
        "id": "s_sM_yW-5wBZ",
        "outputId": "58be6516-ab04-40d3-9a94-deb8e1013d71"
      },
      "execution_count": null,
      "outputs": [
        {
          "output_type": "stream",
          "name": "stdout",
          "text": [
            "В результате получили pvalue 0.6728320317759122\n",
            "В эксперименте мы не обнаружили значимых различий. Объём выборки маловат\n"
          ]
        }
      ]
    },
    {
      "cell_type": "markdown",
      "source": [
        "## Промежуточные выводы\n",
        "Даже если результат **ЕСТЬ** из-за маленькой выборки мы можем его не увидеть &#128542;\n",
        "<br> Чем меньше ⏬ настоящий эффект от перестановки пиццц, тем дольше⏫ мы должны проводить эксперимент\n",
        "<br> Какой на самом деле эффект от перестановки пицц мы не узнаем даже после проведения АБ теста\n",
        "<br> Но если мы зафиксировали время проведения эксперимента, то существует минимальный эффект, который мы сможем обнаружить"
      ],
      "metadata": {
        "id": "Hz9uT5PR8pcC"
      }
    },
    {
      "cell_type": "markdown",
      "source": [
        "*Минимально обнаружимый эффект: **MDE**. При данных alpha, beta, na, nb.* MDE = min(true_effect)\n",
        "<br>MDE больше - меньше время проведения - меньше затрат - меньше точность\n",
        "<br>МDE меньше - больше время проведения - больше затрат - больше точность \n",
        "<br>Нужно искать золотую середину"
      ],
      "metadata": {
        "id": "4gshmrREBeBK"
      }
    },
    {
      "cell_type": "markdown",
      "source": [
        "## Проведём бесконечно много АБ тестов для данноо true_effect и посмотрим, какие pvalue у нас получились"
      ],
      "metadata": {
        "id": "9eSYTDk8CWoJ"
      }
    },
    {
      "cell_type": "code",
      "source": [
        "rnd.seed(0)\n",
        "np.random.seed(seed=0)\n",
        "\n",
        "# объём одной выборки. Можно поставить разные na и nb\n",
        "# количество людей в одной выборке. Не количество дней проведения эксперимента\n",
        "N = 200\n",
        "\n",
        "# список все pvalue за все наши симуляции экспериментов\n",
        "# one_ab_test(na, nb, L0, L1) - чтобы провести эксперимент, в котором различия есть\n",
        "# one_ab_test(na, nb, L0, L0) - чтобы провести эксперимент, в котором верна H0\n",
        "p_values = [one_ab_test(N, N, L0, L1) for _ in tqdm(range(1000)) ] \n",
        "sns.histplot(p_values, bins=20) # строим гистограмму pvalue в нашей симуляции\n",
        "\n",
        "alpha = 0.05 # сравниваем с pvalue\n",
        "beta = 0.20 # \n",
        "\n",
        "plt.plot([alpha, alpha], [0, 400], color='green', label='alpha')\n",
        "plt.xlabel('p_value')\n",
        "\n",
        "# На самом деле, во всех этих экспериментах эффект от перестановки пицц есть true_effect. На самом деле Н0 ложная.\n",
        "# То есть было бы правильным решением во всех случаях отклонить нулевую гипотезу\n",
        "# Но мы не знаем, как на самом деле. Мы имеем только pvalue\n",
        "# В идеале все pvalue должны быть меньше alpha. Тогда на стадии ПОСЛЕ мы отклоним нулевую гипотезу\n",
        "# Значит, все pvalue, которые больше alpha - ошибка II рода \n",
        "error2 = [pv for pv in p_values if pv > alpha] #p_value, которые приводят к ошибке II рода\n",
        "\n",
        "# Теперь подбираем такое N, чтобы len(error2)/len(p_values) == beta \n",
        "# Такое N и есть нужная продолжительность теста\n",
        "print('\\nОшибку 2 рода мы совершили в', len(error2)/len(p_values), 'доле случаев')\n",
        "\n",
        "if len(error2)/len(p_values) < beta:\n",
        "  print('Вероятность ошибки II рода удовлетворительная. Объём выборок подходящий. Эксперимент можно запускать')\n",
        "else:\n",
        "  print('Вероятность ошибки II рода cлишком большая. Объём выборок чересчур маленький. Эксперимент не сможет засечь различие межу А и Б величиной', true_effect)\n",
        "plt.legend();"
      ],
      "metadata": {
        "colab": {
          "base_uri": "https://localhost:8080/",
          "height": 349
        },
        "id": "EUNivHecE02r",
        "outputId": "fad1e1eb-690a-40b0-ae11-51030a891b70"
      },
      "execution_count": null,
      "outputs": [
        {
          "output_type": "stream",
          "name": "stderr",
          "text": [
            "100%|██████████| 1000/1000 [00:00<00:00, 1136.19it/s]\n"
          ]
        },
        {
          "output_type": "stream",
          "name": "stdout",
          "text": [
            "\n",
            "Ошибку 2 рода мы совершили в 0.723 доле случаев\n",
            "Вероятность ошибки II рода cлишком большая. Объём выборок чересчур маленький. Эксперимент не сможет засечь различие межу А и Б величиной 0.06\n"
          ]
        },
        {
          "output_type": "display_data",
          "data": {
            "text/plain": [
              "<Figure size 432x288 with 1 Axes>"
            ],
            "image/png": "[encoded data removed]"
          },
          "metadata": {
            "needs_background": "light"
          }
        }
      ]
    },
    {
      "cell_type": "markdown",
      "source": [
        "# Выводы:\n",
        "Мы научились планировать время проведения АБ теста исходя из \n",
        "<br>1) Объёмов выборок na, nb\n",
        "<br>2) Ожидаемого эффекта, который возможен в тесте true_effect\n",
        "<br>3) alpha - допустимой величины ошибки I рода\n",
        "<br>4) beta - допустимой величны ошибки II рода "
      ],
      "metadata": {
        "id": "RzXpFjhwGJ8K"
      }
    },
    {
      "cell_type": "markdown",
      "source": [
        "# Шаблон АБ теста\n",
        "# Тот же код. Одна ячейка без графиков и лишних комментариев"
      ],
      "metadata": {
        "id": "-1SNmxXJHXeD"
      }
    },
    {
      "cell_type": "code",
      "source": [
        "rnd.seed(0)\n",
        "np.random.seed(seed=0)\n",
        "\n",
        "true_effect = 0.06\n",
        "alpha = 0.05\n",
        "beta = 0.20 \n",
        "N = 200 \n",
        "\n",
        "# здесь всё ещё случайное распределение симулирующее средний чек. На практике L0 - ваши исторические данные по этой метрике\n",
        "L0 = np.array(list(stats.norm(60, 20).rvs(size=600)) + [150]*200 + list(stats.norm(120, 30).rvs(size=600))) \n",
        "\n",
        "L1 = L0 * (1 + true_effect)\n",
        "p_values = [one_ab_test(N, N, L0, L1) for _ in tqdm(range(1000)) ] \n",
        "\n",
        "error2 = [pv for pv in p_values if pv > alpha]\n",
        "\n",
        "print('\\nОшибку 2 рода мы совершили в', len(error2)/len(p_values), 'доле случаев')\n",
        "\n",
        "if len(error2)/len(p_values) < beta:\n",
        "  print('Вероятность ошибки II рода удовлетворительная. Объём выборок подходящий. Эксперимент можно запускать')\n",
        "else:\n",
        "  print('Вероятность ошибки II рода cлишком большая. Объём выборок чересчур маленький. Эксперимент не сможет засечь различие межу А и Б величиной', true_effect);"
      ],
      "metadata": {
        "colab": {
          "base_uri": "https://localhost:8080/"
        },
        "id": "v9HiDfk1HpPx",
        "outputId": "73aa535a-fb4e-4dbf-a6d0-b4de5b13efc6"
      },
      "execution_count": null,
      "outputs": [
        {
          "output_type": "stream",
          "name": "stderr",
          "text": [
            "100%|██████████| 1000/1000 [00:01<00:00, 599.39it/s]"
          ]
        },
        {
          "output_type": "stream",
          "name": "stdout",
          "text": [
            "\n",
            "Ошибку 2 рода мы совершили в 0.723 доле случаев\n",
            "Вероятность ошибки II рода cлишком большая. Объём выборок чересчур маленький. Эксперимент не сможет засечь различие межу А и Б величиной 0.06\n"
          ]
        },
        {
          "output_type": "stream",
          "name": "stderr",
          "text": [
            "\n"
          ]
        }
      ]
    },
    {
      "cell_type": "code",
      "source": [
        "# фишка, которая позволяет лучше контролировать время выполнения программы\n",
        "from tqdm import tqdm\n",
        "\n",
        "X = [i for i in tqdm(   range(100000000)    )]\n",
        "print(len(X))"
      ],
      "metadata": {
        "colab": {
          "base_uri": "https://localhost:8080/"
        },
        "id": "z85rw53V_5kZ",
        "outputId": "a8e18da5-8ab9-416a-cb7d-3607de1880b0"
      },
      "execution_count": null,
      "outputs": [
        {
          "output_type": "stream",
          "name": "stderr",
          "text": [
            "100%|██████████| 100000000/100000000 [00:30<00:00, 3256477.49it/s]"
          ]
        },
        {
          "output_type": "stream",
          "name": "stdout",
          "text": [
            "100000000\n"
          ]
        },
        {
          "output_type": "stream",
          "name": "stderr",
          "text": [
            "\n"
          ]
        }
      ]
    }
  ]
}