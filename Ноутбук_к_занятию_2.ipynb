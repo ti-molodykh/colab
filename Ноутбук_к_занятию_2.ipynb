{
  "nbformat": 4,
  "nbformat_minor": 0,
  "metadata": {
    "colab": {
      "provenance": [],
      "collapsed_sections": [
        "ESX-vIx-4lqB"
      ],
      "include_colab_link": true
    },
    "kernelspec": {
      "name": "python3",
      "display_name": "Python 3"
    }
  },
  "cells": [
    {
      "cell_type": "markdown",
      "metadata": {
        "id": "view-in-github",
        "colab_type": "text"
      },
      "source": [
        "<a href=\"https://colab.research.google.com/github/ti-molodykh/colab/blob/main/%D0%9D%D0%BE%D1%83%D1%82%D0%B1%D1%83%D0%BA_%D0%BA_%D0%B7%D0%B0%D0%BD%D1%8F%D1%82%D0%B8%D1%8E_2.ipynb\" target=\"_parent\"><img src=\"https://colab.research.google.com/assets/colab-badge.svg\" alt=\"Open In Colab\"/></a>"
      ]
    },
    {
      "cell_type": "markdown",
      "metadata": {
        "id": "G3mkuLeI3dAh"
      },
      "source": [
        "# Занятие 2"
      ]
    },
    {
      "cell_type": "markdown",
      "metadata": {
        "id": "lE45LdweeXIp"
      },
      "source": [
        "![king.gif](data:image/gif;base64,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)"
      ]
    },
    {
      "cell_type": "code",
      "metadata": {
        "id": "TTnMRtvmJpW-",
        "colab": {
          "base_uri": "https://localhost:8080/"
        },
        "outputId": "658ed2b7-719a-4aa6-99c3-9dc19fed367c"
      },
      "source": [
        "!pip install psycopg2"
      ],
      "execution_count": null,
      "outputs": [
        {
          "output_type": "stream",
          "name": "stdout",
          "text": [
            "Looking in indexes: https://pypi.org/simple, https://us-python.pkg.dev/colab-wheels/public/simple/\n",
            "Requirement already satisfied: psycopg2 in /usr/local/lib/python3.7/dist-packages (2.9.5)\n"
          ]
        }
      ]
    },
    {
      "cell_type": "code",
      "metadata": {
        "id": "t8jaymur3hkE"
      },
      "source": [
        "import psycopg2\n",
        "import pandas as pd\n",
        "import json\n",
        "\n",
        "DB_HOST = 'de-edu-db.chronosavant.ru'\n",
        "DB_USER = 'da11'\n",
        "DB_USER_PASSWORD = 'gandalfthegrey'\n",
        "DB_NAME = 'edu'\n",
        "\n",
        "conn = psycopg2.connect(host=DB_HOST, user=DB_USER, password=DB_USER_PASSWORD, dbname=DB_NAME)"
      ],
      "execution_count": null,
      "outputs": []
    },
    {
      "cell_type": "code",
      "metadata": {
        "id": "YTes6C_NNsfH",
        "colab": {
          "base_uri": "https://localhost:8080/",
          "height": 424
        },
        "outputId": "058998bb-ccb9-440e-84e1-fa7e17137a9b"
      },
      "source": [
        "pd.read_sql_query(\"\"\"\n",
        "SELECT *\n",
        "FROM pg_catalog.pg_tables\n",
        "WHERE schemaname != 'pg_catalog' AND \n",
        "    schemaname != 'information_schema'\n",
        "    \"\"\", conn)"
      ],
      "execution_count": null,
      "outputs": [
        {
          "output_type": "execute_result",
          "data": {
            "text/plain": [
              "    schemaname                 tablename tableowner tablespace  hasindexes  \\\n",
              "0      demipt3           ptkn_new_table1    demipt3       None       False   \n",
              "1         de10  rhmv_les6_employees_copy       de10       None       False   \n",
              "2         de10            dmdn_employees       de10       None       False   \n",
              "3      demipt3               kzmn_table2    demipt3       None       False   \n",
              "4         de10                chsn_autos       de10       None       False   \n",
              "..         ...                       ...        ...        ...         ...   \n",
              "819       de10           fzlv_salary_log       de10       None       False   \n",
              "820       de10             mgsh_medicine       de10       None       False   \n",
              "821     de11an           kool_test_table     de11an       None       False   \n",
              "822     de11an                lele_exper     de11an       None       False   \n",
              "823    demipt3           tsoi_salary_log    demipt3       None       False   \n",
              "\n",
              "     hasrules  hastriggers  rowsecurity  \n",
              "0       False        False        False  \n",
              "1       False        False        False  \n",
              "2       False        False        False  \n",
              "3       False        False        False  \n",
              "4       False        False        False  \n",
              "..        ...          ...          ...  \n",
              "819     False        False        False  \n",
              "820     False        False        False  \n",
              "821     False        False        False  \n",
              "822     False        False        False  \n",
              "823     False        False        False  \n",
              "\n",
              "[824 rows x 8 columns]"
            ],
            "text/html": [
              "\n",
              "  <div id=\"df-277d80d3-67a0-4447-a7e6-9a2960ce444d\">\n",
              "    <div class=\"colab-df-container\">\n",
              "      <div>\n",
              "<style scoped>\n",
              "    .dataframe tbody tr th:only-of-type {\n",
              "        vertical-align: middle;\n",
              "    }\n",
              "\n",
              "    .dataframe tbody tr th {\n",
              "        vertical-align: top;\n",
              "    }\n",
              "\n",
              "    .dataframe thead th {\n",
              "        text-align: right;\n",
              "    }\n",
              "</style>\n",
              "<table border=\"1\" class=\"dataframe\">\n",
              "  <thead>\n",
              "    <tr style=\"text-align: right;\">\n",
              "      <th></th>\n",
              "      <th>schemaname</th>\n",
              "      <th>tablename</th>\n",
              "      <th>tableowner</th>\n",
              "      <th>tablespace</th>\n",
              "      <th>hasindexes</th>\n",
              "      <th>hasrules</th>\n",
              "      <th>hastriggers</th>\n",
              "      <th>rowsecurity</th>\n",
              "    </tr>\n",
              "  </thead>\n",
              "  <tbody>\n",
              "    <tr>\n",
              "      <th>0</th>\n",
              "      <td>demipt3</td>\n",
              "      <td>ptkn_new_table1</td>\n",
              "      <td>demipt3</td>\n",
              "      <td>None</td>\n",
              "      <td>False</td>\n",
              "      <td>False</td>\n",
              "      <td>False</td>\n",
              "      <td>False</td>\n",
              "    </tr>\n",
              "    <tr>\n",
              "      <th>1</th>\n",
              "      <td>de10</td>\n",
              "      <td>rhmv_les6_employees_copy</td>\n",
              "      <td>de10</td>\n",
              "      <td>None</td>\n",
              "      <td>False</td>\n",
              "      <td>False</td>\n",
              "      <td>False</td>\n",
              "      <td>False</td>\n",
              "    </tr>\n",
              "    <tr>\n",
              "      <th>2</th>\n",
              "      <td>de10</td>\n",
              "      <td>dmdn_employees</td>\n",
              "      <td>de10</td>\n",
              "      <td>None</td>\n",
              "      <td>False</td>\n",
              "      <td>False</td>\n",
              "      <td>False</td>\n",
              "      <td>False</td>\n",
              "    </tr>\n",
              "    <tr>\n",
              "      <th>3</th>\n",
              "      <td>demipt3</td>\n",
              "      <td>kzmn_table2</td>\n",
              "      <td>demipt3</td>\n",
              "      <td>None</td>\n",
              "      <td>False</td>\n",
              "      <td>False</td>\n",
              "      <td>False</td>\n",
              "      <td>False</td>\n",
              "    </tr>\n",
              "    <tr>\n",
              "      <th>4</th>\n",
              "      <td>de10</td>\n",
              "      <td>chsn_autos</td>\n",
              "      <td>de10</td>\n",
              "      <td>None</td>\n",
              "      <td>False</td>\n",
              "      <td>False</td>\n",
              "      <td>False</td>\n",
              "      <td>False</td>\n",
              "    </tr>\n",
              "    <tr>\n",
              "      <th>...</th>\n",
              "      <td>...</td>\n",
              "      <td>...</td>\n",
              "      <td>...</td>\n",
              "      <td>...</td>\n",
              "      <td>...</td>\n",
              "      <td>...</td>\n",
              "      <td>...</td>\n",
              "      <td>...</td>\n",
              "    </tr>\n",
              "    <tr>\n",
              "      <th>819</th>\n",
              "      <td>de10</td>\n",
              "      <td>fzlv_salary_log</td>\n",
              "      <td>de10</td>\n",
              "      <td>None</td>\n",
              "      <td>False</td>\n",
              "      <td>False</td>\n",
              "      <td>False</td>\n",
              "      <td>False</td>\n",
              "    </tr>\n",
              "    <tr>\n",
              "      <th>820</th>\n",
              "      <td>de10</td>\n",
              "      <td>mgsh_medicine</td>\n",
              "      <td>de10</td>\n",
              "      <td>None</td>\n",
              "      <td>False</td>\n",
              "      <td>False</td>\n",
              "      <td>False</td>\n",
              "      <td>False</td>\n",
              "    </tr>\n",
              "    <tr>\n",
              "      <th>821</th>\n",
              "      <td>de11an</td>\n",
              "      <td>kool_test_table</td>\n",
              "      <td>de11an</td>\n",
              "      <td>None</td>\n",
              "      <td>False</td>\n",
              "      <td>False</td>\n",
              "      <td>False</td>\n",
              "      <td>False</td>\n",
              "    </tr>\n",
              "    <tr>\n",
              "      <th>822</th>\n",
              "      <td>de11an</td>\n",
              "      <td>lele_exper</td>\n",
              "      <td>de11an</td>\n",
              "      <td>None</td>\n",
              "      <td>False</td>\n",
              "      <td>False</td>\n",
              "      <td>False</td>\n",
              "      <td>False</td>\n",
              "    </tr>\n",
              "    <tr>\n",
              "      <th>823</th>\n",
              "      <td>demipt3</td>\n",
              "      <td>tsoi_salary_log</td>\n",
              "      <td>demipt3</td>\n",
              "      <td>None</td>\n",
              "      <td>False</td>\n",
              "      <td>False</td>\n",
              "      <td>False</td>\n",
              "      <td>False</td>\n",
              "    </tr>\n",
              "  </tbody>\n",
              "</table>\n",
              "<p>824 rows × 8 columns</p>\n",
              "</div>\n",
              "      <button class=\"colab-df-convert\" onclick=\"convertToInteractive('df-277d80d3-67a0-4447-a7e6-9a2960ce444d')\"\n",
              "              title=\"Convert this dataframe to an interactive table.\"\n",
              "              style=\"display:none;\">\n",
              "        \n",
              "  <svg xmlns=\"http://www.w3.org/2000/svg\" height=\"24px\"viewBox=\"0 0 24 24\"\n",
              "       width=\"24px\">\n",
              "    <path d=\"M0 0h24v24H0V0z\" fill=\"none\"/>\n",
              "    <path d=\"M18.56 5.44l.94 2.06.94-2.06 2.06-.94-2.06-.94-.94-2.06-.94 2.06-2.06.94zm-11 1L8.5 8.5l.94-2.06 2.06-.94-2.06-.94L8.5 2.5l-.94 2.06-2.06.94zm10 10l.94 2.06.94-2.06 2.06-.94-2.06-.94-.94-2.06-.94 2.06-2.06.94z\"/><path d=\"M17.41 7.96l-1.37-1.37c-.4-.4-.92-.59-1.43-.59-.52 0-1.04.2-1.43.59L10.3 9.45l-7.72 7.72c-.78.78-.78 2.05 0 2.83L4 21.41c.39.39.9.59 1.41.59.51 0 1.02-.2 1.41-.59l7.78-7.78 2.81-2.81c.8-.78.8-2.07 0-2.86zM5.41 20L4 18.59l7.72-7.72 1.47 1.35L5.41 20z\"/>\n",
              "  </svg>\n",
              "      </button>\n",
              "      \n",
              "  <style>\n",
              "    .colab-df-container {\n",
              "      display:flex;\n",
              "      flex-wrap:wrap;\n",
              "      gap: 12px;\n",
              "    }\n",
              "\n",
              "    .colab-df-convert {\n",
              "      background-color: #E8F0FE;\n",
              "      border: none;\n",
              "      border-radius: 50%;\n",
              "      cursor: pointer;\n",
              "      display: none;\n",
              "      fill: #1967D2;\n",
              "      height: 32px;\n",
              "      padding: 0 0 0 0;\n",
              "      width: 32px;\n",
              "    }\n",
              "\n",
              "    .colab-df-convert:hover {\n",
              "      background-color: #E2EBFA;\n",
              "      box-shadow: 0px 1px 2px rgba(60, 64, 67, 0.3), 0px 1px 3px 1px rgba(60, 64, 67, 0.15);\n",
              "      fill: #174EA6;\n",
              "    }\n",
              "\n",
              "    [theme=dark] .colab-df-convert {\n",
              "      background-color: #3B4455;\n",
              "      fill: #D2E3FC;\n",
              "    }\n",
              "\n",
              "    [theme=dark] .colab-df-convert:hover {\n",
              "      background-color: #434B5C;\n",
              "      box-shadow: 0px 1px 3px 1px rgba(0, 0, 0, 0.15);\n",
              "      filter: drop-shadow(0px 1px 2px rgba(0, 0, 0, 0.3));\n",
              "      fill: #FFFFFF;\n",
              "    }\n",
              "  </style>\n",
              "\n",
              "      <script>\n",
              "        const buttonEl =\n",
              "          document.querySelector('#df-277d80d3-67a0-4447-a7e6-9a2960ce444d button.colab-df-convert');\n",
              "        buttonEl.style.display =\n",
              "          google.colab.kernel.accessAllowed ? 'block' : 'none';\n",
              "\n",
              "        async function convertToInteractive(key) {\n",
              "          const element = document.querySelector('#df-277d80d3-67a0-4447-a7e6-9a2960ce444d');\n",
              "          const dataTable =\n",
              "            await google.colab.kernel.invokeFunction('convertToInteractive',\n",
              "                                                     [key], {});\n",
              "          if (!dataTable) return;\n",
              "\n",
              "          const docLinkHtml = 'Like what you see? Visit the ' +\n",
              "            '<a target=\"_blank\" href=https://colab.research.google.com/notebooks/data_table.ipynb>data table notebook</a>'\n",
              "            + ' to learn more about interactive tables.';\n",
              "          element.innerHTML = '';\n",
              "          dataTable['output_type'] = 'display_data';\n",
              "          await google.colab.output.renderOutput(dataTable, element);\n",
              "          const docLink = document.createElement('div');\n",
              "          docLink.innerHTML = docLinkHtml;\n",
              "          element.appendChild(docLink);\n",
              "        }\n",
              "      </script>\n",
              "    </div>\n",
              "  </div>\n",
              "  "
            ]
          },
          "metadata": {},
          "execution_count": 3
        }
      ]
    },
    {
      "cell_type": "markdown",
      "metadata": {
        "id": "6D5GOnlx2CWU"
      },
      "source": [
        "### CASE ... WHEN ... END\n",
        "\n",
        "Выражение CASE в SQL представляет собой общее условное выражение, напоминающее операторы if/else в других языках программирования:\n",
        "\n",
        "```\n",
        "CASE WHEN условие THEN *результат*\n",
        "     [WHEN ...]\n",
        "     [ELSE *результат*]\n",
        "END\n",
        "```\n",
        "\n",
        "\n",
        "Предложения CASE можно использовать везде, где допускаются выражения. Каждое условие в нём представляет собой выражение, возвращающее *результат* типа boolean. Если *результатом* выражения оказывается true, значением выражения CASE становится *результат*, следующий за условием, а остальная часть выражения CASE не вычисляется. Если же условие не выполняется, за ним таким же образом проверяются все последующие предложения WHEN. Если не выполняется ни одно из условий WHEN, значением CASE становится *результат*, записанный в предложении ELSE. Если при этом предложение ELSE отсутствует, *результатом* выражения будет NULL."
      ]
    },
    {
      "cell_type": "markdown",
      "metadata": {
        "id": "3vuxKeXhwdh4"
      },
      "source": [
        "Выбрать имена и зарплаты самого старого и самого молодого сотрудника фирмы. (\"Возраст\" сотрудника определять по дате его поступления на работу в фирму). Модифицируем этот запрос, обозначим явно самого молодого и самого старого с помощью текста."
      ]
    },
    {
      "cell_type": "code",
      "metadata": {
        "id": "iyMDEc-K2J_D",
        "colab": {
          "base_uri": "https://localhost:8080/",
          "height": 1000
        },
        "outputId": "c9692480-7a39-4f0d-f9f5-1cbb1f574450"
      },
      "source": [
        "pd.read_sql_query(\"\"\"\n",
        "SELECT\n",
        "    employee_id,\n",
        "    last_name,\n",
        "    salary,\n",
        "    hire_date,\n",
        "    tminmax.max_hdate,\n",
        "    tminmax.min_hdate,\n",
        "    CASE\n",
        "      WHEN hire_date = tminmax.max_hdate THEN 'youngest'\n",
        "      WHEN hire_date = tminmax.min_hdate THEN 'oldest'\n",
        "      ELSE 'regular'\n",
        "    END AS employee_desc\n",
        "FROM da.employee, (SELECT MAX(hire_date) AS max_hdate, MIN(hire_date) AS min_hdate FROM da.employee) as tminmax\n",
        "\n",
        "\"\"\", conn)"
      ],
      "execution_count": null,
      "outputs": [
        {
          "output_type": "execute_result",
          "data": {
            "text/plain": [
              "    employee_id last_name  salary  hire_date  max_hdate  min_hdate  \\\n",
              "0          7369     SMITH   800.0 1984-12-17 1987-01-16 1984-12-17   \n",
              "1          7499     ALLEN  1600.0 1985-02-20 1987-01-16 1984-12-17   \n",
              "2          7505     DOYLE  2850.0 1985-04-04 1987-01-16 1984-12-17   \n",
              "3          7506    DENNIS  2750.0 1985-05-15 1987-01-16 1984-12-17   \n",
              "4          7507     BAKER  2200.0 1985-06-10 1987-01-16 1984-12-17   \n",
              "5          7521      WARD  1250.0 1985-02-22 1987-01-16 1984-12-17   \n",
              "6          7555    PETERS  1250.0 1985-03-31 1987-01-16 1984-12-17   \n",
              "7          7557      SHAW  1250.0 1985-04-02 1987-01-16 1984-12-17   \n",
              "8          7560    DUNCAN  1250.0 1985-05-31 1987-01-16 1984-12-17   \n",
              "9          7564     LANGE  1250.0 1985-06-01 1987-01-16 1984-12-17   \n",
              "10         7566     JONES  2975.0 1985-04-02 1987-01-16 1984-12-17   \n",
              "11         7569   ALBERTS  3000.0 1985-04-06 1987-01-16 1984-12-17   \n",
              "12         7600    PORTER  1250.0 1985-04-15 1987-01-16 1984-12-17   \n",
              "13         7609     LEWIS  1800.0 1985-04-16 1987-01-16 1984-12-17   \n",
              "14         7654    MARTIN  1250.0 1985-09-28 1987-01-16 1984-12-17   \n",
              "15         7676   SOMMERS  1850.0 1985-04-19 1987-01-16 1984-12-17   \n",
              "16         7698     BLAKE  2850.0 1985-05-01 1987-01-16 1984-12-17   \n",
              "17         7782     CLARK  2450.0 1985-06-09 1987-01-16 1984-12-17   \n",
              "18         7788     SCOTT  3000.0 1986-12-09 1987-01-16 1984-12-17   \n",
              "19         7789      WEST  1500.0 1985-04-04 1987-01-16 1984-12-17   \n",
              "20         7799    FISHER  3000.0 1986-12-12 1987-01-16 1984-12-17   \n",
              "21         7820      ROSS  1300.0 1985-06-01 1987-01-16 1984-12-17   \n",
              "22         7839      KING  5000.0 1985-11-17 1987-01-16 1984-12-17   \n",
              "23         7844    TURNER  1500.0 1985-09-08 1987-01-16 1984-12-17   \n",
              "24         7876     ADAMS  1100.0 1987-01-12 1987-01-16 1984-12-17   \n",
              "25         7900     JAMES   950.0 1985-12-03 1987-01-16 1984-12-17   \n",
              "26         7902      FORD  3000.0 1985-12-03 1987-01-16 1984-12-17   \n",
              "27         7916   ROBERTS  2875.0 1987-01-04 1987-01-16 1984-12-17   \n",
              "28         7919   DOUGLAS   800.0 1987-01-04 1987-01-16 1984-12-17   \n",
              "29         7934    MILLER  1300.0 1986-01-23 1987-01-16 1984-12-17   \n",
              "30         7950    JENSEN   750.0 1987-01-15 1987-01-16 1984-12-17   \n",
              "31         7954    MURRAY   750.0 1987-01-16 1987-01-16 1984-12-17   \n",
              "\n",
              "   employee_desc  \n",
              "0         oldest  \n",
              "1        regular  \n",
              "2        regular  \n",
              "3        regular  \n",
              "4        regular  \n",
              "5        regular  \n",
              "6        regular  \n",
              "7        regular  \n",
              "8        regular  \n",
              "9        regular  \n",
              "10       regular  \n",
              "11       regular  \n",
              "12       regular  \n",
              "13       regular  \n",
              "14       regular  \n",
              "15       regular  \n",
              "16       regular  \n",
              "17       regular  \n",
              "18       regular  \n",
              "19       regular  \n",
              "20       regular  \n",
              "21       regular  \n",
              "22       regular  \n",
              "23       regular  \n",
              "24       regular  \n",
              "25       regular  \n",
              "26       regular  \n",
              "27       regular  \n",
              "28       regular  \n",
              "29       regular  \n",
              "30       regular  \n",
              "31      youngest  "
            ],
            "text/html": [
              "\n",
              "  <div id=\"df-05e2fc0b-e627-4c58-b9f9-128a54595978\">\n",
              "    <div class=\"colab-df-container\">\n",
              "      <div>\n",
              "<style scoped>\n",
              "    .dataframe tbody tr th:only-of-type {\n",
              "        vertical-align: middle;\n",
              "    }\n",
              "\n",
              "    .dataframe tbody tr th {\n",
              "        vertical-align: top;\n",
              "    }\n",
              "\n",
              "    .dataframe thead th {\n",
              "        text-align: right;\n",
              "    }\n",
              "</style>\n",
              "<table border=\"1\" class=\"dataframe\">\n",
              "  <thead>\n",
              "    <tr style=\"text-align: right;\">\n",
              "      <th></th>\n",
              "      <th>employee_id</th>\n",
              "      <th>last_name</th>\n",
              "      <th>salary</th>\n",
              "      <th>hire_date</th>\n",
              "      <th>max_hdate</th>\n",
              "      <th>min_hdate</th>\n",
              "      <th>employee_desc</th>\n",
              "    </tr>\n",
              "  </thead>\n",
              "  <tbody>\n",
              "    <tr>\n",
              "      <th>0</th>\n",
              "      <td>7369</td>\n",
              "      <td>SMITH</td>\n",
              "      <td>800.0</td>\n",
              "      <td>1984-12-17</td>\n",
              "      <td>1987-01-16</td>\n",
              "      <td>1984-12-17</td>\n",
              "      <td>oldest</td>\n",
              "    </tr>\n",
              "    <tr>\n",
              "      <th>1</th>\n",
              "      <td>7499</td>\n",
              "      <td>ALLEN</td>\n",
              "      <td>1600.0</td>\n",
              "      <td>1985-02-20</td>\n",
              "      <td>1987-01-16</td>\n",
              "      <td>1984-12-17</td>\n",
              "      <td>regular</td>\n",
              "    </tr>\n",
              "    <tr>\n",
              "      <th>2</th>\n",
              "      <td>7505</td>\n",
              "      <td>DOYLE</td>\n",
              "      <td>2850.0</td>\n",
              "      <td>1985-04-04</td>\n",
              "      <td>1987-01-16</td>\n",
              "      <td>1984-12-17</td>\n",
              "      <td>regular</td>\n",
              "    </tr>\n",
              "    <tr>\n",
              "      <th>3</th>\n",
              "      <td>7506</td>\n",
              "      <td>DENNIS</td>\n",
              "      <td>2750.0</td>\n",
              "      <td>1985-05-15</td>\n",
              "      <td>1987-01-16</td>\n",
              "      <td>1984-12-17</td>\n",
              "      <td>regular</td>\n",
              "    </tr>\n",
              "    <tr>\n",
              "      <th>4</th>\n",
              "      <td>7507</td>\n",
              "      <td>BAKER</td>\n",
              "      <td>2200.0</td>\n",
              "      <td>1985-06-10</td>\n",
              "      <td>1987-01-16</td>\n",
              "      <td>1984-12-17</td>\n",
              "      <td>regular</td>\n",
              "    </tr>\n",
              "    <tr>\n",
              "      <th>5</th>\n",
              "      <td>7521</td>\n",
              "      <td>WARD</td>\n",
              "      <td>1250.0</td>\n",
              "      <td>1985-02-22</td>\n",
              "      <td>1987-01-16</td>\n",
              "      <td>1984-12-17</td>\n",
              "      <td>regular</td>\n",
              "    </tr>\n",
              "    <tr>\n",
              "      <th>6</th>\n",
              "      <td>7555</td>\n",
              "      <td>PETERS</td>\n",
              "      <td>1250.0</td>\n",
              "      <td>1985-03-31</td>\n",
              "      <td>1987-01-16</td>\n",
              "      <td>1984-12-17</td>\n",
              "      <td>regular</td>\n",
              "    </tr>\n",
              "    <tr>\n",
              "      <th>7</th>\n",
              "      <td>7557</td>\n",
              "      <td>SHAW</td>\n",
              "      <td>1250.0</td>\n",
              "      <td>1985-04-02</td>\n",
              "      <td>1987-01-16</td>\n",
              "      <td>1984-12-17</td>\n",
              "      <td>regular</td>\n",
              "    </tr>\n",
              "    <tr>\n",
              "      <th>8</th>\n",
              "      <td>7560</td>\n",
              "      <td>DUNCAN</td>\n",
              "      <td>1250.0</td>\n",
              "      <td>1985-05-31</td>\n",
              "      <td>1987-01-16</td>\n",
              "      <td>1984-12-17</td>\n",
              "      <td>regular</td>\n",
              "    </tr>\n",
              "    <tr>\n",
              "      <th>9</th>\n",
              "      <td>7564</td>\n",
              "      <td>LANGE</td>\n",
              "      <td>1250.0</td>\n",
              "      <td>1985-06-01</td>\n",
              "      <td>1987-01-16</td>\n",
              "      <td>1984-12-17</td>\n",
              "      <td>regular</td>\n",
              "    </tr>\n",
              "    <tr>\n",
              "      <th>10</th>\n",
              "      <td>7566</td>\n",
              "      <td>JONES</td>\n",
              "      <td>2975.0</td>\n",
              "      <td>1985-04-02</td>\n",
              "      <td>1987-01-16</td>\n",
              "      <td>1984-12-17</td>\n",
              "      <td>regular</td>\n",
              "    </tr>\n",
              "    <tr>\n",
              "      <th>11</th>\n",
              "      <td>7569</td>\n",
              "      <td>ALBERTS</td>\n",
              "      <td>3000.0</td>\n",
              "      <td>1985-04-06</td>\n",
              "      <td>1987-01-16</td>\n",
              "      <td>1984-12-17</td>\n",
              "      <td>regular</td>\n",
              "    </tr>\n",
              "    <tr>\n",
              "      <th>12</th>\n",
              "      <td>7600</td>\n",
              "      <td>PORTER</td>\n",
              "      <td>1250.0</td>\n",
              "      <td>1985-04-15</td>\n",
              "      <td>1987-01-16</td>\n",
              "      <td>1984-12-17</td>\n",
              "      <td>regular</td>\n",
              "    </tr>\n",
              "    <tr>\n",
              "      <th>13</th>\n",
              "      <td>7609</td>\n",
              "      <td>LEWIS</td>\n",
              "      <td>1800.0</td>\n",
              "      <td>1985-04-16</td>\n",
              "      <td>1987-01-16</td>\n",
              "      <td>1984-12-17</td>\n",
              "      <td>regular</td>\n",
              "    </tr>\n",
              "    <tr>\n",
              "      <th>14</th>\n",
              "      <td>7654</td>\n",
              "      <td>MARTIN</td>\n",
              "      <td>1250.0</td>\n",
              "      <td>1985-09-28</td>\n",
              "      <td>1987-01-16</td>\n",
              "      <td>1984-12-17</td>\n",
              "      <td>regular</td>\n",
              "    </tr>\n",
              "    <tr>\n",
              "      <th>15</th>\n",
              "      <td>7676</td>\n",
              "      <td>SOMMERS</td>\n",
              "      <td>1850.0</td>\n",
              "      <td>1985-04-19</td>\n",
              "      <td>1987-01-16</td>\n",
              "      <td>1984-12-17</td>\n",
              "      <td>regular</td>\n",
              "    </tr>\n",
              "    <tr>\n",
              "      <th>16</th>\n",
              "      <td>7698</td>\n",
              "      <td>BLAKE</td>\n",
              "      <td>2850.0</td>\n",
              "      <td>1985-05-01</td>\n",
              "      <td>1987-01-16</td>\n",
              "      <td>1984-12-17</td>\n",
              "      <td>regular</td>\n",
              "    </tr>\n",
              "    <tr>\n",
              "      <th>17</th>\n",
              "      <td>7782</td>\n",
              "      <td>CLARK</td>\n",
              "      <td>2450.0</td>\n",
              "      <td>1985-06-09</td>\n",
              "      <td>1987-01-16</td>\n",
              "      <td>1984-12-17</td>\n",
              "      <td>regular</td>\n",
              "    </tr>\n",
              "    <tr>\n",
              "      <th>18</th>\n",
              "      <td>7788</td>\n",
              "      <td>SCOTT</td>\n",
              "      <td>3000.0</td>\n",
              "      <td>1986-12-09</td>\n",
              "      <td>1987-01-16</td>\n",
              "      <td>1984-12-17</td>\n",
              "      <td>regular</td>\n",
              "    </tr>\n",
              "    <tr>\n",
              "      <th>19</th>\n",
              "      <td>7789</td>\n",
              "      <td>WEST</td>\n",
              "      <td>1500.0</td>\n",
              "      <td>1985-04-04</td>\n",
              "      <td>1987-01-16</td>\n",
              "      <td>1984-12-17</td>\n",
              "      <td>regular</td>\n",
              "    </tr>\n",
              "    <tr>\n",
              "      <th>20</th>\n",
              "      <td>7799</td>\n",
              "      <td>FISHER</td>\n",
              "      <td>3000.0</td>\n",
              "      <td>1986-12-12</td>\n",
              "      <td>1987-01-16</td>\n",
              "      <td>1984-12-17</td>\n",
              "      <td>regular</td>\n",
              "    </tr>\n",
              "    <tr>\n",
              "      <th>21</th>\n",
              "      <td>7820</td>\n",
              "      <td>ROSS</td>\n",
              "      <td>1300.0</td>\n",
              "      <td>1985-06-01</td>\n",
              "      <td>1987-01-16</td>\n",
              "      <td>1984-12-17</td>\n",
              "      <td>regular</td>\n",
              "    </tr>\n",
              "    <tr>\n",
              "      <th>22</th>\n",
              "      <td>7839</td>\n",
              "      <td>KING</td>\n",
              "      <td>5000.0</td>\n",
              "      <td>1985-11-17</td>\n",
              "      <td>1987-01-16</td>\n",
              "      <td>1984-12-17</td>\n",
              "      <td>regular</td>\n",
              "    </tr>\n",
              "    <tr>\n",
              "      <th>23</th>\n",
              "      <td>7844</td>\n",
              "      <td>TURNER</td>\n",
              "      <td>1500.0</td>\n",
              "      <td>1985-09-08</td>\n",
              "      <td>1987-01-16</td>\n",
              "      <td>1984-12-17</td>\n",
              "      <td>regular</td>\n",
              "    </tr>\n",
              "    <tr>\n",
              "      <th>24</th>\n",
              "      <td>7876</td>\n",
              "      <td>ADAMS</td>\n",
              "      <td>1100.0</td>\n",
              "      <td>1987-01-12</td>\n",
              "      <td>1987-01-16</td>\n",
              "      <td>1984-12-17</td>\n",
              "      <td>regular</td>\n",
              "    </tr>\n",
              "    <tr>\n",
              "      <th>25</th>\n",
              "      <td>7900</td>\n",
              "      <td>JAMES</td>\n",
              "      <td>950.0</td>\n",
              "      <td>1985-12-03</td>\n",
              "      <td>1987-01-16</td>\n",
              "      <td>1984-12-17</td>\n",
              "      <td>regular</td>\n",
              "    </tr>\n",
              "    <tr>\n",
              "      <th>26</th>\n",
              "      <td>7902</td>\n",
              "      <td>FORD</td>\n",
              "      <td>3000.0</td>\n",
              "      <td>1985-12-03</td>\n",
              "      <td>1987-01-16</td>\n",
              "      <td>1984-12-17</td>\n",
              "      <td>regular</td>\n",
              "    </tr>\n",
              "    <tr>\n",
              "      <th>27</th>\n",
              "      <td>7916</td>\n",
              "      <td>ROBERTS</td>\n",
              "      <td>2875.0</td>\n",
              "      <td>1987-01-04</td>\n",
              "      <td>1987-01-16</td>\n",
              "      <td>1984-12-17</td>\n",
              "      <td>regular</td>\n",
              "    </tr>\n",
              "    <tr>\n",
              "      <th>28</th>\n",
              "      <td>7919</td>\n",
              "      <td>DOUGLAS</td>\n",
              "      <td>800.0</td>\n",
              "      <td>1987-01-04</td>\n",
              "      <td>1987-01-16</td>\n",
              "      <td>1984-12-17</td>\n",
              "      <td>regular</td>\n",
              "    </tr>\n",
              "    <tr>\n",
              "      <th>29</th>\n",
              "      <td>7934</td>\n",
              "      <td>MILLER</td>\n",
              "      <td>1300.0</td>\n",
              "      <td>1986-01-23</td>\n",
              "      <td>1987-01-16</td>\n",
              "      <td>1984-12-17</td>\n",
              "      <td>regular</td>\n",
              "    </tr>\n",
              "    <tr>\n",
              "      <th>30</th>\n",
              "      <td>7950</td>\n",
              "      <td>JENSEN</td>\n",
              "      <td>750.0</td>\n",
              "      <td>1987-01-15</td>\n",
              "      <td>1987-01-16</td>\n",
              "      <td>1984-12-17</td>\n",
              "      <td>regular</td>\n",
              "    </tr>\n",
              "    <tr>\n",
              "      <th>31</th>\n",
              "      <td>7954</td>\n",
              "      <td>MURRAY</td>\n",
              "      <td>750.0</td>\n",
              "      <td>1987-01-16</td>\n",
              "      <td>1987-01-16</td>\n",
              "      <td>1984-12-17</td>\n",
              "      <td>youngest</td>\n",
              "    </tr>\n",
              "  </tbody>\n",
              "</table>\n",
              "</div>\n",
              "      <button class=\"colab-df-convert\" onclick=\"convertToInteractive('df-05e2fc0b-e627-4c58-b9f9-128a54595978')\"\n",
              "              title=\"Convert this dataframe to an interactive table.\"\n",
              "              style=\"display:none;\">\n",
              "        \n",
              "  <svg xmlns=\"http://www.w3.org/2000/svg\" height=\"24px\"viewBox=\"0 0 24 24\"\n",
              "       width=\"24px\">\n",
              "    <path d=\"M0 0h24v24H0V0z\" fill=\"none\"/>\n",
              "    <path d=\"M18.56 5.44l.94 2.06.94-2.06 2.06-.94-2.06-.94-.94-2.06-.94 2.06-2.06.94zm-11 1L8.5 8.5l.94-2.06 2.06-.94-2.06-.94L8.5 2.5l-.94 2.06-2.06.94zm10 10l.94 2.06.94-2.06 2.06-.94-2.06-.94-.94-2.06-.94 2.06-2.06.94z\"/><path d=\"M17.41 7.96l-1.37-1.37c-.4-.4-.92-.59-1.43-.59-.52 0-1.04.2-1.43.59L10.3 9.45l-7.72 7.72c-.78.78-.78 2.05 0 2.83L4 21.41c.39.39.9.59 1.41.59.51 0 1.02-.2 1.41-.59l7.78-7.78 2.81-2.81c.8-.78.8-2.07 0-2.86zM5.41 20L4 18.59l7.72-7.72 1.47 1.35L5.41 20z\"/>\n",
              "  </svg>\n",
              "      </button>\n",
              "      \n",
              "  <style>\n",
              "    .colab-df-container {\n",
              "      display:flex;\n",
              "      flex-wrap:wrap;\n",
              "      gap: 12px;\n",
              "    }\n",
              "\n",
              "    .colab-df-convert {\n",
              "      background-color: #E8F0FE;\n",
              "      border: none;\n",
              "      border-radius: 50%;\n",
              "      cursor: pointer;\n",
              "      display: none;\n",
              "      fill: #1967D2;\n",
              "      height: 32px;\n",
              "      padding: 0 0 0 0;\n",
              "      width: 32px;\n",
              "    }\n",
              "\n",
              "    .colab-df-convert:hover {\n",
              "      background-color: #E2EBFA;\n",
              "      box-shadow: 0px 1px 2px rgba(60, 64, 67, 0.3), 0px 1px 3px 1px rgba(60, 64, 67, 0.15);\n",
              "      fill: #174EA6;\n",
              "    }\n",
              "\n",
              "    [theme=dark] .colab-df-convert {\n",
              "      background-color: #3B4455;\n",
              "      fill: #D2E3FC;\n",
              "    }\n",
              "\n",
              "    [theme=dark] .colab-df-convert:hover {\n",
              "      background-color: #434B5C;\n",
              "      box-shadow: 0px 1px 3px 1px rgba(0, 0, 0, 0.15);\n",
              "      filter: drop-shadow(0px 1px 2px rgba(0, 0, 0, 0.3));\n",
              "      fill: #FFFFFF;\n",
              "    }\n",
              "  </style>\n",
              "\n",
              "      <script>\n",
              "        const buttonEl =\n",
              "          document.querySelector('#df-05e2fc0b-e627-4c58-b9f9-128a54595978 button.colab-df-convert');\n",
              "        buttonEl.style.display =\n",
              "          google.colab.kernel.accessAllowed ? 'block' : 'none';\n",
              "\n",
              "        async function convertToInteractive(key) {\n",
              "          const element = document.querySelector('#df-05e2fc0b-e627-4c58-b9f9-128a54595978');\n",
              "          const dataTable =\n",
              "            await google.colab.kernel.invokeFunction('convertToInteractive',\n",
              "                                                     [key], {});\n",
              "          if (!dataTable) return;\n",
              "\n",
              "          const docLinkHtml = 'Like what you see? Visit the ' +\n",
              "            '<a target=\"_blank\" href=https://colab.research.google.com/notebooks/data_table.ipynb>data table notebook</a>'\n",
              "            + ' to learn more about interactive tables.';\n",
              "          element.innerHTML = '';\n",
              "          dataTable['output_type'] = 'display_data';\n",
              "          await google.colab.output.renderOutput(dataTable, element);\n",
              "          const docLink = document.createElement('div');\n",
              "          docLink.innerHTML = docLinkHtml;\n",
              "          element.appendChild(docLink);\n",
              "        }\n",
              "      </script>\n",
              "    </div>\n",
              "  </div>\n",
              "  "
            ]
          },
          "metadata": {},
          "execution_count": 5
        }
      ]
    },
    {
      "cell_type": "markdown",
      "metadata": {
        "id": "s6RQOn2OlEMu"
      },
      "source": [
        "CASE WHEN также удобно использовать для подсчета различных показателей, если в одном столбце хранятся несколько разных типов записей. К примеру, у вас может быть колонка \"пол\", где 0 обозначает мужской пол, а 1 женский. Логика подсчета может отличаться в зависимости от пола. Кроме того, case when позволяет нам естественным образом отнести записи к разным категориям, например, определив интервалы значений в каждой категории.\n",
        "\n",
        "Ниже посчитаем кол-во записей каждой группы в столбце, выведем результаты для разных категорий в виде колонок, а не строк."
      ]
    },
    {
      "cell_type": "code",
      "metadata": {
        "id": "qm9D-PPgQZui",
        "colab": {
          "base_uri": "https://localhost:8080/",
          "height": 394
        },
        "outputId": "af8e03db-753c-4dc5-a480-10bcea732641"
      },
      "source": [
        "pd.read_sql_query(\"\"\"\n",
        "SELECT 1 as n FROM da.job\n",
        "  UNION ALL\n",
        "  SELECT 2 as n FROM da.job WHERE job_id > 670\n",
        "  UNION ALL\n",
        "  SELECT 3 as n FROM da.job WHERE job_id < 670\n",
        "\"\"\", conn)"
      ],
      "execution_count": null,
      "outputs": [
        {
          "output_type": "execute_result",
          "data": {
            "text/plain": [
              "    n\n",
              "0   1\n",
              "1   1\n",
              "2   1\n",
              "3   1\n",
              "4   1\n",
              "5   1\n",
              "6   2\n",
              "7   2\n",
              "8   3\n",
              "9   3\n",
              "10  3"
            ],
            "text/html": [
              "\n",
              "  <div id=\"df-96b53c97-e33a-4690-9ba0-4199d87d23ce\">\n",
              "    <div class=\"colab-df-container\">\n",
              "      <div>\n",
              "<style scoped>\n",
              "    .dataframe tbody tr th:only-of-type {\n",
              "        vertical-align: middle;\n",
              "    }\n",
              "\n",
              "    .dataframe tbody tr th {\n",
              "        vertical-align: top;\n",
              "    }\n",
              "\n",
              "    .dataframe thead th {\n",
              "        text-align: right;\n",
              "    }\n",
              "</style>\n",
              "<table border=\"1\" class=\"dataframe\">\n",
              "  <thead>\n",
              "    <tr style=\"text-align: right;\">\n",
              "      <th></th>\n",
              "      <th>n</th>\n",
              "    </tr>\n",
              "  </thead>\n",
              "  <tbody>\n",
              "    <tr>\n",
              "      <th>0</th>\n",
              "      <td>1</td>\n",
              "    </tr>\n",
              "    <tr>\n",
              "      <th>1</th>\n",
              "      <td>1</td>\n",
              "    </tr>\n",
              "    <tr>\n",
              "      <th>2</th>\n",
              "      <td>1</td>\n",
              "    </tr>\n",
              "    <tr>\n",
              "      <th>3</th>\n",
              "      <td>1</td>\n",
              "    </tr>\n",
              "    <tr>\n",
              "      <th>4</th>\n",
              "      <td>1</td>\n",
              "    </tr>\n",
              "    <tr>\n",
              "      <th>5</th>\n",
              "      <td>1</td>\n",
              "    </tr>\n",
              "    <tr>\n",
              "      <th>6</th>\n",
              "      <td>2</td>\n",
              "    </tr>\n",
              "    <tr>\n",
              "      <th>7</th>\n",
              "      <td>2</td>\n",
              "    </tr>\n",
              "    <tr>\n",
              "      <th>8</th>\n",
              "      <td>3</td>\n",
              "    </tr>\n",
              "    <tr>\n",
              "      <th>9</th>\n",
              "      <td>3</td>\n",
              "    </tr>\n",
              "    <tr>\n",
              "      <th>10</th>\n",
              "      <td>3</td>\n",
              "    </tr>\n",
              "  </tbody>\n",
              "</table>\n",
              "</div>\n",
              "      <button class=\"colab-df-convert\" onclick=\"convertToInteractive('df-96b53c97-e33a-4690-9ba0-4199d87d23ce')\"\n",
              "              title=\"Convert this dataframe to an interactive table.\"\n",
              "              style=\"display:none;\">\n",
              "        \n",
              "  <svg xmlns=\"http://www.w3.org/2000/svg\" height=\"24px\"viewBox=\"0 0 24 24\"\n",
              "       width=\"24px\">\n",
              "    <path d=\"M0 0h24v24H0V0z\" fill=\"none\"/>\n",
              "    <path d=\"M18.56 5.44l.94 2.06.94-2.06 2.06-.94-2.06-.94-.94-2.06-.94 2.06-2.06.94zm-11 1L8.5 8.5l.94-2.06 2.06-.94-2.06-.94L8.5 2.5l-.94 2.06-2.06.94zm10 10l.94 2.06.94-2.06 2.06-.94-2.06-.94-.94-2.06-.94 2.06-2.06.94z\"/><path d=\"M17.41 7.96l-1.37-1.37c-.4-.4-.92-.59-1.43-.59-.52 0-1.04.2-1.43.59L10.3 9.45l-7.72 7.72c-.78.78-.78 2.05 0 2.83L4 21.41c.39.39.9.59 1.41.59.51 0 1.02-.2 1.41-.59l7.78-7.78 2.81-2.81c.8-.78.8-2.07 0-2.86zM5.41 20L4 18.59l7.72-7.72 1.47 1.35L5.41 20z\"/>\n",
              "  </svg>\n",
              "      </button>\n",
              "      \n",
              "  <style>\n",
              "    .colab-df-container {\n",
              "      display:flex;\n",
              "      flex-wrap:wrap;\n",
              "      gap: 12px;\n",
              "    }\n",
              "\n",
              "    .colab-df-convert {\n",
              "      background-color: #E8F0FE;\n",
              "      border: none;\n",
              "      border-radius: 50%;\n",
              "      cursor: pointer;\n",
              "      display: none;\n",
              "      fill: #1967D2;\n",
              "      height: 32px;\n",
              "      padding: 0 0 0 0;\n",
              "      width: 32px;\n",
              "    }\n",
              "\n",
              "    .colab-df-convert:hover {\n",
              "      background-color: #E2EBFA;\n",
              "      box-shadow: 0px 1px 2px rgba(60, 64, 67, 0.3), 0px 1px 3px 1px rgba(60, 64, 67, 0.15);\n",
              "      fill: #174EA6;\n",
              "    }\n",
              "\n",
              "    [theme=dark] .colab-df-convert {\n",
              "      background-color: #3B4455;\n",
              "      fill: #D2E3FC;\n",
              "    }\n",
              "\n",
              "    [theme=dark] .colab-df-convert:hover {\n",
              "      background-color: #434B5C;\n",
              "      box-shadow: 0px 1px 3px 1px rgba(0, 0, 0, 0.15);\n",
              "      filter: drop-shadow(0px 1px 2px rgba(0, 0, 0, 0.3));\n",
              "      fill: #FFFFFF;\n",
              "    }\n",
              "  </style>\n",
              "\n",
              "      <script>\n",
              "        const buttonEl =\n",
              "          document.querySelector('#df-96b53c97-e33a-4690-9ba0-4199d87d23ce button.colab-df-convert');\n",
              "        buttonEl.style.display =\n",
              "          google.colab.kernel.accessAllowed ? 'block' : 'none';\n",
              "\n",
              "        async function convertToInteractive(key) {\n",
              "          const element = document.querySelector('#df-96b53c97-e33a-4690-9ba0-4199d87d23ce');\n",
              "          const dataTable =\n",
              "            await google.colab.kernel.invokeFunction('convertToInteractive',\n",
              "                                                     [key], {});\n",
              "          if (!dataTable) return;\n",
              "\n",
              "          const docLinkHtml = 'Like what you see? Visit the ' +\n",
              "            '<a target=\"_blank\" href=https://colab.research.google.com/notebooks/data_table.ipynb>data table notebook</a>'\n",
              "            + ' to learn more about interactive tables.';\n",
              "          element.innerHTML = '';\n",
              "          dataTable['output_type'] = 'display_data';\n",
              "          await google.colab.output.renderOutput(dataTable, element);\n",
              "          const docLink = document.createElement('div');\n",
              "          docLink.innerHTML = docLinkHtml;\n",
              "          element.appendChild(docLink);\n",
              "        }\n",
              "      </script>\n",
              "    </div>\n",
              "  </div>\n",
              "  "
            ]
          },
          "metadata": {},
          "execution_count": 6
        }
      ]
    },
    {
      "cell_type": "code",
      "metadata": {
        "id": "Z65M_N1p5gRt",
        "colab": {
          "base_uri": "https://localhost:8080/",
          "height": 80
        },
        "outputId": "21d4293c-7046-4d57-aa85-1a202de16a7a"
      },
      "source": [
        "pd.read_sql_query(\"\"\"\n",
        "SELECT\n",
        "  SUM(CASE WHEN n = 1 THEN 1 ELSE 0 END) AS \"category_1\",\n",
        "  SUM(CASE WHEN n = 2 THEN 1 ELSE 0 END) AS \"category_2\",\n",
        "  SUM(CASE WHEN n = 3 THEN 1 ELSE 0 END) AS \"category_3\"\n",
        "FROM\n",
        "  (SELECT 1 as n FROM da.job\n",
        "  UNION ALL\n",
        "  SELECT 2 as n FROM da.job WHERE job_id > 670\n",
        "  UNION ALL\n",
        "  SELECT 3 as n FROM da.job WHERE job_id < 670) as tbl\n",
        "\"\"\",conn)"
      ],
      "execution_count": null,
      "outputs": [
        {
          "output_type": "execute_result",
          "data": {
            "text/html": [
              "<div>\n",
              "<style scoped>\n",
              "    .dataframe tbody tr th:only-of-type {\n",
              "        vertical-align: middle;\n",
              "    }\n",
              "\n",
              "    .dataframe tbody tr th {\n",
              "        vertical-align: top;\n",
              "    }\n",
              "\n",
              "    .dataframe thead th {\n",
              "        text-align: right;\n",
              "    }\n",
              "</style>\n",
              "<table border=\"1\" class=\"dataframe\">\n",
              "  <thead>\n",
              "    <tr style=\"text-align: right;\">\n",
              "      <th></th>\n",
              "      <th>category_1</th>\n",
              "      <th>category_2</th>\n",
              "      <th>category_3</th>\n",
              "    </tr>\n",
              "  </thead>\n",
              "  <tbody>\n",
              "    <tr>\n",
              "      <th>0</th>\n",
              "      <td>6</td>\n",
              "      <td>2</td>\n",
              "      <td>3</td>\n",
              "    </tr>\n",
              "  </tbody>\n",
              "</table>\n",
              "</div>"
            ],
            "text/plain": [
              "   category_1  category_2  category_3\n",
              "0           6           2           3"
            ]
          },
          "metadata": {
            "tags": []
          },
          "execution_count": 15
        }
      ]
    },
    {
      "cell_type": "code",
      "metadata": {
        "id": "exxtq-2z7prJ",
        "colab": {
          "base_uri": "https://localhost:8080/",
          "height": 80
        },
        "outputId": "1f4e5e83-3c9d-466f-f926-36bdfdc0f524"
      },
      "source": [
        "# значения NULL COUNT не посчитает, поэтому можно и вот так\n",
        "pd.read_sql_query(\"\"\"\n",
        "SELECT\n",
        "  COUNT(CASE WHEN n = 1 THEN n END) AS \"category_1\",\n",
        "  COUNT(CASE WHEN n = 2 THEN n END) AS \"category_2\",\n",
        "  COUNT(CASE WHEN n = 3 THEN n END) AS \"category_3\"\n",
        "FROM\n",
        "  (SELECT 1 as n FROM da.job\n",
        "  UNION ALL\n",
        "  SELECT 2 as n FROM da.job WHERE job_id > 670\n",
        "  UNION ALL\n",
        "  SELECT 3 as n FROM da.job WHERE job_id < 670) as tbl\n",
        "\"\"\",conn)"
      ],
      "execution_count": null,
      "outputs": [
        {
          "output_type": "execute_result",
          "data": {
            "text/html": [
              "<div>\n",
              "<style scoped>\n",
              "    .dataframe tbody tr th:only-of-type {\n",
              "        vertical-align: middle;\n",
              "    }\n",
              "\n",
              "    .dataframe tbody tr th {\n",
              "        vertical-align: top;\n",
              "    }\n",
              "\n",
              "    .dataframe thead th {\n",
              "        text-align: right;\n",
              "    }\n",
              "</style>\n",
              "<table border=\"1\" class=\"dataframe\">\n",
              "  <thead>\n",
              "    <tr style=\"text-align: right;\">\n",
              "      <th></th>\n",
              "      <th>category_1</th>\n",
              "      <th>category_2</th>\n",
              "      <th>category_3</th>\n",
              "    </tr>\n",
              "  </thead>\n",
              "  <tbody>\n",
              "    <tr>\n",
              "      <th>0</th>\n",
              "      <td>6</td>\n",
              "      <td>2</td>\n",
              "      <td>3</td>\n",
              "    </tr>\n",
              "  </tbody>\n",
              "</table>\n",
              "</div>"
            ],
            "text/plain": [
              "   category_1  category_2  category_3\n",
              "0           6           2           3"
            ]
          },
          "metadata": {
            "tags": []
          },
          "execution_count": 17
        }
      ]
    },
    {
      "cell_type": "markdown",
      "metadata": {
        "id": "R5h5mqGA2KOE"
      },
      "source": [
        "### Создание и изменение таблиц\n",
        "На примере нескольких типов связей, разберем основные DDL конструкции языка SQL, а также разберем сами особенности связей."
      ]
    },
    {
      "cell_type": "markdown",
      "metadata": {
        "id": "Z16_ZYxfxGvj"
      },
      "source": [
        "#### Реализация один к одному. Сотрудники и паспорта\n",
        "![Снимок экрана 2020-11-10 в 17.40.17.png](data:image/png;base64,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)"
      ]
    },
    {
      "cell_type": "code",
      "metadata": {
        "id": "3yQqjjHVx3jw",
        "colab": {
          "base_uri": "https://localhost:8080/",
          "height": 217
        },
        "outputId": "10517a01-dd71-4922-a14f-16d97472ffa1"
      },
      "source": [
        "# скрипт для удаления таблицы на всякий случай\n",
        "query = \"DROP TABLE IF EXISTS da.people\"\n",
        "\n",
        "conn.cursor().execute(query)\n",
        "conn.commit()"
      ],
      "execution_count": null,
      "outputs": [
        {
          "output_type": "error",
          "ename": "InsufficientPrivilege",
          "evalue": "ignored",
          "traceback": [
            "\u001b[0;31m---------------------------------------------------------------------------\u001b[0m",
            "\u001b[0;31mInsufficientPrivilege\u001b[0m                     Traceback (most recent call last)",
            "\u001b[0;32m<ipython-input-12-81a5aa5901fd>\u001b[0m in \u001b[0;36m<module>\u001b[0;34m\u001b[0m\n\u001b[1;32m      2\u001b[0m \u001b[0mquery\u001b[0m \u001b[0;34m=\u001b[0m \u001b[0;34m\"DROP TABLE IF EXISTS da.people\"\u001b[0m\u001b[0;34m\u001b[0m\u001b[0;34m\u001b[0m\u001b[0m\n\u001b[1;32m      3\u001b[0m \u001b[0;34m\u001b[0m\u001b[0m\n\u001b[0;32m----> 4\u001b[0;31m \u001b[0mconn\u001b[0m\u001b[0;34m.\u001b[0m\u001b[0mcursor\u001b[0m\u001b[0;34m(\u001b[0m\u001b[0;34m)\u001b[0m\u001b[0;34m.\u001b[0m\u001b[0mexecute\u001b[0m\u001b[0;34m(\u001b[0m\u001b[0mquery\u001b[0m\u001b[0;34m)\u001b[0m\u001b[0;34m\u001b[0m\u001b[0;34m\u001b[0m\u001b[0m\n\u001b[0m\u001b[1;32m      5\u001b[0m \u001b[0mconn\u001b[0m\u001b[0;34m.\u001b[0m\u001b[0mcommit\u001b[0m\u001b[0;34m(\u001b[0m\u001b[0;34m)\u001b[0m\u001b[0;34m\u001b[0m\u001b[0;34m\u001b[0m\u001b[0m\n",
            "\u001b[0;31mInsufficientPrivilege\u001b[0m: must be owner of table people\n"
          ]
        }
      ]
    },
    {
      "cell_type": "markdown",
      "metadata": {
        "id": "tbft6p3onAmg"
      },
      "source": [
        "Итак, добавим 3 поля в таблицу people (люди). Ниже, вы можете увидеть, что у колонки id тип данных SERIAL, и она является первичным ключом таблиц, то-есть по этому идентификатору можно восстановить уникальную запись. При этом интересен также и тип данных [SERIAL (см пункт 8.1.4)](https://postgrespro.ru/docs/postgresql/9.6/datatype-numeric). Он предоставляет нам поле целочисленного типа к которому также привязана другая сущность - последовательность чисел. С помощью этой последовательности sql сервер при добавлении новых записей выдает очередной номер. Таким образом, нам не нужно заботиться об уникальности добавляемых нами идентификаторов. При вставке мы можем опустить поле id, и новое значение будет вставлено автоматически. Аналогичная конструкция в СУБД mysql выглядела бы как id INT AUTO_INCREMENT PRIMARY KEY.\n",
        "\n",
        "Кроме того, обратите внимание, что для реализации связи один к одному, нам необходимо указать, что поле passport должно быть уникальным во всей таблице. Такое ограничение не позволит добавить еще одного человека с таким же номером паспорта."
      ]
    },
    {
      "cell_type": "code",
      "metadata": {
        "id": "vTYFU794EUCo",
        "colab": {
          "base_uri": "https://localhost:8080/",
          "height": 217
        },
        "outputId": "661b1d4b-bff1-45a9-8336-d375a4b50de3"
      },
      "source": [
        "query = \"\"\"\n",
        "  CREATE TABLE IF NOT EXISTS da.people (\n",
        "    id SERIAL PRIMARY KEY,\n",
        "    name VARCHAR(100),\n",
        "    passport INT UNIQUE\n",
        "  )\n",
        "\"\"\"\n",
        "conn.cursor().execute(query)\n",
        "conn.commit()"
      ],
      "execution_count": null,
      "outputs": [
        {
          "output_type": "error",
          "ename": "InFailedSqlTransaction",
          "evalue": "ignored",
          "traceback": [
            "\u001b[0;31m---------------------------------------------------------------------------\u001b[0m",
            "\u001b[0;31mInFailedSqlTransaction\u001b[0m                    Traceback (most recent call last)",
            "\u001b[0;32m<ipython-input-8-65268e528b75>\u001b[0m in \u001b[0;36m<module>\u001b[0;34m\u001b[0m\n\u001b[1;32m      6\u001b[0m   )\n\u001b[1;32m      7\u001b[0m \"\"\"\n\u001b[0;32m----> 8\u001b[0;31m \u001b[0mconn\u001b[0m\u001b[0;34m.\u001b[0m\u001b[0mcursor\u001b[0m\u001b[0;34m(\u001b[0m\u001b[0;34m)\u001b[0m\u001b[0;34m.\u001b[0m\u001b[0mexecute\u001b[0m\u001b[0;34m(\u001b[0m\u001b[0mquery\u001b[0m\u001b[0;34m)\u001b[0m\u001b[0;34m\u001b[0m\u001b[0;34m\u001b[0m\u001b[0m\n\u001b[0m\u001b[1;32m      9\u001b[0m \u001b[0mconn\u001b[0m\u001b[0;34m.\u001b[0m\u001b[0mcommit\u001b[0m\u001b[0;34m(\u001b[0m\u001b[0;34m)\u001b[0m\u001b[0;34m\u001b[0m\u001b[0;34m\u001b[0m\u001b[0m\n",
            "\u001b[0;31mInFailedSqlTransaction\u001b[0m: current transaction is aborted, commands ignored until end of transaction block\n"
          ]
        }
      ]
    },
    {
      "cell_type": "markdown",
      "metadata": {
        "id": "6fpUosy70BhG"
      },
      "source": [
        "Выполнив запрос ниже, мы можем посмотреть какие таблицы доступны в текущей базе данных"
      ]
    },
    {
      "cell_type": "code",
      "metadata": {
        "id": "TrF2cV0GEmFj",
        "colab": {
          "base_uri": "https://localhost:8080/",
          "height": 80
        },
        "outputId": "1013a7cc-e44c-4a52-bcab-c86228cac86c"
      },
      "source": [
        "pd.read_sql_query(\"\"\"\n",
        "SELECT *\n",
        "FROM pg_catalog.pg_tables\n",
        "WHERE schemaname != 'pg_catalog' AND \n",
        "    schemaname != 'information_schema'\n",
        "    \"\"\", conn)"
      ],
      "execution_count": null,
      "outputs": [
        {
          "output_type": "execute_result",
          "data": {
            "text/html": [
              "<div>\n",
              "<style scoped>\n",
              "    .dataframe tbody tr th:only-of-type {\n",
              "        vertical-align: middle;\n",
              "    }\n",
              "\n",
              "    .dataframe tbody tr th {\n",
              "        vertical-align: top;\n",
              "    }\n",
              "\n",
              "    .dataframe thead th {\n",
              "        text-align: right;\n",
              "    }\n",
              "</style>\n",
              "<table border=\"1\" class=\"dataframe\">\n",
              "  <thead>\n",
              "    <tr style=\"text-align: right;\">\n",
              "      <th></th>\n",
              "      <th>schemaname</th>\n",
              "      <th>tablename</th>\n",
              "      <th>tableowner</th>\n",
              "      <th>tablespace</th>\n",
              "      <th>hasindexes</th>\n",
              "      <th>hasrules</th>\n",
              "      <th>hastriggers</th>\n",
              "      <th>rowsecurity</th>\n",
              "    </tr>\n",
              "  </thead>\n",
              "  <tbody>\n",
              "    <tr>\n",
              "      <th>0</th>\n",
              "      <td>public</td>\n",
              "      <td>people</td>\n",
              "      <td>student_0</td>\n",
              "      <td>None</td>\n",
              "      <td>True</td>\n",
              "      <td>False</td>\n",
              "      <td>False</td>\n",
              "      <td>False</td>\n",
              "    </tr>\n",
              "  </tbody>\n",
              "</table>\n",
              "</div>"
            ],
            "text/plain": [
              "  schemaname tablename tableowner  ... hasrules  hastriggers  rowsecurity\n",
              "0     public    people  student_0  ...    False        False        False\n",
              "\n",
              "[1 rows x 8 columns]"
            ]
          },
          "metadata": {
            "tags": []
          },
          "execution_count": 13
        }
      ]
    },
    {
      "cell_type": "markdown",
      "metadata": {
        "id": "0-85hFeR0HfJ"
      },
      "source": [
        "Внесем новые данные в нашу таблицу, добавим 3 записи о людях. Мы опускаем при вводе поле id, поскольку оно будет заполнено автоматически благодаря тому, что мы указали тип данных SERIAL у этого поля.\n",
        "\n",
        "Ниже каждый элемент массива это **буквально** тот запрос, который получит sql сервер. Поэтому заметьте, что строковые значения мы берем в кавычки."
      ]
    },
    {
      "cell_type": "code",
      "metadata": {
        "id": "l8a0lGFREsdQ"
      },
      "source": [
        "queries = [\n",
        "  \"INSERT INTO people (name, passport) VALUES ('Dmitry', 12345)\",\n",
        "  \"INSERT INTO people (name, passport) VALUES ('Alex', 666)\",\n",
        "  \"INSERT INTO people (name, passport) VALUES ('Peter', 999)\",  \n",
        "]\n",
        "\n",
        "for q in queries:\n",
        "  conn.cursor().execute(q)\n",
        "\n",
        "conn.commit()"
      ],
      "execution_count": null,
      "outputs": []
    },
    {
      "cell_type": "code",
      "metadata": {
        "id": "y-l47UjjFDyo",
        "colab": {
          "base_uri": "https://localhost:8080/",
          "height": 449
        },
        "outputId": "4fa226da-edd8-48c0-f26f-f9ef775610d0"
      },
      "source": [
        "pd.read_sql_query(\"select * from da.people\", conn)"
      ],
      "execution_count": null,
      "outputs": [
        {
          "output_type": "error",
          "ename": "DatabaseError",
          "evalue": "ignored",
          "traceback": [
            "\u001b[0;31m---------------------------------------------------------------------------\u001b[0m",
            "\u001b[0;31mInsufficientPrivilege\u001b[0m                     Traceback (most recent call last)",
            "\u001b[0;32m/usr/local/lib/python3.7/dist-packages/pandas/io/sql.py\u001b[0m in \u001b[0;36mexecute\u001b[0;34m(self, *args, **kwargs)\u001b[0m\n\u001b[1;32m   2055\u001b[0m         \u001b[0;32mtry\u001b[0m\u001b[0;34m:\u001b[0m\u001b[0;34m\u001b[0m\u001b[0;34m\u001b[0m\u001b[0m\n\u001b[0;32m-> 2056\u001b[0;31m             \u001b[0mcur\u001b[0m\u001b[0;34m.\u001b[0m\u001b[0mexecute\u001b[0m\u001b[0;34m(\u001b[0m\u001b[0;34m*\u001b[0m\u001b[0margs\u001b[0m\u001b[0;34m,\u001b[0m \u001b[0;34m**\u001b[0m\u001b[0mkwargs\u001b[0m\u001b[0;34m)\u001b[0m\u001b[0;34m\u001b[0m\u001b[0;34m\u001b[0m\u001b[0m\n\u001b[0m\u001b[1;32m   2057\u001b[0m             \u001b[0;32mreturn\u001b[0m \u001b[0mcur\u001b[0m\u001b[0;34m\u001b[0m\u001b[0;34m\u001b[0m\u001b[0m\n",
            "\u001b[0;31mInsufficientPrivilege\u001b[0m: permission denied for table people\n",
            "\nThe above exception was the direct cause of the following exception:\n",
            "\u001b[0;31mDatabaseError\u001b[0m                             Traceback (most recent call last)",
            "\u001b[0;32m<ipython-input-15-ce7c1edf93ec>\u001b[0m in \u001b[0;36m<module>\u001b[0;34m\u001b[0m\n\u001b[0;32m----> 1\u001b[0;31m \u001b[0mpd\u001b[0m\u001b[0;34m.\u001b[0m\u001b[0mread_sql_query\u001b[0m\u001b[0;34m(\u001b[0m\u001b[0;34m\"select * from da.people\"\u001b[0m\u001b[0;34m,\u001b[0m \u001b[0mconn\u001b[0m\u001b[0;34m)\u001b[0m\u001b[0;34m\u001b[0m\u001b[0;34m\u001b[0m\u001b[0m\n\u001b[0m",
            "\u001b[0;32m/usr/local/lib/python3.7/dist-packages/pandas/io/sql.py\u001b[0m in \u001b[0;36mread_sql_query\u001b[0;34m(sql, con, index_col, coerce_float, params, parse_dates, chunksize, dtype)\u001b[0m\n\u001b[1;32m    441\u001b[0m         \u001b[0mparse_dates\u001b[0m\u001b[0;34m=\u001b[0m\u001b[0mparse_dates\u001b[0m\u001b[0;34m,\u001b[0m\u001b[0;34m\u001b[0m\u001b[0;34m\u001b[0m\u001b[0m\n\u001b[1;32m    442\u001b[0m         \u001b[0mchunksize\u001b[0m\u001b[0;34m=\u001b[0m\u001b[0mchunksize\u001b[0m\u001b[0;34m,\u001b[0m\u001b[0;34m\u001b[0m\u001b[0;34m\u001b[0m\u001b[0m\n\u001b[0;32m--> 443\u001b[0;31m         \u001b[0mdtype\u001b[0m\u001b[0;34m=\u001b[0m\u001b[0mdtype\u001b[0m\u001b[0;34m,\u001b[0m\u001b[0;34m\u001b[0m\u001b[0;34m\u001b[0m\u001b[0m\n\u001b[0m\u001b[1;32m    444\u001b[0m     )\n\u001b[1;32m    445\u001b[0m \u001b[0;34m\u001b[0m\u001b[0m\n",
            "\u001b[0;32m/usr/local/lib/python3.7/dist-packages/pandas/io/sql.py\u001b[0m in \u001b[0;36mread_query\u001b[0;34m(self, sql, index_col, coerce_float, params, parse_dates, chunksize, dtype)\u001b[0m\n\u001b[1;32m   2114\u001b[0m \u001b[0;34m\u001b[0m\u001b[0m\n\u001b[1;32m   2115\u001b[0m         \u001b[0margs\u001b[0m \u001b[0;34m=\u001b[0m \u001b[0m_convert_params\u001b[0m\u001b[0;34m(\u001b[0m\u001b[0msql\u001b[0m\u001b[0;34m,\u001b[0m \u001b[0mparams\u001b[0m\u001b[0;34m)\u001b[0m\u001b[0;34m\u001b[0m\u001b[0;34m\u001b[0m\u001b[0m\n\u001b[0;32m-> 2116\u001b[0;31m         \u001b[0mcursor\u001b[0m \u001b[0;34m=\u001b[0m \u001b[0mself\u001b[0m\u001b[0;34m.\u001b[0m\u001b[0mexecute\u001b[0m\u001b[0;34m(\u001b[0m\u001b[0;34m*\u001b[0m\u001b[0margs\u001b[0m\u001b[0;34m)\u001b[0m\u001b[0;34m\u001b[0m\u001b[0;34m\u001b[0m\u001b[0m\n\u001b[0m\u001b[1;32m   2117\u001b[0m         \u001b[0mcolumns\u001b[0m \u001b[0;34m=\u001b[0m \u001b[0;34m[\u001b[0m\u001b[0mcol_desc\u001b[0m\u001b[0;34m[\u001b[0m\u001b[0;36m0\u001b[0m\u001b[0;34m]\u001b[0m \u001b[0;32mfor\u001b[0m \u001b[0mcol_desc\u001b[0m \u001b[0;32min\u001b[0m \u001b[0mcursor\u001b[0m\u001b[0;34m.\u001b[0m\u001b[0mdescription\u001b[0m\u001b[0;34m]\u001b[0m\u001b[0;34m\u001b[0m\u001b[0;34m\u001b[0m\u001b[0m\n\u001b[1;32m   2118\u001b[0m \u001b[0;34m\u001b[0m\u001b[0m\n",
            "\u001b[0;32m/usr/local/lib/python3.7/dist-packages/pandas/io/sql.py\u001b[0m in \u001b[0;36mexecute\u001b[0;34m(self, *args, **kwargs)\u001b[0m\n\u001b[1;32m   2066\u001b[0m \u001b[0;34m\u001b[0m\u001b[0m\n\u001b[1;32m   2067\u001b[0m             \u001b[0mex\u001b[0m \u001b[0;34m=\u001b[0m \u001b[0mDatabaseError\u001b[0m\u001b[0;34m(\u001b[0m\u001b[0;34mf\"Execution failed on sql '{args[0]}': {exc}\"\u001b[0m\u001b[0;34m)\u001b[0m\u001b[0;34m\u001b[0m\u001b[0;34m\u001b[0m\u001b[0m\n\u001b[0;32m-> 2068\u001b[0;31m             \u001b[0;32mraise\u001b[0m \u001b[0mex\u001b[0m \u001b[0;32mfrom\u001b[0m \u001b[0mexc\u001b[0m\u001b[0;34m\u001b[0m\u001b[0;34m\u001b[0m\u001b[0m\n\u001b[0m\u001b[1;32m   2069\u001b[0m \u001b[0;34m\u001b[0m\u001b[0m\n\u001b[1;32m   2070\u001b[0m     \u001b[0;34m@\u001b[0m\u001b[0mstaticmethod\u001b[0m\u001b[0;34m\u001b[0m\u001b[0;34m\u001b[0m\u001b[0m\n",
            "\u001b[0;31mDatabaseError\u001b[0m: Execution failed on sql 'select * from da.people': permission denied for table people\n"
          ]
        }
      ]
    },
    {
      "cell_type": "markdown",
      "metadata": {
        "id": "nmp4SmWQoP_L"
      },
      "source": [
        "Ниже мы увидим ошибку, так как пытаемся вставить уже существующее в таблице значение в поле passport."
      ]
    },
    {
      "cell_type": "code",
      "metadata": {
        "id": "V2nYmacsFSMI",
        "colab": {
          "base_uri": "https://localhost:8080/",
          "height": 249
        },
        "outputId": "557b1f15-9d24-46a3-a099-90ed7eac9cd5"
      },
      "source": [
        "queries = [\n",
        "  \"INSERT INTO people (name, passport) VALUES ('Vasily', 12345)\", \n",
        "]\n",
        "\n",
        "for q in queries:\n",
        "  conn.cursor().execute(q)\n",
        "\n",
        "conn.commit()"
      ],
      "execution_count": null,
      "outputs": [
        {
          "output_type": "error",
          "ename": "IntegrityError",
          "evalue": "ignored",
          "traceback": [
            "\u001b[0;31m---------------------------------------------------------------------------\u001b[0m",
            "\u001b[0;31mIntegrityError\u001b[0m                            Traceback (most recent call last)",
            "\u001b[0;32m<ipython-input-16-f66f3051adec>\u001b[0m in \u001b[0;36m<module>\u001b[0;34m()\u001b[0m\n\u001b[1;32m      4\u001b[0m \u001b[0;34m\u001b[0m\u001b[0m\n\u001b[1;32m      5\u001b[0m \u001b[0;32mfor\u001b[0m \u001b[0mq\u001b[0m \u001b[0;32min\u001b[0m \u001b[0mqueries\u001b[0m\u001b[0;34m:\u001b[0m\u001b[0;34m\u001b[0m\u001b[0;34m\u001b[0m\u001b[0m\n\u001b[0;32m----> 6\u001b[0;31m   \u001b[0mconn\u001b[0m\u001b[0;34m.\u001b[0m\u001b[0mcursor\u001b[0m\u001b[0;34m(\u001b[0m\u001b[0;34m)\u001b[0m\u001b[0;34m.\u001b[0m\u001b[0mexecute\u001b[0m\u001b[0;34m(\u001b[0m\u001b[0mq\u001b[0m\u001b[0;34m)\u001b[0m\u001b[0;34m\u001b[0m\u001b[0;34m\u001b[0m\u001b[0m\n\u001b[0m\u001b[1;32m      7\u001b[0m \u001b[0;34m\u001b[0m\u001b[0m\n\u001b[1;32m      8\u001b[0m \u001b[0mconn\u001b[0m\u001b[0;34m.\u001b[0m\u001b[0mcommit\u001b[0m\u001b[0;34m(\u001b[0m\u001b[0;34m)\u001b[0m\u001b[0;34m\u001b[0m\u001b[0;34m\u001b[0m\u001b[0m\n",
            "\u001b[0;31mIntegrityError\u001b[0m: duplicate key value violates unique constraint \"people_passport_key\"\nDETAIL:  Key (passport)=(12345) already exists.\n"
          ]
        }
      ]
    },
    {
      "cell_type": "markdown",
      "metadata": {
        "id": "jtiV-YYm1Is9"
      },
      "source": [
        "Сейчас транзакция повисла в промежуточном, ошибочном состоянии, наши изменения, которые произошли до выозва conn.commit() на самом деле не применены. Чтобы вернуть наше соединение с базой в нормальное состояние вызовем conn.rollback(). При этом все изменения, которые мы ввели до ошибки будут отменены."
      ]
    },
    {
      "cell_type": "code",
      "metadata": {
        "id": "rVmX2xyJFUeO"
      },
      "source": [
        "conn.rollback()"
      ],
      "execution_count": null,
      "outputs": []
    },
    {
      "cell_type": "code",
      "metadata": {
        "id": "44kxkbSrFUmp"
      },
      "source": [],
      "execution_count": null,
      "outputs": []
    },
    {
      "cell_type": "code",
      "metadata": {
        "id": "c1-jD8gfFVEi"
      },
      "source": [
        "query = \"DROP TABLE IF EXISTS documents\"\n",
        "\n",
        "conn.cursor().execute(query)\n",
        "conn.commit()"
      ],
      "execution_count": null,
      "outputs": []
    },
    {
      "cell_type": "markdown",
      "metadata": {
        "id": "lqn8h93O1cAi"
      },
      "source": [
        "Создадим также таблицу с документами. В ней сделаем поле passport_id первичным ключом. Именно по этому столбцу мы будем соединять таблицы, и для связи один к одному нам нужна уникальность колонки в обеих таблицах. Первичный ключ в таблице documents, по определению ее обеспечивает."
      ]
    },
    {
      "cell_type": "code",
      "metadata": {
        "id": "5qNaRlHXFboH"
      },
      "source": [
        "query = \"\"\"\n",
        "  CREATE TABLE IF NOT EXISTS documents (\n",
        "    passport_id INT PRIMARY KEY,\n",
        "    birth_date DATE\n",
        "  )\n",
        "\"\"\" # поле passport_id уникально, также как и поле passport в таблице people\n",
        "conn.cursor().execute(query)\n",
        "conn.commit()"
      ],
      "execution_count": null,
      "outputs": []
    },
    {
      "cell_type": "code",
      "metadata": {
        "id": "yIErijWXFboK",
        "colab": {
          "base_uri": "https://localhost:8080/",
          "height": 111
        },
        "outputId": "63cdaa2b-f11f-4b40-c43e-62ee4b57b756"
      },
      "source": [
        "pd.read_sql_query(\"\"\"\n",
        "SELECT *\n",
        "FROM pg_catalog.pg_tables\n",
        "WHERE schemaname != 'pg_catalog' AND \n",
        "    schemaname != 'information_schema'\n",
        "    \"\"\", conn)"
      ],
      "execution_count": null,
      "outputs": [
        {
          "output_type": "execute_result",
          "data": {
            "text/html": [
              "<div>\n",
              "<style scoped>\n",
              "    .dataframe tbody tr th:only-of-type {\n",
              "        vertical-align: middle;\n",
              "    }\n",
              "\n",
              "    .dataframe tbody tr th {\n",
              "        vertical-align: top;\n",
              "    }\n",
              "\n",
              "    .dataframe thead th {\n",
              "        text-align: right;\n",
              "    }\n",
              "</style>\n",
              "<table border=\"1\" class=\"dataframe\">\n",
              "  <thead>\n",
              "    <tr style=\"text-align: right;\">\n",
              "      <th></th>\n",
              "      <th>schemaname</th>\n",
              "      <th>tablename</th>\n",
              "      <th>tableowner</th>\n",
              "      <th>tablespace</th>\n",
              "      <th>hasindexes</th>\n",
              "      <th>hasrules</th>\n",
              "      <th>hastriggers</th>\n",
              "      <th>rowsecurity</th>\n",
              "    </tr>\n",
              "  </thead>\n",
              "  <tbody>\n",
              "    <tr>\n",
              "      <th>0</th>\n",
              "      <td>public</td>\n",
              "      <td>people</td>\n",
              "      <td>student_0</td>\n",
              "      <td>None</td>\n",
              "      <td>True</td>\n",
              "      <td>False</td>\n",
              "      <td>False</td>\n",
              "      <td>False</td>\n",
              "    </tr>\n",
              "    <tr>\n",
              "      <th>1</th>\n",
              "      <td>public</td>\n",
              "      <td>documents</td>\n",
              "      <td>student_0</td>\n",
              "      <td>None</td>\n",
              "      <td>True</td>\n",
              "      <td>False</td>\n",
              "      <td>False</td>\n",
              "      <td>False</td>\n",
              "    </tr>\n",
              "  </tbody>\n",
              "</table>\n",
              "</div>"
            ],
            "text/plain": [
              "  schemaname  tablename tableowner  ... hasrules  hastriggers  rowsecurity\n",
              "0     public     people  student_0  ...    False        False        False\n",
              "1     public  documents  student_0  ...    False        False        False\n",
              "\n",
              "[2 rows x 8 columns]"
            ]
          },
          "metadata": {
            "tags": []
          },
          "execution_count": 21
        }
      ]
    },
    {
      "cell_type": "markdown",
      "metadata": {
        "id": "-rouBgje3pib"
      },
      "source": [
        "Также добавим данных"
      ]
    },
    {
      "cell_type": "code",
      "metadata": {
        "id": "8haj4BBpFboN"
      },
      "source": [
        "queries = [\n",
        "  \"INSERT INTO documents (passport_id, birth_date) VALUES (12345, '1990-01-01')\",\n",
        "  \"INSERT INTO documents (passport_id, birth_date) VALUES (666, '1991-02-01')\",\n",
        "  \"INSERT INTO documents (passport_id, birth_date) VALUES (999, '2000-01-01')\",  \n",
        "]\n",
        "\n",
        "for q in queries:\n",
        "  conn.cursor().execute(q)\n",
        "\n",
        "conn.commit()"
      ],
      "execution_count": null,
      "outputs": []
    },
    {
      "cell_type": "code",
      "metadata": {
        "id": "uBJ2NrgvGE3q",
        "colab": {
          "base_uri": "https://localhost:8080/",
          "height": 449
        },
        "outputId": "5589d531-be88-4f01-c38d-05bfd0711a7e"
      },
      "source": [
        "pd.read_sql_query(\"select * from documents\", conn)"
      ],
      "execution_count": null,
      "outputs": [
        {
          "output_type": "error",
          "ename": "DatabaseError",
          "evalue": "ignored",
          "traceback": [
            "\u001b[0;31m---------------------------------------------------------------------------\u001b[0m",
            "\u001b[0;31mInsufficientPrivilege\u001b[0m                     Traceback (most recent call last)",
            "\u001b[0;32m/usr/local/lib/python3.7/dist-packages/pandas/io/sql.py\u001b[0m in \u001b[0;36mexecute\u001b[0;34m(self, *args, **kwargs)\u001b[0m\n\u001b[1;32m   2055\u001b[0m         \u001b[0;32mtry\u001b[0m\u001b[0;34m:\u001b[0m\u001b[0;34m\u001b[0m\u001b[0;34m\u001b[0m\u001b[0m\n\u001b[0;32m-> 2056\u001b[0;31m             \u001b[0mcur\u001b[0m\u001b[0;34m.\u001b[0m\u001b[0mexecute\u001b[0m\u001b[0;34m(\u001b[0m\u001b[0;34m*\u001b[0m\u001b[0margs\u001b[0m\u001b[0;34m,\u001b[0m \u001b[0;34m**\u001b[0m\u001b[0mkwargs\u001b[0m\u001b[0;34m)\u001b[0m\u001b[0;34m\u001b[0m\u001b[0;34m\u001b[0m\u001b[0m\n\u001b[0m\u001b[1;32m   2057\u001b[0m             \u001b[0;32mreturn\u001b[0m \u001b[0mcur\u001b[0m\u001b[0;34m\u001b[0m\u001b[0;34m\u001b[0m\u001b[0m\n",
            "\u001b[0;31mInsufficientPrivilege\u001b[0m: permission denied for table documents\n",
            "\nThe above exception was the direct cause of the following exception:\n",
            "\u001b[0;31mDatabaseError\u001b[0m                             Traceback (most recent call last)",
            "\u001b[0;32m<ipython-input-17-f9e54c2ab7d5>\u001b[0m in \u001b[0;36m<module>\u001b[0;34m\u001b[0m\n\u001b[0;32m----> 1\u001b[0;31m \u001b[0mpd\u001b[0m\u001b[0;34m.\u001b[0m\u001b[0mread_sql_query\u001b[0m\u001b[0;34m(\u001b[0m\u001b[0;34m\"select * from da.documents\"\u001b[0m\u001b[0;34m,\u001b[0m \u001b[0mconn\u001b[0m\u001b[0;34m)\u001b[0m\u001b[0;34m\u001b[0m\u001b[0;34m\u001b[0m\u001b[0m\n\u001b[0m",
            "\u001b[0;32m/usr/local/lib/python3.7/dist-packages/pandas/io/sql.py\u001b[0m in \u001b[0;36mread_sql_query\u001b[0;34m(sql, con, index_col, coerce_float, params, parse_dates, chunksize, dtype)\u001b[0m\n\u001b[1;32m    441\u001b[0m         \u001b[0mparse_dates\u001b[0m\u001b[0;34m=\u001b[0m\u001b[0mparse_dates\u001b[0m\u001b[0;34m,\u001b[0m\u001b[0;34m\u001b[0m\u001b[0;34m\u001b[0m\u001b[0m\n\u001b[1;32m    442\u001b[0m         \u001b[0mchunksize\u001b[0m\u001b[0;34m=\u001b[0m\u001b[0mchunksize\u001b[0m\u001b[0;34m,\u001b[0m\u001b[0;34m\u001b[0m\u001b[0;34m\u001b[0m\u001b[0m\n\u001b[0;32m--> 443\u001b[0;31m         \u001b[0mdtype\u001b[0m\u001b[0;34m=\u001b[0m\u001b[0mdtype\u001b[0m\u001b[0;34m,\u001b[0m\u001b[0;34m\u001b[0m\u001b[0;34m\u001b[0m\u001b[0m\n\u001b[0m\u001b[1;32m    444\u001b[0m     )\n\u001b[1;32m    445\u001b[0m \u001b[0;34m\u001b[0m\u001b[0m\n",
            "\u001b[0;32m/usr/local/lib/python3.7/dist-packages/pandas/io/sql.py\u001b[0m in \u001b[0;36mread_query\u001b[0;34m(self, sql, index_col, coerce_float, params, parse_dates, chunksize, dtype)\u001b[0m\n\u001b[1;32m   2114\u001b[0m \u001b[0;34m\u001b[0m\u001b[0m\n\u001b[1;32m   2115\u001b[0m         \u001b[0margs\u001b[0m \u001b[0;34m=\u001b[0m \u001b[0m_convert_params\u001b[0m\u001b[0;34m(\u001b[0m\u001b[0msql\u001b[0m\u001b[0;34m,\u001b[0m \u001b[0mparams\u001b[0m\u001b[0;34m)\u001b[0m\u001b[0;34m\u001b[0m\u001b[0;34m\u001b[0m\u001b[0m\n\u001b[0;32m-> 2116\u001b[0;31m         \u001b[0mcursor\u001b[0m \u001b[0;34m=\u001b[0m \u001b[0mself\u001b[0m\u001b[0;34m.\u001b[0m\u001b[0mexecute\u001b[0m\u001b[0;34m(\u001b[0m\u001b[0;34m*\u001b[0m\u001b[0margs\u001b[0m\u001b[0;34m)\u001b[0m\u001b[0;34m\u001b[0m\u001b[0;34m\u001b[0m\u001b[0m\n\u001b[0m\u001b[1;32m   2117\u001b[0m         \u001b[0mcolumns\u001b[0m \u001b[0;34m=\u001b[0m \u001b[0;34m[\u001b[0m\u001b[0mcol_desc\u001b[0m\u001b[0;34m[\u001b[0m\u001b[0;36m0\u001b[0m\u001b[0;34m]\u001b[0m \u001b[0;32mfor\u001b[0m \u001b[0mcol_desc\u001b[0m \u001b[0;32min\u001b[0m \u001b[0mcursor\u001b[0m\u001b[0;34m.\u001b[0m\u001b[0mdescription\u001b[0m\u001b[0;34m]\u001b[0m\u001b[0;34m\u001b[0m\u001b[0;34m\u001b[0m\u001b[0m\n\u001b[1;32m   2118\u001b[0m \u001b[0;34m\u001b[0m\u001b[0m\n",
            "\u001b[0;32m/usr/local/lib/python3.7/dist-packages/pandas/io/sql.py\u001b[0m in \u001b[0;36mexecute\u001b[0;34m(self, *args, **kwargs)\u001b[0m\n\u001b[1;32m   2066\u001b[0m \u001b[0;34m\u001b[0m\u001b[0m\n\u001b[1;32m   2067\u001b[0m             \u001b[0mex\u001b[0m \u001b[0;34m=\u001b[0m \u001b[0mDatabaseError\u001b[0m\u001b[0;34m(\u001b[0m\u001b[0;34mf\"Execution failed on sql '{args[0]}': {exc}\"\u001b[0m\u001b[0;34m)\u001b[0m\u001b[0;34m\u001b[0m\u001b[0;34m\u001b[0m\u001b[0m\n\u001b[0;32m-> 2068\u001b[0;31m             \u001b[0;32mraise\u001b[0m \u001b[0mex\u001b[0m \u001b[0;32mfrom\u001b[0m \u001b[0mexc\u001b[0m\u001b[0;34m\u001b[0m\u001b[0;34m\u001b[0m\u001b[0m\n\u001b[0m\u001b[1;32m   2069\u001b[0m \u001b[0;34m\u001b[0m\u001b[0m\n\u001b[1;32m   2070\u001b[0m     \u001b[0;34m@\u001b[0m\u001b[0mstaticmethod\u001b[0m\u001b[0;34m\u001b[0m\u001b[0;34m\u001b[0m\u001b[0m\n",
            "\u001b[0;31mDatabaseError\u001b[0m: Execution failed on sql 'select * from da.documents': permission denied for table documents\n"
          ]
        }
      ]
    },
    {
      "cell_type": "markdown",
      "metadata": {
        "id": "mOLLQ9BZ3sbt"
      },
      "source": [
        "Запрос ниже вызывает ошибку, поскольку мы не можем ввести еще одно значение с существующим номером паспорта."
      ]
    },
    {
      "cell_type": "code",
      "metadata": {
        "id": "B6gS5Inzvwxw",
        "colab": {
          "base_uri": "https://localhost:8080/",
          "height": 249
        },
        "outputId": "4b6ae4c7-dfb4-4d85-e22f-a1fc7f896d26"
      },
      "source": [
        "queries = [\n",
        "  \"INSERT INTO documents (passport_id, birth_date) VALUES (666, '1992-02-01')\",\n",
        "\n",
        "]\n",
        "\n",
        "for q in queries:\n",
        "  conn.cursor().execute(q)\n",
        "\n",
        "conn.commit()"
      ],
      "execution_count": null,
      "outputs": [
        {
          "output_type": "error",
          "ename": "IntegrityError",
          "evalue": "ignored",
          "traceback": [
            "\u001b[0;31m---------------------------------------------------------------------------\u001b[0m",
            "\u001b[0;31mIntegrityError\u001b[0m                            Traceback (most recent call last)",
            "\u001b[0;32m<ipython-input-27-3eb8df65f064>\u001b[0m in \u001b[0;36m<module>\u001b[0;34m()\u001b[0m\n\u001b[1;32m      5\u001b[0m \u001b[0;34m\u001b[0m\u001b[0m\n\u001b[1;32m      6\u001b[0m \u001b[0;32mfor\u001b[0m \u001b[0mq\u001b[0m \u001b[0;32min\u001b[0m \u001b[0mqueries\u001b[0m\u001b[0;34m:\u001b[0m\u001b[0;34m\u001b[0m\u001b[0;34m\u001b[0m\u001b[0m\n\u001b[0;32m----> 7\u001b[0;31m   \u001b[0mconn\u001b[0m\u001b[0;34m.\u001b[0m\u001b[0mcursor\u001b[0m\u001b[0;34m(\u001b[0m\u001b[0;34m)\u001b[0m\u001b[0;34m.\u001b[0m\u001b[0mexecute\u001b[0m\u001b[0;34m(\u001b[0m\u001b[0mq\u001b[0m\u001b[0;34m)\u001b[0m\u001b[0;34m\u001b[0m\u001b[0;34m\u001b[0m\u001b[0m\n\u001b[0m\u001b[1;32m      8\u001b[0m \u001b[0;34m\u001b[0m\u001b[0m\n\u001b[1;32m      9\u001b[0m \u001b[0mconn\u001b[0m\u001b[0;34m.\u001b[0m\u001b[0mcommit\u001b[0m\u001b[0;34m(\u001b[0m\u001b[0;34m)\u001b[0m\u001b[0;34m\u001b[0m\u001b[0;34m\u001b[0m\u001b[0m\n",
            "\u001b[0;31mIntegrityError\u001b[0m: duplicate key value violates unique constraint \"documents_pkey\"\nDETAIL:  Key (passport_id)=(666) already exists.\n"
          ]
        }
      ]
    },
    {
      "cell_type": "code",
      "metadata": {
        "id": "X1ozqhN2v1GI"
      },
      "source": [
        "conn.rollback()"
      ],
      "execution_count": null,
      "outputs": []
    },
    {
      "cell_type": "markdown",
      "metadata": {
        "id": "Vq_q5PrN3yWg"
      },
      "source": [
        "Теперь свяжем наши таблицы с помощью внешнего ключа. Для этого воспользуемся инструкцией ALTER TABLE."
      ]
    },
    {
      "cell_type": "code",
      "metadata": {
        "id": "zgtNhOwoGJ27"
      },
      "source": [
        "query = \"\"\"\n",
        "ALTER TABLE people ADD FOREIGN KEY (passport) REFERENCES documents(passport_id)  \n",
        "\"\"\"\n",
        "\n",
        "conn.cursor().execute(query)\n",
        "conn.commit()"
      ],
      "execution_count": null,
      "outputs": []
    },
    {
      "cell_type": "code",
      "metadata": {
        "id": "PVjOG-aG4HrR"
      },
      "source": [
        "Попробуем теперь нарушить ограничение: попытаемся добавить шпиона с паспортом, которого не сущесвует"
      ],
      "execution_count": null,
      "outputs": []
    },
    {
      "cell_type": "code",
      "metadata": {
        "id": "1TXqLe6XG30W",
        "colab": {
          "base_uri": "https://localhost:8080/",
          "height": 334
        },
        "outputId": "1f382b81-ab2b-412a-d4ff-ce5323530ec9"
      },
      "source": [
        "try:\n",
        "  query = \"\"\"\n",
        "    INSERT INTO people (name, passport) VALUES ('Spy', 11111)\n",
        "  \"\"\"\n",
        "\n",
        "  conn.cursor().execute(query)\n",
        "  conn.commit()\n",
        "except Exception as e:\n",
        "  conn.rollback()\n",
        "  raise e"
      ],
      "execution_count": null,
      "outputs": [
        {
          "output_type": "error",
          "ename": "IntegrityError",
          "evalue": "ignored",
          "traceback": [
            "\u001b[0;31m---------------------------------------------------------------------------\u001b[0m",
            "\u001b[0;31mIntegrityError\u001b[0m                            Traceback (most recent call last)",
            "\u001b[0;32m<ipython-input-33-c25258b59da6>\u001b[0m in \u001b[0;36m<module>\u001b[0;34m()\u001b[0m\n\u001b[1;32m     11\u001b[0m \u001b[0;32mexcept\u001b[0m \u001b[0mException\u001b[0m \u001b[0;32mas\u001b[0m \u001b[0me\u001b[0m\u001b[0;34m:\u001b[0m\u001b[0;34m\u001b[0m\u001b[0;34m\u001b[0m\u001b[0m\n\u001b[1;32m     12\u001b[0m   \u001b[0mconn\u001b[0m\u001b[0;34m.\u001b[0m\u001b[0mrollback\u001b[0m\u001b[0;34m(\u001b[0m\u001b[0;34m)\u001b[0m\u001b[0;34m\u001b[0m\u001b[0;34m\u001b[0m\u001b[0m\n\u001b[0;32m---> 13\u001b[0;31m   \u001b[0;32mraise\u001b[0m \u001b[0me\u001b[0m\u001b[0;34m\u001b[0m\u001b[0;34m\u001b[0m\u001b[0m\n\u001b[0m",
            "\u001b[0;32m<ipython-input-33-c25258b59da6>\u001b[0m in \u001b[0;36m<module>\u001b[0;34m()\u001b[0m\n\u001b[1;32m      5\u001b[0m   \"\"\"\n\u001b[1;32m      6\u001b[0m \u001b[0;34m\u001b[0m\u001b[0m\n\u001b[0;32m----> 7\u001b[0;31m   \u001b[0mconn\u001b[0m\u001b[0;34m.\u001b[0m\u001b[0mcursor\u001b[0m\u001b[0;34m(\u001b[0m\u001b[0;34m)\u001b[0m\u001b[0;34m.\u001b[0m\u001b[0mexecute\u001b[0m\u001b[0;34m(\u001b[0m\u001b[0mquery\u001b[0m\u001b[0;34m)\u001b[0m\u001b[0;34m\u001b[0m\u001b[0;34m\u001b[0m\u001b[0m\n\u001b[0m\u001b[1;32m      8\u001b[0m   \u001b[0mconn\u001b[0m\u001b[0;34m.\u001b[0m\u001b[0mcommit\u001b[0m\u001b[0;34m(\u001b[0m\u001b[0;34m)\u001b[0m\u001b[0;34m\u001b[0m\u001b[0;34m\u001b[0m\u001b[0m\n\u001b[1;32m      9\u001b[0m   \u001b[0;31m# Cannot ad or update a child row: a foreign key constraint fails\u001b[0m\u001b[0;34m\u001b[0m\u001b[0;34m\u001b[0m\u001b[0;34m\u001b[0m\u001b[0m\n",
            "\u001b[0;31mIntegrityError\u001b[0m: insert or update on table \"people\" violates foreign key constraint \"people_passport_fkey\"\nDETAIL:  Key (passport)=(11111) is not present in table \"documents\".\n"
          ]
        }
      ]
    },
    {
      "cell_type": "markdown",
      "metadata": {
        "id": "FqGJr1rz4MS7"
      },
      "source": [
        "```\n",
        "Cannot ad or update a child row: a foreign key constraint fails\n",
        "```\n",
        "\n",
        "Т.е. sql сервер говорит нам о том, что ограничение целостности не выполняется. Сначала надо добавить паспорт!\n",
        "\n",
        "Давайте его добавим:"
      ]
    },
    {
      "cell_type": "code",
      "metadata": {
        "id": "patQtS3mHJMt"
      },
      "source": [
        "query = \"\"\"\n",
        "  INSERT INTO documents (passport_id, birth_date) VALUES (11111, '1995-01-01')\n",
        "\"\"\"\n",
        "\n",
        "conn.cursor().execute(query)\n",
        "conn.commit()"
      ],
      "execution_count": null,
      "outputs": []
    },
    {
      "cell_type": "code",
      "metadata": {
        "id": "4ar-Y3sGHSmY",
        "colab": {
          "base_uri": "https://localhost:8080/",
          "height": 173
        },
        "outputId": "85d288f5-f085-4c30-c5ed-c790681c8179"
      },
      "source": [
        "pd.read_sql_query(\"select * from documents\",conn)"
      ],
      "execution_count": null,
      "outputs": [
        {
          "output_type": "execute_result",
          "data": {
            "text/html": [
              "<div>\n",
              "<style scoped>\n",
              "    .dataframe tbody tr th:only-of-type {\n",
              "        vertical-align: middle;\n",
              "    }\n",
              "\n",
              "    .dataframe tbody tr th {\n",
              "        vertical-align: top;\n",
              "    }\n",
              "\n",
              "    .dataframe thead th {\n",
              "        text-align: right;\n",
              "    }\n",
              "</style>\n",
              "<table border=\"1\" class=\"dataframe\">\n",
              "  <thead>\n",
              "    <tr style=\"text-align: right;\">\n",
              "      <th></th>\n",
              "      <th>passport_id</th>\n",
              "      <th>birth_date</th>\n",
              "    </tr>\n",
              "  </thead>\n",
              "  <tbody>\n",
              "    <tr>\n",
              "      <th>0</th>\n",
              "      <td>12345</td>\n",
              "      <td>1990-01-01</td>\n",
              "    </tr>\n",
              "    <tr>\n",
              "      <th>1</th>\n",
              "      <td>666</td>\n",
              "      <td>1991-02-01</td>\n",
              "    </tr>\n",
              "    <tr>\n",
              "      <th>2</th>\n",
              "      <td>999</td>\n",
              "      <td>2000-01-01</td>\n",
              "    </tr>\n",
              "    <tr>\n",
              "      <th>3</th>\n",
              "      <td>11111</td>\n",
              "      <td>1995-01-01</td>\n",
              "    </tr>\n",
              "  </tbody>\n",
              "</table>\n",
              "</div>"
            ],
            "text/plain": [
              "   passport_id  birth_date\n",
              "0        12345  1990-01-01\n",
              "1          666  1991-02-01\n",
              "2          999  2000-01-01\n",
              "3        11111  1995-01-01"
            ]
          },
          "metadata": {
            "tags": []
          },
          "execution_count": 35
        }
      ]
    },
    {
      "cell_type": "markdown",
      "metadata": {
        "id": "gmgug6sm4bFV"
      },
      "source": [
        "И теперь попробуем ещё раз добавить этого человека"
      ]
    },
    {
      "cell_type": "code",
      "metadata": {
        "id": "8MHDKE86HWtv"
      },
      "source": [
        "query = \"\"\"\n",
        "  INSERT INTO people (name, passport) VALUES ('Spy', 11111)\n",
        "\"\"\"\n",
        "\n",
        "conn.cursor().execute(query)\n",
        "conn.commit()"
      ],
      "execution_count": null,
      "outputs": []
    },
    {
      "cell_type": "markdown",
      "metadata": {
        "id": "-CeGKKI44edu"
      },
      "source": [
        "На этот раз всё успешно"
      ]
    },
    {
      "cell_type": "markdown",
      "metadata": {
        "id": "hh6wT1Ap4ibM"
      },
      "source": [
        "Кроме того мы не можем просто так удалить строчку из таблицы documents"
      ]
    },
    {
      "cell_type": "code",
      "metadata": {
        "id": "_wriq3p_IH7m",
        "colab": {
          "base_uri": "https://localhost:8080/",
          "height": 249
        },
        "outputId": "02b31832-b2db-4321-ed2c-56bf1501f87c"
      },
      "source": [
        "query = \"\"\"\n",
        "DELETE FROM documents\n",
        "WHERE passport_id = 11111\n",
        "\"\"\"\n",
        "\n",
        "conn.cursor().execute(query)\n",
        "conn.commit()"
      ],
      "execution_count": null,
      "outputs": [
        {
          "output_type": "error",
          "ename": "IntegrityError",
          "evalue": "ignored",
          "traceback": [
            "\u001b[0;31m---------------------------------------------------------------------------\u001b[0m",
            "\u001b[0;31mIntegrityError\u001b[0m                            Traceback (most recent call last)",
            "\u001b[0;32m<ipython-input-41-fb5e88ac5588>\u001b[0m in \u001b[0;36m<module>\u001b[0;34m()\u001b[0m\n\u001b[1;32m      5\u001b[0m \"\"\"\n\u001b[1;32m      6\u001b[0m \u001b[0;34m\u001b[0m\u001b[0m\n\u001b[0;32m----> 7\u001b[0;31m \u001b[0mconn\u001b[0m\u001b[0;34m.\u001b[0m\u001b[0mcursor\u001b[0m\u001b[0;34m(\u001b[0m\u001b[0;34m)\u001b[0m\u001b[0;34m.\u001b[0m\u001b[0mexecute\u001b[0m\u001b[0;34m(\u001b[0m\u001b[0mquery\u001b[0m\u001b[0;34m)\u001b[0m\u001b[0;34m\u001b[0m\u001b[0;34m\u001b[0m\u001b[0m\n\u001b[0m\u001b[1;32m      8\u001b[0m \u001b[0mconn\u001b[0m\u001b[0;34m.\u001b[0m\u001b[0mcommit\u001b[0m\u001b[0;34m(\u001b[0m\u001b[0;34m)\u001b[0m\u001b[0;34m\u001b[0m\u001b[0;34m\u001b[0m\u001b[0m\n\u001b[1;32m      9\u001b[0m \u001b[0;31m# Cannot delete or update a parent row: a foreign key contraint fails\u001b[0m\u001b[0;34m\u001b[0m\u001b[0;34m\u001b[0m\u001b[0;34m\u001b[0m\u001b[0m\n",
            "\u001b[0;31mIntegrityError\u001b[0m: update or delete on table \"documents\" violates foreign key constraint \"people_passport_fkey\" on table \"people\"\nDETAIL:  Key (passport_id)=(11111) is still referenced from table \"people\".\n"
          ]
        }
      ]
    },
    {
      "cell_type": "markdown",
      "metadata": {
        "id": "pERbjZYN4mcP"
      },
      "source": [
        "```\n",
        "Cannot delete or update a parent row: a foreign key contraint fails\n",
        "```\n",
        "\n",
        "Поскольку если мы удалим эту строчку, то таблица people станет некорректной, потому что паспорта с таким номером не будет существовать. Такое поведение является поведением по умолчанию, и его можно поменять, например, чтобы при удалении записи на которую ссылаются записи в других таблицах, соответствующее поле в каждой зависимой таблице для этих записей выставлялось в значение NULL.\n",
        "\n",
        "\n",
        "См. [Отслеживание зависимостей](https://postgrespro.ru/docs/postgresql/9.6/ddl-depend) и [Ограничения: внешние ключи раздел 5.3.5](https://postgrespro.ru/docs/postgrespro/9.5/ddl-constraints)"
      ]
    },
    {
      "cell_type": "markdown",
      "metadata": {
        "id": "qpk7dJ146MBo"
      },
      "source": [
        "Подытожим, что нам позволило сделать связь один к одному?\n",
        "1. Внешние ключи\n",
        "2. Уникальность поля passport_id в таблице documents\n",
        "3. Уникальность поля passport в таблице people\n",
        "\n",
        "Отвеьте себе на вопрос почему каждый из этих пунктов важен для реализации этого типа связи."
      ]
    },
    {
      "cell_type": "markdown",
      "metadata": {
        "id": "rbp12ZIT1fo8"
      },
      "source": [
        "#### Реализация связи один ко многим. Кассир и покупатели\n",
        "![Снимок экрана 2020-11-10 в 17.41.05.png](data:image/png;base64,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)"
      ]
    },
    {
      "cell_type": "markdown",
      "metadata": {
        "id": "OeTUX-P96fWn"
      },
      "source": [
        "В данном случае мы убираем два последний пункта, позволявших нам сделать связь один к одному, и оставляем просто ограничение внешнего ключа. Так, мы получим связь один ко многим.\n",
        "\n",
        "Проведем аналогичный процесс создания и заполнения таблиц:"
      ]
    },
    {
      "cell_type": "code",
      "metadata": {
        "id": "tEvK4wDYL2l3"
      },
      "source": [
        "query = \"DROP TABLE IF EXISTS cashier\"\n",
        "\n",
        "conn.cursor().execute(query)\n",
        "conn.commit()"
      ],
      "execution_count": null,
      "outputs": []
    },
    {
      "cell_type": "code",
      "metadata": {
        "id": "qKbBKjBrL2l5"
      },
      "source": [
        "query = \"\"\"\n",
        "  CREATE TABLE IF NOT EXISTS cashier (\n",
        "    id SERIAL PRIMARY KEY,\n",
        "    name VARCHAR(20)\n",
        "  )\n",
        "\"\"\"\n",
        "conn.cursor().execute(query)\n",
        "conn.commit()"
      ],
      "execution_count": null,
      "outputs": []
    },
    {
      "cell_type": "code",
      "metadata": {
        "id": "s-pAasT6L2l6",
        "colab": {
          "base_uri": "https://localhost:8080/",
          "height": 142
        },
        "outputId": "1f61c048-863f-486f-fdf6-c931bcdf67e5"
      },
      "source": [
        "pd.read_sql_query(\"\"\"\n",
        "SELECT *\n",
        "FROM pg_catalog.pg_tables\n",
        "WHERE schemaname != 'pg_catalog' AND \n",
        "    schemaname != 'information_schema'\n",
        "    \"\"\", conn)"
      ],
      "execution_count": null,
      "outputs": [
        {
          "output_type": "execute_result",
          "data": {
            "text/html": [
              "<div>\n",
              "<style scoped>\n",
              "    .dataframe tbody tr th:only-of-type {\n",
              "        vertical-align: middle;\n",
              "    }\n",
              "\n",
              "    .dataframe tbody tr th {\n",
              "        vertical-align: top;\n",
              "    }\n",
              "\n",
              "    .dataframe thead th {\n",
              "        text-align: right;\n",
              "    }\n",
              "</style>\n",
              "<table border=\"1\" class=\"dataframe\">\n",
              "  <thead>\n",
              "    <tr style=\"text-align: right;\">\n",
              "      <th></th>\n",
              "      <th>schemaname</th>\n",
              "      <th>tablename</th>\n",
              "      <th>tableowner</th>\n",
              "      <th>tablespace</th>\n",
              "      <th>hasindexes</th>\n",
              "      <th>hasrules</th>\n",
              "      <th>hastriggers</th>\n",
              "      <th>rowsecurity</th>\n",
              "    </tr>\n",
              "  </thead>\n",
              "  <tbody>\n",
              "    <tr>\n",
              "      <th>0</th>\n",
              "      <td>public</td>\n",
              "      <td>documents</td>\n",
              "      <td>student_0</td>\n",
              "      <td>None</td>\n",
              "      <td>True</td>\n",
              "      <td>False</td>\n",
              "      <td>True</td>\n",
              "      <td>False</td>\n",
              "    </tr>\n",
              "    <tr>\n",
              "      <th>1</th>\n",
              "      <td>public</td>\n",
              "      <td>people</td>\n",
              "      <td>student_0</td>\n",
              "      <td>None</td>\n",
              "      <td>True</td>\n",
              "      <td>False</td>\n",
              "      <td>True</td>\n",
              "      <td>False</td>\n",
              "    </tr>\n",
              "    <tr>\n",
              "      <th>2</th>\n",
              "      <td>public</td>\n",
              "      <td>cashier</td>\n",
              "      <td>student_0</td>\n",
              "      <td>None</td>\n",
              "      <td>True</td>\n",
              "      <td>False</td>\n",
              "      <td>False</td>\n",
              "      <td>False</td>\n",
              "    </tr>\n",
              "  </tbody>\n",
              "</table>\n",
              "</div>"
            ],
            "text/plain": [
              "  schemaname  tablename tableowner  ... hasrules  hastriggers  rowsecurity\n",
              "0     public  documents  student_0  ...    False         True        False\n",
              "1     public     people  student_0  ...    False         True        False\n",
              "2     public    cashier  student_0  ...    False        False        False\n",
              "\n",
              "[3 rows x 8 columns]"
            ]
          },
          "metadata": {
            "tags": []
          },
          "execution_count": 46
        }
      ]
    },
    {
      "cell_type": "code",
      "metadata": {
        "id": "e9bEfr_nMIAN"
      },
      "source": [],
      "execution_count": null,
      "outputs": []
    },
    {
      "cell_type": "code",
      "metadata": {
        "id": "di9efsqFMIE4"
      },
      "source": [],
      "execution_count": null,
      "outputs": []
    },
    {
      "cell_type": "code",
      "metadata": {
        "id": "NJCt-Zn2MIhP"
      },
      "source": [],
      "execution_count": null,
      "outputs": []
    },
    {
      "cell_type": "code",
      "metadata": {
        "id": "DhEASIGbMHQi"
      },
      "source": [
        "query = \"DROP TABLE IF EXISTS buyers\"\n",
        "\n",
        "conn.cursor().execute(query)\n",
        "conn.commit()"
      ],
      "execution_count": null,
      "outputs": []
    },
    {
      "cell_type": "code",
      "metadata": {
        "id": "YfCq2Vp_MHQn"
      },
      "source": [
        "query = \"\"\"\n",
        "  CREATE TABLE IF NOT EXISTS buyers (\n",
        "    id SERIAL PRIMARY KEY,\n",
        "    name VARCHAR(20)\n",
        "  )\n",
        "\"\"\"\n",
        "conn.cursor().execute(query)\n",
        "conn.commit()"
      ],
      "execution_count": null,
      "outputs": []
    },
    {
      "cell_type": "code",
      "metadata": {
        "id": "MXhfQzz1MHQp",
        "colab": {
          "base_uri": "https://localhost:8080/",
          "height": 173
        },
        "outputId": "84be2210-b79d-4511-ce0e-194d2a310551"
      },
      "source": [
        "pd.read_sql_query(\"\"\"\n",
        "SELECT *\n",
        "FROM pg_catalog.pg_tables\n",
        "WHERE schemaname != 'pg_catalog' AND \n",
        "    schemaname != 'information_schema'\n",
        "    \"\"\", conn)"
      ],
      "execution_count": null,
      "outputs": [
        {
          "output_type": "execute_result",
          "data": {
            "text/html": [
              "<div>\n",
              "<style scoped>\n",
              "    .dataframe tbody tr th:only-of-type {\n",
              "        vertical-align: middle;\n",
              "    }\n",
              "\n",
              "    .dataframe tbody tr th {\n",
              "        vertical-align: top;\n",
              "    }\n",
              "\n",
              "    .dataframe thead th {\n",
              "        text-align: right;\n",
              "    }\n",
              "</style>\n",
              "<table border=\"1\" class=\"dataframe\">\n",
              "  <thead>\n",
              "    <tr style=\"text-align: right;\">\n",
              "      <th></th>\n",
              "      <th>schemaname</th>\n",
              "      <th>tablename</th>\n",
              "      <th>tableowner</th>\n",
              "      <th>tablespace</th>\n",
              "      <th>hasindexes</th>\n",
              "      <th>hasrules</th>\n",
              "      <th>hastriggers</th>\n",
              "      <th>rowsecurity</th>\n",
              "    </tr>\n",
              "  </thead>\n",
              "  <tbody>\n",
              "    <tr>\n",
              "      <th>0</th>\n",
              "      <td>public</td>\n",
              "      <td>documents</td>\n",
              "      <td>student_0</td>\n",
              "      <td>None</td>\n",
              "      <td>True</td>\n",
              "      <td>False</td>\n",
              "      <td>True</td>\n",
              "      <td>False</td>\n",
              "    </tr>\n",
              "    <tr>\n",
              "      <th>1</th>\n",
              "      <td>public</td>\n",
              "      <td>people</td>\n",
              "      <td>student_0</td>\n",
              "      <td>None</td>\n",
              "      <td>True</td>\n",
              "      <td>False</td>\n",
              "      <td>True</td>\n",
              "      <td>False</td>\n",
              "    </tr>\n",
              "    <tr>\n",
              "      <th>2</th>\n",
              "      <td>public</td>\n",
              "      <td>cashier</td>\n",
              "      <td>student_0</td>\n",
              "      <td>None</td>\n",
              "      <td>True</td>\n",
              "      <td>False</td>\n",
              "      <td>False</td>\n",
              "      <td>False</td>\n",
              "    </tr>\n",
              "    <tr>\n",
              "      <th>3</th>\n",
              "      <td>public</td>\n",
              "      <td>buyers</td>\n",
              "      <td>student_0</td>\n",
              "      <td>None</td>\n",
              "      <td>True</td>\n",
              "      <td>False</td>\n",
              "      <td>False</td>\n",
              "      <td>False</td>\n",
              "    </tr>\n",
              "  </tbody>\n",
              "</table>\n",
              "</div>"
            ],
            "text/plain": [
              "  schemaname  tablename tableowner  ... hasrules  hastriggers  rowsecurity\n",
              "0     public  documents  student_0  ...    False         True        False\n",
              "1     public     people  student_0  ...    False         True        False\n",
              "2     public    cashier  student_0  ...    False        False        False\n",
              "3     public     buyers  student_0  ...    False        False        False\n",
              "\n",
              "[4 rows x 8 columns]"
            ]
          },
          "metadata": {
            "tags": []
          },
          "execution_count": 52
        }
      ]
    },
    {
      "cell_type": "code",
      "metadata": {
        "id": "qYbGURa9MQbr"
      },
      "source": [
        "queries = [\n",
        "           \"INSERT INTO cashier (name) VALUES ('Valentina')\",\n",
        "           \"INSERT INTO cashier (name) VALUES ('Anatoly')\",\n",
        "           \"INSERT INTO buyers (name) VALUES ('Dmitry')\",\n",
        "           \"INSERT INTO buyers (name) VALUES ('Alex')\",\n",
        "]\n",
        "\n",
        "cursor = conn.cursor()\n",
        "for q in queries:\n",
        "  cursor.execute(q)\n",
        "\n",
        "conn.commit()"
      ],
      "execution_count": null,
      "outputs": []
    },
    {
      "cell_type": "code",
      "metadata": {
        "id": "GykdKJX1MyvH",
        "colab": {
          "base_uri": "https://localhost:8080/",
          "height": 111
        },
        "outputId": "4878062d-0063-4b94-8783-aefad4f14752"
      },
      "source": [
        "pd.read_sql_query(\"select * from cashier\",conn)"
      ],
      "execution_count": null,
      "outputs": [
        {
          "output_type": "execute_result",
          "data": {
            "text/html": [
              "<div>\n",
              "<style scoped>\n",
              "    .dataframe tbody tr th:only-of-type {\n",
              "        vertical-align: middle;\n",
              "    }\n",
              "\n",
              "    .dataframe tbody tr th {\n",
              "        vertical-align: top;\n",
              "    }\n",
              "\n",
              "    .dataframe thead th {\n",
              "        text-align: right;\n",
              "    }\n",
              "</style>\n",
              "<table border=\"1\" class=\"dataframe\">\n",
              "  <thead>\n",
              "    <tr style=\"text-align: right;\">\n",
              "      <th></th>\n",
              "      <th>id</th>\n",
              "      <th>name</th>\n",
              "    </tr>\n",
              "  </thead>\n",
              "  <tbody>\n",
              "    <tr>\n",
              "      <th>0</th>\n",
              "      <td>1</td>\n",
              "      <td>Valentina</td>\n",
              "    </tr>\n",
              "    <tr>\n",
              "      <th>1</th>\n",
              "      <td>2</td>\n",
              "      <td>Anatoly</td>\n",
              "    </tr>\n",
              "  </tbody>\n",
              "</table>\n",
              "</div>"
            ],
            "text/plain": [
              "   id       name\n",
              "0   1  Valentina\n",
              "1   2    Anatoly"
            ]
          },
          "metadata": {
            "tags": []
          },
          "execution_count": 54
        }
      ]
    },
    {
      "cell_type": "code",
      "metadata": {
        "id": "9FJKBENGM2YL",
        "colab": {
          "base_uri": "https://localhost:8080/",
          "height": 111
        },
        "outputId": "3ec90712-eaf8-4e0f-960c-7a4ec903730c"
      },
      "source": [
        "pd.read_sql_query(\"select * from buyers\", conn)"
      ],
      "execution_count": null,
      "outputs": [
        {
          "output_type": "execute_result",
          "data": {
            "text/html": [
              "<div>\n",
              "<style scoped>\n",
              "    .dataframe tbody tr th:only-of-type {\n",
              "        vertical-align: middle;\n",
              "    }\n",
              "\n",
              "    .dataframe tbody tr th {\n",
              "        vertical-align: top;\n",
              "    }\n",
              "\n",
              "    .dataframe thead th {\n",
              "        text-align: right;\n",
              "    }\n",
              "</style>\n",
              "<table border=\"1\" class=\"dataframe\">\n",
              "  <thead>\n",
              "    <tr style=\"text-align: right;\">\n",
              "      <th></th>\n",
              "      <th>id</th>\n",
              "      <th>name</th>\n",
              "    </tr>\n",
              "  </thead>\n",
              "  <tbody>\n",
              "    <tr>\n",
              "      <th>0</th>\n",
              "      <td>1</td>\n",
              "      <td>Dmitry</td>\n",
              "    </tr>\n",
              "    <tr>\n",
              "      <th>1</th>\n",
              "      <td>2</td>\n",
              "      <td>Alex</td>\n",
              "    </tr>\n",
              "  </tbody>\n",
              "</table>\n",
              "</div>"
            ],
            "text/plain": [
              "   id    name\n",
              "0   1  Dmitry\n",
              "1   2    Alex"
            ]
          },
          "metadata": {
            "tags": []
          },
          "execution_count": 55
        }
      ]
    },
    {
      "cell_type": "markdown",
      "metadata": {
        "id": "1ZFyb7il6xYY"
      },
      "source": [
        "Ой! Кажется мы забыли добавить колонку по который мы будем связывать наши данные. Давайте это исправим с помощью инструкции ALTER TABLE. Добавим в таблицу buyers колонку cashier_id."
      ]
    },
    {
      "cell_type": "code",
      "metadata": {
        "id": "ILt5B98pM6a2"
      },
      "source": [
        "query = \"\"\"\n",
        "ALTER TABLE buyers ADD COLUMN cashier_id INT\n",
        "\"\"\"\n",
        "\n",
        "conn.cursor().execute(query)\n",
        "conn.commit()"
      ],
      "execution_count": null,
      "outputs": []
    },
    {
      "cell_type": "markdown",
      "metadata": {
        "id": "UYNzLpRD7LKd"
      },
      "source": [
        "Появилась колонка cashier_id со значением по умолчанию NULL."
      ]
    },
    {
      "cell_type": "code",
      "metadata": {
        "id": "0sTf2qS0NL4G",
        "colab": {
          "base_uri": "https://localhost:8080/",
          "height": 111
        },
        "outputId": "4ccf4765-b4e7-4d35-deb5-379883171610"
      },
      "source": [
        "pd.read_sql_query(\"select * from buyers\", conn)"
      ],
      "execution_count": null,
      "outputs": [
        {
          "output_type": "execute_result",
          "data": {
            "text/html": [
              "<div>\n",
              "<style scoped>\n",
              "    .dataframe tbody tr th:only-of-type {\n",
              "        vertical-align: middle;\n",
              "    }\n",
              "\n",
              "    .dataframe tbody tr th {\n",
              "        vertical-align: top;\n",
              "    }\n",
              "\n",
              "    .dataframe thead th {\n",
              "        text-align: right;\n",
              "    }\n",
              "</style>\n",
              "<table border=\"1\" class=\"dataframe\">\n",
              "  <thead>\n",
              "    <tr style=\"text-align: right;\">\n",
              "      <th></th>\n",
              "      <th>id</th>\n",
              "      <th>name</th>\n",
              "      <th>cashier_id</th>\n",
              "    </tr>\n",
              "  </thead>\n",
              "  <tbody>\n",
              "    <tr>\n",
              "      <th>0</th>\n",
              "      <td>1</td>\n",
              "      <td>Dmitry</td>\n",
              "      <td>None</td>\n",
              "    </tr>\n",
              "    <tr>\n",
              "      <th>1</th>\n",
              "      <td>2</td>\n",
              "      <td>Alex</td>\n",
              "      <td>None</td>\n",
              "    </tr>\n",
              "  </tbody>\n",
              "</table>\n",
              "</div>"
            ],
            "text/plain": [
              "   id    name cashier_id\n",
              "0   1  Dmitry       None\n",
              "1   2    Alex       None"
            ]
          },
          "metadata": {
            "tags": []
          },
          "execution_count": 57
        }
      ]
    },
    {
      "cell_type": "markdown",
      "metadata": {
        "id": "JwHHnrz27OGr"
      },
      "source": [
        "Допустим нам не подходит такой вариант, укажем, что по умолчанию у нас должен быть кассир с идентификатором 1.\n",
        "\n",
        "Так что удалим эту колонку, снова воспользовавшись инструкцией ALTER TABLE."
      ]
    },
    {
      "cell_type": "code",
      "metadata": {
        "id": "KBEkLfICzTvm"
      },
      "source": [
        "query = \"\"\"\n",
        "ALTER TABLE buyers DROP COLUMN cashier_id\n",
        "\"\"\"\n",
        "\n",
        "conn.cursor().execute(query)\n",
        "conn.commit()"
      ],
      "execution_count": null,
      "outputs": []
    },
    {
      "cell_type": "code",
      "metadata": {
        "id": "mM4Ybr9lzbG0",
        "colab": {
          "base_uri": "https://localhost:8080/",
          "height": 111
        },
        "outputId": "1c33cb2d-d982-4b43-9e1a-70e9ad93c867"
      },
      "source": [
        "pd.read_sql_query(\"select * from buyers\", conn)"
      ],
      "execution_count": null,
      "outputs": [
        {
          "output_type": "execute_result",
          "data": {
            "text/html": [
              "<div>\n",
              "<style scoped>\n",
              "    .dataframe tbody tr th:only-of-type {\n",
              "        vertical-align: middle;\n",
              "    }\n",
              "\n",
              "    .dataframe tbody tr th {\n",
              "        vertical-align: top;\n",
              "    }\n",
              "\n",
              "    .dataframe thead th {\n",
              "        text-align: right;\n",
              "    }\n",
              "</style>\n",
              "<table border=\"1\" class=\"dataframe\">\n",
              "  <thead>\n",
              "    <tr style=\"text-align: right;\">\n",
              "      <th></th>\n",
              "      <th>id</th>\n",
              "      <th>name</th>\n",
              "    </tr>\n",
              "  </thead>\n",
              "  <tbody>\n",
              "    <tr>\n",
              "      <th>0</th>\n",
              "      <td>1</td>\n",
              "      <td>Dmitry</td>\n",
              "    </tr>\n",
              "    <tr>\n",
              "      <th>1</th>\n",
              "      <td>2</td>\n",
              "      <td>Alex</td>\n",
              "    </tr>\n",
              "  </tbody>\n",
              "</table>\n",
              "</div>"
            ],
            "text/plain": [
              "   id    name\n",
              "0   1  Dmitry\n",
              "1   2    Alex"
            ]
          },
          "metadata": {
            "tags": []
          },
          "execution_count": 59
        }
      ]
    },
    {
      "cell_type": "markdown",
      "metadata": {
        "id": "29OdxeI07iD4"
      },
      "source": [
        "Верный запрос будет таким:"
      ]
    },
    {
      "cell_type": "code",
      "metadata": {
        "id": "2ZzuLKgYzeKm"
      },
      "source": [
        "query = \"\"\"\n",
        "ALTER TABLE buyers ADD COLUMN cashier_id INT DEFAULT 1\n",
        "\"\"\"\n",
        "\n",
        "conn.cursor().execute(query)\n",
        "conn.commit()"
      ],
      "execution_count": null,
      "outputs": []
    },
    {
      "cell_type": "code",
      "metadata": {
        "id": "ez1AwSvxzhao",
        "colab": {
          "base_uri": "https://localhost:8080/",
          "height": 111
        },
        "outputId": "a6619222-8a84-48c7-85af-8c7320c3ffdb"
      },
      "source": [
        "pd.read_sql_query(\"select * from buyers\", conn)"
      ],
      "execution_count": null,
      "outputs": [
        {
          "output_type": "execute_result",
          "data": {
            "text/html": [
              "<div>\n",
              "<style scoped>\n",
              "    .dataframe tbody tr th:only-of-type {\n",
              "        vertical-align: middle;\n",
              "    }\n",
              "\n",
              "    .dataframe tbody tr th {\n",
              "        vertical-align: top;\n",
              "    }\n",
              "\n",
              "    .dataframe thead th {\n",
              "        text-align: right;\n",
              "    }\n",
              "</style>\n",
              "<table border=\"1\" class=\"dataframe\">\n",
              "  <thead>\n",
              "    <tr style=\"text-align: right;\">\n",
              "      <th></th>\n",
              "      <th>id</th>\n",
              "      <th>name</th>\n",
              "      <th>cashier_id</th>\n",
              "    </tr>\n",
              "  </thead>\n",
              "  <tbody>\n",
              "    <tr>\n",
              "      <th>0</th>\n",
              "      <td>1</td>\n",
              "      <td>Dmitry</td>\n",
              "      <td>1</td>\n",
              "    </tr>\n",
              "    <tr>\n",
              "      <th>1</th>\n",
              "      <td>2</td>\n",
              "      <td>Alex</td>\n",
              "      <td>1</td>\n",
              "    </tr>\n",
              "  </tbody>\n",
              "</table>\n",
              "</div>"
            ],
            "text/plain": [
              "   id    name  cashier_id\n",
              "0   1  Dmitry           1\n",
              "1   2    Alex           1"
            ]
          },
          "metadata": {
            "tags": []
          },
          "execution_count": 61
        }
      ]
    },
    {
      "cell_type": "markdown",
      "metadata": {
        "id": "xeQ2760v7mDo"
      },
      "source": [
        "А теперь также, как и раньше добавим внешний ключ на свежесозданную колонку."
      ]
    },
    {
      "cell_type": "code",
      "metadata": {
        "id": "rj5CGVNdNSGg"
      },
      "source": [
        "query = \"\"\"\n",
        "ALTER TABLE buyers ADD FOREIGN KEY (cashier_id) REFERENCES cashier(id)  \n",
        "\"\"\"\n",
        "\n",
        "conn.cursor().execute(query)\n",
        "conn.commit()"
      ],
      "execution_count": null,
      "outputs": []
    },
    {
      "cell_type": "markdown",
      "metadata": {
        "id": "rYHKR0GQ7tqq"
      },
      "source": [
        "Попробуем внести в таблицу buyers строчку с несуществующим кассиром"
      ]
    },
    {
      "cell_type": "code",
      "metadata": {
        "id": "uMQBpY2rNgzd",
        "colab": {
          "base_uri": "https://localhost:8080/",
          "height": 249
        },
        "outputId": "934b11fd-09ff-46a8-858b-eeab5b23322a"
      },
      "source": [
        "query =\"\"\"\n",
        "  INSERT INTO buyers (name, cashier_id) VALUES ('Oleg', 50)\n",
        "\"\"\"\n",
        "\n",
        "conn.cursor().execute(query)\n",
        "conn.commit()"
      ],
      "execution_count": null,
      "outputs": [
        {
          "output_type": "error",
          "ename": "IntegrityError",
          "evalue": "ignored",
          "traceback": [
            "\u001b[0;31m---------------------------------------------------------------------------\u001b[0m",
            "\u001b[0;31mIntegrityError\u001b[0m                            Traceback (most recent call last)",
            "\u001b[0;32m<ipython-input-63-086637ee0337>\u001b[0m in \u001b[0;36m<module>\u001b[0;34m()\u001b[0m\n\u001b[1;32m      4\u001b[0m \"\"\"\n\u001b[1;32m      5\u001b[0m \u001b[0;34m\u001b[0m\u001b[0m\n\u001b[0;32m----> 6\u001b[0;31m \u001b[0mconn\u001b[0m\u001b[0;34m.\u001b[0m\u001b[0mcursor\u001b[0m\u001b[0;34m(\u001b[0m\u001b[0;34m)\u001b[0m\u001b[0;34m.\u001b[0m\u001b[0mexecute\u001b[0m\u001b[0;34m(\u001b[0m\u001b[0mquery\u001b[0m\u001b[0;34m)\u001b[0m\u001b[0;34m\u001b[0m\u001b[0;34m\u001b[0m\u001b[0m\n\u001b[0m\u001b[1;32m      7\u001b[0m \u001b[0mconn\u001b[0m\u001b[0;34m.\u001b[0m\u001b[0mcommit\u001b[0m\u001b[0;34m(\u001b[0m\u001b[0;34m)\u001b[0m\u001b[0;34m\u001b[0m\u001b[0;34m\u001b[0m\u001b[0m\n\u001b[1;32m      8\u001b[0m \u001b[0;31m# как видим база не даёт нам этого сделать\u001b[0m\u001b[0;34m\u001b[0m\u001b[0;34m\u001b[0m\u001b[0;34m\u001b[0m\u001b[0m\n",
            "\u001b[0;31mIntegrityError\u001b[0m: insert or update on table \"buyers\" violates foreign key constraint \"buyers_cashier_id_fkey\"\nDETAIL:  Key (cashier_id)=(50) is not present in table \"cashier\".\n"
          ]
        }
      ]
    },
    {
      "cell_type": "code",
      "metadata": {
        "id": "PWGPUsikzy-y"
      },
      "source": [
        "conn.rollback()"
      ],
      "execution_count": null,
      "outputs": []
    },
    {
      "cell_type": "markdown",
      "metadata": {
        "id": "6pwlc3ad7y_6"
      },
      "source": [
        "Как видно sql сервер не даёт нам этого сделать"
      ]
    },
    {
      "cell_type": "markdown",
      "metadata": {
        "id": "TrTVov3G73EF"
      },
      "source": [
        "Но при этом мы можем внести запись с существующим кассиром"
      ]
    },
    {
      "cell_type": "code",
      "metadata": {
        "id": "8oGI-5CtNy8E"
      },
      "source": [
        " query =\"\"\"\n",
        "  INSERT INTO buyers (name, cashier_id) VALUES ('Oleg', 2)\n",
        "\"\"\"\n",
        "\n",
        "conn.cursor().execute(query)\n",
        "conn.commit()"
      ],
      "execution_count": null,
      "outputs": []
    },
    {
      "cell_type": "code",
      "metadata": {
        "id": "LigyAJOMN7Lt",
        "colab": {
          "base_uri": "https://localhost:8080/",
          "height": 142
        },
        "outputId": "a3d3d3fd-f19d-4f94-e3e8-3e523657ff2b"
      },
      "source": [
        "pd.read_sql_query(\"select * from buyers\",conn)"
      ],
      "execution_count": null,
      "outputs": [
        {
          "output_type": "execute_result",
          "data": {
            "text/html": [
              "<div>\n",
              "<style scoped>\n",
              "    .dataframe tbody tr th:only-of-type {\n",
              "        vertical-align: middle;\n",
              "    }\n",
              "\n",
              "    .dataframe tbody tr th {\n",
              "        vertical-align: top;\n",
              "    }\n",
              "\n",
              "    .dataframe thead th {\n",
              "        text-align: right;\n",
              "    }\n",
              "</style>\n",
              "<table border=\"1\" class=\"dataframe\">\n",
              "  <thead>\n",
              "    <tr style=\"text-align: right;\">\n",
              "      <th></th>\n",
              "      <th>id</th>\n",
              "      <th>name</th>\n",
              "      <th>cashier_id</th>\n",
              "    </tr>\n",
              "  </thead>\n",
              "  <tbody>\n",
              "    <tr>\n",
              "      <th>0</th>\n",
              "      <td>1</td>\n",
              "      <td>Dmitry</td>\n",
              "      <td>1</td>\n",
              "    </tr>\n",
              "    <tr>\n",
              "      <th>1</th>\n",
              "      <td>2</td>\n",
              "      <td>Alex</td>\n",
              "      <td>1</td>\n",
              "    </tr>\n",
              "    <tr>\n",
              "      <th>2</th>\n",
              "      <td>4</td>\n",
              "      <td>Oleg</td>\n",
              "      <td>2</td>\n",
              "    </tr>\n",
              "  </tbody>\n",
              "</table>\n",
              "</div>"
            ],
            "text/plain": [
              "   id    name  cashier_id\n",
              "0   1  Dmitry           1\n",
              "1   2    Alex           1\n",
              "2   4    Oleg           2"
            ]
          },
          "metadata": {
            "tags": []
          },
          "execution_count": 66
        }
      ]
    },
    {
      "cell_type": "markdown",
      "metadata": {
        "id": "qX7eVk0J77Dm"
      },
      "source": [
        "Мы можем совершенно без проблем вносить новых кассиров"
      ]
    },
    {
      "cell_type": "code",
      "metadata": {
        "id": "f3QfEC3FN_Jx"
      },
      "source": [
        "query =\"\"\"\n",
        "  INSERT INTO cashier (name) VALUES ('Alla')\n",
        "\"\"\"\n",
        "\n",
        "conn.cursor().execute(query)\n",
        "conn.commit()"
      ],
      "execution_count": null,
      "outputs": []
    },
    {
      "cell_type": "code",
      "metadata": {
        "id": "Z_Y34A9POIeC",
        "colab": {
          "base_uri": "https://localhost:8080/",
          "height": 142
        },
        "outputId": "45c1b304-7cb7-40cc-8c48-7f2b7be36b12"
      },
      "source": [
        "pd.read_sql_query(\"select * from cashier\", conn)"
      ],
      "execution_count": null,
      "outputs": [
        {
          "output_type": "execute_result",
          "data": {
            "text/html": [
              "<div>\n",
              "<style scoped>\n",
              "    .dataframe tbody tr th:only-of-type {\n",
              "        vertical-align: middle;\n",
              "    }\n",
              "\n",
              "    .dataframe tbody tr th {\n",
              "        vertical-align: top;\n",
              "    }\n",
              "\n",
              "    .dataframe thead th {\n",
              "        text-align: right;\n",
              "    }\n",
              "</style>\n",
              "<table border=\"1\" class=\"dataframe\">\n",
              "  <thead>\n",
              "    <tr style=\"text-align: right;\">\n",
              "      <th></th>\n",
              "      <th>id</th>\n",
              "      <th>name</th>\n",
              "    </tr>\n",
              "  </thead>\n",
              "  <tbody>\n",
              "    <tr>\n",
              "      <th>0</th>\n",
              "      <td>1</td>\n",
              "      <td>Valentina</td>\n",
              "    </tr>\n",
              "    <tr>\n",
              "      <th>1</th>\n",
              "      <td>2</td>\n",
              "      <td>Anatoly</td>\n",
              "    </tr>\n",
              "    <tr>\n",
              "      <th>2</th>\n",
              "      <td>3</td>\n",
              "      <td>Alla</td>\n",
              "    </tr>\n",
              "  </tbody>\n",
              "</table>\n",
              "</div>"
            ],
            "text/plain": [
              "   id       name\n",
              "0   1  Valentina\n",
              "1   2    Anatoly\n",
              "2   3       Alla"
            ]
          },
          "metadata": {
            "tags": []
          },
          "execution_count": 68
        }
      ]
    },
    {
      "cell_type": "markdown",
      "metadata": {
        "id": "8HmLHgDl7_OO"
      },
      "source": [
        "Но при этом если есть покупатель, то кассира мы удалить не сможем"
      ]
    },
    {
      "cell_type": "code",
      "metadata": {
        "id": "HJMUg4L-PKC1",
        "colab": {
          "base_uri": "https://localhost:8080/",
          "height": 232
        },
        "outputId": "b5e44b11-bbfe-46c3-fcc1-ffb1362f5259"
      },
      "source": [
        "query =\"\"\"\n",
        "  DELETE FROM cashier\n",
        "  WHERE id = 2\n",
        "\"\"\"\n",
        "\n",
        "conn.cursor().execute(query)\n",
        "conn.commit()"
      ],
      "execution_count": null,
      "outputs": [
        {
          "output_type": "error",
          "ename": "IntegrityError",
          "evalue": "ignored",
          "traceback": [
            "\u001b[0;31m---------------------------------------------------------------------------\u001b[0m",
            "\u001b[0;31mIntegrityError\u001b[0m                            Traceback (most recent call last)",
            "\u001b[0;32m<ipython-input-69-052bba2eb5c1>\u001b[0m in \u001b[0;36m<module>\u001b[0;34m()\u001b[0m\n\u001b[1;32m      5\u001b[0m \"\"\"\n\u001b[1;32m      6\u001b[0m \u001b[0;34m\u001b[0m\u001b[0m\n\u001b[0;32m----> 7\u001b[0;31m \u001b[0mconn\u001b[0m\u001b[0;34m.\u001b[0m\u001b[0mcursor\u001b[0m\u001b[0;34m(\u001b[0m\u001b[0;34m)\u001b[0m\u001b[0;34m.\u001b[0m\u001b[0mexecute\u001b[0m\u001b[0;34m(\u001b[0m\u001b[0mquery\u001b[0m\u001b[0;34m)\u001b[0m\u001b[0;34m\u001b[0m\u001b[0;34m\u001b[0m\u001b[0m\n\u001b[0m\u001b[1;32m      8\u001b[0m \u001b[0mconn\u001b[0m\u001b[0;34m.\u001b[0m\u001b[0mcommit\u001b[0m\u001b[0;34m(\u001b[0m\u001b[0;34m)\u001b[0m\u001b[0;34m\u001b[0m\u001b[0;34m\u001b[0m\u001b[0m\n",
            "\u001b[0;31mIntegrityError\u001b[0m: update or delete on table \"cashier\" violates foreign key constraint \"buyers_cashier_id_fkey\" on table \"buyers\"\nDETAIL:  Key (id)=(2) is still referenced from table \"buyers\".\n"
          ]
        }
      ]
    },
    {
      "cell_type": "code",
      "metadata": {
        "id": "csXm9RIQ0IwW"
      },
      "source": [
        "conn.rollback()"
      ],
      "execution_count": null,
      "outputs": []
    },
    {
      "cell_type": "markdown",
      "metadata": {
        "id": "FI7YklLS8Ch8"
      },
      "source": [
        "А если покупателя нет, то сможем"
      ]
    },
    {
      "cell_type": "code",
      "metadata": {
        "id": "GvUiRJ76PRRh"
      },
      "source": [
        "query =\"\"\"\n",
        "  DELETE FROM cashier\n",
        "  WHERE id = 3\n",
        "\"\"\"\n",
        "\n",
        "conn.cursor().execute(query)\n",
        "conn.commit()"
      ],
      "execution_count": null,
      "outputs": []
    },
    {
      "cell_type": "code",
      "metadata": {
        "id": "ZxI6bPc_PU91",
        "colab": {
          "base_uri": "https://localhost:8080/",
          "height": 111
        },
        "outputId": "f871729d-1420-47a5-ce1d-f0d089acf8dc"
      },
      "source": [
        "pd.read_sql_query(\"select * from cashier\", conn)"
      ],
      "execution_count": null,
      "outputs": [
        {
          "output_type": "execute_result",
          "data": {
            "text/html": [
              "<div>\n",
              "<style scoped>\n",
              "    .dataframe tbody tr th:only-of-type {\n",
              "        vertical-align: middle;\n",
              "    }\n",
              "\n",
              "    .dataframe tbody tr th {\n",
              "        vertical-align: top;\n",
              "    }\n",
              "\n",
              "    .dataframe thead th {\n",
              "        text-align: right;\n",
              "    }\n",
              "</style>\n",
              "<table border=\"1\" class=\"dataframe\">\n",
              "  <thead>\n",
              "    <tr style=\"text-align: right;\">\n",
              "      <th></th>\n",
              "      <th>id</th>\n",
              "      <th>name</th>\n",
              "    </tr>\n",
              "  </thead>\n",
              "  <tbody>\n",
              "    <tr>\n",
              "      <th>0</th>\n",
              "      <td>1</td>\n",
              "      <td>Valentina</td>\n",
              "    </tr>\n",
              "    <tr>\n",
              "      <th>1</th>\n",
              "      <td>2</td>\n",
              "      <td>Anatoly</td>\n",
              "    </tr>\n",
              "  </tbody>\n",
              "</table>\n",
              "</div>"
            ],
            "text/plain": [
              "   id       name\n",
              "0   1  Valentina\n",
              "1   2    Anatoly"
            ]
          },
          "metadata": {
            "tags": []
          },
          "execution_count": 72
        }
      ]
    },
    {
      "cell_type": "markdown",
      "metadata": {
        "id": "L4dDFieR8GOP"
      },
      "source": [
        "**Разница со связью один к одному в том, что теперь в колонке со связью (cashier_id) значения могут повторяться!**"
      ]
    },
    {
      "cell_type": "markdown",
      "metadata": {
        "id": "cTdFAATZ8PA-"
      },
      "source": [
        "А что если мы хотим убрать какое-то ограничение в одной из таблиц?"
      ]
    },
    {
      "cell_type": "markdown",
      "metadata": {
        "id": "nCDvr7CE8TDb"
      },
      "source": [
        "Тогда нужно выполнить специальный запрос ниже, чтобы увидеть все сущности, связанные с выбранной таблицей."
      ]
    },
    {
      "cell_type": "code",
      "metadata": {
        "id": "XrMk1Y9O0YMB",
        "colab": {
          "base_uri": "https://localhost:8080/",
          "height": 131
        },
        "outputId": "5890be73-8c63-4f9a-f065-31681314f6e6"
      },
      "source": [
        "pd.read_sql_query(\"\"\"\n",
        "SELECT con.*\n",
        "       FROM pg_catalog.pg_constraint con\n",
        "            INNER JOIN pg_catalog.pg_class rel\n",
        "                       ON rel.oid = con.conrelid\n",
        "            INNER JOIN pg_catalog.pg_namespace nsp\n",
        "                       ON nsp.oid = connamespace\n",
        "       WHERE nsp.nspname = 'public'\n",
        "             AND rel.relname = 'buyers';\n",
        "\"\"\", conn)"
      ],
      "execution_count": null,
      "outputs": [
        {
          "output_type": "execute_result",
          "data": {
            "text/html": [
              "<div>\n",
              "<style scoped>\n",
              "    .dataframe tbody tr th:only-of-type {\n",
              "        vertical-align: middle;\n",
              "    }\n",
              "\n",
              "    .dataframe tbody tr th {\n",
              "        vertical-align: top;\n",
              "    }\n",
              "\n",
              "    .dataframe thead th {\n",
              "        text-align: right;\n",
              "    }\n",
              "</style>\n",
              "<table border=\"1\" class=\"dataframe\">\n",
              "  <thead>\n",
              "    <tr style=\"text-align: right;\">\n",
              "      <th></th>\n",
              "      <th>oid</th>\n",
              "      <th>conname</th>\n",
              "      <th>connamespace</th>\n",
              "      <th>contype</th>\n",
              "      <th>condeferrable</th>\n",
              "      <th>condeferred</th>\n",
              "      <th>convalidated</th>\n",
              "      <th>conrelid</th>\n",
              "      <th>contypid</th>\n",
              "      <th>conindid</th>\n",
              "      <th>conparentid</th>\n",
              "      <th>confrelid</th>\n",
              "      <th>confupdtype</th>\n",
              "      <th>confdeltype</th>\n",
              "      <th>confmatchtype</th>\n",
              "      <th>conislocal</th>\n",
              "      <th>coninhcount</th>\n",
              "      <th>connoinherit</th>\n",
              "      <th>conkey</th>\n",
              "      <th>confkey</th>\n",
              "      <th>conpfeqop</th>\n",
              "      <th>conppeqop</th>\n",
              "      <th>conffeqop</th>\n",
              "      <th>conexclop</th>\n",
              "      <th>conbin</th>\n",
              "    </tr>\n",
              "  </thead>\n",
              "  <tbody>\n",
              "    <tr>\n",
              "      <th>0</th>\n",
              "      <td>39722</td>\n",
              "      <td>buyers_pkey</td>\n",
              "      <td>2200</td>\n",
              "      <td>p</td>\n",
              "      <td>False</td>\n",
              "      <td>False</td>\n",
              "      <td>True</td>\n",
              "      <td>39717</td>\n",
              "      <td>0</td>\n",
              "      <td>39721</td>\n",
              "      <td>0</td>\n",
              "      <td>0</td>\n",
              "      <td></td>\n",
              "      <td></td>\n",
              "      <td></td>\n",
              "      <td>True</td>\n",
              "      <td>0</td>\n",
              "      <td>True</td>\n",
              "      <td>[1]</td>\n",
              "      <td>None</td>\n",
              "      <td>None</td>\n",
              "      <td>None</td>\n",
              "      <td>None</td>\n",
              "      <td>None</td>\n",
              "      <td>None</td>\n",
              "    </tr>\n",
              "    <tr>\n",
              "      <th>1</th>\n",
              "      <td>39724</td>\n",
              "      <td>buyers_cashier_id_fkey</td>\n",
              "      <td>2200</td>\n",
              "      <td>f</td>\n",
              "      <td>False</td>\n",
              "      <td>False</td>\n",
              "      <td>True</td>\n",
              "      <td>39717</td>\n",
              "      <td>0</td>\n",
              "      <td>39705</td>\n",
              "      <td>0</td>\n",
              "      <td>39701</td>\n",
              "      <td>a</td>\n",
              "      <td>a</td>\n",
              "      <td>s</td>\n",
              "      <td>True</td>\n",
              "      <td>0</td>\n",
              "      <td>True</td>\n",
              "      <td>[4]</td>\n",
              "      <td>[1]</td>\n",
              "      <td>[96]</td>\n",
              "      <td>[96]</td>\n",
              "      <td>[96]</td>\n",
              "      <td>None</td>\n",
              "      <td>None</td>\n",
              "    </tr>\n",
              "  </tbody>\n",
              "</table>\n",
              "</div>"
            ],
            "text/plain": [
              "     oid                 conname  connamespace  ... conffeqop  conexclop  conbin\n",
              "0  39722             buyers_pkey          2200  ...      None       None    None\n",
              "1  39724  buyers_cashier_id_fkey          2200  ...      [96]       None    None\n",
              "\n",
              "[2 rows x 25 columns]"
            ]
          },
          "metadata": {
            "tags": []
          },
          "execution_count": 73
        }
      ]
    },
    {
      "cell_type": "markdown",
      "metadata": {
        "id": "nNVksZf-8X5H"
      },
      "source": [
        "Здесь мы видим, что у таблицы buyers есть ограничение первичного ключа с названием buyers_pkey, а также ограничение внешнего ключа с названием buyers_cashier_id_fkey."
      ]
    },
    {
      "cell_type": "markdown",
      "metadata": {
        "id": "k3SsbsMr8gtq"
      },
      "source": [
        "Теперь, когда мы знаем как называется наше ограничение целостности, мы можем просто его удалить с помощью инструкции изменения таблицы: ALTER TABLE."
      ]
    },
    {
      "cell_type": "code",
      "metadata": {
        "id": "GFSQYmesP6Xh"
      },
      "source": [
        "query = \"\"\"\n",
        "ALTER TABLE buyers\n",
        "DROP CONSTRAINT buyers_cashier_id_fkey\n",
        "\"\"\""
      ],
      "execution_count": null,
      "outputs": []
    },
    {
      "cell_type": "markdown",
      "metadata": {
        "id": "ESX-vIx-4lqB"
      },
      "source": [
        "#### Реализация многие ко многим. Пример ученики и учителя\n",
        "![Снимок экрана 2020-11-10 в 17.41.35.png](data:image/png;base64,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)"
      ]
    },
    {
      "cell_type": "markdown",
      "metadata": {
        "id": "98JHVUZZ8o16"
      },
      "source": [
        "В реляционной базе данных не предусмотрен прямой механизм реализации многие ко многим. Но ее все еще можно реализовать с помощью двух связей: многие-к-одному и один-ко-многим.\n",
        "\n",
        "Для этого вводится промежуточная таблица, хранящая пары идентификаторов из зависимых таблиц."
      ]
    },
    {
      "cell_type": "code",
      "metadata": {
        "id": "-_Z5PByNQ5ob"
      },
      "source": [
        "query = \"DROP TABLE IF EXISTS student\"\n",
        "\n",
        "conn.cursor().execute(query)\n",
        "conn.commit()"
      ],
      "execution_count": null,
      "outputs": []
    },
    {
      "cell_type": "code",
      "metadata": {
        "id": "t3uGkw89Q5of"
      },
      "source": [
        "query = \"\"\"\n",
        "  CREATE TABLE IF NOT EXISTS student (\n",
        "    id SERIAL PRIMARY KEY,\n",
        "    name VARCHAR(20)\n",
        "  )\n",
        "\"\"\"\n",
        "conn.cursor().execute(query)\n",
        "conn.commit()"
      ],
      "execution_count": null,
      "outputs": []
    },
    {
      "cell_type": "code",
      "metadata": {
        "id": "cO6rD0DdRGsf"
      },
      "source": [
        "query = \"DROP TABLE IF EXISTS teacher\"\n",
        "\n",
        "conn.cursor().execute(query)\n",
        "conn.commit()"
      ],
      "execution_count": null,
      "outputs": []
    },
    {
      "cell_type": "code",
      "metadata": {
        "id": "ARF0DLmCRGsj"
      },
      "source": [
        "query = \"\"\"\n",
        "  CREATE TABLE IF NOT EXISTS teacher (\n",
        "    id SERIAL PRIMARY KEY,\n",
        "    name VARCHAR(20)\n",
        "  )\n",
        "\"\"\"\n",
        "conn.cursor().execute(query)\n",
        "conn.commit()"
      ],
      "execution_count": null,
      "outputs": []
    },
    {
      "cell_type": "code",
      "metadata": {
        "id": "QljQY3oPQ5oh",
        "colab": {
          "base_uri": "https://localhost:8080/",
          "height": 235
        },
        "outputId": "eedb05ae-30fe-4e9c-a6f9-2c8c4a88d9e3"
      },
      "source": [
        "pd.read_sql_query(\"\"\"\n",
        "SELECT *\n",
        "FROM pg_catalog.pg_tables\n",
        "WHERE schemaname != 'pg_catalog' AND \n",
        "    schemaname != 'information_schema'\n",
        "    \"\"\", conn)"
      ],
      "execution_count": null,
      "outputs": [
        {
          "output_type": "execute_result",
          "data": {
            "text/html": [
              "<div>\n",
              "<style scoped>\n",
              "    .dataframe tbody tr th:only-of-type {\n",
              "        vertical-align: middle;\n",
              "    }\n",
              "\n",
              "    .dataframe tbody tr th {\n",
              "        vertical-align: top;\n",
              "    }\n",
              "\n",
              "    .dataframe thead th {\n",
              "        text-align: right;\n",
              "    }\n",
              "</style>\n",
              "<table border=\"1\" class=\"dataframe\">\n",
              "  <thead>\n",
              "    <tr style=\"text-align: right;\">\n",
              "      <th></th>\n",
              "      <th>schemaname</th>\n",
              "      <th>tablename</th>\n",
              "      <th>tableowner</th>\n",
              "      <th>tablespace</th>\n",
              "      <th>hasindexes</th>\n",
              "      <th>hasrules</th>\n",
              "      <th>hastriggers</th>\n",
              "      <th>rowsecurity</th>\n",
              "    </tr>\n",
              "  </thead>\n",
              "  <tbody>\n",
              "    <tr>\n",
              "      <th>0</th>\n",
              "      <td>public</td>\n",
              "      <td>documents</td>\n",
              "      <td>student_0</td>\n",
              "      <td>None</td>\n",
              "      <td>True</td>\n",
              "      <td>False</td>\n",
              "      <td>True</td>\n",
              "      <td>False</td>\n",
              "    </tr>\n",
              "    <tr>\n",
              "      <th>1</th>\n",
              "      <td>public</td>\n",
              "      <td>people</td>\n",
              "      <td>student_0</td>\n",
              "      <td>None</td>\n",
              "      <td>True</td>\n",
              "      <td>False</td>\n",
              "      <td>True</td>\n",
              "      <td>False</td>\n",
              "    </tr>\n",
              "    <tr>\n",
              "      <th>2</th>\n",
              "      <td>public</td>\n",
              "      <td>cashier</td>\n",
              "      <td>student_0</td>\n",
              "      <td>None</td>\n",
              "      <td>True</td>\n",
              "      <td>False</td>\n",
              "      <td>True</td>\n",
              "      <td>False</td>\n",
              "    </tr>\n",
              "    <tr>\n",
              "      <th>3</th>\n",
              "      <td>public</td>\n",
              "      <td>buyers</td>\n",
              "      <td>student_0</td>\n",
              "      <td>None</td>\n",
              "      <td>True</td>\n",
              "      <td>False</td>\n",
              "      <td>True</td>\n",
              "      <td>False</td>\n",
              "    </tr>\n",
              "    <tr>\n",
              "      <th>4</th>\n",
              "      <td>public</td>\n",
              "      <td>student</td>\n",
              "      <td>student_0</td>\n",
              "      <td>None</td>\n",
              "      <td>True</td>\n",
              "      <td>False</td>\n",
              "      <td>False</td>\n",
              "      <td>False</td>\n",
              "    </tr>\n",
              "    <tr>\n",
              "      <th>5</th>\n",
              "      <td>public</td>\n",
              "      <td>teacher</td>\n",
              "      <td>student_0</td>\n",
              "      <td>None</td>\n",
              "      <td>True</td>\n",
              "      <td>False</td>\n",
              "      <td>False</td>\n",
              "      <td>False</td>\n",
              "    </tr>\n",
              "  </tbody>\n",
              "</table>\n",
              "</div>"
            ],
            "text/plain": [
              "  schemaname  tablename tableowner  ... hasrules  hastriggers  rowsecurity\n",
              "0     public  documents  student_0  ...    False         True        False\n",
              "1     public     people  student_0  ...    False         True        False\n",
              "2     public    cashier  student_0  ...    False         True        False\n",
              "3     public     buyers  student_0  ...    False         True        False\n",
              "4     public    student  student_0  ...    False        False        False\n",
              "5     public    teacher  student_0  ...    False        False        False\n",
              "\n",
              "[6 rows x 8 columns]"
            ]
          },
          "metadata": {
            "tags": []
          },
          "execution_count": 78
        }
      ]
    },
    {
      "cell_type": "code",
      "metadata": {
        "id": "H7nvgw-2ROz-"
      },
      "source": [
        "queries = [\n",
        "           \"INSERT INTO teacher (name) VALUES ('Valentina')\",\n",
        "           \"INSERT INTO teacher (name) VALUES ('Olga')\",\n",
        "           \"INSERT INTO student (name) VALUES ('Dmitry')\",\n",
        "           \"INSERT INTO student (name) VALUES ('Anatoly')\",\n",
        "]\n",
        "\n",
        "for q in queries:\n",
        "  conn.cursor().execute(q)\n",
        "\n",
        "conn.commit()"
      ],
      "execution_count": null,
      "outputs": []
    },
    {
      "cell_type": "code",
      "metadata": {
        "id": "T_P-q-a-Rkjj",
        "colab": {
          "base_uri": "https://localhost:8080/",
          "height": 111
        },
        "outputId": "25337acf-5c6e-40dd-e86c-d83a68b943cb"
      },
      "source": [
        "pd.read_sql_query(\"select * from teacher\", conn)"
      ],
      "execution_count": null,
      "outputs": [
        {
          "output_type": "execute_result",
          "data": {
            "text/html": [
              "<div>\n",
              "<style scoped>\n",
              "    .dataframe tbody tr th:only-of-type {\n",
              "        vertical-align: middle;\n",
              "    }\n",
              "\n",
              "    .dataframe tbody tr th {\n",
              "        vertical-align: top;\n",
              "    }\n",
              "\n",
              "    .dataframe thead th {\n",
              "        text-align: right;\n",
              "    }\n",
              "</style>\n",
              "<table border=\"1\" class=\"dataframe\">\n",
              "  <thead>\n",
              "    <tr style=\"text-align: right;\">\n",
              "      <th></th>\n",
              "      <th>id</th>\n",
              "      <th>name</th>\n",
              "    </tr>\n",
              "  </thead>\n",
              "  <tbody>\n",
              "    <tr>\n",
              "      <th>0</th>\n",
              "      <td>1</td>\n",
              "      <td>Valentina</td>\n",
              "    </tr>\n",
              "    <tr>\n",
              "      <th>1</th>\n",
              "      <td>2</td>\n",
              "      <td>Olga</td>\n",
              "    </tr>\n",
              "  </tbody>\n",
              "</table>\n",
              "</div>"
            ],
            "text/plain": [
              "   id       name\n",
              "0   1  Valentina\n",
              "1   2       Olga"
            ]
          },
          "metadata": {
            "tags": []
          },
          "execution_count": 80
        }
      ]
    },
    {
      "cell_type": "code",
      "metadata": {
        "id": "OZE_dUnGRm-N",
        "colab": {
          "base_uri": "https://localhost:8080/",
          "height": 111
        },
        "outputId": "5ad0e153-8c96-4758-c2ac-b0593bf16a64"
      },
      "source": [
        "pd.read_sql_query(\"select * from student\", conn)"
      ],
      "execution_count": null,
      "outputs": [
        {
          "output_type": "execute_result",
          "data": {
            "text/html": [
              "<div>\n",
              "<style scoped>\n",
              "    .dataframe tbody tr th:only-of-type {\n",
              "        vertical-align: middle;\n",
              "    }\n",
              "\n",
              "    .dataframe tbody tr th {\n",
              "        vertical-align: top;\n",
              "    }\n",
              "\n",
              "    .dataframe thead th {\n",
              "        text-align: right;\n",
              "    }\n",
              "</style>\n",
              "<table border=\"1\" class=\"dataframe\">\n",
              "  <thead>\n",
              "    <tr style=\"text-align: right;\">\n",
              "      <th></th>\n",
              "      <th>id</th>\n",
              "      <th>name</th>\n",
              "    </tr>\n",
              "  </thead>\n",
              "  <tbody>\n",
              "    <tr>\n",
              "      <th>0</th>\n",
              "      <td>1</td>\n",
              "      <td>Dmitry</td>\n",
              "    </tr>\n",
              "    <tr>\n",
              "      <th>1</th>\n",
              "      <td>2</td>\n",
              "      <td>Anatoly</td>\n",
              "    </tr>\n",
              "  </tbody>\n",
              "</table>\n",
              "</div>"
            ],
            "text/plain": [
              "   id     name\n",
              "0   1   Dmitry\n",
              "1   2  Anatoly"
            ]
          },
          "metadata": {
            "tags": []
          },
          "execution_count": 81
        }
      ]
    },
    {
      "cell_type": "markdown",
      "metadata": {
        "id": "Tbs1ipE88_PA"
      },
      "source": [
        "Добавим промежуточную таблицу для связи учителей и учеников. Обратите внимание, что уникальность будет отслеживаться по двум полям, то-есть мы сейчас сделаем первичный ключ из двух полей. Создание отдельного суррогатного ключа (отдельной колонки для первичного ключа) также допустимо."
      ]
    },
    {
      "cell_type": "code",
      "metadata": {
        "id": "QHeVwc2qRprf"
      },
      "source": [
        "query = \"\"\"\n",
        "  CREATE TABLE IF NOT EXISTS teacher_student (\n",
        "    teacher_id INT NOT NULL,\n",
        "    student_id INT NOT NULL,\n",
        "    PRIMARY KEY (teacher_id, student_id)\n",
        "  )\n",
        "\"\"\"\n",
        "\n",
        "conn.cursor().execute(query)\n",
        "conn.commit()"
      ],
      "execution_count": null,
      "outputs": []
    },
    {
      "cell_type": "code",
      "metadata": {
        "id": "7QBxOBNXR9KE",
        "colab": {
          "base_uri": "https://localhost:8080/",
          "height": 266
        },
        "outputId": "9a731596-c03a-4df3-9929-00edc295f013"
      },
      "source": [
        "pd.read_sql_query(\"\"\"\n",
        "SELECT *\n",
        "FROM pg_catalog.pg_tables\n",
        "WHERE schemaname != 'pg_catalog' AND \n",
        "    schemaname != 'information_schema'\n",
        "    \"\"\", conn)"
      ],
      "execution_count": null,
      "outputs": [
        {
          "output_type": "execute_result",
          "data": {
            "text/html": [
              "<div>\n",
              "<style scoped>\n",
              "    .dataframe tbody tr th:only-of-type {\n",
              "        vertical-align: middle;\n",
              "    }\n",
              "\n",
              "    .dataframe tbody tr th {\n",
              "        vertical-align: top;\n",
              "    }\n",
              "\n",
              "    .dataframe thead th {\n",
              "        text-align: right;\n",
              "    }\n",
              "</style>\n",
              "<table border=\"1\" class=\"dataframe\">\n",
              "  <thead>\n",
              "    <tr style=\"text-align: right;\">\n",
              "      <th></th>\n",
              "      <th>schemaname</th>\n",
              "      <th>tablename</th>\n",
              "      <th>tableowner</th>\n",
              "      <th>tablespace</th>\n",
              "      <th>hasindexes</th>\n",
              "      <th>hasrules</th>\n",
              "      <th>hastriggers</th>\n",
              "      <th>rowsecurity</th>\n",
              "    </tr>\n",
              "  </thead>\n",
              "  <tbody>\n",
              "    <tr>\n",
              "      <th>0</th>\n",
              "      <td>public</td>\n",
              "      <td>documents</td>\n",
              "      <td>student_0</td>\n",
              "      <td>None</td>\n",
              "      <td>True</td>\n",
              "      <td>False</td>\n",
              "      <td>True</td>\n",
              "      <td>False</td>\n",
              "    </tr>\n",
              "    <tr>\n",
              "      <th>1</th>\n",
              "      <td>public</td>\n",
              "      <td>people</td>\n",
              "      <td>student_0</td>\n",
              "      <td>None</td>\n",
              "      <td>True</td>\n",
              "      <td>False</td>\n",
              "      <td>True</td>\n",
              "      <td>False</td>\n",
              "    </tr>\n",
              "    <tr>\n",
              "      <th>2</th>\n",
              "      <td>public</td>\n",
              "      <td>cashier</td>\n",
              "      <td>student_0</td>\n",
              "      <td>None</td>\n",
              "      <td>True</td>\n",
              "      <td>False</td>\n",
              "      <td>True</td>\n",
              "      <td>False</td>\n",
              "    </tr>\n",
              "    <tr>\n",
              "      <th>3</th>\n",
              "      <td>public</td>\n",
              "      <td>buyers</td>\n",
              "      <td>student_0</td>\n",
              "      <td>None</td>\n",
              "      <td>True</td>\n",
              "      <td>False</td>\n",
              "      <td>True</td>\n",
              "      <td>False</td>\n",
              "    </tr>\n",
              "    <tr>\n",
              "      <th>4</th>\n",
              "      <td>public</td>\n",
              "      <td>student</td>\n",
              "      <td>student_0</td>\n",
              "      <td>None</td>\n",
              "      <td>True</td>\n",
              "      <td>False</td>\n",
              "      <td>False</td>\n",
              "      <td>False</td>\n",
              "    </tr>\n",
              "    <tr>\n",
              "      <th>5</th>\n",
              "      <td>public</td>\n",
              "      <td>teacher</td>\n",
              "      <td>student_0</td>\n",
              "      <td>None</td>\n",
              "      <td>True</td>\n",
              "      <td>False</td>\n",
              "      <td>False</td>\n",
              "      <td>False</td>\n",
              "    </tr>\n",
              "    <tr>\n",
              "      <th>6</th>\n",
              "      <td>public</td>\n",
              "      <td>teacher_student</td>\n",
              "      <td>student_0</td>\n",
              "      <td>None</td>\n",
              "      <td>True</td>\n",
              "      <td>False</td>\n",
              "      <td>False</td>\n",
              "      <td>False</td>\n",
              "    </tr>\n",
              "  </tbody>\n",
              "</table>\n",
              "</div>"
            ],
            "text/plain": [
              "  schemaname        tablename tableowner  ... hasrules  hastriggers  rowsecurity\n",
              "0     public        documents  student_0  ...    False         True        False\n",
              "1     public           people  student_0  ...    False         True        False\n",
              "2     public          cashier  student_0  ...    False         True        False\n",
              "3     public           buyers  student_0  ...    False         True        False\n",
              "4     public          student  student_0  ...    False        False        False\n",
              "5     public          teacher  student_0  ...    False        False        False\n",
              "6     public  teacher_student  student_0  ...    False        False        False\n",
              "\n",
              "[7 rows x 8 columns]"
            ]
          },
          "metadata": {
            "tags": []
          },
          "execution_count": 83
        }
      ]
    },
    {
      "cell_type": "markdown",
      "metadata": {
        "id": "oCfP6dlB9PS5"
      },
      "source": [
        "Добавим внешние ключи"
      ]
    },
    {
      "cell_type": "code",
      "metadata": {
        "id": "m8gdXgR9R-7L"
      },
      "source": [
        "query = \"\"\"\n",
        "ALTER TABLE teacher_student ADD FOREIGN KEY (teacher_id) REFERENCES teacher(id)  \n",
        "\"\"\"\n",
        "\n",
        "conn.cursor().execute(query)\n",
        "\n",
        "query = \"\"\"\n",
        "ALTER TABLE teacher_student ADD FOREIGN KEY (student_id) REFERENCES student(id)  \n",
        "\"\"\"\n",
        "\n",
        "conn.cursor().execute(query)\n",
        "\n",
        "conn.commit()"
      ],
      "execution_count": null,
      "outputs": []
    },
    {
      "cell_type": "markdown",
      "metadata": {
        "id": "VhE57wbA9T13"
      },
      "source": [
        "Теперь мы увидим, что значения могут повторяться как в колонке teacher_id, так и в колонке student_id. То-есть один учитель может быть у многих учеников, и при этом у одного ученика может быть много учителей. Но важно, чтобы не повторялись пары значений (порядок важен), т.е у нас не может быть двух записей (1,2), но могут одновременно присутствовать пары (1,2) и (2,1)."
      ]
    },
    {
      "cell_type": "code",
      "metadata": {
        "id": "cnYxI4EjSR1Q"
      },
      "source": [
        "queries = [\n",
        "           'INSERT INTO teacher_student (teacher_id, student_id) VALUES (1,2)',\n",
        "           'INSERT INTO teacher_student (teacher_id, student_id) VALUES (2,1)',\n",
        "           'INSERT INTO teacher_student (teacher_id, student_id) VALUES (1,1)',\n",
        "]\n",
        "\n",
        "for q in queries:\n",
        "  conn.cursor().execute(q)\n",
        "\n",
        "conn.commit()"
      ],
      "execution_count": null,
      "outputs": []
    },
    {
      "cell_type": "code",
      "metadata": {
        "id": "pvKvR-O7SeR0",
        "colab": {
          "base_uri": "https://localhost:8080/",
          "height": 142
        },
        "outputId": "f58e97e4-379f-45ce-a942-3eade934025b"
      },
      "source": [
        "pd.read_sql_query(\"select * from teacher_student\", conn)"
      ],
      "execution_count": null,
      "outputs": [
        {
          "output_type": "execute_result",
          "data": {
            "text/html": [
              "<div>\n",
              "<style scoped>\n",
              "    .dataframe tbody tr th:only-of-type {\n",
              "        vertical-align: middle;\n",
              "    }\n",
              "\n",
              "    .dataframe tbody tr th {\n",
              "        vertical-align: top;\n",
              "    }\n",
              "\n",
              "    .dataframe thead th {\n",
              "        text-align: right;\n",
              "    }\n",
              "</style>\n",
              "<table border=\"1\" class=\"dataframe\">\n",
              "  <thead>\n",
              "    <tr style=\"text-align: right;\">\n",
              "      <th></th>\n",
              "      <th>teacher_id</th>\n",
              "      <th>student_id</th>\n",
              "    </tr>\n",
              "  </thead>\n",
              "  <tbody>\n",
              "    <tr>\n",
              "      <th>0</th>\n",
              "      <td>1</td>\n",
              "      <td>2</td>\n",
              "    </tr>\n",
              "    <tr>\n",
              "      <th>1</th>\n",
              "      <td>2</td>\n",
              "      <td>1</td>\n",
              "    </tr>\n",
              "    <tr>\n",
              "      <th>2</th>\n",
              "      <td>1</td>\n",
              "      <td>1</td>\n",
              "    </tr>\n",
              "  </tbody>\n",
              "</table>\n",
              "</div>"
            ],
            "text/plain": [
              "   teacher_id  student_id\n",
              "0           1           2\n",
              "1           2           1\n",
              "2           1           1"
            ]
          },
          "metadata": {
            "tags": []
          },
          "execution_count": 86
        }
      ]
    },
    {
      "cell_type": "markdown",
      "metadata": {
        "id": "5acocvp59fUm"
      },
      "source": [
        "Cохраняются ограничения связанный с внешними ключами, что и раньше. Т.е. нельзя добавлять некорректные пары, нельзя удалять отдельные сущности если они присутсвуют в таблице связке. Проверить и убедиться в этом предлагается самостоятельно."
      ]
    },
    {
      "cell_type": "markdown",
      "metadata": {
        "id": "rJ3X5KP893yT"
      },
      "source": [
        "Стоит также обратить внимание на то, что мы не добавляли ограничения сразу при создании таблиц для нашего удобства ввода произвольных данных в эти таблицы. На самом деле, повесить ограничения на колонки можно сразу в запросе [CREATE TABLE](https://postgrespro.ru/docs/postgrespro/9.6/sql-createtable)."
      ]
    }
  ]
}